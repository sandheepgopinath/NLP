{
 "cells": [
  {
   "cell_type": "code",
   "execution_count": 5,
   "metadata": {},
   "outputs": [],
   "source": [
    "from gensim.test.utils import datapath,get_tmpfile\n",
    "from gensim.models import KeyedVectors\n",
    "# Loading a Glove Model file which is loaded in Text format. Glove format is not supported in Gensim, hence \n",
    "\n",
    "\n",
    "glovefile='glove.6B.50d.txt'\n",
    "tmp_file='word2vec.glove.6B.50d.txt'\n",
    "\n",
    "# We will use Glove2word2vec to convert the glove model to a word2vec model\n",
    "from gensim.scripts.glove2word2vec import glove2word2vec\n",
    "glove2word2vec(glovefile,tmp_file)\n",
    "\n",
    "# Loading the converted file into the model\n",
    "\n",
    "model=KeyedVectors.load_word2vec_format(tmp_file)"
   ]
  },
  {
   "cell_type": "markdown",
   "metadata": {},
   "source": [
    "### Getting the Word Embedding for the word Cat"
   ]
  },
  {
   "cell_type": "code",
   "execution_count": 6,
   "metadata": {},
   "outputs": [],
   "source": [
    "wordEmbed=model['cat']"
   ]
  },
  {
   "cell_type": "code",
   "execution_count": 8,
   "metadata": {},
   "outputs": [
    {
     "data": {
      "text/plain": [
       "array([ 0.45281 , -0.50108 , -0.53714 , -0.015697,  0.22191 ,  0.54602 ,\n",
       "       -0.67301 , -0.6891  ,  0.63493 , -0.19726 ,  0.33685 ,  0.7735  ,\n",
       "        0.90094 ,  0.38488 ,  0.38367 ,  0.2657  , -0.08057 ,  0.61089 ,\n",
       "       -1.2894  , -0.22313 , -0.61578 ,  0.21697 ,  0.35614 ,  0.44499 ,\n",
       "        0.60885 , -1.1633  , -1.1579  ,  0.36118 ,  0.10466 , -0.78325 ,\n",
       "        1.4352  ,  0.18629 , -0.26112 ,  0.83275 , -0.23123 ,  0.32481 ,\n",
       "        0.14485 , -0.44552 ,  0.33497 , -0.95946 , -0.097479,  0.48138 ,\n",
       "       -0.43352 ,  0.69455 ,  0.91043 , -0.28173 ,  0.41637 , -1.2609  ,\n",
       "        0.71278 ,  0.23782 ], dtype=float32)"
      ]
     },
     "execution_count": 8,
     "metadata": {},
     "output_type": "execute_result"
    }
   ],
   "source": [
    "wordEmbed"
   ]
  },
  {
   "cell_type": "markdown",
   "metadata": {},
   "source": [
    "Here we got an array of length 50. Out of the millions of words in the corpus, the model was able to shortlist 50 relevant words which are similar to cat. \n"
   ]
  },
  {
   "cell_type": "code",
   "execution_count": 19,
   "metadata": {},
   "outputs": [
    {
     "name": "stdout",
     "output_type": "stream",
     "text": [
      "No\n"
     ]
    }
   ],
   "source": [
    "if 'Sandeep' in model:\n",
    "    print('found')\n",
    "else:\n",
    "    print('No')"
   ]
  },
  {
   "cell_type": "code",
   "execution_count": 21,
   "metadata": {},
   "outputs": [
    {
     "name": "stdout",
     "output_type": "stream",
     "text": [
      "found\n"
     ]
    }
   ],
   "source": [
    "if 'sandeep' in model:\n",
    "    print('found')\n",
    "else:\n",
    "    print('No')"
   ]
  },
  {
   "cell_type": "markdown",
   "metadata": {},
   "source": [
    "On Capitalizing the first letter, the model is not able to find matches. Hence for best efficiency we should use the lower() to get the right matches"
   ]
  },
  {
   "cell_type": "markdown",
   "metadata": {},
   "source": [
    "### Finding most similar words"
   ]
  },
  {
   "cell_type": "code",
   "execution_count": 31,
   "metadata": {},
   "outputs": [
    {
     "name": "stdout",
     "output_type": "stream",
     "text": [
      "[('dog', 0.9218006134033203), ('rabbit', 0.8487820625305176), ('monkey', 0.8041081428527832), ('rat', 0.7891963124275208), ('cats', 0.7865270376205444), ('snake', 0.7798910737037659), ('dogs', 0.7795814871788025), ('pet', 0.7792249917984009), ('mouse', 0.7731667757034302), ('bite', 0.7728800773620605)]\n"
     ]
    }
   ],
   "source": [
    "print(model.most_similar(positive='cat'))"
   ]
  },
  {
   "cell_type": "code",
   "execution_count": 39,
   "metadata": {},
   "outputs": [
    {
     "name": "stdout",
     "output_type": "stream",
     "text": [
      "[('white', 0.7175145149230957), ('blue', 0.685458242893219), ('pink', 0.6572609543800354), ('colored', 0.6546130180358887), ('stripes', 0.6479350924491882), ('cowboy', 0.6464430093765259), ('eyed', 0.6459757685661316), ('green', 0.645066499710083), ('brown', 0.6420841813087463), ('gray', 0.6401917934417725)]\n"
     ]
    }
   ],
   "source": [
    "print(model.most_similar(positive=['black','yes'],negative=['no']))"
   ]
  },
  {
   "cell_type": "markdown",
   "metadata": {},
   "source": [
    "### Finding dissimilar object"
   ]
  },
  {
   "cell_type": "code",
   "execution_count": 43,
   "metadata": {},
   "outputs": [
    {
     "name": "stdout",
     "output_type": "stream",
     "text": [
      "shark\n"
     ]
    }
   ],
   "source": [
    "print(model.doesnt_match(['cat','dog','shark','horse']))"
   ]
  },
  {
   "cell_type": "code",
   "execution_count": 44,
   "metadata": {},
   "outputs": [
    {
     "name": "stdout",
     "output_type": "stream",
     "text": [
      "man\n"
     ]
    }
   ],
   "source": [
    "print(model.doesnt_match(['cat','dog','shark','man']))"
   ]
  },
  {
   "cell_type": "markdown",
   "metadata": {},
   "source": [
    "### Calculating Similarity"
   ]
  },
  {
   "cell_type": "code",
   "execution_count": 46,
   "metadata": {},
   "outputs": [
    {
     "name": "stdout",
     "output_type": "stream",
     "text": [
      "0.8860338\n"
     ]
    }
   ],
   "source": [
    "print(model.similarity('man','woman'))"
   ]
  },
  {
   "cell_type": "code",
   "execution_count": 47,
   "metadata": {},
   "outputs": [
    {
     "name": "stdout",
     "output_type": "stream",
     "text": [
      "0.8210511\n"
     ]
    }
   ],
   "source": [
    "print(model.similarity('bus','car'))"
   ]
  },
  {
   "cell_type": "code",
   "execution_count": 48,
   "metadata": {},
   "outputs": [
    {
     "name": "stdout",
     "output_type": "stream",
     "text": [
      "0.40119058\n"
     ]
    }
   ],
   "source": [
    "print(model.similarity('man','shark'))"
   ]
  },
  {
   "cell_type": "code",
   "execution_count": null,
   "metadata": {},
   "outputs": [],
   "source": []
  }
 ],
 "metadata": {
  "kernelspec": {
   "display_name": "my_env",
   "language": "python",
   "name": "my_env"
  },
  "language_info": {
   "codemirror_mode": {
    "name": "ipython",
    "version": 3
   },
   "file_extension": ".py",
   "mimetype": "text/x-python",
   "name": "python",
   "nbconvert_exporter": "python",
   "pygments_lexer": "ipython3",
   "version": "3.6.10"
  }
 },
 "nbformat": 4,
 "nbformat_minor": 4
}
