{
  "nbformat": 4,
  "nbformat_minor": 0,
  "metadata": {
    "colab": {
      "name": "Project_Capstone_Model Building_Final2.0.ipynb",
      "provenance": [],
      "authorship_tag": "ABX9TyNtWDt2ETaEd+BkiwplONRi",
      "include_colab_link": true
    },
    "kernelspec": {
      "name": "python3",
      "display_name": "Python 3"
    }
  },
  "cells": [
    {
      "cell_type": "markdown",
      "metadata": {
        "id": "view-in-github",
        "colab_type": "text"
      },
      "source": [
        "<a href=\"https://colab.research.google.com/github/Capstone-Project-July/Interim/blob/master/Project_Capstone_Model_Building_Final2_0.ipynb\" target=\"_parent\"><img src=\"https://colab.research.google.com/assets/colab-badge.svg\" alt=\"Open In Colab\"/></a>"
      ]
    },
    {
      "cell_type": "code",
      "metadata": {
        "id": "NnIvUOg3HP5k",
        "colab_type": "code",
        "colab": {
          "base_uri": "https://localhost:8080/",
          "height": 191
        },
        "outputId": "4dfa6454-efb0-4fe4-9960-d9fc36c15554"
      },
      "source": [
        "import pandas as pd\n",
        "import numpy as np\n",
        "import re\n",
        "import matplotlib.pyplot as plt\n",
        "%matplotlib inline \n",
        "import seaborn as sns \n",
        "import nltk\n",
        "nltk.download('punkt')\n",
        "nltk.download('averaged_perceptron_tagger')\n",
        "nltk.download('stopwords')\n",
        "from nltk.tokenize import TweetTokenizer \n",
        "from sklearn.feature_extraction.text import TfidfVectorizer\n",
        "from nltk.tokenize import word_tokenize\n",
        "from sklearn.model_selection import train_test_split\n",
        "import tensorflow as tf\n",
        "from textblob import TextBlob\n",
        "from sklearn.preprocessing import LabelEncoder\n",
        "from keras.preprocessing.sequence import pad_sequences\n",
        "from keras.models import Sequential\n",
        "from keras.preprocessing.text import Tokenizer\n",
        "from keras.preprocessing import sequence\n",
        "from IPython.display import clear_output\n",
        "from keras.models import Model \n",
        "from keras.layers import Embedding, Activation, SpatialDropout1D, Flatten, Dense, Input, LSTM, Bidirectional, Dropout, Conv1D, MaxPool1D, CuDNNLSTM, GlobalMaxPool1D\n",
        "from keras.optimizers import RMSprop\n",
        "from keras.utils import to_categorical\n",
        "from keras.callbacks import EarlyStopping\n",
        "#For stopwords and tokenisation\n",
        "import string\n",
        "from string import punctuation\n",
        "from nltk.corpus import stopwords\n",
        "from nltk import word_tokenize\n",
        "from PIL import Image\n",
        "import matplotlib.pyplot as plt\n",
        "from wordcloud import WordCloud\n",
        "from sklearn import preprocessing #Changing categorical data to one hot encoding\n",
        "from nltk.tokenize import RegexpTokenizer\n",
        "from sklearn.cluster import KMeans\n",
        "from nltk.stem import PorterStemmer\n",
        "from sklearn.datasets import make_blobs\n",
        "from sklearn.decomposition import PCA\n",
        "from sklearn.metrics.pairwise import euclidean_distances\n",
        "from numpy import unique\n",
        "from numpy import where\n",
        "from sklearn.cluster import AffinityPropagation #Using this to best summarize the data\n",
        "from matplotlib import pyplot \n",
        "\n",
        "#Models\n",
        "\n",
        "from sklearn.feature_selection import chi2\n",
        "from sklearn.feature_selection import SelectKBest\n",
        "from sklearn.linear_model import LogisticRegression\n",
        "from sklearn.naive_bayes import MultinomialNB\n",
        "from sklearn.pipeline import Pipeline\n",
        "from sklearn.feature_extraction.text import TfidfTransformer\n",
        "from sklearn.metrics import accuracy_score, confusion_matrix\n",
        "from sklearn.feature_extraction.text import CountVectorizer\n",
        "from sklearn.metrics import classification_report\n",
        "from sklearn.pipeline import Pipeline\n",
        "from sklearn.linear_model import SGDClassifier\n",
        "from sklearn.metrics import accuracy_score\n",
        "from sklearn import model_selection, naive_bayes, svm\n",
        "from sklearn.tree import DecisionTreeClassifier\n",
        "from sklearn import tree\n",
        "from sklearn.ensemble import BaggingClassifier\n",
        "from sklearn.ensemble import AdaBoostClassifier\n",
        "from sklearn.ensemble import GradientBoostingClassifier\n",
        "from keras.models import Sequential\n",
        "from keras import layers\n",
        "from keras.layers import Embedding, Activation, SpatialDropout1D, Flatten, Dense, Input, LSTM, Bidirectional, Dropout, Conv1D, MaxPool1D, CuDNNLSTM, GlobalMaxPool1D, MaxPooling1D, GRU\n",
        "\n",
        "\n",
        "# Hyper Parameter Tuning\n",
        "from sklearn.model_selection import RandomizedSearchCV\n"
      ],
      "execution_count": 1,
      "outputs": [
        {
          "output_type": "stream",
          "text": [
            "/usr/local/lib/python3.6/dist-packages/statsmodels/tools/_testing.py:19: FutureWarning: pandas.util.testing is deprecated. Use the functions in the public API at pandas.testing instead.\n",
            "  import pandas.util.testing as tm\n"
          ],
          "name": "stderr"
        },
        {
          "output_type": "stream",
          "text": [
            "[nltk_data] Downloading package punkt to /root/nltk_data...\n",
            "[nltk_data]   Unzipping tokenizers/punkt.zip.\n",
            "[nltk_data] Downloading package averaged_perceptron_tagger to\n",
            "[nltk_data]     /root/nltk_data...\n",
            "[nltk_data]   Unzipping taggers/averaged_perceptron_tagger.zip.\n",
            "[nltk_data] Downloading package stopwords to /root/nltk_data...\n",
            "[nltk_data]   Unzipping corpora/stopwords.zip.\n"
          ],
          "name": "stdout"
        },
        {
          "output_type": "stream",
          "text": [
            "Using TensorFlow backend.\n"
          ],
          "name": "stderr"
        }
      ]
    },
    {
      "cell_type": "code",
      "metadata": {
        "id": "45sWGExSHeoP",
        "colab_type": "code",
        "colab": {
          "base_uri": "https://localhost:8080/",
          "height": 124
        },
        "outputId": "bfae0047-bcbf-4460-bcb5-f9dd58e5d732"
      },
      "source": [
        "from google.colab import drive\n",
        "\n",
        "drive.mount('/content/drive')\n",
        "#Loading the datafile\n",
        "data=pd.read_csv('/content/drive/My Drive/Colab Notebooks/Preprocessed_input_data_.csv')"
      ],
      "execution_count": 2,
      "outputs": [
        {
          "output_type": "stream",
          "text": [
            "Go to this URL in a browser: https://accounts.google.com/o/oauth2/auth?client_id=947318989803-6bn6qk8qdgf4n4g3pfee6491hc0brc4i.apps.googleusercontent.com&redirect_uri=urn%3aietf%3awg%3aoauth%3a2.0%3aoob&response_type=code&scope=email%20https%3a%2f%2fwww.googleapis.com%2fauth%2fdocs.test%20https%3a%2f%2fwww.googleapis.com%2fauth%2fdrive%20https%3a%2f%2fwww.googleapis.com%2fauth%2fdrive.photos.readonly%20https%3a%2f%2fwww.googleapis.com%2fauth%2fpeopleapi.readonly\n",
            "\n",
            "Enter your authorization code:\n",
            "··········\n",
            "Mounted at /content/drive\n"
          ],
          "name": "stdout"
        }
      ]
    },
    {
      "cell_type": "code",
      "metadata": {
        "id": "9ciUV2SVK_Ae",
        "colab_type": "code",
        "colab": {
          "base_uri": "https://localhost:8080/",
          "height": 615
        },
        "outputId": "9939500b-7ce4-47fb-827a-eec25be25000"
      },
      "source": [
        "data.head(100)"
      ],
      "execution_count": 4,
      "outputs": [
        {
          "output_type": "execute_result",
          "data": {
            "text/html": [
              "<div>\n",
              "<style scoped>\n",
              "    .dataframe tbody tr th:only-of-type {\n",
              "        vertical-align: middle;\n",
              "    }\n",
              "\n",
              "    .dataframe tbody tr th {\n",
              "        vertical-align: top;\n",
              "    }\n",
              "\n",
              "    .dataframe thead th {\n",
              "        text-align: right;\n",
              "    }\n",
              "</style>\n",
              "<table border=\"1\" class=\"dataframe\">\n",
              "  <thead>\n",
              "    <tr style=\"text-align: right;\">\n",
              "      <th></th>\n",
              "      <th>Unnamed: 0</th>\n",
              "      <th>Short description</th>\n",
              "      <th>Description</th>\n",
              "      <th>Assignment group</th>\n",
              "      <th>Assignment group Encoded</th>\n",
              "      <th>Tokens</th>\n",
              "      <th>Tweet Tokens</th>\n",
              "      <th>Cluster</th>\n",
              "      <th>features</th>\n",
              "      <th>Cluster TFIDFV</th>\n",
              "    </tr>\n",
              "  </thead>\n",
              "  <tbody>\n",
              "    <tr>\n",
              "      <th>0</th>\n",
              "      <td>0</td>\n",
              "      <td>login issue</td>\n",
              "      <td>-verified user details.(employee# &amp; manager na...</td>\n",
              "      <td>0</td>\n",
              "      <td>0</td>\n",
              "      <td>['login', 'ad', 'user', 'reset', 'caller', 'ma...</td>\n",
              "      <td>['login', 'ad', 'user', 'reset', 'caller', 'ma...</td>\n",
              "      <td>0</td>\n",
              "      <td>(0, 783)\\t0.22351884706152728\\n  (0, 539)\\t0...</td>\n",
              "      <td>2</td>\n",
              "    </tr>\n",
              "    <tr>\n",
              "      <th>1</th>\n",
              "      <td>1</td>\n",
              "      <td>outlook</td>\n",
              "      <td>\\r\\n\\r\\nreceived from: \\r\\n\\r\\nhello team,\\r\\n...</td>\n",
              "      <td>0</td>\n",
              "      <td>0</td>\n",
              "      <td>['meet', 'team', 'outlook', 'calendar', 'skype...</td>\n",
              "      <td>['meet', 'team', 'outlook', 'calendar', 'skype...</td>\n",
              "      <td>0</td>\n",
              "      <td>(0, 783)\\t0.22351884706152728\\n  (0, 539)\\t0...</td>\n",
              "      <td>2</td>\n",
              "    </tr>\n",
              "    <tr>\n",
              "      <th>2</th>\n",
              "      <td>2</td>\n",
              "      <td>cant log in to vpn</td>\n",
              "      <td>\\r\\n\\r\\nreceived from: \\r\\n\\r\\nhi\\r\\n\\r\\ni can...</td>\n",
              "      <td>0</td>\n",
              "      <td>0</td>\n",
              "      <td>['vpn', 'cant', 'log']</td>\n",
              "      <td>['vpn', 'cant', 'cannot', 'log']</td>\n",
              "      <td>0</td>\n",
              "      <td>(0, 783)\\t0.22351884706152728\\n  (0, 539)\\t0...</td>\n",
              "      <td>2</td>\n",
              "    </tr>\n",
              "    <tr>\n",
              "      <th>3</th>\n",
              "      <td>3</td>\n",
              "      <td>unable to access hr_tool page</td>\n",
              "      <td>unable to access hr_tool page</td>\n",
              "      <td>0</td>\n",
              "      <td>0</td>\n",
              "      <td>['access', 'tool', 'hr', 'page']</td>\n",
              "      <td>['access', 'tool', 'hr', 'page']</td>\n",
              "      <td>0</td>\n",
              "      <td>(0, 783)\\t0.22351884706152728\\n  (0, 539)\\t0...</td>\n",
              "      <td>2</td>\n",
              "    </tr>\n",
              "    <tr>\n",
              "      <th>4</th>\n",
              "      <td>4</td>\n",
              "      <td>skype error</td>\n",
              "      <td>skype error</td>\n",
              "      <td>0</td>\n",
              "      <td>0</td>\n",
              "      <td>['error', 'skype']</td>\n",
              "      <td>['error', 'skype']</td>\n",
              "      <td>0</td>\n",
              "      <td>(0, 783)\\t0.22351884706152728\\n  (0, 539)\\t0...</td>\n",
              "      <td>2</td>\n",
              "    </tr>\n",
              "    <tr>\n",
              "      <th>...</th>\n",
              "      <td>...</td>\n",
              "      <td>...</td>\n",
              "      <td>...</td>\n",
              "      <td>...</td>\n",
              "      <td>...</td>\n",
              "      <td>...</td>\n",
              "      <td>...</td>\n",
              "      <td>...</td>\n",
              "      <td>...</td>\n",
              "      <td>...</td>\n",
              "    </tr>\n",
              "    <tr>\n",
              "      <th>95</th>\n",
              "      <td>97</td>\n",
              "      <td>amssm00345: c:\\ label:sys-amssm00345 94ef9088 ...</td>\n",
              "      <td>amssm00345: c:\\ label:sys-amssm00345 94ef9088 ...</td>\n",
              "      <td>2</td>\n",
              "      <td>4</td>\n",
              "      <td>['c', 'sy', 'g', 'label', 'server', 'space']</td>\n",
              "      <td>['c', 'sy', 'amssm', 'g', 'label', 'server', '...</td>\n",
              "      <td>0</td>\n",
              "      <td>(0, 783)\\t0.22351884706152728\\n  (0, 539)\\t0...</td>\n",
              "      <td>2</td>\n",
              "    </tr>\n",
              "    <tr>\n",
              "      <th>96</th>\n",
              "      <td>98</td>\n",
              "      <td>unable to view payslips from hr_tool e time</td>\n",
              "      <td>unable to view payslips from hr_tool e time</td>\n",
              "      <td>0</td>\n",
              "      <td>0</td>\n",
              "      <td>['e', 'tool', 'view', 'payslip', 'time']</td>\n",
              "      <td>['e', 'tool', 'view', 'payslip', 'time']</td>\n",
              "      <td>0</td>\n",
              "      <td>(0, 783)\\t0.22351884706152728\\n  (0, 539)\\t0...</td>\n",
              "      <td>2</td>\n",
              "    </tr>\n",
              "    <tr>\n",
              "      <th>97</th>\n",
              "      <td>99</td>\n",
              "      <td>password expiry tomorrow</td>\n",
              "      <td>\\n\\nreceived from: \\n\\nmy system says my passw...</td>\n",
              "      <td>0</td>\n",
              "      <td>0</td>\n",
              "      <td>['expiri', 'expir', 'acceptingâ€¦', 'system', ...</td>\n",
              "      <td>['expiri', 'expir', 'system', 'chang', 'server...</td>\n",
              "      <td>0</td>\n",
              "      <td>(0, 783)\\t0.22351884706152728\\n  (0, 539)\\t0...</td>\n",
              "      <td>0</td>\n",
              "    </tr>\n",
              "    <tr>\n",
              "      <th>98</th>\n",
              "      <td>100</td>\n",
              "      <td>re: ess portal access issue</td>\n",
              "      <td>\\n\\nreceived from: \\n\\nhello,\\n\\nhe is an kios...</td>\n",
              "      <td>0</td>\n",
              "      <td>0</td>\n",
              "      <td>['confirm', 'access', 'password', 'ihkolepb', ...</td>\n",
              "      <td>['confirm', 'access', 'password', 'ihkolepb', ...</td>\n",
              "      <td>0</td>\n",
              "      <td>(0, 783)\\t0.22351884706152728\\n  (0, 539)\\t0...</td>\n",
              "      <td>2</td>\n",
              "    </tr>\n",
              "    <tr>\n",
              "      <th>99</th>\n",
              "      <td>101</td>\n",
              "      <td>ess portal access issue</td>\n",
              "      <td>\\n\\nreceived from: \\n\\nhi,\\n\\nbelow mentioned ...</td>\n",
              "      <td>0</td>\n",
              "      <td>0</td>\n",
              "      <td>['pay', 'login', 'spimolgz', 'access', 'tool',...</td>\n",
              "      <td>['pay', 'login', 'spimolgz', 'access', 'tool',...</td>\n",
              "      <td>0</td>\n",
              "      <td>(0, 783)\\t0.22351884706152728\\n  (0, 539)\\t0...</td>\n",
              "      <td>2</td>\n",
              "    </tr>\n",
              "  </tbody>\n",
              "</table>\n",
              "<p>100 rows × 10 columns</p>\n",
              "</div>"
            ],
            "text/plain": [
              "    Unnamed: 0  ... Cluster TFIDFV\n",
              "0            0  ...              2\n",
              "1            1  ...              2\n",
              "2            2  ...              2\n",
              "3            3  ...              2\n",
              "4            4  ...              2\n",
              "..         ...  ...            ...\n",
              "95          97  ...              2\n",
              "96          98  ...              2\n",
              "97          99  ...              0\n",
              "98         100  ...              2\n",
              "99         101  ...              2\n",
              "\n",
              "[100 rows x 10 columns]"
            ]
          },
          "metadata": {
            "tags": []
          },
          "execution_count": 4
        }
      ]
    },
    {
      "cell_type": "markdown",
      "metadata": {
        "id": "AySKEkmYZP2a",
        "colab_type": "text"
      },
      "source": [
        "# **Model to predict the ticket into any of the 3 clusters¶**"
      ]
    },
    {
      "cell_type": "code",
      "metadata": {
        "id": "Nkb2GaNGZRuW",
        "colab_type": "code",
        "colab": {}
      },
      "source": [
        "X = data['Description'] \n",
        "Y = data['Cluster TFIDFV']   \n",
        "X_train, X_test, Y_train, Y_test = train_test_split(X, Y, test_size=0.3, random_state=2)"
      ],
      "execution_count": 5,
      "outputs": []
    },
    {
      "cell_type": "code",
      "metadata": {
        "id": "SkDwUC2ZI4Fy",
        "colab_type": "code",
        "colab": {
          "base_uri": "https://localhost:8080/",
          "height": 34
        },
        "outputId": "da3b02fd-7fa0-43b2-b032-6d3921212610"
      },
      "source": [
        "sgd = Pipeline([('tfidf', TfidfVectorizer()),\n",
        "                ('clf', SGDClassifier(loss='log', penalty='elasticnet',alpha=1e-5, random_state=42, max_iter=35, tol=None)),\n",
        "               ])\n",
        "sgd.fit(X_train, Y_train)\n",
        "\n",
        "Y_pred = sgd.predict(X_test)\n",
        "print(accuracy_score(Y_pred, Y_test))"
      ],
      "execution_count": 6,
      "outputs": [
        {
          "output_type": "stream",
          "text": [
            "0.9905090595340811\n"
          ],
          "name": "stdout"
        }
      ]
    },
    {
      "cell_type": "code",
      "metadata": {
        "id": "A-RMTTH-RcHt",
        "colab_type": "code",
        "colab": {
          "base_uri": "https://localhost:8080/",
          "height": 34
        },
        "outputId": "3686014b-f006-4a1c-aa71-088a165ea0d3"
      },
      "source": [
        "x=sgd.predict(['unable to view payslips from hr_tool e time'])\n",
        "if x==2:\n",
        "  print('Predicted Successfully')\n",
        "else:\n",
        "  print('Wrong prediction')"
      ],
      "execution_count": 7,
      "outputs": [
        {
          "output_type": "stream",
          "text": [
            "Predicted Successfully\n"
          ],
          "name": "stdout"
        }
      ]
    },
    {
      "cell_type": "markdown",
      "metadata": {
        "id": "O-qq2GdiRUNU",
        "colab_type": "text"
      },
      "source": [
        "#### **The SGD Classifier is able to predict a Description into a Sub Cluster with 99.3% Accuracy**"
      ]
    },
    {
      "cell_type": "code",
      "metadata": {
        "id": "55dEUBZSdK-j",
        "colab_type": "code",
        "colab": {}
      },
      "source": [
        "def lstmm():\n",
        "    model = Sequential()\n",
        "    \n",
        "    model.add(Embedding(input_dim=max_features, output_dim=embed_dim, input_length=maxlen))\n",
        "    \n",
        "    model.add(Bidirectional(LSTM(16, return_sequences=True, recurrent_dropout=0.2, dropout=0.2)))\n",
        "    \n",
        "    model.add(Bidirectional(LSTM(32, recurrent_dropout=0.1, dropout=0.4)))\n",
        "\n",
        "    model.add(Dense(350, activation='softmax'))\n",
        "        \n",
        "    # Compile the model\n",
        "    model.compile(optimizer = 'adam',\n",
        "                  loss = 'sparse_categorical_crossentropy',\n",
        "                  metrics = ['acc'])\n",
        "    \n",
        "    return model\n"
      ],
      "execution_count": 8,
      "outputs": []
    },
    {
      "cell_type": "code",
      "metadata": {
        "id": "pXZFJZlYm8pW",
        "colab_type": "code",
        "colab": {}
      },
      "source": [
        "\n",
        "\n",
        "#1D CNN\n",
        "\n",
        "def conv1d():\n",
        "    \n",
        "    model = Sequential()\n",
        "    \n",
        "    model.add(Embedding(input_dim=max_features,output_dim=embed_dim, input_length=maxlen))\n",
        "    \n",
        "    model.add(Conv1D(filters=32, kernel_size=7, activation='relu'))\n",
        "    \n",
        "    model.add(MaxPool1D(pool_size=8))\n",
        "    \n",
        "    model.add(Conv1D(filters=32, kernel_size=4, activation='relu'))\n",
        "    \n",
        "    model.add(Dropout(0.4))\n",
        "    \n",
        "    model.add(GlobalMaxPool1D())\n",
        "    \n",
        "    model.add(Dense(350, activation='softmax'))\n",
        "    \n",
        "    model.compile(optimizer='adam',\n",
        "                  loss='sparse_categorical_crossentropy',\n",
        "                  metrics= ['acc'])\n",
        "    \n",
        "    return model\n",
        "\n",
        "\n"
      ],
      "execution_count": 9,
      "outputs": []
    },
    {
      "cell_type": "markdown",
      "metadata": {
        "id": "V7cFIqNGg0Cv",
        "colab_type": "text"
      },
      "source": [
        "# Models for individual clusters\n",
        "\n",
        "We are using a multiple model approach where the below steps are followed when we get a new Ticket\n",
        "> The description is analyzed\n",
        "> It is converted into a TFIDF Vector using TFIDF Vectorizer\n",
        "> An SGD Classifier is used to predict the subgroup of the ticket\n",
        "> Once the Sub Group is predicted, the corresponding assignment Groups are predicted using individual models for each sub groups"
      ]
    },
    {
      "cell_type": "markdown",
      "metadata": {
        "id": "IhnQYXQAg3Az",
        "colab_type": "text"
      },
      "source": [
        "**Applying different models on CLuster 0**"
      ]
    },
    {
      "cell_type": "markdown",
      "metadata": {
        "id": "UCcKb2GMl1ug",
        "colab_type": "text"
      },
      "source": [
        "#### **Chi Square Analysis on Logistic Regression**"
      ]
    },
    {
      "cell_type": "code",
      "metadata": {
        "id": "KStioCSpCTfD",
        "colab_type": "code",
        "colab": {}
      },
      "source": [
        "X = data['Description'][data['Cluster TFIDFV']==0]\n",
        "Y = data['Assignment group'][data['Cluster TFIDFV']==0]\n",
        "X_train, X_test, Y_train, Y_test = train_test_split(X, Y, test_size=0.3, random_state=2)"
      ],
      "execution_count": 10,
      "outputs": []
    },
    {
      "cell_type": "code",
      "metadata": {
        "id": "KWNmtuz3qUsl",
        "colab_type": "code",
        "colab": {}
      },
      "source": [
        "Cluster1df=pd.DataFrame()\n",
        "accuracytest=[]\n",
        "accuracytrain=[]\n",
        "model=[]"
      ],
      "execution_count": 11,
      "outputs": []
    },
    {
      "cell_type": "code",
      "metadata": {
        "id": "v1RO4yWrmBfy",
        "colab_type": "code",
        "colab": {
          "base_uri": "https://localhost:8080/",
          "height": 52
        },
        "outputId": "45f2e8eb-5312-4d9e-cda2-92af55a6793b"
      },
      "source": [
        "features = TfidfVectorizer(max_features=10000,ngram_range=(1, 3))\n",
        "X_train_tfidf = features.fit_transform(X_train)\n",
        "X_test_tfidf = features.transform(X_test)\n",
        "chi2score = chi2(X_train_tfidf, Y_train)[1]\n",
        "ch2_result = [0]\n",
        "ch2_result1=[0]\n",
        "model.append('Logistic Regression with Chi Square')\n",
        "for n in np.arange(15000,100000,10000):\n",
        "    ch2 = SelectKBest(chi2, k=1)\n",
        "    X_train_chi2_selected = ch2.fit_transform(X_train_tfidf, Y_train)\n",
        "    X_test_chi2_selected = ch2.transform(X_test_tfidf)\n",
        "    clf = LogisticRegression()\n",
        "    clf.fit(X_train_chi2_selected, Y_train)\n",
        "    score = clf.score(X_test_chi2_selected, Y_test)\n",
        "    score1=clf.score(X_train_chi2_selected, Y_train)\n",
        "\n",
        "    if int(score*100)>np.array(ch2_result).max()*100:\n",
        "      print('Accuracy Score Test: '+str(score*100))\n",
        "      max=score\n",
        "    else:\n",
        "      pass\n",
        "    ch2_result.append(score)\n",
        "\n",
        "    if int(score1*100)>np.array(ch2_result1).max()*100:\n",
        "      print('Accuracy Score Train: '+str(score1*100))\n",
        "      max1=score1\n",
        "    else:\n",
        "      pass\n",
        "    ch2_result.append(score)\n",
        "    ch2_result1.append(score1)\n",
        "accuracytest.append(max*100)\n",
        "accuracytrain.append(max1*100)"
      ],
      "execution_count": 12,
      "outputs": [
        {
          "output_type": "stream",
          "text": [
            "Accuracy Score Test: 94.44444444444444\n",
            "Accuracy Score Train: 91.16945107398568\n"
          ],
          "name": "stdout"
        }
      ]
    },
    {
      "cell_type": "markdown",
      "metadata": {
        "id": "5GRL2bbvnEg0",
        "colab_type": "text"
      },
      "source": [
        "#### **Creating the TFIDF Vectors for further processing**"
      ]
    },
    {
      "cell_type": "code",
      "metadata": {
        "id": "u9zwULy2mYkE",
        "colab_type": "code",
        "colab": {}
      },
      "source": [
        "vectorizer = TfidfVectorizer()\n",
        "train_vectors_0 = vectorizer.fit_transform(X_train)\n",
        "test_vectors_0 = vectorizer.transform(X_test)"
      ],
      "execution_count": 13,
      "outputs": []
    },
    {
      "cell_type": "markdown",
      "metadata": {
        "id": "sQf-NX2RmJYK",
        "colab_type": "text"
      },
      "source": [
        "#### **Multinomial Naive Bayes**\n"
      ]
    },
    {
      "cell_type": "code",
      "metadata": {
        "id": "4X-3o9LWnqQF",
        "colab_type": "code",
        "colab": {
          "base_uri": "https://localhost:8080/",
          "height": 680
        },
        "outputId": "e37ee382-daf2-481b-e451-2f599fcf402a"
      },
      "source": [
        "nb = Pipeline([('count', CountVectorizer()),\n",
        "               ('tfidf', TfidfTransformer()),\n",
        "               ('clf', MultinomialNB()),\n",
        "              ])\n",
        "nb.fit(X,Y)\n",
        "\n",
        "#Test Set\n",
        "Y_pred = nb.predict(X_test)\n",
        "\n",
        "print('Accuracy Score Test :'+str(float(accuracy_score(Y_pred, Y_test)*100)))\n",
        "model.append('Multinomial Naive Bayes')\n",
        "accuracytest.append(accuracy_score(Y_pred, Y_test)*100)\n",
        "print('\\n')\n",
        "print(classification_report(Y_test, Y_pred))\n",
        "\n",
        "# Train set\n",
        "\n",
        "Y_pred = nb.predict(X_train)\n",
        "\n",
        "print('\\n\\nAccuracy Score Train :'+str(float(accuracy_score(Y_pred, Y_train)*100)))\n",
        "accuracytrain.append(accuracy_score(Y_pred, Y_train)*100)\n",
        "print('\\n')\n",
        "print(classification_report(Y_train, Y_pred))"
      ],
      "execution_count": 14,
      "outputs": [
        {
          "output_type": "stream",
          "text": [
            "Accuracy Score Test :94.44444444444444\n",
            "\n",
            "\n",
            "              precision    recall  f1-score   support\n",
            "\n",
            "           0       0.94      1.00      0.97       170\n",
            "           6       0.00      0.00      0.00         1\n",
            "           9       0.00      0.00      0.00         7\n",
            "          21       0.00      0.00      0.00         2\n",
            "\n",
            "    accuracy                           0.94       180\n",
            "   macro avg       0.24      0.25      0.24       180\n",
            "weighted avg       0.89      0.94      0.92       180\n",
            "\n",
            "\n",
            "\n",
            "Accuracy Score Train :91.16945107398568\n",
            "\n",
            "\n",
            "              precision    recall  f1-score   support\n",
            "\n",
            "           0       0.91      1.00      0.95       382\n",
            "           2       0.00      0.00      0.00         1\n",
            "           6       0.00      0.00      0.00        15\n",
            "           9       0.00      0.00      0.00         7\n",
            "          15       0.00      0.00      0.00         1\n",
            "          17       0.00      0.00      0.00         2\n",
            "          21       0.00      0.00      0.00        11\n",
            "\n",
            "    accuracy                           0.91       419\n",
            "   macro avg       0.13      0.14      0.14       419\n",
            "weighted avg       0.83      0.91      0.87       419\n",
            "\n"
          ],
          "name": "stdout"
        },
        {
          "output_type": "stream",
          "text": [
            "/usr/local/lib/python3.6/dist-packages/sklearn/metrics/_classification.py:1272: UndefinedMetricWarning: Precision and F-score are ill-defined and being set to 0.0 in labels with no predicted samples. Use `zero_division` parameter to control this behavior.\n",
            "  _warn_prf(average, modifier, msg_start, len(result))\n",
            "/usr/local/lib/python3.6/dist-packages/sklearn/metrics/_classification.py:1272: UndefinedMetricWarning: Precision and F-score are ill-defined and being set to 0.0 in labels with no predicted samples. Use `zero_division` parameter to control this behavior.\n",
            "  _warn_prf(average, modifier, msg_start, len(result))\n"
          ],
          "name": "stderr"
        }
      ]
    },
    {
      "cell_type": "markdown",
      "metadata": {
        "id": "UBqIs_QPogm-",
        "colab_type": "text"
      },
      "source": [
        "#### **Support vector Machines**\n",
        "\n",
        "\n"
      ]
    },
    {
      "cell_type": "code",
      "metadata": {
        "id": "W3ruhJiotWPG",
        "colab_type": "code",
        "colab": {
          "base_uri": "https://localhost:8080/",
          "height": 52
        },
        "outputId": "4b60fea7-0bbf-4515-f51d-ce7e9059dd8e"
      },
      "source": [
        "SVM = svm.SVC(C=1.0, kernel='linear', degree=3, gamma='auto',random_state=1)\n",
        "SVM.fit(train_vectors_0,Y_train)\n",
        "\n",
        "#Test set\n",
        "predictions_SVM = SVM.predict(test_vectors_0)\n",
        "# Use accuracy_score function to get the accuracy\n",
        "print(\"Accuracy Score Test: \",accuracy_score(predictions_SVM, Y_test)*100)\n",
        "\n",
        "model.append('Support Vector Machines')\n",
        "accuracytest.append(accuracy_score(predictions_SVM, Y_test)*100)\n",
        "\n",
        "#Train set\n",
        "\n",
        "predictions_SVM = SVM.predict(train_vectors_0)\n",
        "# Use accuracy_score function to get the accuracy\n",
        "print(\"Accuracy Score Train : \",accuracy_score(predictions_SVM, Y_train)*100)\n",
        "\n",
        "accuracytrain.append(accuracy_score(predictions_SVM, Y_train)*100)\n",
        "\n",
        "\n"
      ],
      "execution_count": 15,
      "outputs": [
        {
          "output_type": "stream",
          "text": [
            "Accuracy Score Test:  95.0\n",
            "Accuracy Score Train :  94.5107398568019\n"
          ],
          "name": "stdout"
        }
      ]
    },
    {
      "cell_type": "markdown",
      "metadata": {
        "id": "zB27aDMNwQV8",
        "colab_type": "text"
      },
      "source": [
        "#### **Decision tree**\n"
      ]
    },
    {
      "cell_type": "code",
      "metadata": {
        "id": "U2ghYZPHwwf-",
        "colab_type": "code",
        "colab": {
          "base_uri": "https://localhost:8080/",
          "height": 52
        },
        "outputId": "45e67e2a-1754-4380-8037-2307da8343e7"
      },
      "source": [
        "dTree = DecisionTreeClassifier(criterion = 'gini', max_depth=5, random_state=1)\n",
        "dTree.fit(train_vectors_0, Y_train)\n",
        "\n",
        "\n",
        "print('Accuracy Score Test : ',dTree.score(test_vectors_0, Y_test)*100)\n",
        "model.append('Decision Tree ')\n",
        "accuracytest.append(dTree.score(test_vectors_0, Y_test)*100)\n",
        "\n",
        "\n",
        "print('Accuracy Score Train : ',dTree.score(train_vectors_0, Y_train)*100)\n",
        "accuracytrain.append(dTree.score(train_vectors_0, Y_train)*100)"
      ],
      "execution_count": 16,
      "outputs": [
        {
          "output_type": "stream",
          "text": [
            "Accuracy Score Test :  94.44444444444444\n",
            "Accuracy Score Train :  95.70405727923628\n"
          ],
          "name": "stdout"
        }
      ]
    },
    {
      "cell_type": "markdown",
      "metadata": {
        "id": "CuPrbT2GzVcU",
        "colab_type": "text"
      },
      "source": [
        "#### **Bagging Classifier**"
      ]
    },
    {
      "cell_type": "code",
      "metadata": {
        "id": "c0NEMFt632DX",
        "colab_type": "code",
        "colab": {
          "base_uri": "https://localhost:8080/",
          "height": 52
        },
        "outputId": "cd3425f8-07a7-44e4-aece-3f27d27f2383"
      },
      "source": [
        "bgcl = BaggingClassifier(base_estimator=dTree, n_estimators=50,random_state=1)\n",
        "bgcl = bgcl.fit(train_vectors_0, Y_train)\n",
        "\n",
        "y_predict = bgcl.predict(test_vectors_0)\n",
        "\n",
        "print('Accuracy Score Test : ',bgcl.score(test_vectors_0, Y_test)*100)\n",
        "model.append('Bagging Classifier')\n",
        "accuracytest.append(bgcl.score(test_vectors_0, Y_test)*100)\n",
        "\n",
        "print('Accuracy Score Train : ',bgcl.score(train_vectors_0, Y_train)*100)\n",
        "accuracytrain.append(bgcl.score(train_vectors_0, Y_train)*100)\n"
      ],
      "execution_count": 17,
      "outputs": [
        {
          "output_type": "stream",
          "text": [
            "Accuracy Score Test :  93.88888888888889\n",
            "Accuracy Score Train :  94.03341288782816\n"
          ],
          "name": "stdout"
        }
      ]
    },
    {
      "cell_type": "markdown",
      "metadata": {
        "id": "v_vtH-Uw34fc",
        "colab_type": "text"
      },
      "source": [
        "#### **Adaboost Classifier**"
      ]
    },
    {
      "cell_type": "code",
      "metadata": {
        "id": "_lg69VFa34rf",
        "colab_type": "code",
        "colab": {
          "base_uri": "https://localhost:8080/",
          "height": 52
        },
        "outputId": "ace49179-da28-4a74-dd9f-bdec5e88ac46"
      },
      "source": [
        "abcl = AdaBoostClassifier(n_estimators=10, random_state=1)\n",
        "abcl = abcl.fit(train_vectors_0, Y_train)\n",
        "\n",
        "y_predict = abcl.predict(test_vectors_0)\n",
        "print('Accuracy Score Test : ' ,abcl.score(test_vectors_0, Y_test)*100)\n",
        "model.append('Adaboost Classifier')\n",
        "accuracytest.append(abcl.score(test_vectors_0, Y_test)*100)\n",
        "\n",
        "\n",
        "y_predict = abcl.predict(train_vectors_0)\n",
        "print('Accuracy Score Train : ' ,abcl.score(train_vectors_0, Y_train)*100)\n",
        "accuracytrain.append(abcl.score(train_vectors_0, Y_train)*100)"
      ],
      "execution_count": 18,
      "outputs": [
        {
          "output_type": "stream",
          "text": [
            "Accuracy Score Test :  94.44444444444444\n",
            "Accuracy Score Train :  93.31742243436753\n"
          ],
          "name": "stdout"
        }
      ]
    },
    {
      "cell_type": "markdown",
      "metadata": {
        "id": "ZzAh6aqw34wU",
        "colab_type": "text"
      },
      "source": [
        "#### **Gradient Boost Classifier**\n",
        "\n"
      ]
    },
    {
      "cell_type": "code",
      "metadata": {
        "id": "v66lDdol340j",
        "colab_type": "code",
        "colab": {
          "base_uri": "https://localhost:8080/",
          "height": 52
        },
        "outputId": "4e06e3a1-34b1-4b00-924a-255fb0c935d4"
      },
      "source": [
        "gbcl = GradientBoostingClassifier(n_estimators = 50,random_state=1)\n",
        "gbcl = gbcl.fit(train_vectors_0, Y_train)\n",
        "\n",
        "y_predict = gbcl.predict(test_vectors_0)\n",
        "\n",
        "print('Accuracy Score Test : ' ,gbcl.score(test_vectors_0, Y_test)*100)\n",
        "model.append('Gradient Boost Classifier')\n",
        "accuracytest.append(gbcl.score(test_vectors_0, Y_test)*100)\n",
        "\n",
        "\n",
        "print('Accuracy Score Train : ' ,gbcl.score(train_vectors_0, Y_train)*100)\n",
        "accuracytrain.append(gbcl.score(train_vectors_0, Y_train)*100)"
      ],
      "execution_count": 19,
      "outputs": [
        {
          "output_type": "stream",
          "text": [
            "Accuracy Score Test :  93.33333333333333\n",
            "Accuracy Score Train :  99.52267303102626\n"
          ],
          "name": "stdout"
        }
      ]
    },
    {
      "cell_type": "markdown",
      "metadata": {
        "id": "-1lUdOfI34-Z",
        "colab_type": "text"
      },
      "source": [
        "#### **Out of all the models Decision Tree has the highest accuracy to predict the final class of cluster 0 and the lowest overfitting**"
      ]
    },
    {
      "cell_type": "markdown",
      "metadata": {
        "id": "i61YrRVkPkUD",
        "colab_type": "text"
      },
      "source": [
        "#### **Randomized Search CV to enhance Decision tree**\n",
        "\n"
      ]
    },
    {
      "cell_type": "code",
      "metadata": {
        "id": "fU60jOSU6xmW",
        "colab_type": "code",
        "colab": {
          "base_uri": "https://localhost:8080/",
          "height": 1000
        },
        "outputId": "5cab6f98-6a71-4d41-c2f9-b905e3ab87ca"
      },
      "source": [
        "parameter={'criterion':['gini','entropy'],\n",
        "            'max_depth':np.arange(0,100,1)\n",
        "            }\n",
        "\n",
        "random_searchdt = RandomizedSearchCV(estimator = dTree, param_distributions= parameter,cv = 3, verbose=2, random_state=1,return_train_score=True)\n",
        "random_searchdt.fit(train_vectors_0,Y_train)"
      ],
      "execution_count": 20,
      "outputs": [
        {
          "output_type": "stream",
          "text": [
            "Fitting 3 folds for each of 10 candidates, totalling 30 fits\n",
            "[CV] max_depth=58, criterion=gini ....................................\n",
            "[CV] ..................... max_depth=58, criterion=gini, total=   0.0s\n",
            "[CV] max_depth=58, criterion=gini ....................................\n",
            "[CV] ..................... max_depth=58, criterion=gini, total=   0.0s\n",
            "[CV] max_depth=58, criterion=gini ....................................\n",
            "[CV] ..................... max_depth=58, criterion=gini, total=   0.0s\n",
            "[CV] max_depth=40, criterion=gini ....................................\n",
            "[CV] ..................... max_depth=40, criterion=gini, total=   0.0s\n",
            "[CV] max_depth=40, criterion=gini ....................................\n",
            "[CV] ..................... max_depth=40, criterion=gini, total=   0.0s\n",
            "[CV] max_depth=40, criterion=gini ....................................\n",
            "[CV] ..................... max_depth=40, criterion=gini, total=   0.0s\n",
            "[CV] max_depth=34, criterion=gini ....................................\n",
            "[CV] ..................... max_depth=34, criterion=gini, total=   0.0s\n",
            "[CV] max_depth=34, criterion=gini ....................................\n",
            "[CV] ..................... max_depth=34, criterion=gini, total=   0.0s\n",
            "[CV] max_depth=34, criterion=gini ....................................\n",
            "[CV] ..................... max_depth=34, criterion=gini, total=   0.0s\n",
            "[CV] max_depth=2, criterion=entropy ..................................\n",
            "[CV] ................... max_depth=2, criterion=entropy, total=   0.0s\n",
            "[CV] max_depth=2, criterion=entropy ..................................\n",
            "[CV] ................... max_depth=2, criterion=entropy, total=   0.0s\n",
            "[CV] max_depth=2, criterion=entropy ..................................\n",
            "[CV] ................... max_depth=2, criterion=entropy, total=   0.0s\n",
            "[CV] max_depth=84, criterion=entropy .................................\n",
            "[CV] .................. max_depth=84, criterion=entropy, total=   0.0s\n",
            "[CV] max_depth=84, criterion=entropy .................................\n"
          ],
          "name": "stdout"
        },
        {
          "output_type": "stream",
          "text": [
            "/usr/local/lib/python3.6/dist-packages/sklearn/model_selection/_split.py:667: UserWarning: The least populated class in y has only 1 members, which is less than n_splits=3.\n",
            "  % (min_groups, self.n_splits)), UserWarning)\n",
            "[Parallel(n_jobs=1)]: Using backend SequentialBackend with 1 concurrent workers.\n",
            "[Parallel(n_jobs=1)]: Done   1 out of   1 | elapsed:    0.0s remaining:    0.0s\n"
          ],
          "name": "stderr"
        },
        {
          "output_type": "stream",
          "text": [
            "[CV] .................. max_depth=84, criterion=entropy, total=   0.0s\n",
            "[CV] max_depth=84, criterion=entropy .................................\n",
            "[CV] .................. max_depth=84, criterion=entropy, total=   0.0s\n",
            "[CV] max_depth=98, criterion=entropy .................................\n",
            "[CV] .................. max_depth=98, criterion=entropy, total=   0.0s\n",
            "[CV] max_depth=98, criterion=entropy .................................\n",
            "[CV] .................. max_depth=98, criterion=entropy, total=   0.0s\n",
            "[CV] max_depth=98, criterion=entropy .................................\n",
            "[CV] .................. max_depth=98, criterion=entropy, total=   0.0s\n",
            "[CV] max_depth=95, criterion=gini ....................................\n",
            "[CV] ..................... max_depth=95, criterion=gini, total=   0.0s\n",
            "[CV] max_depth=95, criterion=gini ....................................\n",
            "[CV] ..................... max_depth=95, criterion=gini, total=   0.0s\n",
            "[CV] max_depth=95, criterion=gini ....................................\n",
            "[CV] ..................... max_depth=95, criterion=gini, total=   0.0s\n",
            "[CV] max_depth=4, criterion=gini .....................................\n",
            "[CV] ...................... max_depth=4, criterion=gini, total=   0.0s\n",
            "[CV] max_depth=4, criterion=gini .....................................\n",
            "[CV] ...................... max_depth=4, criterion=gini, total=   0.0s\n",
            "[CV] max_depth=4, criterion=gini .....................................\n",
            "[CV] ...................... max_depth=4, criterion=gini, total=   0.0s\n",
            "[CV] max_depth=29, criterion=gini ....................................\n",
            "[CV] ..................... max_depth=29, criterion=gini, total=   0.0s\n",
            "[CV] max_depth=29, criterion=gini ....................................\n",
            "[CV] ..................... max_depth=29, criterion=gini, total=   0.0s\n",
            "[CV] max_depth=29, criterion=gini ....................................\n",
            "[CV] ..................... max_depth=29, criterion=gini, total=   0.0s\n",
            "[CV] max_depth=68, criterion=entropy .................................\n",
            "[CV] .................. max_depth=68, criterion=entropy, total=   0.0s\n",
            "[CV] max_depth=68, criterion=entropy .................................\n",
            "[CV] .................. max_depth=68, criterion=entropy, total=   0.0s\n",
            "[CV] max_depth=68, criterion=entropy .................................\n",
            "[CV] .................. max_depth=68, criterion=entropy, total=   0.0s\n"
          ],
          "name": "stdout"
        },
        {
          "output_type": "stream",
          "text": [
            "[Parallel(n_jobs=1)]: Done  30 out of  30 | elapsed:    0.4s finished\n"
          ],
          "name": "stderr"
        },
        {
          "output_type": "execute_result",
          "data": {
            "text/plain": [
              "RandomizedSearchCV(cv=3, error_score=nan,\n",
              "                   estimator=DecisionTreeClassifier(ccp_alpha=0.0,\n",
              "                                                    class_weight=None,\n",
              "                                                    criterion='gini',\n",
              "                                                    max_depth=5,\n",
              "                                                    max_features=None,\n",
              "                                                    max_leaf_nodes=None,\n",
              "                                                    min_impurity_decrease=0.0,\n",
              "                                                    min_impurity_split=None,\n",
              "                                                    min_samples_leaf=1,\n",
              "                                                    min_samples_split=2,\n",
              "                                                    min_weight_fraction_leaf=0.0,\n",
              "                                                    presort='deprecated',\n",
              "                                                    random_state=1,\n",
              "                                                    splitter='best'),\n",
              "                   iid='de...\n",
              "                                        'max_depth': array([ 0,  1,  2,  3,  4,  5,  6,  7,  8,  9, 10, 11, 12, 13, 14, 15, 16,\n",
              "       17, 18, 19, 20, 21, 22, 23, 24, 25, 26, 27, 28, 29, 30, 31, 32, 33,\n",
              "       34, 35, 36, 37, 38, 39, 40, 41, 42, 43, 44, 45, 46, 47, 48, 49, 50,\n",
              "       51, 52, 53, 54, 55, 56, 57, 58, 59, 60, 61, 62, 63, 64, 65, 66, 67,\n",
              "       68, 69, 70, 71, 72, 73, 74, 75, 76, 77, 78, 79, 80, 81, 82, 83, 84,\n",
              "       85, 86, 87, 88, 89, 90, 91, 92, 93, 94, 95, 96, 97, 98, 99])},\n",
              "                   pre_dispatch='2*n_jobs', random_state=1, refit=True,\n",
              "                   return_train_score=True, scoring=None, verbose=2)"
            ]
          },
          "metadata": {
            "tags": []
          },
          "execution_count": 20
        }
      ]
    },
    {
      "cell_type": "code",
      "metadata": {
        "id": "IkzP6AMXP873",
        "colab_type": "code",
        "colab": {
          "base_uri": "https://localhost:8080/",
          "height": 34
        },
        "outputId": "f54212bd-023d-49dd-9a2d-9a4ddbdcf9c2"
      },
      "source": [
        "random_searchdt.best_params_\n",
        "\n"
      ],
      "execution_count": 21,
      "outputs": [
        {
          "output_type": "execute_result",
          "data": {
            "text/plain": [
              "{'criterion': 'entropy', 'max_depth': 2}"
            ]
          },
          "metadata": {
            "tags": []
          },
          "execution_count": 21
        }
      ]
    },
    {
      "cell_type": "code",
      "metadata": {
        "id": "hCV8fZcZ7LrU",
        "colab_type": "code",
        "colab": {
          "base_uri": "https://localhost:8080/",
          "height": 52
        },
        "outputId": "97e5e664-4f72-4dc2-e249-08aa2a17787a"
      },
      "source": [
        "dTree = DecisionTreeClassifier(criterion = 'entropy', max_depth=2,random_state=1)\n",
        "dTree.fit(train_vectors_0, Y_train)\n",
        "\n",
        "\n",
        "print('Accuracy Score Test : ',dTree.score(test_vectors_0, Y_test)*100)\n",
        "model.append('Decision Tree Hyper Tuned ')\n",
        "accuracytest.append(dTree.score(test_vectors_0, Y_test)*100)\n",
        "\n",
        "\n",
        "print('Accuracy Score Train : ',dTree.score(train_vectors_0, Y_train)*100)\n",
        "accuracytrain.append(dTree.score(train_vectors_0, Y_train)*100)\n"
      ],
      "execution_count": 22,
      "outputs": [
        {
          "output_type": "stream",
          "text": [
            "Accuracy Score Test :  94.44444444444444\n",
            "Accuracy Score Train :  93.07875894988067\n"
          ],
          "name": "stdout"
        }
      ]
    },
    {
      "cell_type": "markdown",
      "metadata": {
        "id": "DSOKpKy56388",
        "colab_type": "text"
      },
      "source": [
        "#### With the randomized search, it seems that we have a lower accuracy"
      ]
    },
    {
      "cell_type": "code",
      "metadata": {
        "id": "JUMoefwxi_Vw",
        "colab_type": "code",
        "colab": {
          "base_uri": "https://localhost:8080/",
          "height": 1000
        },
        "outputId": "f926b1f2-b164-4f4f-a69b-38b49e428adc"
      },
      "source": [
        "parameter={'C':np.arange(0.6,3,0.1),\n",
        " 'kernel': ['linear','poly','rbf'],\n",
        " 'gamma' : ['scale','auto'],\n",
        " 'degree':np.arange(0,5,1)}\n",
        "\n",
        "random_searchSVM = RandomizedSearchCV(estimator = SVM, param_distributions= parameter,cv = 3, verbose=2, random_state=1,return_train_score=True)\n",
        "random_searchSVM.fit(train_vectors_0,Y_train)\n",
        "\n"
      ],
      "execution_count": 23,
      "outputs": [
        {
          "output_type": "stream",
          "text": [
            "Fitting 3 folds for each of 10 candidates, totalling 30 fits\n",
            "[CV] kernel=rbf, gamma=auto, degree=4, C=0.7 .........................\n",
            "[CV] .......... kernel=rbf, gamma=auto, degree=4, C=0.7, total=   0.0s\n",
            "[CV] kernel=rbf, gamma=auto, degree=4, C=0.7 .........................\n",
            "[CV] .......... kernel=rbf, gamma=auto, degree=4, C=0.7, total=   0.0s\n",
            "[CV] kernel=rbf, gamma=auto, degree=4, C=0.7 .........................\n",
            "[CV] .......... kernel=rbf, gamma=auto, degree=4, C=0.7, total=   0.0s\n",
            "[CV] kernel=linear, gamma=scale, degree=0, C=0.7999999999999999 ......\n",
            "[CV]  kernel=linear, gamma=scale, degree=0, C=0.7999999999999999, total=   0.0s\n",
            "[CV] kernel=linear, gamma=scale, degree=0, C=0.7999999999999999 ......\n",
            "[CV]  kernel=linear, gamma=scale, degree=0, C=0.7999999999999999, total=   0.0s\n",
            "[CV] kernel=linear, gamma=scale, degree=0, C=0.7999999999999999 ......\n",
            "[CV]  kernel=linear, gamma=scale, degree=0, C=0.7999999999999999, total=   0.0s\n",
            "[CV] kernel=poly, gamma=auto, degree=0, C=1.2999999999999998 .........\n",
            "[CV]  kernel=poly, gamma=auto, degree=0, C=1.2999999999999998, total=   0.0s\n",
            "[CV] kernel=poly, gamma=auto, degree=0, C=1.2999999999999998 .........\n",
            "[CV]  kernel=poly, gamma=auto, degree=0, C=1.2999999999999998, total=   0.0s\n",
            "[CV] kernel=poly, gamma=auto, degree=0, C=1.2999999999999998 .........\n",
            "[CV]  kernel=poly, gamma=auto, degree=0, C=1.2999999999999998, total=   0.0s\n",
            "[CV] kernel=poly, gamma=scale, degree=1, C=2.6999999999999997 ........\n"
          ],
          "name": "stdout"
        },
        {
          "output_type": "stream",
          "text": [
            "/usr/local/lib/python3.6/dist-packages/sklearn/model_selection/_split.py:667: UserWarning: The least populated class in y has only 1 members, which is less than n_splits=3.\n",
            "  % (min_groups, self.n_splits)), UserWarning)\n",
            "[Parallel(n_jobs=1)]: Using backend SequentialBackend with 1 concurrent workers.\n",
            "[Parallel(n_jobs=1)]: Done   1 out of   1 | elapsed:    0.0s remaining:    0.0s\n"
          ],
          "name": "stderr"
        },
        {
          "output_type": "stream",
          "text": [
            "[CV]  kernel=poly, gamma=scale, degree=1, C=2.6999999999999997, total=   0.0s\n",
            "[CV] kernel=poly, gamma=scale, degree=1, C=2.6999999999999997 ........\n",
            "[CV]  kernel=poly, gamma=scale, degree=1, C=2.6999999999999997, total=   0.0s\n",
            "[CV] kernel=poly, gamma=scale, degree=1, C=2.6999999999999997 ........\n",
            "[CV]  kernel=poly, gamma=scale, degree=1, C=2.6999999999999997, total=   0.0s\n",
            "[CV] kernel=rbf, gamma=scale, degree=1, C=0.6 ........................\n",
            "[CV] ......... kernel=rbf, gamma=scale, degree=1, C=0.6, total=   0.0s\n",
            "[CV] kernel=rbf, gamma=scale, degree=1, C=0.6 ........................\n",
            "[CV] ......... kernel=rbf, gamma=scale, degree=1, C=0.6, total=   0.0s\n",
            "[CV] kernel=rbf, gamma=scale, degree=1, C=0.6 ........................\n",
            "[CV] ......... kernel=rbf, gamma=scale, degree=1, C=0.6, total=   0.0s\n",
            "[CV] kernel=rbf, gamma=auto, degree=1, C=0.8999999999999999 ..........\n",
            "[CV]  kernel=rbf, gamma=auto, degree=1, C=0.8999999999999999, total=   0.0s\n",
            "[CV] kernel=rbf, gamma=auto, degree=1, C=0.8999999999999999 ..........\n",
            "[CV]  kernel=rbf, gamma=auto, degree=1, C=0.8999999999999999, total=   0.0s\n",
            "[CV] kernel=rbf, gamma=auto, degree=1, C=0.8999999999999999 ..........\n",
            "[CV]  kernel=rbf, gamma=auto, degree=1, C=0.8999999999999999, total=   0.0s\n",
            "[CV] kernel=linear, gamma=scale, degree=4, C=2.0999999999999996 ......\n",
            "[CV]  kernel=linear, gamma=scale, degree=4, C=2.0999999999999996, total=   0.0s\n",
            "[CV] kernel=linear, gamma=scale, degree=4, C=2.0999999999999996 ......\n",
            "[CV]  kernel=linear, gamma=scale, degree=4, C=2.0999999999999996, total=   0.0s\n",
            "[CV] kernel=linear, gamma=scale, degree=4, C=2.0999999999999996 ......\n",
            "[CV]  kernel=linear, gamma=scale, degree=4, C=2.0999999999999996, total=   0.0s\n",
            "[CV] kernel=rbf, gamma=auto, degree=1, C=1.0999999999999999 ..........\n",
            "[CV]  kernel=rbf, gamma=auto, degree=1, C=1.0999999999999999, total=   0.0s\n",
            "[CV] kernel=rbf, gamma=auto, degree=1, C=1.0999999999999999 ..........\n",
            "[CV]  kernel=rbf, gamma=auto, degree=1, C=1.0999999999999999, total=   0.0s\n",
            "[CV] kernel=rbf, gamma=auto, degree=1, C=1.0999999999999999 ..........\n",
            "[CV]  kernel=rbf, gamma=auto, degree=1, C=1.0999999999999999, total=   0.0s\n",
            "[CV] kernel=poly, gamma=auto, degree=2, C=1.9 ........................\n",
            "[CV] ......... kernel=poly, gamma=auto, degree=2, C=1.9, total=   0.0s\n",
            "[CV] kernel=poly, gamma=auto, degree=2, C=1.9 ........................\n",
            "[CV] ......... kernel=poly, gamma=auto, degree=2, C=1.9, total=   0.0s\n",
            "[CV] kernel=poly, gamma=auto, degree=2, C=1.9 ........................\n",
            "[CV] ......... kernel=poly, gamma=auto, degree=2, C=1.9, total=   0.0s\n",
            "[CV] kernel=rbf, gamma=auto, degree=4, C=2.1999999999999997 ..........\n",
            "[CV]  kernel=rbf, gamma=auto, degree=4, C=2.1999999999999997, total=   0.0s\n",
            "[CV] kernel=rbf, gamma=auto, degree=4, C=2.1999999999999997 ..........\n",
            "[CV]  kernel=rbf, gamma=auto, degree=4, C=2.1999999999999997, total=   0.0s\n",
            "[CV] kernel=rbf, gamma=auto, degree=4, C=2.1999999999999997 ..........\n",
            "[CV]  kernel=rbf, gamma=auto, degree=4, C=2.1999999999999997, total=   0.0s\n"
          ],
          "name": "stdout"
        },
        {
          "output_type": "stream",
          "text": [
            "[Parallel(n_jobs=1)]: Done  30 out of  30 | elapsed:    0.7s finished\n"
          ],
          "name": "stderr"
        },
        {
          "output_type": "execute_result",
          "data": {
            "text/plain": [
              "RandomizedSearchCV(cv=3, error_score=nan,\n",
              "                   estimator=SVC(C=1.0, break_ties=False, cache_size=200,\n",
              "                                 class_weight=None, coef0=0.0,\n",
              "                                 decision_function_shape='ovr', degree=3,\n",
              "                                 gamma='auto', kernel='linear', max_iter=-1,\n",
              "                                 probability=False, random_state=1,\n",
              "                                 shrinking=True, tol=0.001, verbose=False),\n",
              "                   iid='deprecated', n_iter=10, n_jobs=None,\n",
              "                   param_distributions={'C': array([0.6, 0.7, 0.8, 0.9, 1. , 1.1, 1.2, 1.3, 1.4, 1.5, 1.6, 1.7, 1.8,\n",
              "       1.9, 2. , 2.1, 2.2, 2.3, 2.4, 2.5, 2.6, 2.7, 2.8, 2.9]),\n",
              "                                        'degree': array([0, 1, 2, 3, 4]),\n",
              "                                        'gamma': ['scale', 'auto'],\n",
              "                                        'kernel': ['linear', 'poly', 'rbf']},\n",
              "                   pre_dispatch='2*n_jobs', random_state=1, refit=True,\n",
              "                   return_train_score=True, scoring=None, verbose=2)"
            ]
          },
          "metadata": {
            "tags": []
          },
          "execution_count": 23
        }
      ]
    },
    {
      "cell_type": "code",
      "metadata": {
        "id": "Du8aaPKTi_d6",
        "colab_type": "code",
        "colab": {
          "base_uri": "https://localhost:8080/",
          "height": 34
        },
        "outputId": "c3f149cf-3517-43ac-efd0-7360c3c4f352"
      },
      "source": [
        "random_searchSVM.best_params_\n",
        "\n"
      ],
      "execution_count": 24,
      "outputs": [
        {
          "output_type": "execute_result",
          "data": {
            "text/plain": [
              "{'C': 0.7, 'degree': 4, 'gamma': 'auto', 'kernel': 'rbf'}"
            ]
          },
          "metadata": {
            "tags": []
          },
          "execution_count": 24
        }
      ]
    },
    {
      "cell_type": "code",
      "metadata": {
        "id": "urFdKU6Ai_iE",
        "colab_type": "code",
        "colab": {
          "base_uri": "https://localhost:8080/",
          "height": 52
        },
        "outputId": "2cf6ac7b-77fb-4dc2-93f3-32316239cc4f"
      },
      "source": [
        "SVM = svm.SVC(C=0.7, kernel='rbf', degree=4, gamma='auto')\n",
        "SVM.fit(train_vectors_0,Y_train)\n",
        "\n",
        "#Test set\n",
        "predictions_SVM = SVM.predict(test_vectors_0)\n",
        "# Use accuracy_score function to get the accuracy\n",
        "print(\"Accuracy Score Test: \",accuracy_score(predictions_SVM, Y_test)*100)\n",
        "\n",
        "model.append('Support Vector Machines- Hypertuned')\n",
        "accuracytest.append(accuracy_score(predictions_SVM, Y_test)*100)\n",
        "\n",
        "#Train set\n",
        "\n",
        "predictions_SVM = SVM.predict(train_vectors_0)\n",
        "# Use accuracy_score function to get the accuracy\n",
        "print(\"Accuracy Score Train : \",accuracy_score(predictions_SVM, Y_train)*100)\n",
        "\n",
        "accuracytrain.append(accuracy_score(predictions_SVM, Y_train)*100)\n",
        "\n"
      ],
      "execution_count": 25,
      "outputs": [
        {
          "output_type": "stream",
          "text": [
            "Accuracy Score Test:  94.44444444444444\n",
            "Accuracy Score Train :  91.16945107398568\n"
          ],
          "name": "stdout"
        }
      ]
    },
    {
      "cell_type": "markdown",
      "metadata": {
        "colab_type": "text",
        "id": "AK-O3F6BAsRH"
      },
      "source": [
        "#### **Sequential Model**"
      ]
    },
    {
      "cell_type": "code",
      "metadata": {
        "id": "2DMN5QUi2aEe",
        "colab_type": "code",
        "colab": {}
      },
      "source": [
        "embed_dim = 256\n",
        "lstm_out = 64\n",
        "max_features = 2000\n",
        "maxlen = 350\n",
        "embedding_size = 200"
      ],
      "execution_count": 26,
      "outputs": []
    },
    {
      "cell_type": "code",
      "metadata": {
        "colab_type": "code",
        "id": "Yy514VSoAsRT",
        "colab": {
          "base_uri": "https://localhost:8080/",
          "height": 52
        },
        "outputId": "c385b65a-a1e1-4636-fae6-353476fc074b"
      },
      "source": [
        "tok = Tokenizer(num_words = max_features)\n",
        "tok.fit_on_texts(data.Description)\n",
        "X = tok.texts_to_sequences(data['Description'][data['Cluster TFIDFV']==0])\n",
        "X = pad_sequences(X, maxlen = maxlen)\n",
        "Y = np.asarray(data['Assignment group'][data['Cluster TFIDFV']==0])\n",
        "\n",
        "X_train, X_test, Y_train, Y_test = train_test_split(X, Y, test_size=0.3, random_state=1)\n",
        "print(X_train.shape,Y_train.shape)\n",
        "print(X_test.shape,Y_test.shape)"
      ],
      "execution_count": 27,
      "outputs": [
        {
          "output_type": "stream",
          "text": [
            "(419, 350) (419,)\n",
            "(180, 350) (180,)\n"
          ],
          "name": "stdout"
        }
      ]
    },
    {
      "cell_type": "code",
      "metadata": {
        "colab_type": "code",
        "id": "DTSkY3hfAsRi",
        "colab": {
          "base_uri": "https://localhost:8080/",
          "height": 347
        },
        "outputId": "ee5cf2f4-d17c-44cd-9a61-d16ae69379c8"
      },
      "source": [
        "models = Sequential()\n",
        "models.add(Embedding(max_features, embed_dim,input_length = X.shape[1]))\n",
        "models.add(SpatialDropout1D(0.4))\n",
        "models.add(MaxPooling1D(pool_size=4))\n",
        "models.add(LSTM(100))\n",
        "#model.add(LSTM(lstm_out, dropout=0.2, recurrent_dropout=0.4))\n",
        "models.add(Dense(350,activation='softmax'))\n",
        "models.compile(loss = 'sparse_categorical_crossentropy', optimizer='adam',metrics = ['accuracy'])\n",
        "print(models.summary())\n",
        "\n"
      ],
      "execution_count": 28,
      "outputs": [
        {
          "output_type": "stream",
          "text": [
            "Model: \"sequential_1\"\n",
            "_________________________________________________________________\n",
            "Layer (type)                 Output Shape              Param #   \n",
            "=================================================================\n",
            "embedding_1 (Embedding)      (None, 350, 256)          512000    \n",
            "_________________________________________________________________\n",
            "spatial_dropout1d_1 (Spatial (None, 350, 256)          0         \n",
            "_________________________________________________________________\n",
            "max_pooling1d_1 (MaxPooling1 (None, 87, 256)           0         \n",
            "_________________________________________________________________\n",
            "lstm_1 (LSTM)                (None, 100)               142800    \n",
            "_________________________________________________________________\n",
            "dense_1 (Dense)              (None, 350)               35350     \n",
            "=================================================================\n",
            "Total params: 690,150\n",
            "Trainable params: 690,150\n",
            "Non-trainable params: 0\n",
            "_________________________________________________________________\n",
            "None\n"
          ],
          "name": "stdout"
        }
      ]
    },
    {
      "cell_type": "code",
      "metadata": {
        "colab_type": "code",
        "id": "b5zOyv1LAsRv",
        "colab": {
          "base_uri": "https://localhost:8080/",
          "height": 1000
        },
        "outputId": "46ba1821-e559-462c-9fda-5a7cfd3c058a"
      },
      "source": [
        "models.fit(X_train,Y_train, validation_data = (X_test, Y_test), epochs=40, batch_size=32, verbose=2) \n",
        "# Final evaluation of the model\n",
        "model.append('Sequential Model')\n",
        "scores = models.evaluate(X_test, Y_test, verbose=0)\n",
        "accuracytest.append(scores[1]*100)\n",
        "scores = models.evaluate(X_train, Y_train, verbose=0)\n",
        "accuracytrain.append(scores[1]*100)"
      ],
      "execution_count": 29,
      "outputs": [
        {
          "output_type": "stream",
          "text": [
            "/usr/local/lib/python3.6/dist-packages/tensorflow/python/framework/indexed_slices.py:434: UserWarning: Converting sparse IndexedSlices to a dense Tensor of unknown shape. This may consume a large amount of memory.\n",
            "  \"Converting sparse IndexedSlices to a dense Tensor of unknown shape. \"\n"
          ],
          "name": "stderr"
        },
        {
          "output_type": "stream",
          "text": [
            "Train on 419 samples, validate on 180 samples\n",
            "Epoch 1/40\n",
            " - 5s - loss: 4.9270 - accuracy: 0.8282 - val_loss: 2.5556 - val_accuracy: 0.9111\n",
            "Epoch 2/40\n",
            " - 3s - loss: 1.3034 - accuracy: 0.9260 - val_loss: 0.5711 - val_accuracy: 0.9111\n",
            "Epoch 3/40\n",
            " - 3s - loss: 0.4505 - accuracy: 0.9260 - val_loss: 0.4892 - val_accuracy: 0.9111\n",
            "Epoch 4/40\n",
            " - 3s - loss: 0.4163 - accuracy: 0.9260 - val_loss: 0.4566 - val_accuracy: 0.9111\n",
            "Epoch 5/40\n",
            " - 3s - loss: 0.3938 - accuracy: 0.9260 - val_loss: 0.4337 - val_accuracy: 0.9111\n",
            "Epoch 6/40\n",
            " - 3s - loss: 0.3891 - accuracy: 0.9260 - val_loss: 0.4302 - val_accuracy: 0.9111\n",
            "Epoch 7/40\n",
            " - 3s - loss: 0.3868 - accuracy: 0.9260 - val_loss: 0.4250 - val_accuracy: 0.9111\n",
            "Epoch 8/40\n",
            " - 3s - loss: 0.3822 - accuracy: 0.9260 - val_loss: 0.4248 - val_accuracy: 0.9111\n",
            "Epoch 9/40\n",
            " - 3s - loss: 0.3816 - accuracy: 0.9260 - val_loss: 0.4262 - val_accuracy: 0.9111\n",
            "Epoch 10/40\n",
            " - 3s - loss: 0.3805 - accuracy: 0.9260 - val_loss: 0.4259 - val_accuracy: 0.9111\n",
            "Epoch 11/40\n",
            " - 3s - loss: 0.3780 - accuracy: 0.9260 - val_loss: 0.4258 - val_accuracy: 0.9111\n",
            "Epoch 12/40\n",
            " - 3s - loss: 0.3772 - accuracy: 0.9260 - val_loss: 0.4285 - val_accuracy: 0.9111\n",
            "Epoch 13/40\n",
            " - 3s - loss: 0.3761 - accuracy: 0.9260 - val_loss: 0.4243 - val_accuracy: 0.9111\n",
            "Epoch 14/40\n",
            " - 3s - loss: 0.3757 - accuracy: 0.9260 - val_loss: 0.4239 - val_accuracy: 0.9111\n",
            "Epoch 15/40\n",
            " - 3s - loss: 0.3756 - accuracy: 0.9260 - val_loss: 0.4251 - val_accuracy: 0.9111\n",
            "Epoch 16/40\n",
            " - 3s - loss: 0.3755 - accuracy: 0.9260 - val_loss: 0.4219 - val_accuracy: 0.9111\n",
            "Epoch 17/40\n",
            " - 3s - loss: 0.3746 - accuracy: 0.9260 - val_loss: 0.4250 - val_accuracy: 0.9111\n",
            "Epoch 18/40\n",
            " - 3s - loss: 0.3753 - accuracy: 0.9260 - val_loss: 0.4254 - val_accuracy: 0.9111\n",
            "Epoch 19/40\n",
            " - 3s - loss: 0.3736 - accuracy: 0.9260 - val_loss: 0.4184 - val_accuracy: 0.9111\n",
            "Epoch 20/40\n",
            " - 3s - loss: 0.3769 - accuracy: 0.9260 - val_loss: 0.4111 - val_accuracy: 0.9111\n",
            "Epoch 21/40\n",
            " - 3s - loss: 0.3741 - accuracy: 0.9260 - val_loss: 0.4185 - val_accuracy: 0.9111\n",
            "Epoch 22/40\n",
            " - 3s - loss: 0.3715 - accuracy: 0.9260 - val_loss: 0.4199 - val_accuracy: 0.9111\n",
            "Epoch 23/40\n",
            " - 3s - loss: 0.3701 - accuracy: 0.9260 - val_loss: 0.4223 - val_accuracy: 0.9111\n",
            "Epoch 24/40\n",
            " - 3s - loss: 0.3692 - accuracy: 0.9260 - val_loss: 0.4220 - val_accuracy: 0.9111\n",
            "Epoch 25/40\n",
            " - 3s - loss: 0.3664 - accuracy: 0.9260 - val_loss: 0.4207 - val_accuracy: 0.9111\n",
            "Epoch 26/40\n",
            " - 3s - loss: 0.3636 - accuracy: 0.9260 - val_loss: 0.4210 - val_accuracy: 0.9111\n",
            "Epoch 27/40\n",
            " - 3s - loss: 0.3592 - accuracy: 0.9260 - val_loss: 0.4145 - val_accuracy: 0.9111\n",
            "Epoch 28/40\n",
            " - 3s - loss: 0.3516 - accuracy: 0.9260 - val_loss: 0.3983 - val_accuracy: 0.9111\n",
            "Epoch 29/40\n",
            " - 3s - loss: 0.3513 - accuracy: 0.9260 - val_loss: 0.3949 - val_accuracy: 0.9111\n",
            "Epoch 30/40\n",
            " - 3s - loss: 0.3401 - accuracy: 0.9260 - val_loss: 0.3935 - val_accuracy: 0.9111\n",
            "Epoch 31/40\n",
            " - 3s - loss: 0.3235 - accuracy: 0.9260 - val_loss: 0.3982 - val_accuracy: 0.9111\n",
            "Epoch 32/40\n",
            " - 3s - loss: 0.3133 - accuracy: 0.9260 - val_loss: 0.3972 - val_accuracy: 0.9111\n",
            "Epoch 33/40\n",
            " - 3s - loss: 0.3021 - accuracy: 0.9260 - val_loss: 0.3927 - val_accuracy: 0.9111\n",
            "Epoch 34/40\n",
            " - 3s - loss: 0.2911 - accuracy: 0.9260 - val_loss: 0.3908 - val_accuracy: 0.9111\n",
            "Epoch 35/40\n",
            " - 3s - loss: 0.2796 - accuracy: 0.9260 - val_loss: 0.3894 - val_accuracy: 0.9111\n",
            "Epoch 36/40\n",
            " - 3s - loss: 0.2661 - accuracy: 0.9260 - val_loss: 0.3911 - val_accuracy: 0.9111\n",
            "Epoch 37/40\n",
            " - 3s - loss: 0.2623 - accuracy: 0.9260 - val_loss: 0.3945 - val_accuracy: 0.9111\n",
            "Epoch 38/40\n",
            " - 3s - loss: 0.2502 - accuracy: 0.9260 - val_loss: 0.3889 - val_accuracy: 0.9111\n",
            "Epoch 39/40\n",
            " - 3s - loss: 0.2425 - accuracy: 0.9284 - val_loss: 0.3903 - val_accuracy: 0.9111\n",
            "Epoch 40/40\n",
            " - 3s - loss: 0.2352 - accuracy: 0.9284 - val_loss: 0.3916 - val_accuracy: 0.9111\n"
          ],
          "name": "stdout"
        }
      ]
    },
    {
      "cell_type": "markdown",
      "metadata": {
        "colab_type": "text",
        "id": "e1Km3AFC1OeZ"
      },
      "source": [
        "#### **Bidirectional LSTM**"
      ]
    },
    {
      "cell_type": "code",
      "metadata": {
        "colab_type": "code",
        "id": "W5MmjvxN1Oej",
        "colab": {
          "base_uri": "https://localhost:8080/",
          "height": 1000
        },
        "outputId": "8c03d583-bb0a-450f-fe94-b3c9fe14c12c"
      },
      "source": [
        "lsmod1 = lstmm()\n",
        "\n",
        "lshist = lsmod1.fit(X_train,Y_train,\n",
        "         epochs = 30,\n",
        "         batch_size = 128,\n",
        "         validation_data = (X_test, Y_test))"
      ],
      "execution_count": 30,
      "outputs": [
        {
          "output_type": "stream",
          "text": [
            "/usr/local/lib/python3.6/dist-packages/tensorflow/python/framework/indexed_slices.py:434: UserWarning: Converting sparse IndexedSlices to a dense Tensor of unknown shape. This may consume a large amount of memory.\n",
            "  \"Converting sparse IndexedSlices to a dense Tensor of unknown shape. \"\n"
          ],
          "name": "stderr"
        },
        {
          "output_type": "stream",
          "text": [
            "Train on 419 samples, validate on 180 samples\n",
            "Epoch 1/30\n",
            "419/419 [==============================] - 11s 25ms/step - loss: 5.8305 - acc: 0.2530 - val_loss: 5.7438 - val_acc: 0.9111\n",
            "Epoch 2/30\n",
            "419/419 [==============================] - 6s 14ms/step - loss: 5.6842 - acc: 0.9236 - val_loss: 5.5097 - val_acc: 0.9111\n",
            "Epoch 3/30\n",
            "419/419 [==============================] - 6s 15ms/step - loss: 5.4107 - acc: 0.9260 - val_loss: 5.0846 - val_acc: 0.9111\n",
            "Epoch 4/30\n",
            "419/419 [==============================] - 7s 16ms/step - loss: 4.9724 - acc: 0.9260 - val_loss: 4.4452 - val_acc: 0.9111\n",
            "Epoch 5/30\n",
            "419/419 [==============================] - 7s 16ms/step - loss: 4.3280 - acc: 0.9260 - val_loss: 3.6602 - val_acc: 0.9111\n",
            "Epoch 6/30\n",
            "419/419 [==============================] - 6s 15ms/step - loss: 3.5784 - acc: 0.9260 - val_loss: 2.8987 - val_acc: 0.9111\n",
            "Epoch 7/30\n",
            "419/419 [==============================] - 6s 15ms/step - loss: 2.7853 - acc: 0.9260 - val_loss: 2.2218 - val_acc: 0.9111\n",
            "Epoch 8/30\n",
            "419/419 [==============================] - 7s 16ms/step - loss: 2.0776 - acc: 0.9260 - val_loss: 1.6257 - val_acc: 0.9111\n",
            "Epoch 9/30\n",
            "419/419 [==============================] - 6s 15ms/step - loss: 1.4812 - acc: 0.9260 - val_loss: 1.1380 - val_acc: 0.9111\n",
            "Epoch 10/30\n",
            "419/419 [==============================] - 7s 16ms/step - loss: 1.0083 - acc: 0.9260 - val_loss: 0.8079 - val_acc: 0.9111\n",
            "Epoch 11/30\n",
            "419/419 [==============================] - 7s 16ms/step - loss: 0.7109 - acc: 0.9260 - val_loss: 0.6286 - val_acc: 0.9111\n",
            "Epoch 12/30\n",
            "419/419 [==============================] - 6s 14ms/step - loss: 0.5539 - acc: 0.9260 - val_loss: 0.5456 - val_acc: 0.9111\n",
            "Epoch 13/30\n",
            "419/419 [==============================] - 6s 15ms/step - loss: 0.4812 - acc: 0.9260 - val_loss: 0.5079 - val_acc: 0.9111\n",
            "Epoch 14/30\n",
            "419/419 [==============================] - 6s 15ms/step - loss: 0.4472 - acc: 0.9260 - val_loss: 0.4886 - val_acc: 0.9111\n",
            "Epoch 15/30\n",
            "419/419 [==============================] - 6s 15ms/step - loss: 0.4287 - acc: 0.9260 - val_loss: 0.4757 - val_acc: 0.9111\n",
            "Epoch 16/30\n",
            "419/419 [==============================] - 6s 15ms/step - loss: 0.4173 - acc: 0.9260 - val_loss: 0.4665 - val_acc: 0.9111\n",
            "Epoch 17/30\n",
            "419/419 [==============================] - 7s 16ms/step - loss: 0.4078 - acc: 0.9260 - val_loss: 0.4591 - val_acc: 0.9111\n",
            "Epoch 18/30\n",
            "419/419 [==============================] - 7s 16ms/step - loss: 0.4022 - acc: 0.9260 - val_loss: 0.4521 - val_acc: 0.9111\n",
            "Epoch 19/30\n",
            "419/419 [==============================] - 7s 16ms/step - loss: 0.3998 - acc: 0.9260 - val_loss: 0.4449 - val_acc: 0.9111\n",
            "Epoch 20/30\n",
            "419/419 [==============================] - 7s 16ms/step - loss: 0.3954 - acc: 0.9260 - val_loss: 0.4407 - val_acc: 0.9111\n",
            "Epoch 21/30\n",
            "419/419 [==============================] - 7s 16ms/step - loss: 0.3938 - acc: 0.9260 - val_loss: 0.4382 - val_acc: 0.9111\n",
            "Epoch 22/30\n",
            "419/419 [==============================] - 6s 14ms/step - loss: 0.3904 - acc: 0.9260 - val_loss: 0.4349 - val_acc: 0.9111\n",
            "Epoch 23/30\n",
            "419/419 [==============================] - 6s 14ms/step - loss: 0.3881 - acc: 0.9260 - val_loss: 0.4329 - val_acc: 0.9111\n",
            "Epoch 24/30\n",
            "419/419 [==============================] - 6s 15ms/step - loss: 0.3901 - acc: 0.9260 - val_loss: 0.4318 - val_acc: 0.9111\n",
            "Epoch 25/30\n",
            "419/419 [==============================] - 7s 16ms/step - loss: 0.3884 - acc: 0.9260 - val_loss: 0.4302 - val_acc: 0.9111\n",
            "Epoch 26/30\n",
            "419/419 [==============================] - 7s 16ms/step - loss: 0.3854 - acc: 0.9260 - val_loss: 0.4298 - val_acc: 0.9111\n",
            "Epoch 27/30\n",
            "419/419 [==============================] - 7s 16ms/step - loss: 0.3852 - acc: 0.9260 - val_loss: 0.4296 - val_acc: 0.9111\n",
            "Epoch 28/30\n",
            "419/419 [==============================] - 7s 16ms/step - loss: 0.3858 - acc: 0.9260 - val_loss: 0.4295 - val_acc: 0.9111\n",
            "Epoch 29/30\n",
            "419/419 [==============================] - 6s 15ms/step - loss: 0.3837 - acc: 0.9260 - val_loss: 0.4303 - val_acc: 0.9111\n",
            "Epoch 30/30\n",
            "419/419 [==============================] - 6s 15ms/step - loss: 0.3825 - acc: 0.9260 - val_loss: 0.4309 - val_acc: 0.9111\n"
          ],
          "name": "stdout"
        }
      ]
    },
    {
      "cell_type": "code",
      "metadata": {
        "id": "VGTkI30g4ts9",
        "colab_type": "code",
        "colab": {}
      },
      "source": [
        "model.append('Bidirectional LSTM Model')\n",
        "scores = lsmod1.evaluate(X_test, Y_test, verbose=0)\n",
        "accuracytest.append(scores[1]*100)\n",
        "scores = lsmod1.evaluate(X_train, Y_train, verbose=0)\n",
        "accuracytrain.append(scores[1]*100)\n",
        "\n",
        "\n"
      ],
      "execution_count": 31,
      "outputs": []
    },
    {
      "cell_type": "code",
      "metadata": {
        "colab_type": "code",
        "id": "ms0kA-NF1Oe2",
        "colab": {
          "base_uri": "https://localhost:8080/",
          "height": 279
        },
        "outputId": "176177b0-8624-4aae-fbcb-2d96891cf046"
      },
      "source": [
        "plt.plot(lshist.history['val_acc'],color='black')\n",
        "plt.plot(lshist.history['acc'])\n",
        "plt.xlabel('Accuracy')\n",
        "plt.ylabel('Iterations')\n",
        "plt.show()"
      ],
      "execution_count": 32,
      "outputs": [
        {
          "output_type": "display_data",
          "data": {
            "image/png": "[encoded data removed]",
            "text/plain": [
              "<Figure size 432x288 with 1 Axes>"
            ]
          },
          "metadata": {
            "tags": [],
            "needs_background": "light"
          }
        }
      ]
    },
    {
      "cell_type": "code",
      "metadata": {
        "colab_type": "code",
        "id": "NKgj0zGN1Oe9",
        "colab": {
          "base_uri": "https://localhost:8080/",
          "height": 280
        },
        "outputId": "0649c9a8-c7d2-411f-f7ed-d3ffade509cf"
      },
      "source": [
        "plt.plot(lshist.history['val_loss'],color='black')\n",
        "plt.plot(lshist.history['loss'])\n",
        "plt.xlabel('Loss')\n",
        "plt.ylabel('Iterations')\n",
        "plt.show()"
      ],
      "execution_count": 33,
      "outputs": [
        {
          "output_type": "display_data",
          "data": {
            "image/png": "[encoded data removed]",
            "text/plain": [
              "<Figure size 432x288 with 1 Axes>"
            ]
          },
          "metadata": {
            "tags": [],
            "needs_background": "light"
          }
        }
      ]
    },
    {
      "cell_type": "markdown",
      "metadata": {
        "id": "9QSaW5EX5Q06",
        "colab_type": "text"
      },
      "source": [
        "#### **1D Convolution**"
      ]
    },
    {
      "cell_type": "code",
      "metadata": {
        "colab_type": "code",
        "id": "E3WdCFl51OfD",
        "colab": {
          "base_uri": "https://localhost:8080/",
          "height": 1000
        },
        "outputId": "2bc1bf1b-86d6-4e57-fbeb-c98b5f9c67bf"
      },
      "source": [
        "\n",
        "convmod = conv1d()\n",
        "\n",
        "convhist = convmod.fit(X_train, Y_train,\n",
        "                      epochs = 30,\n",
        "                      batch_size = 128,\n",
        "                      validation_data = (X_test, Y_test))"
      ],
      "execution_count": 34,
      "outputs": [
        {
          "output_type": "stream",
          "text": [
            "/usr/local/lib/python3.6/dist-packages/tensorflow/python/framework/indexed_slices.py:434: UserWarning: Converting sparse IndexedSlices to a dense Tensor of unknown shape. This may consume a large amount of memory.\n",
            "  \"Converting sparse IndexedSlices to a dense Tensor of unknown shape. \"\n"
          ],
          "name": "stderr"
        },
        {
          "output_type": "stream",
          "text": [
            "Train on 419 samples, validate on 180 samples\n",
            "Epoch 1/30\n",
            "419/419 [==============================] - 3s 7ms/step - loss: 5.7672 - acc: 0.6158 - val_loss: 5.6580 - val_acc: 0.9111\n",
            "Epoch 2/30\n",
            "419/419 [==============================] - 3s 7ms/step - loss: 5.3853 - acc: 0.9260 - val_loss: 5.2780 - val_acc: 0.9111\n",
            "Epoch 3/30\n",
            "419/419 [==============================] - 3s 6ms/step - loss: 4.6250 - acc: 0.9260 - val_loss: 4.5534 - val_acc: 0.9111\n",
            "Epoch 4/30\n",
            "419/419 [==============================] - 2s 6ms/step - loss: 3.2514 - acc: 0.9260 - val_loss: 3.2851 - val_acc: 0.9111\n",
            "Epoch 5/30\n",
            "419/419 [==============================] - 3s 6ms/step - loss: 1.3549 - acc: 0.9260 - val_loss: 1.5162 - val_acc: 0.9111\n",
            "Epoch 6/30\n",
            "419/419 [==============================] - 3s 6ms/step - loss: 0.5886 - acc: 0.9260 - val_loss: 0.6665 - val_acc: 0.9111\n",
            "Epoch 7/30\n",
            "419/419 [==============================] - 3s 7ms/step - loss: 0.7112 - acc: 0.9260 - val_loss: 0.5740 - val_acc: 0.9111\n",
            "Epoch 8/30\n",
            "419/419 [==============================] - 3s 7ms/step - loss: 0.7778 - acc: 0.9260 - val_loss: 0.5479 - val_acc: 0.9111\n",
            "Epoch 9/30\n",
            "419/419 [==============================] - 3s 7ms/step - loss: 0.7534 - acc: 0.9260 - val_loss: 0.5069 - val_acc: 0.9111\n",
            "Epoch 10/30\n",
            "419/419 [==============================] - 3s 7ms/step - loss: 0.6710 - acc: 0.9260 - val_loss: 0.4648 - val_acc: 0.9111\n",
            "Epoch 11/30\n",
            "419/419 [==============================] - 3s 7ms/step - loss: 0.5710 - acc: 0.9260 - val_loss: 0.4618 - val_acc: 0.9111\n",
            "Epoch 12/30\n",
            "419/419 [==============================] - 3s 7ms/step - loss: 0.4697 - acc: 0.9260 - val_loss: 0.5296 - val_acc: 0.9111\n",
            "Epoch 13/30\n",
            "419/419 [==============================] - 3s 7ms/step - loss: 0.4067 - acc: 0.9260 - val_loss: 0.6664 - val_acc: 0.9111\n",
            "Epoch 14/30\n",
            "419/419 [==============================] - 3s 7ms/step - loss: 0.3942 - acc: 0.9260 - val_loss: 0.7912 - val_acc: 0.9111\n",
            "Epoch 15/30\n",
            "419/419 [==============================] - 3s 7ms/step - loss: 0.4076 - acc: 0.9260 - val_loss: 0.8262 - val_acc: 0.9111\n",
            "Epoch 16/30\n",
            "419/419 [==============================] - 3s 7ms/step - loss: 0.3974 - acc: 0.9260 - val_loss: 0.7554 - val_acc: 0.9111\n",
            "Epoch 17/30\n",
            "419/419 [==============================] - 3s 7ms/step - loss: 0.3792 - acc: 0.9260 - val_loss: 0.6873 - val_acc: 0.9111\n",
            "Epoch 18/30\n",
            "419/419 [==============================] - 3s 7ms/step - loss: 0.3749 - acc: 0.9260 - val_loss: 0.6566 - val_acc: 0.9111\n",
            "Epoch 19/30\n",
            "419/419 [==============================] - 3s 6ms/step - loss: 0.3772 - acc: 0.9260 - val_loss: 0.6442 - val_acc: 0.9111\n",
            "Epoch 20/30\n",
            "419/419 [==============================] - 3s 7ms/step - loss: 0.3766 - acc: 0.9260 - val_loss: 0.6681 - val_acc: 0.9111\n",
            "Epoch 21/30\n",
            "419/419 [==============================] - 3s 7ms/step - loss: 0.3727 - acc: 0.9260 - val_loss: 0.6789 - val_acc: 0.9111\n",
            "Epoch 22/30\n",
            "419/419 [==============================] - 3s 7ms/step - loss: 0.3711 - acc: 0.9260 - val_loss: 0.6805 - val_acc: 0.9111\n",
            "Epoch 23/30\n",
            "419/419 [==============================] - 3s 7ms/step - loss: 0.3690 - acc: 0.9260 - val_loss: 0.6672 - val_acc: 0.9111\n",
            "Epoch 24/30\n",
            "419/419 [==============================] - 3s 7ms/step - loss: 0.3670 - acc: 0.9260 - val_loss: 0.6519 - val_acc: 0.9111\n",
            "Epoch 25/30\n",
            "419/419 [==============================] - 3s 7ms/step - loss: 0.3669 - acc: 0.9260 - val_loss: 0.6423 - val_acc: 0.9111\n",
            "Epoch 26/30\n",
            "419/419 [==============================] - 3s 7ms/step - loss: 0.3666 - acc: 0.9260 - val_loss: 0.6479 - val_acc: 0.9111\n",
            "Epoch 27/30\n",
            "419/419 [==============================] - 3s 6ms/step - loss: 0.3652 - acc: 0.9260 - val_loss: 0.6836 - val_acc: 0.9111\n",
            "Epoch 28/30\n",
            "419/419 [==============================] - 2s 6ms/step - loss: 0.3640 - acc: 0.9260 - val_loss: 0.6600 - val_acc: 0.9111\n",
            "Epoch 29/30\n",
            "419/419 [==============================] - 2s 6ms/step - loss: 0.3591 - acc: 0.9260 - val_loss: 0.6176 - val_acc: 0.9111\n",
            "Epoch 30/30\n",
            "419/419 [==============================] - 3s 6ms/step - loss: 0.3572 - acc: 0.9260 - val_loss: 0.5752 - val_acc: 0.9111\n"
          ],
          "name": "stdout"
        }
      ]
    },
    {
      "cell_type": "code",
      "metadata": {
        "id": "ffqGaoSB5cEa",
        "colab_type": "code",
        "colab": {}
      },
      "source": [
        "model.append('1D Convolution Model')\n",
        "scores = convmod.evaluate(X_test, Y_test, verbose=0)\n",
        "accuracytest.append(scores[1]*100)\n",
        "scores = convmod.evaluate(X_train, Y_train, verbose=0)\n",
        "accuracytrain.append(scores[1]*100)"
      ],
      "execution_count": 35,
      "outputs": []
    },
    {
      "cell_type": "code",
      "metadata": {
        "colab_type": "code",
        "id": "sl_0SOPF1OfK",
        "colab": {
          "base_uri": "https://localhost:8080/",
          "height": 279
        },
        "outputId": "3693faa5-abda-406b-9419-7ce7f6798632"
      },
      "source": [
        "plt.plot(convhist.history['val_acc'],color='black')\n",
        "plt.plot(convhist.history['acc'])\n",
        "plt.xlabel('Accuracy')\n",
        "plt.ylabel('Iterations')\n",
        "plt.show()"
      ],
      "execution_count": 36,
      "outputs": [
        {
          "output_type": "display_data",
          "data": {
            "image/png": "[encoded data removed]",
            "text/plain": [
              "<Figure size 432x288 with 1 Axes>"
            ]
          },
          "metadata": {
            "tags": [],
            "needs_background": "light"
          }
        }
      ]
    },
    {
      "cell_type": "code",
      "metadata": {
        "colab_type": "code",
        "id": "VIlrMaFe1OfQ",
        "colab": {
          "base_uri": "https://localhost:8080/",
          "height": 282
        },
        "outputId": "a6eb9fc1-f8f0-4a63-839c-571b7a42380f"
      },
      "source": [
        "plt.plot(convhist.history['val_loss'],color='black')\n",
        "plt.plot(convhist.history['loss'])\n",
        "plt.xlabel('Loss')\n",
        "plt.ylabel('Iterations')\n",
        "plt.show()"
      ],
      "execution_count": 37,
      "outputs": [
        {
          "output_type": "display_data",
          "data": {
            "image/png": "[encoded data removed]",
            "text/plain": [
              "<Figure size 432x288 with 1 Axes>"
            ]
          },
          "metadata": {
            "tags": [],
            "needs_background": "light"
          }
        }
      ]
    },
    {
      "cell_type": "markdown",
      "metadata": {
        "id": "ky8bVH-M3435",
        "colab_type": "text"
      },
      "source": [
        "#### **Model Selection for Cluster 1**\n"
      ]
    },
    {
      "cell_type": "code",
      "metadata": {
        "id": "mlTldjwo347Q",
        "colab_type": "code",
        "colab": {
          "base_uri": "https://localhost:8080/",
          "height": 426
        },
        "outputId": "f430b1ff-f554-40e2-d9b2-27b616589ee8"
      },
      "source": [
        "cluster0_accuracies=pd.DataFrame()\n",
        "cluster0_accuracies['Model']=model\n",
        "cluster0_accuracies['Accuracy(Test)']=accuracytest\n",
        "cluster0_accuracies['Accuracy(Train)']=accuracytrain\n",
        "cluster0_accuracies"
      ],
      "execution_count": 38,
      "outputs": [
        {
          "output_type": "execute_result",
          "data": {
            "text/html": [
              "<div>\n",
              "<style scoped>\n",
              "    .dataframe tbody tr th:only-of-type {\n",
              "        vertical-align: middle;\n",
              "    }\n",
              "\n",
              "    .dataframe tbody tr th {\n",
              "        vertical-align: top;\n",
              "    }\n",
              "\n",
              "    .dataframe thead th {\n",
              "        text-align: right;\n",
              "    }\n",
              "</style>\n",
              "<table border=\"1\" class=\"dataframe\">\n",
              "  <thead>\n",
              "    <tr style=\"text-align: right;\">\n",
              "      <th></th>\n",
              "      <th>Model</th>\n",
              "      <th>Accuracy(Test)</th>\n",
              "      <th>Accuracy(Train)</th>\n",
              "    </tr>\n",
              "  </thead>\n",
              "  <tbody>\n",
              "    <tr>\n",
              "      <th>0</th>\n",
              "      <td>Logistic Regression with Chi Square</td>\n",
              "      <td>94.444444</td>\n",
              "      <td>91.169451</td>\n",
              "    </tr>\n",
              "    <tr>\n",
              "      <th>1</th>\n",
              "      <td>Multinomial Naive Bayes</td>\n",
              "      <td>94.444444</td>\n",
              "      <td>91.169451</td>\n",
              "    </tr>\n",
              "    <tr>\n",
              "      <th>2</th>\n",
              "      <td>Support Vector Machines</td>\n",
              "      <td>95.000000</td>\n",
              "      <td>94.510740</td>\n",
              "    </tr>\n",
              "    <tr>\n",
              "      <th>3</th>\n",
              "      <td>Decision Tree</td>\n",
              "      <td>94.444444</td>\n",
              "      <td>95.704057</td>\n",
              "    </tr>\n",
              "    <tr>\n",
              "      <th>4</th>\n",
              "      <td>Bagging Classifier</td>\n",
              "      <td>93.888889</td>\n",
              "      <td>94.033413</td>\n",
              "    </tr>\n",
              "    <tr>\n",
              "      <th>5</th>\n",
              "      <td>Adaboost Classifier</td>\n",
              "      <td>94.444444</td>\n",
              "      <td>93.317422</td>\n",
              "    </tr>\n",
              "    <tr>\n",
              "      <th>6</th>\n",
              "      <td>Gradient Boost Classifier</td>\n",
              "      <td>93.333333</td>\n",
              "      <td>99.522673</td>\n",
              "    </tr>\n",
              "    <tr>\n",
              "      <th>7</th>\n",
              "      <td>Decision Tree Hyper Tuned</td>\n",
              "      <td>94.444444</td>\n",
              "      <td>93.078759</td>\n",
              "    </tr>\n",
              "    <tr>\n",
              "      <th>8</th>\n",
              "      <td>Support Vector Machines- Hypertuned</td>\n",
              "      <td>94.444444</td>\n",
              "      <td>91.169451</td>\n",
              "    </tr>\n",
              "    <tr>\n",
              "      <th>9</th>\n",
              "      <td>Sequential Model</td>\n",
              "      <td>91.111112</td>\n",
              "      <td>92.840093</td>\n",
              "    </tr>\n",
              "    <tr>\n",
              "      <th>10</th>\n",
              "      <td>Bidirectional LSTM Model</td>\n",
              "      <td>91.111112</td>\n",
              "      <td>92.601430</td>\n",
              "    </tr>\n",
              "    <tr>\n",
              "      <th>11</th>\n",
              "      <td>1D Convolution Model</td>\n",
              "      <td>91.111112</td>\n",
              "      <td>92.601430</td>\n",
              "    </tr>\n",
              "  </tbody>\n",
              "</table>\n",
              "</div>"
            ],
            "text/plain": [
              "                                  Model  Accuracy(Test)  Accuracy(Train)\n",
              "0   Logistic Regression with Chi Square       94.444444        91.169451\n",
              "1               Multinomial Naive Bayes       94.444444        91.169451\n",
              "2               Support Vector Machines       95.000000        94.510740\n",
              "3                        Decision Tree        94.444444        95.704057\n",
              "4                    Bagging Classifier       93.888889        94.033413\n",
              "5                   Adaboost Classifier       94.444444        93.317422\n",
              "6             Gradient Boost Classifier       93.333333        99.522673\n",
              "7            Decision Tree Hyper Tuned        94.444444        93.078759\n",
              "8   Support Vector Machines- Hypertuned       94.444444        91.169451\n",
              "9                      Sequential Model       91.111112        92.840093\n",
              "10             Bidirectional LSTM Model       91.111112        92.601430\n",
              "11                 1D Convolution Model       91.111112        92.601430"
            ]
          },
          "metadata": {
            "tags": []
          },
          "execution_count": 38
        }
      ]
    },
    {
      "cell_type": "code",
      "metadata": {
        "id": "TIPi2Xmj6Vz1",
        "colab_type": "code",
        "colab": {}
      },
      "source": [
        "x_axis=['LR','NM','SVM','DT','BC','ABC','GBC','DTH','SVMH','SM','BLSTM','1DCONV']"
      ],
      "execution_count": 39,
      "outputs": []
    },
    {
      "cell_type": "code",
      "metadata": {
        "id": "MaQmTTZZ727O",
        "colab_type": "code",
        "colab": {
          "base_uri": "https://localhost:8080/",
          "height": 609
        },
        "outputId": "34b15338-d7be-479d-8e80-3dbb13e16dd5"
      },
      "source": [
        "plt.figure(figsize=(10,10))\n",
        "plt.bar(x_axis,cluster0_accuracies['Accuracy(Test)'],color='green')\n",
        "plt.bar(x_axis,cluster0_accuracies['Accuracy(Train)'],color='brown',alpha=0.3)"
      ],
      "execution_count": 40,
      "outputs": [
        {
          "output_type": "execute_result",
          "data": {
            "text/plain": [
              "<BarContainer object of 12 artists>"
            ]
          },
          "metadata": {
            "tags": []
          },
          "execution_count": 40
        },
        {
          "output_type": "display_data",
          "data": {
            "image/png": "[encoded data removed]",
            "text/plain": [
              "<Figure size 720x720 with 1 Axes>"
            ]
          },
          "metadata": {
            "tags": [],
            "needs_background": "light"
          }
        }
      ]
    },
    {
      "cell_type": "markdown",
      "metadata": {
        "id": "cC0OrkTmC4A5",
        "colab_type": "text"
      },
      "source": [
        "> LR-Logistic Regression\n",
        "\n",
        "> NM- Multinomial Naive Bayes\n",
        "\n",
        ">SVM-Support Vector Machine\n",
        "\n",
        ">DT- Decision Tree\n",
        "\n",
        ">BC-Bagging Classifier\n",
        "\n",
        ">ABC-AdaBoost Classifier\n",
        "\n",
        ">GBC-Gradient Boost Classifier\n",
        "\n",
        ">DTH- Decision Tree - Hyper Tunes\n",
        "\n",
        ">SVMH- Support Vector Machine Hyper Tuned\n",
        "\n",
        ">SM-Sequential Model\n",
        "\n",
        ">BLSTM-Bidirectional LSTM\n",
        "\n",
        ">1DCONV-1D Convolution\n",
        "\n",
        "\n",
        "#### **Model Selection**\n",
        "> The grey bar shows the accuracy on Train data and Yello shows the accuracy on Test data. \n",
        "\n",
        "> Higher the difference, the model is overfit\n",
        "\n",
        "> Out of all, Hyper tuned Decision Tree seems to be the best of all\n"
      ]
    },
    {
      "cell_type": "markdown",
      "metadata": {
        "id": "QvFB_z9cad7p",
        "colab_type": "text"
      },
      "source": [
        "# **Applying different models on Cluster 1**"
      ]
    },
    {
      "cell_type": "markdown",
      "metadata": {
        "colab_type": "text",
        "id": "3I9-9vRDkDB0"
      },
      "source": [
        "#### **Chi Square Analysis on Logistic Regression**"
      ]
    },
    {
      "cell_type": "code",
      "metadata": {
        "colab_type": "code",
        "id": "RVAm7ELkkDCA",
        "colab": {}
      },
      "source": [
        "X = data['Description'][data['Cluster TFIDFV']==1]\n",
        "Y = data['Assignment group'][data['Cluster TFIDFV']==1]\n",
        "X_train, X_test, Y_train, Y_test = train_test_split(X, Y, test_size=0.3, random_state=2)"
      ],
      "execution_count": 41,
      "outputs": []
    },
    {
      "cell_type": "code",
      "metadata": {
        "colab_type": "code",
        "id": "UUyO4OCQkDCR",
        "colab": {}
      },
      "source": [
        "Cluster1df=pd.DataFrame()\n",
        "accuracytest=[]\n",
        "accuracytrain=[]\n",
        "model=[]"
      ],
      "execution_count": 42,
      "outputs": []
    },
    {
      "cell_type": "code",
      "metadata": {
        "colab_type": "code",
        "id": "tgiCz-XRkDCc",
        "colab": {
          "base_uri": "https://localhost:8080/",
          "height": 52
        },
        "outputId": "92780425-0dcc-4acc-cb93-fa037ca73d27"
      },
      "source": [
        "features = TfidfVectorizer(max_features=10000,ngram_range=(1, 3))\n",
        "X_train_tfidf = features.fit_transform(X_train)\n",
        "X_test_tfidf = features.transform(X_test)\n",
        "chi2score = chi2(X_train_tfidf, Y_train)[1]\n",
        "ch2_result = [0]\n",
        "ch2_result1=[0]\n",
        "model.append('Logistic Regression with Chi Square')\n",
        "for n in np.arange(15000,100000,10000):\n",
        "    ch2 = SelectKBest(chi2, k=1)\n",
        "    X_train_chi2_selected = ch2.fit_transform(X_train_tfidf, Y_train)\n",
        "    X_test_chi2_selected = ch2.transform(X_test_tfidf)\n",
        "    clf = LogisticRegression()\n",
        "    clf.fit(X_train_chi2_selected, Y_train)\n",
        "    score = clf.score(X_test_chi2_selected, Y_test)\n",
        "    score1=clf.score(X_train_chi2_selected, Y_train)\n",
        "\n",
        "    if int(score*100)>np.array(ch2_result).max()*100:\n",
        "      print('Accuracy Score Test: '+str(score*100))\n",
        "      max=score\n",
        "    else:\n",
        "      pass\n",
        "    ch2_result.append(score)\n",
        "\n",
        "    if int(score1*100)>np.array(ch2_result1).max()*100:\n",
        "      print('Accuracy Score Train: '+str(score1*100))\n",
        "      max1=score1\n",
        "    else:\n",
        "      pass\n",
        "    ch2_result.append(score)\n",
        "    ch2_result1.append(score1)\n",
        "accuracytest.append(max*100)\n",
        "accuracytrain.append(max1*100)"
      ],
      "execution_count": 43,
      "outputs": [
        {
          "output_type": "stream",
          "text": [
            "Accuracy Score Test: 41.97080291970803\n",
            "Accuracy Score Train: 46.165884194053206\n"
          ],
          "name": "stdout"
        }
      ]
    },
    {
      "cell_type": "markdown",
      "metadata": {
        "colab_type": "text",
        "id": "mLdoCxcnkDCi"
      },
      "source": [
        "#### **Creating the TFIDF Vectors for further processing**"
      ]
    },
    {
      "cell_type": "code",
      "metadata": {
        "colab_type": "code",
        "id": "EhWkwHd6kDCj",
        "colab": {}
      },
      "source": [
        "vectorizer = TfidfVectorizer()\n",
        "train_vectors_0 = vectorizer.fit_transform(X_train)\n",
        "test_vectors_0 = vectorizer.transform(X_test)"
      ],
      "execution_count": 44,
      "outputs": []
    },
    {
      "cell_type": "markdown",
      "metadata": {
        "colab_type": "text",
        "id": "3jDMHwrjkDCo"
      },
      "source": [
        "#### **Multinomial Naive Bayes**\n"
      ]
    },
    {
      "cell_type": "code",
      "metadata": {
        "colab_type": "code",
        "id": "TuEQ9hoQkDCp",
        "colab": {
          "base_uri": "https://localhost:8080/",
          "height": 836
        },
        "outputId": "6e4b3c60-93f9-4c54-c49f-6bd0a165baee"
      },
      "source": [
        "nbc1 = Pipeline([('count', CountVectorizer()),\n",
        "               ('tfidf', TfidfTransformer()),\n",
        "               ('clf', MultinomialNB()),\n",
        "              ])\n",
        "nbc1.fit(X,Y)\n",
        "\n",
        "#Test Set\n",
        "Y_pred = nbc1.predict(X_test)\n",
        "\n",
        "print('Accuracy Score Test :'+str(float(accuracy_score(Y_pred, Y_test)*100)))\n",
        "model.append('Multinomial Naive Bayes')\n",
        "accuracytest.append(accuracy_score(Y_pred, Y_test)*100)\n",
        "print('\\n')\n",
        "print(classification_report(Y_test, Y_pred))\n",
        "\n",
        "# Train set\n",
        "\n",
        "Y_pred = nbc1.predict(X_train)\n",
        "\n",
        "print('\\n\\nAccuracy Score Train :'+str(float(accuracy_score(Y_pred, Y_train)*100)))\n",
        "accuracytrain.append(accuracy_score(Y_pred, Y_train)*100)\n",
        "print('\\n')\n",
        "print(classification_report(Y_train, Y_pred))"
      ],
      "execution_count": 45,
      "outputs": [
        {
          "output_type": "stream",
          "text": [
            "Accuracy Score Test :49.63503649635037\n",
            "\n",
            "\n",
            "              precision    recall  f1-score   support\n",
            "\n",
            "           1       0.00      0.00      0.00        25\n",
            "           2       0.00      0.00      0.00         5\n",
            "           4       0.00      0.00      0.00         2\n",
            "           7       0.00      0.00      0.00         1\n",
            "          13       0.00      0.00      0.00         2\n",
            "          19       1.00      0.03      0.06        31\n",
            "          20       0.00      0.00      0.00        43\n",
            "          22       0.46      1.00      0.63       115\n",
            "          23       0.95      0.40      0.56        50\n",
            "\n",
            "    accuracy                           0.50       274\n",
            "   macro avg       0.27      0.16      0.14       274\n",
            "weighted avg       0.48      0.50      0.37       274\n",
            "\n",
            "\n",
            "\n",
            "Accuracy Score Train :56.65101721439749\n",
            "\n",
            "\n",
            "              precision    recall  f1-score   support\n",
            "\n",
            "           1       0.00      0.00      0.00        38\n",
            "           2       0.00      0.00      0.00         4\n",
            "           3       0.00      0.00      0.00         4\n",
            "           4       0.00      0.00      0.00         1\n",
            "           7       0.00      0.00      0.00         2\n",
            "          12       0.00      0.00      0.00         1\n",
            "          13       0.00      0.00      0.00         1\n",
            "          19       1.00      0.05      0.10        77\n",
            "          20       0.00      0.00      0.00        80\n",
            "          22       0.52      1.00      0.68       295\n",
            "          23       1.00      0.47      0.64       136\n",
            "\n",
            "    accuracy                           0.57       639\n",
            "   macro avg       0.23      0.14      0.13       639\n",
            "weighted avg       0.57      0.57      0.46       639\n",
            "\n"
          ],
          "name": "stdout"
        },
        {
          "output_type": "stream",
          "text": [
            "/usr/local/lib/python3.6/dist-packages/sklearn/metrics/_classification.py:1272: UndefinedMetricWarning: Precision and F-score are ill-defined and being set to 0.0 in labels with no predicted samples. Use `zero_division` parameter to control this behavior.\n",
            "  _warn_prf(average, modifier, msg_start, len(result))\n",
            "/usr/local/lib/python3.6/dist-packages/sklearn/metrics/_classification.py:1272: UndefinedMetricWarning: Precision and F-score are ill-defined and being set to 0.0 in labels with no predicted samples. Use `zero_division` parameter to control this behavior.\n",
            "  _warn_prf(average, modifier, msg_start, len(result))\n"
          ],
          "name": "stderr"
        }
      ]
    },
    {
      "cell_type": "markdown",
      "metadata": {
        "colab_type": "text",
        "id": "nyhGUU4XkDCv"
      },
      "source": [
        "#### **Support vector Machines**\n",
        "\n",
        "\n"
      ]
    },
    {
      "cell_type": "code",
      "metadata": {
        "colab_type": "code",
        "id": "uDbeT505kDCv",
        "colab": {
          "base_uri": "https://localhost:8080/",
          "height": 52
        },
        "outputId": "6959a572-6ac4-4cf9-8d15-3769ad814e6e"
      },
      "source": [
        "SVMc1 = svm.SVC(C=1.0, kernel='linear', degree=3, gamma='auto',random_state=1)\n",
        "SVMc1.fit(train_vectors_0,Y_train)\n",
        "\n",
        "#Test set\n",
        "predictions_SVM = SVMc1.predict(test_vectors_0)\n",
        "# Use accuracy_score function to get the accuracy\n",
        "print(\"Accuracy Score Test: \",accuracy_score(predictions_SVM, Y_test)*100)\n",
        "\n",
        "model.append('Support Vector Machines')\n",
        "accuracytest.append(accuracy_score(predictions_SVM, Y_test)*100)\n",
        "\n",
        "#Train set\n",
        "\n",
        "predictions_SVM = SVMc1.predict(train_vectors_0)\n",
        "# Use accuracy_score function to get the accuracy\n",
        "print(\"Accuracy Score Train : \",accuracy_score(predictions_SVM, Y_train)*100)\n",
        "\n",
        "accuracytrain.append(accuracy_score(predictions_SVM, Y_train)*100)\n",
        "\n",
        "\n"
      ],
      "execution_count": 46,
      "outputs": [
        {
          "output_type": "stream",
          "text": [
            "Accuracy Score Test:  67.88321167883211\n",
            "Accuracy Score Train :  83.4115805946792\n"
          ],
          "name": "stdout"
        }
      ]
    },
    {
      "cell_type": "markdown",
      "metadata": {
        "colab_type": "text",
        "id": "fAprA93xkDC1"
      },
      "source": [
        "#### **Decision tree**\n"
      ]
    },
    {
      "cell_type": "code",
      "metadata": {
        "colab_type": "code",
        "id": "13XVhy4dkDC2",
        "colab": {
          "base_uri": "https://localhost:8080/",
          "height": 52
        },
        "outputId": "a20717b4-612d-4acc-8c7c-302d7a2b9226"
      },
      "source": [
        "dTreec1 = DecisionTreeClassifier(criterion = 'gini', max_depth=5, random_state=1)\n",
        "dTreec1.fit(train_vectors_0, Y_train)\n",
        "\n",
        "\n",
        "print('Accuracy Score Test : ',dTreec1.score(test_vectors_0, Y_test)*100)\n",
        "model.append('Decision Tree ')\n",
        "accuracytest.append(dTreec1.score(test_vectors_0, Y_test)*100)\n",
        "\n",
        "\n",
        "print('Accuracy Score Train : ',dTreec1.score(train_vectors_0, Y_train)*100)\n",
        "accuracytrain.append(dTreec1.score(train_vectors_0, Y_train)*100)"
      ],
      "execution_count": 47,
      "outputs": [
        {
          "output_type": "stream",
          "text": [
            "Accuracy Score Test :  48.54014598540146\n",
            "Accuracy Score Train :  54.61658841940532\n"
          ],
          "name": "stdout"
        }
      ]
    },
    {
      "cell_type": "markdown",
      "metadata": {
        "colab_type": "text",
        "id": "GrRCQq-jkDC6"
      },
      "source": [
        "#### **Bagging Classifier**"
      ]
    },
    {
      "cell_type": "code",
      "metadata": {
        "colab_type": "code",
        "id": "HSUxtzCMkDC7",
        "colab": {
          "base_uri": "https://localhost:8080/",
          "height": 52
        },
        "outputId": "05ac8a0a-24b4-4522-abfc-791dfce58fe7"
      },
      "source": [
        "bgcl = BaggingClassifier(base_estimator=dTree, n_estimators=50,random_state=1)\n",
        "bgcl = bgcl.fit(train_vectors_0, Y_train)\n",
        "\n",
        "y_predict = bgcl.predict(test_vectors_0)\n",
        "\n",
        "print('Accuracy Score Test : ',bgcl.score(test_vectors_0, Y_test)*100)\n",
        "model.append('Bagging Classifier')\n",
        "accuracytest.append(bgcl.score(test_vectors_0, Y_test)*100)\n",
        "\n",
        "print('Accuracy Score Train : ',bgcl.score(train_vectors_0, Y_train)*100)\n",
        "accuracytrain.append(bgcl.score(train_vectors_0, Y_train)*100)\n"
      ],
      "execution_count": 48,
      "outputs": [
        {
          "output_type": "stream",
          "text": [
            "Accuracy Score Test :  46.35036496350365\n",
            "Accuracy Score Train :  49.13928012519562\n"
          ],
          "name": "stdout"
        }
      ]
    },
    {
      "cell_type": "markdown",
      "metadata": {
        "colab_type": "text",
        "id": "FyXq8K94kDC_"
      },
      "source": [
        "#### **Adaboost Classifier**"
      ]
    },
    {
      "cell_type": "code",
      "metadata": {
        "colab_type": "code",
        "id": "SHhoEIRzkDDA",
        "colab": {
          "base_uri": "https://localhost:8080/",
          "height": 52
        },
        "outputId": "4c4cb19c-2cea-4f8e-a1fe-90e2c8155306"
      },
      "source": [
        "abcl = AdaBoostClassifier(n_estimators=10, random_state=1)\n",
        "abcl = abcl.fit(train_vectors_0, Y_train)\n",
        "\n",
        "y_predict = abcl.predict(test_vectors_0)\n",
        "print('Accuracy Score Test : ' ,abcl.score(test_vectors_0, Y_test)*100)\n",
        "model.append('Adaboost Classifier')\n",
        "accuracytest.append(abcl.score(test_vectors_0, Y_test)*100)\n",
        "\n",
        "\n",
        "y_predict = abcl.predict(train_vectors_0)\n",
        "print('Accuracy Score Train : ' ,abcl.score(train_vectors_0, Y_train)*100)\n",
        "accuracytrain.append(abcl.score(train_vectors_0, Y_train)*100)"
      ],
      "execution_count": 49,
      "outputs": [
        {
          "output_type": "stream",
          "text": [
            "Accuracy Score Test :  45.62043795620438\n",
            "Accuracy Score Train :  49.45226917057903\n"
          ],
          "name": "stdout"
        }
      ]
    },
    {
      "cell_type": "markdown",
      "metadata": {
        "colab_type": "text",
        "id": "jFbUxXBkkDDG"
      },
      "source": [
        "#### **Gradient Boost Classifier**\n",
        "\n"
      ]
    },
    {
      "cell_type": "code",
      "metadata": {
        "colab_type": "code",
        "id": "bUVZCM29kDDG",
        "colab": {
          "base_uri": "https://localhost:8080/",
          "height": 52
        },
        "outputId": "437263f4-eca3-49e5-f1f0-8fd0c9315116"
      },
      "source": [
        "gbcl = GradientBoostingClassifier(n_estimators = 50,random_state=1)\n",
        "gbcl = gbcl.fit(train_vectors_0, Y_train)\n",
        "\n",
        "y_predict = gbcl.predict(test_vectors_0)\n",
        "\n",
        "print('Accuracy Score Test : ' ,gbcl.score(test_vectors_0, Y_test)*100)\n",
        "model.append('Gradient Boost Classifier')\n",
        "accuracytest.append(gbcl.score(test_vectors_0, Y_test)*100)\n",
        "\n",
        "\n",
        "print('Accuracy Score Train : ' ,gbcl.score(train_vectors_0, Y_train)*100)\n",
        "accuracytrain.append(gbcl.score(train_vectors_0, Y_train)*100)"
      ],
      "execution_count": 50,
      "outputs": [
        {
          "output_type": "stream",
          "text": [
            "Accuracy Score Test :  64.23357664233576\n",
            "Accuracy Score Train :  86.07198748043818\n"
          ],
          "name": "stdout"
        }
      ]
    },
    {
      "cell_type": "markdown",
      "metadata": {
        "colab_type": "text",
        "id": "KaGHZXxWkDDK"
      },
      "source": [
        "#### **Randomized Search CV to enhance Decision tree**\n",
        "\n"
      ]
    },
    {
      "cell_type": "code",
      "metadata": {
        "colab_type": "code",
        "id": "6k4_P_NVkDDM",
        "colab": {
          "base_uri": "https://localhost:8080/",
          "height": 1000
        },
        "outputId": "5f957c0b-9a11-443a-e190-1fefc39285c1"
      },
      "source": [
        "parameter={'criterion':['gini','entropy'],\n",
        "            'max_depth':np.arange(0,100,1)\n",
        "            }\n",
        "\n",
        "random_searchdt = RandomizedSearchCV(estimator = dTreec1, param_distributions= parameter,cv = 3, verbose=2, random_state=1,return_train_score=True)\n",
        "random_searchdt.fit(train_vectors_0,Y_train)"
      ],
      "execution_count": 51,
      "outputs": [
        {
          "output_type": "stream",
          "text": [
            "Fitting 3 folds for each of 10 candidates, totalling 30 fits\n",
            "[CV] max_depth=58, criterion=gini ....................................\n",
            "[CV] ..................... max_depth=58, criterion=gini, total=   0.0s\n",
            "[CV] max_depth=58, criterion=gini ....................................\n",
            "[CV] ..................... max_depth=58, criterion=gini, total=   0.0s\n",
            "[CV] max_depth=58, criterion=gini ....................................\n",
            "[CV] ..................... max_depth=58, criterion=gini, total=   0.0s\n",
            "[CV] max_depth=40, criterion=gini ....................................\n",
            "[CV] ..................... max_depth=40, criterion=gini, total=   0.0s\n",
            "[CV] max_depth=40, criterion=gini ....................................\n",
            "[CV] ..................... max_depth=40, criterion=gini, total=   0.0s\n",
            "[CV] max_depth=40, criterion=gini ....................................\n",
            "[CV] ..................... max_depth=40, criterion=gini, total=   0.0s\n",
            "[CV] max_depth=34, criterion=gini ....................................\n",
            "[CV] ..................... max_depth=34, criterion=gini, total=   0.0s\n",
            "[CV] max_depth=34, criterion=gini ....................................\n"
          ],
          "name": "stdout"
        },
        {
          "output_type": "stream",
          "text": [
            "/usr/local/lib/python3.6/dist-packages/sklearn/model_selection/_split.py:667: UserWarning: The least populated class in y has only 1 members, which is less than n_splits=3.\n",
            "  % (min_groups, self.n_splits)), UserWarning)\n",
            "[Parallel(n_jobs=1)]: Using backend SequentialBackend with 1 concurrent workers.\n",
            "[Parallel(n_jobs=1)]: Done   1 out of   1 | elapsed:    0.0s remaining:    0.0s\n"
          ],
          "name": "stderr"
        },
        {
          "output_type": "stream",
          "text": [
            "[CV] ..................... max_depth=34, criterion=gini, total=   0.0s\n",
            "[CV] max_depth=34, criterion=gini ....................................\n",
            "[CV] ..................... max_depth=34, criterion=gini, total=   0.0s\n",
            "[CV] max_depth=2, criterion=entropy ..................................\n",
            "[CV] ................... max_depth=2, criterion=entropy, total=   0.0s\n",
            "[CV] max_depth=2, criterion=entropy ..................................\n",
            "[CV] ................... max_depth=2, criterion=entropy, total=   0.0s\n",
            "[CV] max_depth=2, criterion=entropy ..................................\n",
            "[CV] ................... max_depth=2, criterion=entropy, total=   0.0s\n",
            "[CV] max_depth=84, criterion=entropy .................................\n",
            "[CV] .................. max_depth=84, criterion=entropy, total=   0.1s\n",
            "[CV] max_depth=84, criterion=entropy .................................\n",
            "[CV] .................. max_depth=84, criterion=entropy, total=   0.0s\n",
            "[CV] max_depth=84, criterion=entropy .................................\n",
            "[CV] .................. max_depth=84, criterion=entropy, total=   0.1s\n",
            "[CV] max_depth=98, criterion=entropy .................................\n",
            "[CV] .................. max_depth=98, criterion=entropy, total=   0.1s\n",
            "[CV] max_depth=98, criterion=entropy .................................\n",
            "[CV] .................. max_depth=98, criterion=entropy, total=   0.0s\n",
            "[CV] max_depth=98, criterion=entropy .................................\n",
            "[CV] .................. max_depth=98, criterion=entropy, total=   0.0s\n",
            "[CV] max_depth=95, criterion=gini ....................................\n",
            "[CV] ..................... max_depth=95, criterion=gini, total=   0.0s\n",
            "[CV] max_depth=95, criterion=gini ....................................\n",
            "[CV] ..................... max_depth=95, criterion=gini, total=   0.0s\n",
            "[CV] max_depth=95, criterion=gini ....................................\n",
            "[CV] ..................... max_depth=95, criterion=gini, total=   0.0s\n",
            "[CV] max_depth=4, criterion=gini .....................................\n",
            "[CV] ...................... max_depth=4, criterion=gini, total=   0.0s\n",
            "[CV] max_depth=4, criterion=gini .....................................\n",
            "[CV] ...................... max_depth=4, criterion=gini, total=   0.0s\n",
            "[CV] max_depth=4, criterion=gini .....................................\n",
            "[CV] ...................... max_depth=4, criterion=gini, total=   0.0s\n",
            "[CV] max_depth=29, criterion=gini ....................................\n",
            "[CV] ..................... max_depth=29, criterion=gini, total=   0.0s\n",
            "[CV] max_depth=29, criterion=gini ....................................\n",
            "[CV] ..................... max_depth=29, criterion=gini, total=   0.0s\n",
            "[CV] max_depth=29, criterion=gini ....................................\n",
            "[CV] ..................... max_depth=29, criterion=gini, total=   0.0s\n",
            "[CV] max_depth=68, criterion=entropy .................................\n",
            "[CV] .................. max_depth=68, criterion=entropy, total=   0.1s\n",
            "[CV] max_depth=68, criterion=entropy .................................\n",
            "[CV] .................. max_depth=68, criterion=entropy, total=   0.0s\n",
            "[CV] max_depth=68, criterion=entropy .................................\n",
            "[CV] .................. max_depth=68, criterion=entropy, total=   0.0s\n"
          ],
          "name": "stdout"
        },
        {
          "output_type": "stream",
          "text": [
            "[Parallel(n_jobs=1)]: Done  30 out of  30 | elapsed:    0.9s finished\n"
          ],
          "name": "stderr"
        },
        {
          "output_type": "execute_result",
          "data": {
            "text/plain": [
              "RandomizedSearchCV(cv=3, error_score=nan,\n",
              "                   estimator=DecisionTreeClassifier(ccp_alpha=0.0,\n",
              "                                                    class_weight=None,\n",
              "                                                    criterion='gini',\n",
              "                                                    max_depth=5,\n",
              "                                                    max_features=None,\n",
              "                                                    max_leaf_nodes=None,\n",
              "                                                    min_impurity_decrease=0.0,\n",
              "                                                    min_impurity_split=None,\n",
              "                                                    min_samples_leaf=1,\n",
              "                                                    min_samples_split=2,\n",
              "                                                    min_weight_fraction_leaf=0.0,\n",
              "                                                    presort='deprecated',\n",
              "                                                    random_state=1,\n",
              "                                                    splitter='best'),\n",
              "                   iid='de...\n",
              "                                        'max_depth': array([ 0,  1,  2,  3,  4,  5,  6,  7,  8,  9, 10, 11, 12, 13, 14, 15, 16,\n",
              "       17, 18, 19, 20, 21, 22, 23, 24, 25, 26, 27, 28, 29, 30, 31, 32, 33,\n",
              "       34, 35, 36, 37, 38, 39, 40, 41, 42, 43, 44, 45, 46, 47, 48, 49, 50,\n",
              "       51, 52, 53, 54, 55, 56, 57, 58, 59, 60, 61, 62, 63, 64, 65, 66, 67,\n",
              "       68, 69, 70, 71, 72, 73, 74, 75, 76, 77, 78, 79, 80, 81, 82, 83, 84,\n",
              "       85, 86, 87, 88, 89, 90, 91, 92, 93, 94, 95, 96, 97, 98, 99])},\n",
              "                   pre_dispatch='2*n_jobs', random_state=1, refit=True,\n",
              "                   return_train_score=True, scoring=None, verbose=2)"
            ]
          },
          "metadata": {
            "tags": []
          },
          "execution_count": 51
        }
      ]
    },
    {
      "cell_type": "code",
      "metadata": {
        "colab_type": "code",
        "id": "sxApFJXMkDDQ",
        "colab": {
          "base_uri": "https://localhost:8080/",
          "height": 34
        },
        "outputId": "6bc384db-54e6-4a24-e8f3-ce723d4052a2"
      },
      "source": [
        "random_searchdt.best_params_\n",
        "\n"
      ],
      "execution_count": 52,
      "outputs": [
        {
          "output_type": "execute_result",
          "data": {
            "text/plain": [
              "{'criterion': 'gini', 'max_depth': 40}"
            ]
          },
          "metadata": {
            "tags": []
          },
          "execution_count": 52
        }
      ]
    },
    {
      "cell_type": "code",
      "metadata": {
        "colab_type": "code",
        "id": "lXdjhVhjkDDU",
        "colab": {
          "base_uri": "https://localhost:8080/",
          "height": 52
        },
        "outputId": "b7eef6b3-75bd-448f-ef8e-a49f3fc58a83"
      },
      "source": [
        "dTreec11 = DecisionTreeClassifier(criterion = 'gini', max_depth=40,random_state=1)\n",
        "dTreec11.fit(train_vectors_0, Y_train)\n",
        "\n",
        "\n",
        "print('Accuracy Score Test : ',dTreec11.score(test_vectors_0, Y_test)*100)\n",
        "model.append('Decision Tree Hyper Tuned ')\n",
        "accuracytest.append(dTreec11.score(test_vectors_0, Y_test)*100)\n",
        "\n",
        "\n",
        "print('Accuracy Score Train : ',dTreec11.score(train_vectors_0, Y_train)*100)\n",
        "accuracytrain.append(dTreec11.score(train_vectors_0, Y_train)*100)\n"
      ],
      "execution_count": 53,
      "outputs": [
        {
          "output_type": "stream",
          "text": [
            "Accuracy Score Test :  50.36496350364964\n",
            "Accuracy Score Train :  86.85446009389672\n"
          ],
          "name": "stdout"
        }
      ]
    },
    {
      "cell_type": "markdown",
      "metadata": {
        "colab_type": "text",
        "id": "nyV2AzV6kDDa"
      },
      "source": [
        "#### With the randomized search, it seems that we have a lower accuracy"
      ]
    },
    {
      "cell_type": "code",
      "metadata": {
        "colab_type": "code",
        "id": "vcQZG7vykDDb",
        "colab": {
          "base_uri": "https://localhost:8080/",
          "height": 1000
        },
        "outputId": "54c61242-976d-41d7-e238-b6a36265264c"
      },
      "source": [
        "parameter={'C':np.arange(0.6,3,0.1),\n",
        " 'kernel': ['linear','poly','rbf'],\n",
        " 'gamma' : ['scale','auto'],\n",
        " 'degree':np.arange(0,5,1)}\n",
        "\n",
        "random_searchSVM = RandomizedSearchCV(estimator = SVMc1, param_distributions= parameter,cv = 3, verbose=2, random_state=1,return_train_score=True)\n",
        "random_searchSVM.fit(train_vectors_0,Y_train)\n",
        "\n"
      ],
      "execution_count": 54,
      "outputs": [
        {
          "output_type": "stream",
          "text": [
            "Fitting 3 folds for each of 10 candidates, totalling 30 fits\n",
            "[CV] kernel=rbf, gamma=auto, degree=4, C=0.7 .........................\n"
          ],
          "name": "stdout"
        },
        {
          "output_type": "stream",
          "text": [
            "/usr/local/lib/python3.6/dist-packages/sklearn/model_selection/_split.py:667: UserWarning: The least populated class in y has only 1 members, which is less than n_splits=3.\n",
            "  % (min_groups, self.n_splits)), UserWarning)\n",
            "[Parallel(n_jobs=1)]: Using backend SequentialBackend with 1 concurrent workers.\n"
          ],
          "name": "stderr"
        },
        {
          "output_type": "stream",
          "text": [
            "[CV] .......... kernel=rbf, gamma=auto, degree=4, C=0.7, total=   0.1s\n",
            "[CV] kernel=rbf, gamma=auto, degree=4, C=0.7 .........................\n",
            "[CV] .......... kernel=rbf, gamma=auto, degree=4, C=0.7, total=   0.1s\n",
            "[CV] kernel=rbf, gamma=auto, degree=4, C=0.7 .........................\n"
          ],
          "name": "stdout"
        },
        {
          "output_type": "stream",
          "text": [
            "[Parallel(n_jobs=1)]: Done   1 out of   1 | elapsed:    0.1s remaining:    0.0s\n"
          ],
          "name": "stderr"
        },
        {
          "output_type": "stream",
          "text": [
            "[CV] .......... kernel=rbf, gamma=auto, degree=4, C=0.7, total=   0.1s\n",
            "[CV] kernel=linear, gamma=scale, degree=0, C=0.7999999999999999 ......\n",
            "[CV]  kernel=linear, gamma=scale, degree=0, C=0.7999999999999999, total=   0.1s\n",
            "[CV] kernel=linear, gamma=scale, degree=0, C=0.7999999999999999 ......\n",
            "[CV]  kernel=linear, gamma=scale, degree=0, C=0.7999999999999999, total=   0.1s\n",
            "[CV] kernel=linear, gamma=scale, degree=0, C=0.7999999999999999 ......\n",
            "[CV]  kernel=linear, gamma=scale, degree=0, C=0.7999999999999999, total=   0.1s\n",
            "[CV] kernel=poly, gamma=auto, degree=0, C=1.2999999999999998 .........\n",
            "[CV]  kernel=poly, gamma=auto, degree=0, C=1.2999999999999998, total=   0.0s\n",
            "[CV] kernel=poly, gamma=auto, degree=0, C=1.2999999999999998 .........\n",
            "[CV]  kernel=poly, gamma=auto, degree=0, C=1.2999999999999998, total=   0.0s\n",
            "[CV] kernel=poly, gamma=auto, degree=0, C=1.2999999999999998 .........\n",
            "[CV]  kernel=poly, gamma=auto, degree=0, C=1.2999999999999998, total=   0.0s\n",
            "[CV] kernel=poly, gamma=scale, degree=1, C=2.6999999999999997 ........\n",
            "[CV]  kernel=poly, gamma=scale, degree=1, C=2.6999999999999997, total=   0.1s\n",
            "[CV] kernel=poly, gamma=scale, degree=1, C=2.6999999999999997 ........\n",
            "[CV]  kernel=poly, gamma=scale, degree=1, C=2.6999999999999997, total=   0.1s\n",
            "[CV] kernel=poly, gamma=scale, degree=1, C=2.6999999999999997 ........\n",
            "[CV]  kernel=poly, gamma=scale, degree=1, C=2.6999999999999997, total=   0.1s\n",
            "[CV] kernel=rbf, gamma=scale, degree=1, C=0.6 ........................\n",
            "[CV] ......... kernel=rbf, gamma=scale, degree=1, C=0.6, total=   0.1s\n",
            "[CV] kernel=rbf, gamma=scale, degree=1, C=0.6 ........................\n",
            "[CV] ......... kernel=rbf, gamma=scale, degree=1, C=0.6, total=   0.1s\n",
            "[CV] kernel=rbf, gamma=scale, degree=1, C=0.6 ........................\n",
            "[CV] ......... kernel=rbf, gamma=scale, degree=1, C=0.6, total=   0.1s\n",
            "[CV] kernel=rbf, gamma=auto, degree=1, C=0.8999999999999999 ..........\n",
            "[CV]  kernel=rbf, gamma=auto, degree=1, C=0.8999999999999999, total=   0.1s\n",
            "[CV] kernel=rbf, gamma=auto, degree=1, C=0.8999999999999999 ..........\n",
            "[CV]  kernel=rbf, gamma=auto, degree=1, C=0.8999999999999999, total=   0.1s\n",
            "[CV] kernel=rbf, gamma=auto, degree=1, C=0.8999999999999999 ..........\n",
            "[CV]  kernel=rbf, gamma=auto, degree=1, C=0.8999999999999999, total=   0.0s\n",
            "[CV] kernel=linear, gamma=scale, degree=4, C=2.0999999999999996 ......\n",
            "[CV]  kernel=linear, gamma=scale, degree=4, C=2.0999999999999996, total=   0.1s\n",
            "[CV] kernel=linear, gamma=scale, degree=4, C=2.0999999999999996 ......\n",
            "[CV]  kernel=linear, gamma=scale, degree=4, C=2.0999999999999996, total=   0.1s\n",
            "[CV] kernel=linear, gamma=scale, degree=4, C=2.0999999999999996 ......\n",
            "[CV]  kernel=linear, gamma=scale, degree=4, C=2.0999999999999996, total=   0.1s\n",
            "[CV] kernel=rbf, gamma=auto, degree=1, C=1.0999999999999999 ..........\n",
            "[CV]  kernel=rbf, gamma=auto, degree=1, C=1.0999999999999999, total=   0.1s\n",
            "[CV] kernel=rbf, gamma=auto, degree=1, C=1.0999999999999999 ..........\n",
            "[CV]  kernel=rbf, gamma=auto, degree=1, C=1.0999999999999999, total=   0.1s\n",
            "[CV] kernel=rbf, gamma=auto, degree=1, C=1.0999999999999999 ..........\n",
            "[CV]  kernel=rbf, gamma=auto, degree=1, C=1.0999999999999999, total=   0.1s\n",
            "[CV] kernel=poly, gamma=auto, degree=2, C=1.9 ........................\n",
            "[CV] ......... kernel=poly, gamma=auto, degree=2, C=1.9, total=   0.0s\n",
            "[CV] kernel=poly, gamma=auto, degree=2, C=1.9 ........................\n",
            "[CV] ......... kernel=poly, gamma=auto, degree=2, C=1.9, total=   0.0s\n",
            "[CV] kernel=poly, gamma=auto, degree=2, C=1.9 ........................\n",
            "[CV] ......... kernel=poly, gamma=auto, degree=2, C=1.9, total=   0.0s\n",
            "[CV] kernel=rbf, gamma=auto, degree=4, C=2.1999999999999997 ..........\n",
            "[CV]  kernel=rbf, gamma=auto, degree=4, C=2.1999999999999997, total=   0.1s\n",
            "[CV] kernel=rbf, gamma=auto, degree=4, C=2.1999999999999997 ..........\n",
            "[CV]  kernel=rbf, gamma=auto, degree=4, C=2.1999999999999997, total=   0.1s\n",
            "[CV] kernel=rbf, gamma=auto, degree=4, C=2.1999999999999997 ..........\n",
            "[CV]  kernel=rbf, gamma=auto, degree=4, C=2.1999999999999997, total=   0.1s\n"
          ],
          "name": "stdout"
        },
        {
          "output_type": "stream",
          "text": [
            "[Parallel(n_jobs=1)]: Done  30 out of  30 | elapsed:    2.4s finished\n"
          ],
          "name": "stderr"
        },
        {
          "output_type": "execute_result",
          "data": {
            "text/plain": [
              "RandomizedSearchCV(cv=3, error_score=nan,\n",
              "                   estimator=SVC(C=1.0, break_ties=False, cache_size=200,\n",
              "                                 class_weight=None, coef0=0.0,\n",
              "                                 decision_function_shape='ovr', degree=3,\n",
              "                                 gamma='auto', kernel='linear', max_iter=-1,\n",
              "                                 probability=False, random_state=1,\n",
              "                                 shrinking=True, tol=0.001, verbose=False),\n",
              "                   iid='deprecated', n_iter=10, n_jobs=None,\n",
              "                   param_distributions={'C': array([0.6, 0.7, 0.8, 0.9, 1. , 1.1, 1.2, 1.3, 1.4, 1.5, 1.6, 1.7, 1.8,\n",
              "       1.9, 2. , 2.1, 2.2, 2.3, 2.4, 2.5, 2.6, 2.7, 2.8, 2.9]),\n",
              "                                        'degree': array([0, 1, 2, 3, 4]),\n",
              "                                        'gamma': ['scale', 'auto'],\n",
              "                                        'kernel': ['linear', 'poly', 'rbf']},\n",
              "                   pre_dispatch='2*n_jobs', random_state=1, refit=True,\n",
              "                   return_train_score=True, scoring=None, verbose=2)"
            ]
          },
          "metadata": {
            "tags": []
          },
          "execution_count": 54
        }
      ]
    },
    {
      "cell_type": "code",
      "metadata": {
        "colab_type": "code",
        "id": "FVkDBqtXkDDg",
        "colab": {
          "base_uri": "https://localhost:8080/",
          "height": 34
        },
        "outputId": "ef272b90-c736-4611-c14b-1d5c1967fdfc"
      },
      "source": [
        "random_searchSVM.best_params_"
      ],
      "execution_count": 55,
      "outputs": [
        {
          "output_type": "execute_result",
          "data": {
            "text/plain": [
              "{'C': 2.6999999999999997, 'degree': 1, 'gamma': 'scale', 'kernel': 'poly'}"
            ]
          },
          "metadata": {
            "tags": []
          },
          "execution_count": 55
        }
      ]
    },
    {
      "cell_type": "code",
      "metadata": {
        "colab_type": "code",
        "id": "XOoFQrYKkDDk",
        "colab": {
          "base_uri": "https://localhost:8080/",
          "height": 52
        },
        "outputId": "d2a4e628-1416-4ab3-d8d8-a9277be19d9e"
      },
      "source": [
        "SVMc11 = svm.SVC(C=2.69, kernel='poly', degree=1, gamma='scale')\n",
        "SVMc11.fit(train_vectors_0,Y_train)\n",
        "\n",
        "#Test set\n",
        "predictions_SVM = SVMc11.predict(test_vectors_0)\n",
        "# Use accuracy_score function to get the accuracy\n",
        "print(\"Accuracy Score Test: \",accuracy_score(predictions_SVM, Y_test)*100)\n",
        "\n",
        "model.append('Support Vector Machines- Hypertuned')\n",
        "accuracytest.append(accuracy_score(predictions_SVM, Y_test)*100)\n",
        "\n",
        "#Train set\n",
        "\n",
        "predictions_SVM = SVMc11.predict(train_vectors_0)\n",
        "# Use accuracy_score function to get the accuracy\n",
        "print(\"Accuracy Score Train : \",accuracy_score(predictions_SVM, Y_train)*100)\n",
        "\n",
        "accuracytrain.append(accuracy_score(predictions_SVM, Y_train)*100)\n",
        "\n"
      ],
      "execution_count": 56,
      "outputs": [
        {
          "output_type": "stream",
          "text": [
            "Accuracy Score Test:  73.72262773722628\n",
            "Accuracy Score Train :  95.77464788732394\n"
          ],
          "name": "stdout"
        }
      ]
    },
    {
      "cell_type": "markdown",
      "metadata": {
        "colab_type": "text",
        "id": "A6S4swvOCYBp"
      },
      "source": [
        "#### **Sequential Model**"
      ]
    },
    {
      "cell_type": "code",
      "metadata": {
        "colab_type": "code",
        "id": "iE59zsDaCYB3",
        "colab": {
          "base_uri": "https://localhost:8080/",
          "height": 52
        },
        "outputId": "f86d7a47-7b73-4307-a692-e75debc18188"
      },
      "source": [
        "tok = Tokenizer(num_words = max_features)\n",
        "tok.fit_on_texts(data.Description)\n",
        "X = tok.texts_to_sequences(data['Description'][data['Cluster TFIDFV']==1])\n",
        "X = pad_sequences(X, maxlen = maxlen)\n",
        "Y = np.asarray(data['Assignment group'][data['Cluster TFIDFV']==1])\n",
        "\n",
        "X_train, X_test, Y_train, Y_test = train_test_split(X, Y, test_size=0.3, random_state=1)\n",
        "print(X_train.shape,Y_train.shape)\n",
        "print(X_test.shape,Y_test.shape)"
      ],
      "execution_count": 57,
      "outputs": [
        {
          "output_type": "stream",
          "text": [
            "(639, 350) (639,)\n",
            "(274, 350) (274,)\n"
          ],
          "name": "stdout"
        }
      ]
    },
    {
      "cell_type": "code",
      "metadata": {
        "colab_type": "code",
        "id": "5q8IcQBcCYCP",
        "colab": {
          "base_uri": "https://localhost:8080/",
          "height": 347
        },
        "outputId": "88c015b7-e8b3-4d82-a8bd-be6070da1439"
      },
      "source": [
        "embed_dim = 256\n",
        "lstm_out = 64\n",
        "max_features = 2000\n",
        "maxlen = 350\n",
        "embedding_size = 200\n",
        "\n",
        "modelsc1 = Sequential()\n",
        "modelsc1.add(Embedding(max_features, embed_dim,input_length = X.shape[1]))\n",
        "modelsc1.add(SpatialDropout1D(0.4))\n",
        "modelsc1.add(MaxPooling1D(pool_size=4))\n",
        "modelsc1.add(LSTM(100))\n",
        "#model.add(LSTM(lstm_out, dropout=0.2, recurrent_dropout=0.4))\n",
        "modelsc1.add(Dense(350,activation='softmax'))\n",
        "modelsc1.compile(loss = 'sparse_categorical_crossentropy', optimizer='adam',metrics = ['accuracy'])\n",
        "print(modelsc1.summary())\n",
        "\n"
      ],
      "execution_count": 58,
      "outputs": [
        {
          "output_type": "stream",
          "text": [
            "Model: \"sequential_4\"\n",
            "_________________________________________________________________\n",
            "Layer (type)                 Output Shape              Param #   \n",
            "=================================================================\n",
            "embedding_4 (Embedding)      (None, 350, 256)          512000    \n",
            "_________________________________________________________________\n",
            "spatial_dropout1d_2 (Spatial (None, 350, 256)          0         \n",
            "_________________________________________________________________\n",
            "max_pooling1d_3 (MaxPooling1 (None, 87, 256)           0         \n",
            "_________________________________________________________________\n",
            "lstm_4 (LSTM)                (None, 100)               142800    \n",
            "_________________________________________________________________\n",
            "dense_4 (Dense)              (None, 350)               35350     \n",
            "=================================================================\n",
            "Total params: 690,150\n",
            "Trainable params: 690,150\n",
            "Non-trainable params: 0\n",
            "_________________________________________________________________\n",
            "None\n"
          ],
          "name": "stdout"
        }
      ]
    },
    {
      "cell_type": "code",
      "metadata": {
        "colab_type": "code",
        "id": "Qd-B7pfaCYCb",
        "colab": {
          "base_uri": "https://localhost:8080/",
          "height": 1000
        },
        "outputId": "91aa763b-171a-4346-e1e3-dd00f8082575"
      },
      "source": [
        "histc1=modelsc1.fit(X_train,Y_train, validation_data = (X_test, Y_test), epochs=40, batch_size=32, verbose=2) \n",
        "# Final evaluation of the model\n",
        "model.append('Sequential Model')\n",
        "scores = modelsc1.evaluate(X_test, Y_test, verbose=0)\n",
        "accuracytest.append(scores[1]*100)\n",
        "scores = modelsc1.evaluate(X_train, Y_train, verbose=0)\n",
        "accuracytrain.append(scores[1]*100)"
      ],
      "execution_count": 59,
      "outputs": [
        {
          "output_type": "stream",
          "text": [
            "/usr/local/lib/python3.6/dist-packages/tensorflow/python/framework/indexed_slices.py:434: UserWarning: Converting sparse IndexedSlices to a dense Tensor of unknown shape. This may consume a large amount of memory.\n",
            "  \"Converting sparse IndexedSlices to a dense Tensor of unknown shape. \"\n"
          ],
          "name": "stderr"
        },
        {
          "output_type": "stream",
          "text": [
            "Train on 639 samples, validate on 274 samples\n",
            "Epoch 1/40\n",
            " - 6s - loss: 4.6500 - accuracy: 0.4053 - val_loss: 2.5872 - val_accuracy: 0.4599\n",
            "Epoch 2/40\n",
            " - 5s - loss: 1.9323 - accuracy: 0.4444 - val_loss: 1.6070 - val_accuracy: 0.4599\n",
            "Epoch 3/40\n",
            " - 5s - loss: 1.6004 - accuracy: 0.4444 - val_loss: 1.5098 - val_accuracy: 0.4599\n",
            "Epoch 4/40\n",
            " - 5s - loss: 1.5635 - accuracy: 0.4444 - val_loss: 1.5241 - val_accuracy: 0.4599\n",
            "Epoch 5/40\n",
            " - 5s - loss: 1.5543 - accuracy: 0.4444 - val_loss: 1.5078 - val_accuracy: 0.4599\n",
            "Epoch 6/40\n",
            " - 5s - loss: 1.5535 - accuracy: 0.4444 - val_loss: 1.5078 - val_accuracy: 0.4599\n",
            "Epoch 7/40\n",
            " - 5s - loss: 1.5513 - accuracy: 0.4444 - val_loss: 1.5099 - val_accuracy: 0.4599\n",
            "Epoch 8/40\n",
            " - 5s - loss: 1.5474 - accuracy: 0.4444 - val_loss: 1.5108 - val_accuracy: 0.4599\n",
            "Epoch 9/40\n",
            " - 5s - loss: 1.5470 - accuracy: 0.4444 - val_loss: 1.5065 - val_accuracy: 0.4599\n",
            "Epoch 10/40\n",
            " - 4s - loss: 1.5409 - accuracy: 0.4444 - val_loss: 1.4993 - val_accuracy: 0.4599\n",
            "Epoch 11/40\n",
            " - 4s - loss: 1.5405 - accuracy: 0.4444 - val_loss: 1.5079 - val_accuracy: 0.4599\n",
            "Epoch 12/40\n",
            " - 5s - loss: 1.5325 - accuracy: 0.4444 - val_loss: 1.4996 - val_accuracy: 0.4599\n",
            "Epoch 13/40\n",
            " - 5s - loss: 1.5173 - accuracy: 0.4444 - val_loss: 1.4937 - val_accuracy: 0.4599\n",
            "Epoch 14/40\n",
            " - 5s - loss: 1.5143 - accuracy: 0.4491 - val_loss: 1.4859 - val_accuracy: 0.4599\n",
            "Epoch 15/40\n",
            " - 5s - loss: 1.4918 - accuracy: 0.4444 - val_loss: 1.4794 - val_accuracy: 0.4599\n",
            "Epoch 16/40\n",
            " - 5s - loss: 1.4576 - accuracy: 0.4585 - val_loss: 1.4608 - val_accuracy: 0.4599\n",
            "Epoch 17/40\n",
            " - 5s - loss: 1.4339 - accuracy: 0.4585 - val_loss: 1.4426 - val_accuracy: 0.4745\n",
            "Epoch 18/40\n",
            " - 5s - loss: 1.4089 - accuracy: 0.4632 - val_loss: 1.4496 - val_accuracy: 0.4562\n",
            "Epoch 19/40\n",
            " - 5s - loss: 1.3827 - accuracy: 0.4648 - val_loss: 1.4389 - val_accuracy: 0.4818\n",
            "Epoch 20/40\n",
            " - 5s - loss: 1.3549 - accuracy: 0.4961 - val_loss: 1.4322 - val_accuracy: 0.4891\n",
            "Epoch 21/40\n",
            " - 5s - loss: 1.3199 - accuracy: 0.5399 - val_loss: 1.4326 - val_accuracy: 0.4672\n",
            "Epoch 22/40\n",
            " - 5s - loss: 1.2825 - accuracy: 0.5383 - val_loss: 1.4129 - val_accuracy: 0.5146\n",
            "Epoch 23/40\n",
            " - 5s - loss: 1.2572 - accuracy: 0.5571 - val_loss: 1.4048 - val_accuracy: 0.5182\n",
            "Epoch 24/40\n",
            " - 4s - loss: 1.2251 - accuracy: 0.5743 - val_loss: 1.4013 - val_accuracy: 0.5365\n",
            "Epoch 25/40\n",
            " - 4s - loss: 1.1966 - accuracy: 0.5869 - val_loss: 1.3794 - val_accuracy: 0.5365\n",
            "Epoch 26/40\n",
            " - 5s - loss: 1.1662 - accuracy: 0.6088 - val_loss: 1.3733 - val_accuracy: 0.5511\n",
            "Epoch 27/40\n",
            " - 5s - loss: 1.1519 - accuracy: 0.6041 - val_loss: 1.3769 - val_accuracy: 0.5255\n",
            "Epoch 28/40\n",
            " - 5s - loss: 1.1084 - accuracy: 0.6369 - val_loss: 1.3522 - val_accuracy: 0.5401\n",
            "Epoch 29/40\n",
            " - 5s - loss: 1.0979 - accuracy: 0.6228 - val_loss: 1.3604 - val_accuracy: 0.5401\n",
            "Epoch 30/40\n",
            " - 5s - loss: 1.0813 - accuracy: 0.6448 - val_loss: 1.3510 - val_accuracy: 0.5584\n",
            "Epoch 31/40\n",
            " - 5s - loss: 1.0526 - accuracy: 0.6557 - val_loss: 1.3450 - val_accuracy: 0.5365\n",
            "Epoch 32/40\n",
            " - 5s - loss: 1.0293 - accuracy: 0.6573 - val_loss: 1.3339 - val_accuracy: 0.5620\n",
            "Epoch 33/40\n",
            " - 5s - loss: 1.0156 - accuracy: 0.6541 - val_loss: 1.3237 - val_accuracy: 0.5584\n",
            "Epoch 34/40\n",
            " - 5s - loss: 0.9894 - accuracy: 0.6635 - val_loss: 1.3260 - val_accuracy: 0.5912\n",
            "Epoch 35/40\n",
            " - 5s - loss: 0.9649 - accuracy: 0.6948 - val_loss: 1.3160 - val_accuracy: 0.5876\n",
            "Epoch 36/40\n",
            " - 5s - loss: 0.9450 - accuracy: 0.7011 - val_loss: 1.2964 - val_accuracy: 0.5620\n",
            "Epoch 37/40\n",
            " - 5s - loss: 0.9264 - accuracy: 0.6995 - val_loss: 1.2965 - val_accuracy: 0.5803\n",
            "Epoch 38/40\n",
            " - 4s - loss: 0.9151 - accuracy: 0.6995 - val_loss: 1.2978 - val_accuracy: 0.5657\n",
            "Epoch 39/40\n",
            " - 5s - loss: 0.8833 - accuracy: 0.7199 - val_loss: 1.2965 - val_accuracy: 0.5803\n",
            "Epoch 40/40\n",
            " - 5s - loss: 0.8745 - accuracy: 0.7402 - val_loss: 1.2818 - val_accuracy: 0.5693\n"
          ],
          "name": "stdout"
        }
      ]
    },
    {
      "cell_type": "code",
      "metadata": {
        "colab_type": "code",
        "id": "lYH1u5exaQU0",
        "colab": {
          "base_uri": "https://localhost:8080/",
          "height": 279
        },
        "outputId": "19f0ce2c-a3e3-4076-f194-0997cca2d919"
      },
      "source": [
        "plt.plot(histc1.history['val_accuracy'],color='black')\n",
        "plt.plot(histc1.history['accuracy'])\n",
        "plt.xlabel('Accuracy')\n",
        "plt.ylabel('Iterations')\n",
        "plt.show()"
      ],
      "execution_count": 60,
      "outputs": [
        {
          "output_type": "display_data",
          "data": {
            "image/png": "[encoded data removed]",
            "text/plain": [
              "<Figure size 432x288 with 1 Axes>"
            ]
          },
          "metadata": {
            "tags": [],
            "needs_background": "light"
          }
        }
      ]
    },
    {
      "cell_type": "code",
      "metadata": {
        "colab_type": "code",
        "id": "P_EcZwJaaQVW",
        "colab": {
          "base_uri": "https://localhost:8080/",
          "height": 279
        },
        "outputId": "e12d7c75-616a-4965-b640-dffe761a86e7"
      },
      "source": [
        "plt.plot(histc1.history['val_loss'],color='black')\n",
        "plt.plot(histc1.history['loss'])\n",
        "plt.xlabel('Loss')\n",
        "plt.ylabel('Iterations')\n",
        "plt.show()"
      ],
      "execution_count": 61,
      "outputs": [
        {
          "output_type": "display_data",
          "data": {
            "image/png": "[encoded data removed]",
            "text/plain": [
              "<Figure size 432x288 with 1 Axes>"
            ]
          },
          "metadata": {
            "tags": [],
            "needs_background": "light"
          }
        }
      ]
    },
    {
      "cell_type": "markdown",
      "metadata": {
        "colab_type": "text",
        "id": "gO8oI4kf1c1J"
      },
      "source": [
        "#### **Bidirectional LSTM**"
      ]
    },
    {
      "cell_type": "code",
      "metadata": {
        "colab_type": "code",
        "id": "gAmQ44Ec1c1U",
        "colab": {
          "base_uri": "https://localhost:8080/",
          "height": 1000
        },
        "outputId": "2cb66ff6-138c-4067-d63b-40f516502e12"
      },
      "source": [
        "\n",
        "lsmodc1 = lstmm()\n",
        "\n",
        "lshistc1 = lsmodc1.fit(X_train,Y_train,\n",
        "         epochs = 45,\n",
        "         batch_size = 128,\n",
        "         validation_data = (X_test, Y_test))"
      ],
      "execution_count": 62,
      "outputs": [
        {
          "output_type": "stream",
          "text": [
            "/usr/local/lib/python3.6/dist-packages/tensorflow/python/framework/indexed_slices.py:434: UserWarning: Converting sparse IndexedSlices to a dense Tensor of unknown shape. This may consume a large amount of memory.\n",
            "  \"Converting sparse IndexedSlices to a dense Tensor of unknown shape. \"\n"
          ],
          "name": "stderr"
        },
        {
          "output_type": "stream",
          "text": [
            "Train on 639 samples, validate on 274 samples\n",
            "Epoch 1/45\n",
            "639/639 [==============================] - 14s 21ms/step - loss: 5.8314 - acc: 0.1706 - val_loss: 5.7734 - val_acc: 0.4599\n",
            "Epoch 2/45\n",
            "639/639 [==============================] - 9s 15ms/step - loss: 5.7086 - acc: 0.4382 - val_loss: 5.5622 - val_acc: 0.4599\n",
            "Epoch 3/45\n",
            "639/639 [==============================] - 9s 15ms/step - loss: 5.4331 - acc: 0.4444 - val_loss: 5.1141 - val_acc: 0.4599\n",
            "Epoch 4/45\n",
            "639/639 [==============================] - 9s 14ms/step - loss: 4.9593 - acc: 0.4444 - val_loss: 4.4969 - val_acc: 0.4599\n",
            "Epoch 5/45\n",
            "639/639 [==============================] - 9s 14ms/step - loss: 4.3251 - acc: 0.4444 - val_loss: 3.8110 - val_acc: 0.4599\n",
            "Epoch 6/45\n",
            "639/639 [==============================] - 9s 14ms/step - loss: 3.6126 - acc: 0.4444 - val_loss: 3.1212 - val_acc: 0.4599\n",
            "Epoch 7/45\n",
            "639/639 [==============================] - 9s 15ms/step - loss: 2.9248 - acc: 0.4444 - val_loss: 2.4964 - val_acc: 0.4599\n",
            "Epoch 8/45\n",
            "639/639 [==============================] - 9s 15ms/step - loss: 2.3408 - acc: 0.4444 - val_loss: 2.0270 - val_acc: 0.4599\n",
            "Epoch 9/45\n",
            "639/639 [==============================] - 9s 15ms/step - loss: 1.9427 - acc: 0.4444 - val_loss: 1.7567 - val_acc: 0.4599\n",
            "Epoch 10/45\n",
            "639/639 [==============================] - 10s 15ms/step - loss: 1.7362 - acc: 0.4444 - val_loss: 1.6333 - val_acc: 0.4599\n",
            "Epoch 11/45\n",
            "639/639 [==============================] - 9s 15ms/step - loss: 1.6468 - acc: 0.4444 - val_loss: 1.5797 - val_acc: 0.4599\n",
            "Epoch 12/45\n",
            "639/639 [==============================] - 9s 14ms/step - loss: 1.6072 - acc: 0.4444 - val_loss: 1.5540 - val_acc: 0.4599\n",
            "Epoch 13/45\n",
            "639/639 [==============================] - 9s 14ms/step - loss: 1.5864 - acc: 0.4444 - val_loss: 1.5380 - val_acc: 0.4599\n",
            "Epoch 14/45\n",
            "639/639 [==============================] - 10s 15ms/step - loss: 1.5741 - acc: 0.4444 - val_loss: 1.5282 - val_acc: 0.4599\n",
            "Epoch 15/45\n",
            "639/639 [==============================] - 10s 15ms/step - loss: 1.5682 - acc: 0.4444 - val_loss: 1.5214 - val_acc: 0.4599\n",
            "Epoch 16/45\n",
            "639/639 [==============================] - 9s 15ms/step - loss: 1.5635 - acc: 0.4444 - val_loss: 1.5183 - val_acc: 0.4599\n",
            "Epoch 17/45\n",
            "639/639 [==============================] - 9s 15ms/step - loss: 1.5616 - acc: 0.4444 - val_loss: 1.5163 - val_acc: 0.4599\n",
            "Epoch 18/45\n",
            "639/639 [==============================] - 9s 15ms/step - loss: 1.5595 - acc: 0.4444 - val_loss: 1.5154 - val_acc: 0.4599\n",
            "Epoch 19/45\n",
            "639/639 [==============================] - 9s 14ms/step - loss: 1.5560 - acc: 0.4444 - val_loss: 1.5157 - val_acc: 0.4599\n",
            "Epoch 20/45\n",
            "639/639 [==============================] - 9s 14ms/step - loss: 1.5534 - acc: 0.4444 - val_loss: 1.5152 - val_acc: 0.4599\n",
            "Epoch 21/45\n",
            "639/639 [==============================] - 10s 15ms/step - loss: 1.5521 - acc: 0.4444 - val_loss: 1.5154 - val_acc: 0.4599\n",
            "Epoch 22/45\n",
            "639/639 [==============================] - 10s 15ms/step - loss: 1.5516 - acc: 0.4444 - val_loss: 1.5151 - val_acc: 0.4599\n",
            "Epoch 23/45\n",
            "639/639 [==============================] - 10s 15ms/step - loss: 1.5497 - acc: 0.4444 - val_loss: 1.5150 - val_acc: 0.4599\n",
            "Epoch 24/45\n",
            "639/639 [==============================] - 10s 15ms/step - loss: 1.5511 - acc: 0.4444 - val_loss: 1.5165 - val_acc: 0.4599\n",
            "Epoch 25/45\n",
            "639/639 [==============================] - 10s 15ms/step - loss: 1.5497 - acc: 0.4444 - val_loss: 1.5143 - val_acc: 0.4599\n",
            "Epoch 26/45\n",
            "639/639 [==============================] - 9s 15ms/step - loss: 1.5474 - acc: 0.4444 - val_loss: 1.5131 - val_acc: 0.4599\n",
            "Epoch 27/45\n",
            "639/639 [==============================] - 9s 14ms/step - loss: 1.5474 - acc: 0.4444 - val_loss: 1.5111 - val_acc: 0.4599\n",
            "Epoch 28/45\n",
            "639/639 [==============================] - 10s 16ms/step - loss: 1.5481 - acc: 0.4444 - val_loss: 1.5117 - val_acc: 0.4599\n",
            "Epoch 29/45\n",
            "639/639 [==============================] - 10s 15ms/step - loss: 1.5477 - acc: 0.4444 - val_loss: 1.5122 - val_acc: 0.4599\n",
            "Epoch 30/45\n",
            "639/639 [==============================] - 10s 15ms/step - loss: 1.5473 - acc: 0.4444 - val_loss: 1.5118 - val_acc: 0.4599\n",
            "Epoch 31/45\n",
            "639/639 [==============================] - 10s 16ms/step - loss: 1.5457 - acc: 0.4444 - val_loss: 1.5112 - val_acc: 0.4599\n",
            "Epoch 32/45\n",
            "639/639 [==============================] - 10s 15ms/step - loss: 1.5465 - acc: 0.4444 - val_loss: 1.5087 - val_acc: 0.4599\n",
            "Epoch 33/45\n",
            "639/639 [==============================] - 9s 14ms/step - loss: 1.5444 - acc: 0.4444 - val_loss: 1.5085 - val_acc: 0.4599\n",
            "Epoch 34/45\n",
            "639/639 [==============================] - 10s 15ms/step - loss: 1.5446 - acc: 0.4444 - val_loss: 1.5096 - val_acc: 0.4599\n",
            "Epoch 35/45\n",
            "639/639 [==============================] - 10s 15ms/step - loss: 1.5449 - acc: 0.4444 - val_loss: 1.5109 - val_acc: 0.4599\n",
            "Epoch 36/45\n",
            "639/639 [==============================] - 10s 15ms/step - loss: 1.5442 - acc: 0.4444 - val_loss: 1.5119 - val_acc: 0.4599\n",
            "Epoch 37/45\n",
            "639/639 [==============================] - 10s 15ms/step - loss: 1.5450 - acc: 0.4444 - val_loss: 1.5124 - val_acc: 0.4599\n",
            "Epoch 38/45\n",
            "639/639 [==============================] - 10s 15ms/step - loss: 1.5430 - acc: 0.4444 - val_loss: 1.5110 - val_acc: 0.4599\n",
            "Epoch 39/45\n",
            "639/639 [==============================] - 10s 15ms/step - loss: 1.5427 - acc: 0.4444 - val_loss: 1.5064 - val_acc: 0.4599\n",
            "Epoch 40/45\n",
            "639/639 [==============================] - 9s 14ms/step - loss: 1.5429 - acc: 0.4444 - val_loss: 1.5048 - val_acc: 0.4599\n",
            "Epoch 41/45\n",
            "639/639 [==============================] - 10s 15ms/step - loss: 1.5425 - acc: 0.4444 - val_loss: 1.5062 - val_acc: 0.4599\n",
            "Epoch 42/45\n",
            "639/639 [==============================] - 9s 15ms/step - loss: 1.5429 - acc: 0.4444 - val_loss: 1.5079 - val_acc: 0.4599\n",
            "Epoch 43/45\n",
            "639/639 [==============================] - 10s 15ms/step - loss: 1.5413 - acc: 0.4444 - val_loss: 1.5097 - val_acc: 0.4599\n",
            "Epoch 44/45\n",
            "639/639 [==============================] - 10s 15ms/step - loss: 1.5422 - acc: 0.4444 - val_loss: 1.5094 - val_acc: 0.4599\n",
            "Epoch 45/45\n",
            "639/639 [==============================] - 10s 15ms/step - loss: 1.5412 - acc: 0.4444 - val_loss: 1.5075 - val_acc: 0.4599\n"
          ],
          "name": "stdout"
        }
      ]
    },
    {
      "cell_type": "code",
      "metadata": {
        "id": "CAztXCN1D1wg",
        "colab_type": "code",
        "colab": {}
      },
      "source": [
        "model.append('Bidirectional LSTM Model')\n",
        "scores = lsmodc1.evaluate(X_test, Y_test, verbose=0)\n",
        "accuracytest.append(scores[1]*100)\n",
        "scores = lsmodc1.evaluate(X_train, Y_train, verbose=0)\n",
        "accuracytrain.append(scores[1]*100)\n",
        "\n",
        "\n"
      ],
      "execution_count": 63,
      "outputs": []
    },
    {
      "cell_type": "code",
      "metadata": {
        "colab_type": "code",
        "id": "nHC_eeVU1c1t",
        "colab": {
          "base_uri": "https://localhost:8080/",
          "height": 279
        },
        "outputId": "b74874ae-6dd1-481b-84f6-16527c6d67d8"
      },
      "source": [
        "plt.plot(lshistc1.history['val_acc'],color='black')\n",
        "plt.plot(lshistc1.history['acc'])\n",
        "plt.xlabel('Accuracy')\n",
        "plt.ylabel('Iterations')\n",
        "plt.show()"
      ],
      "execution_count": 64,
      "outputs": [
        {
          "output_type": "display_data",
          "data": {
            "image/png": "[encoded data removed]",
            "text/plain": [
              "<Figure size 432x288 with 1 Axes>"
            ]
          },
          "metadata": {
            "tags": [],
            "needs_background": "light"
          }
        }
      ]
    },
    {
      "cell_type": "code",
      "metadata": {
        "colab_type": "code",
        "id": "AHZ4ea0e1c11",
        "colab": {
          "base_uri": "https://localhost:8080/",
          "height": 281
        },
        "outputId": "1ef0dd17-be11-4745-d9cc-48e7c74c41d9"
      },
      "source": [
        "plt.plot(lshistc1.history['val_loss'],color='black')\n",
        "plt.plot(lshistc1.history['loss'])\n",
        "plt.xlabel('Loss')\n",
        "plt.ylabel('Iterations')\n",
        "plt.show()"
      ],
      "execution_count": 65,
      "outputs": [
        {
          "output_type": "display_data",
          "data": {
            "image/png": "[encoded data removed]",
            "text/plain": [
              "<Figure size 432x288 with 1 Axes>"
            ]
          },
          "metadata": {
            "tags": [],
            "needs_background": "light"
          }
        }
      ]
    },
    {
      "cell_type": "markdown",
      "metadata": {
        "id": "eCvGPtJpD_Dg",
        "colab_type": "text"
      },
      "source": [
        "#### **1D Convolution**"
      ]
    },
    {
      "cell_type": "code",
      "metadata": {
        "colab_type": "code",
        "id": "17AOR9wp1c17",
        "colab": {
          "base_uri": "https://localhost:8080/",
          "height": 1000
        },
        "outputId": "2feb007e-3906-4b8a-8794-9d8f7404cf37"
      },
      "source": [
        "\n",
        "convmodc1 = conv1d()\n",
        "\n",
        "\n",
        "\n",
        "convhistc1 = convmodc1.fit(X_train, Y_train,\n",
        "                      epochs = 45,\n",
        "                      batch_size = 128,\n",
        "                      validation_data = (X_test, Y_test))"
      ],
      "execution_count": 66,
      "outputs": [
        {
          "output_type": "stream",
          "text": [
            "/usr/local/lib/python3.6/dist-packages/tensorflow/python/framework/indexed_slices.py:434: UserWarning: Converting sparse IndexedSlices to a dense Tensor of unknown shape. This may consume a large amount of memory.\n",
            "  \"Converting sparse IndexedSlices to a dense Tensor of unknown shape. \"\n"
          ],
          "name": "stderr"
        },
        {
          "output_type": "stream",
          "text": [
            "Train on 639 samples, validate on 274 samples\n",
            "Epoch 1/45\n",
            "639/639 [==============================] - 5s 8ms/step - loss: 5.8345 - acc: 0.0000e+00 - val_loss: 5.7865 - val_acc: 0.0000e+00\n",
            "Epoch 2/45\n",
            "639/639 [==============================] - 4s 7ms/step - loss: 5.6825 - acc: 0.0094 - val_loss: 5.6060 - val_acc: 0.1168\n",
            "Epoch 3/45\n",
            "639/639 [==============================] - 4s 6ms/step - loss: 5.3166 - acc: 0.0845 - val_loss: 5.2032 - val_acc: 0.1277\n",
            "Epoch 4/45\n",
            "639/639 [==============================] - 4s 6ms/step - loss: 4.5487 - acc: 0.1142 - val_loss: 4.3910 - val_acc: 0.1277\n",
            "Epoch 5/45\n",
            "639/639 [==============================] - 4s 7ms/step - loss: 3.2423 - acc: 0.1142 - val_loss: 3.0675 - val_acc: 0.1277\n",
            "Epoch 6/45\n",
            "639/639 [==============================] - 4s 7ms/step - loss: 2.1490 - acc: 0.2551 - val_loss: 1.9610 - val_acc: 0.4599\n",
            "Epoch 7/45\n",
            "639/639 [==============================] - 5s 7ms/step - loss: 1.7949 - acc: 0.4444 - val_loss: 1.6571 - val_acc: 0.4599\n",
            "Epoch 8/45\n",
            "639/639 [==============================] - 4s 7ms/step - loss: 1.6577 - acc: 0.3067 - val_loss: 1.6431 - val_acc: 0.2044\n",
            "Epoch 9/45\n",
            "639/639 [==============================] - 4s 7ms/step - loss: 1.6286 - acc: 0.4257 - val_loss: 1.5698 - val_acc: 0.4599\n",
            "Epoch 10/45\n",
            "639/639 [==============================] - 4s 7ms/step - loss: 1.5895 - acc: 0.4444 - val_loss: 1.5688 - val_acc: 0.4599\n",
            "Epoch 11/45\n",
            "639/639 [==============================] - 4s 7ms/step - loss: 1.5376 - acc: 0.4460 - val_loss: 1.6255 - val_acc: 0.4599\n",
            "Epoch 12/45\n",
            "639/639 [==============================] - 4s 7ms/step - loss: 1.5345 - acc: 0.4351 - val_loss: 1.6052 - val_acc: 0.4599\n",
            "Epoch 13/45\n",
            "639/639 [==============================] - 4s 7ms/step - loss: 1.5130 - acc: 0.4429 - val_loss: 1.5880 - val_acc: 0.4599\n",
            "Epoch 14/45\n",
            "639/639 [==============================] - 4s 7ms/step - loss: 1.4969 - acc: 0.4444 - val_loss: 1.6033 - val_acc: 0.4599\n",
            "Epoch 15/45\n",
            "639/639 [==============================] - 5s 7ms/step - loss: 1.4730 - acc: 0.4507 - val_loss: 1.6066 - val_acc: 0.4599\n",
            "Epoch 16/45\n",
            "639/639 [==============================] - 4s 7ms/step - loss: 1.4705 - acc: 0.4429 - val_loss: 1.5805 - val_acc: 0.4599\n",
            "Epoch 17/45\n",
            "639/639 [==============================] - 4s 7ms/step - loss: 1.4471 - acc: 0.4476 - val_loss: 1.5764 - val_acc: 0.4599\n",
            "Epoch 18/45\n",
            "639/639 [==============================] - 4s 6ms/step - loss: 1.4355 - acc: 0.4460 - val_loss: 1.5647 - val_acc: 0.4854\n",
            "Epoch 19/45\n",
            "639/639 [==============================] - 4s 6ms/step - loss: 1.4094 - acc: 0.4664 - val_loss: 1.5432 - val_acc: 0.4854\n",
            "Epoch 20/45\n",
            "639/639 [==============================] - 4s 7ms/step - loss: 1.3835 - acc: 0.4804 - val_loss: 1.5105 - val_acc: 0.4854\n",
            "Epoch 21/45\n",
            "639/639 [==============================] - 5s 7ms/step - loss: 1.3870 - acc: 0.4961 - val_loss: 1.5083 - val_acc: 0.4854\n",
            "Epoch 22/45\n",
            "639/639 [==============================] - 5s 8ms/step - loss: 1.3435 - acc: 0.4836 - val_loss: 1.4589 - val_acc: 0.4854\n",
            "Epoch 23/45\n",
            "639/639 [==============================] - 5s 7ms/step - loss: 1.3215 - acc: 0.4883 - val_loss: 1.4475 - val_acc: 0.5255\n",
            "Epoch 24/45\n",
            "639/639 [==============================] - 5s 7ms/step - loss: 1.3067 - acc: 0.5164 - val_loss: 1.4146 - val_acc: 0.5401\n",
            "Epoch 25/45\n",
            "639/639 [==============================] - 5s 7ms/step - loss: 1.2713 - acc: 0.5149 - val_loss: 1.3907 - val_acc: 0.5438\n",
            "Epoch 26/45\n",
            "639/639 [==============================] - 5s 7ms/step - loss: 1.2428 - acc: 0.5305 - val_loss: 1.3539 - val_acc: 0.5511\n",
            "Epoch 27/45\n",
            "639/639 [==============================] - 4s 7ms/step - loss: 1.2078 - acc: 0.5634 - val_loss: 1.3349 - val_acc: 0.5511\n",
            "Epoch 28/45\n",
            "639/639 [==============================] - 5s 7ms/step - loss: 1.1984 - acc: 0.5743 - val_loss: 1.2993 - val_acc: 0.5401\n",
            "Epoch 29/45\n",
            "639/639 [==============================] - 5s 7ms/step - loss: 1.1506 - acc: 0.5853 - val_loss: 1.2903 - val_acc: 0.5511\n",
            "Epoch 30/45\n",
            "639/639 [==============================] - 5s 7ms/step - loss: 1.1320 - acc: 0.6009 - val_loss: 1.2497 - val_acc: 0.5547\n",
            "Epoch 31/45\n",
            "639/639 [==============================] - 4s 7ms/step - loss: 1.0999 - acc: 0.6072 - val_loss: 1.2211 - val_acc: 0.5620\n",
            "Epoch 32/45\n",
            "639/639 [==============================] - 4s 7ms/step - loss: 1.0719 - acc: 0.6401 - val_loss: 1.2018 - val_acc: 0.5912\n",
            "Epoch 33/45\n",
            "639/639 [==============================] - 4s 6ms/step - loss: 1.0671 - acc: 0.6260 - val_loss: 1.1770 - val_acc: 0.5876\n",
            "Epoch 34/45\n",
            "639/639 [==============================] - 4s 6ms/step - loss: 1.0350 - acc: 0.6354 - val_loss: 1.1697 - val_acc: 0.5839\n",
            "Epoch 35/45\n",
            "639/639 [==============================] - 5s 7ms/step - loss: 1.0067 - acc: 0.6604 - val_loss: 1.1555 - val_acc: 0.5876\n",
            "Epoch 36/45\n",
            "639/639 [==============================] - 4s 7ms/step - loss: 0.9676 - acc: 0.6557 - val_loss: 1.1399 - val_acc: 0.5949\n",
            "Epoch 37/45\n",
            "639/639 [==============================] - 5s 7ms/step - loss: 0.9761 - acc: 0.6714 - val_loss: 1.1254 - val_acc: 0.5912\n",
            "Epoch 38/45\n",
            "639/639 [==============================] - 5s 7ms/step - loss: 0.9510 - acc: 0.6667 - val_loss: 1.1171 - val_acc: 0.5985\n",
            "Epoch 39/45\n",
            "639/639 [==============================] - 5s 7ms/step - loss: 0.9306 - acc: 0.6792 - val_loss: 1.1112 - val_acc: 0.6058\n",
            "Epoch 40/45\n",
            "639/639 [==============================] - 4s 7ms/step - loss: 0.8961 - acc: 0.6980 - val_loss: 1.0968 - val_acc: 0.6131\n",
            "Epoch 41/45\n",
            "639/639 [==============================] - 5s 7ms/step - loss: 0.8858 - acc: 0.6948 - val_loss: 1.0735 - val_acc: 0.6131\n",
            "Epoch 42/45\n",
            "639/639 [==============================] - 5s 7ms/step - loss: 0.8767 - acc: 0.6964 - val_loss: 1.0817 - val_acc: 0.6168\n",
            "Epoch 43/45\n",
            "639/639 [==============================] - 5s 7ms/step - loss: 0.8482 - acc: 0.7042 - val_loss: 1.0597 - val_acc: 0.6131\n",
            "Epoch 44/45\n",
            "639/639 [==============================] - 4s 7ms/step - loss: 0.8543 - acc: 0.6886 - val_loss: 1.0806 - val_acc: 0.6168\n",
            "Epoch 45/45\n",
            "639/639 [==============================] - 4s 7ms/step - loss: 0.8531 - acc: 0.6901 - val_loss: 1.0625 - val_acc: 0.6131\n"
          ],
          "name": "stdout"
        }
      ]
    },
    {
      "cell_type": "code",
      "metadata": {
        "id": "r35wmJbpEoOZ",
        "colab_type": "code",
        "colab": {}
      },
      "source": [
        "model.append('1D Convolution Model')\n",
        "scores = convmodc1.evaluate(X_test, Y_test, verbose=0)\n",
        "accuracytest.append(scores[1]*100)\n",
        "scores = convmodc1.evaluate(X_train, Y_train, verbose=0)\n",
        "accuracytrain.append(scores[1]*100)"
      ],
      "execution_count": 67,
      "outputs": []
    },
    {
      "cell_type": "code",
      "metadata": {
        "colab_type": "code",
        "id": "5ZDP24_31c2B",
        "colab": {
          "base_uri": "https://localhost:8080/",
          "height": 279
        },
        "outputId": "e9ec8fa2-11e7-440f-8bd9-5a694f4c1c17"
      },
      "source": [
        "plt.plot(convhistc1.history['val_acc'],color='black')\n",
        "plt.plot(convhistc1.history['acc'])\n",
        "plt.xlabel('Accuracy')\n",
        "plt.ylabel('Iterations')\n",
        "plt.show()"
      ],
      "execution_count": 68,
      "outputs": [
        {
          "output_type": "display_data",
          "data": {
            "image/png": "[encoded data removed]",
            "text/plain": [
              "<Figure size 432x288 with 1 Axes>"
            ]
          },
          "metadata": {
            "tags": [],
            "needs_background": "light"
          }
        }
      ]
    },
    {
      "cell_type": "code",
      "metadata": {
        "colab_type": "code",
        "id": "abzfmmCu1c2G",
        "colab": {
          "base_uri": "https://localhost:8080/",
          "height": 280
        },
        "outputId": "eedffe3f-9835-466b-e226-cc26120077c4"
      },
      "source": [
        "plt.plot(convhistc1.history['val_loss'],color='black')\n",
        "plt.plot(convhistc1.history['loss'])\n",
        "plt.xlabel('Loss')\n",
        "plt.ylabel('Iterations')\n",
        "plt.show()"
      ],
      "execution_count": 69,
      "outputs": [
        {
          "output_type": "display_data",
          "data": {
            "image/png": "[encoded data removed]",
            "text/plain": [
              "<Figure size 432x288 with 1 Axes>"
            ]
          },
          "metadata": {
            "tags": [],
            "needs_background": "light"
          }
        }
      ]
    },
    {
      "cell_type": "markdown",
      "metadata": {
        "colab_type": "text",
        "id": "45HBUDyUkDDq"
      },
      "source": [
        "#### **Model Selection for Cluster 1**\n"
      ]
    },
    {
      "cell_type": "code",
      "metadata": {
        "colab_type": "code",
        "id": "LDovOtHPkDDq",
        "colab": {
          "base_uri": "https://localhost:8080/",
          "height": 426
        },
        "outputId": "6fccbd8e-7ae5-40e8-a891-99cad30b87d1"
      },
      "source": [
        "cluster1_accuracies=pd.DataFrame()\n",
        "cluster1_accuracies['Model']=model\n",
        "cluster1_accuracies['Accuracy(Test)']=accuracytest\n",
        "cluster1_accuracies['Accuracy(Train)']=accuracytrain\n",
        "cluster1_accuracies"
      ],
      "execution_count": 70,
      "outputs": [
        {
          "output_type": "execute_result",
          "data": {
            "text/html": [
              "<div>\n",
              "<style scoped>\n",
              "    .dataframe tbody tr th:only-of-type {\n",
              "        vertical-align: middle;\n",
              "    }\n",
              "\n",
              "    .dataframe tbody tr th {\n",
              "        vertical-align: top;\n",
              "    }\n",
              "\n",
              "    .dataframe thead th {\n",
              "        text-align: right;\n",
              "    }\n",
              "</style>\n",
              "<table border=\"1\" class=\"dataframe\">\n",
              "  <thead>\n",
              "    <tr style=\"text-align: right;\">\n",
              "      <th></th>\n",
              "      <th>Model</th>\n",
              "      <th>Accuracy(Test)</th>\n",
              "      <th>Accuracy(Train)</th>\n",
              "    </tr>\n",
              "  </thead>\n",
              "  <tbody>\n",
              "    <tr>\n",
              "      <th>0</th>\n",
              "      <td>Logistic Regression with Chi Square</td>\n",
              "      <td>41.970803</td>\n",
              "      <td>46.165884</td>\n",
              "    </tr>\n",
              "    <tr>\n",
              "      <th>1</th>\n",
              "      <td>Multinomial Naive Bayes</td>\n",
              "      <td>49.635036</td>\n",
              "      <td>56.651017</td>\n",
              "    </tr>\n",
              "    <tr>\n",
              "      <th>2</th>\n",
              "      <td>Support Vector Machines</td>\n",
              "      <td>67.883212</td>\n",
              "      <td>83.411581</td>\n",
              "    </tr>\n",
              "    <tr>\n",
              "      <th>3</th>\n",
              "      <td>Decision Tree</td>\n",
              "      <td>48.540146</td>\n",
              "      <td>54.616588</td>\n",
              "    </tr>\n",
              "    <tr>\n",
              "      <th>4</th>\n",
              "      <td>Bagging Classifier</td>\n",
              "      <td>46.350365</td>\n",
              "      <td>49.139280</td>\n",
              "    </tr>\n",
              "    <tr>\n",
              "      <th>5</th>\n",
              "      <td>Adaboost Classifier</td>\n",
              "      <td>45.620438</td>\n",
              "      <td>49.452269</td>\n",
              "    </tr>\n",
              "    <tr>\n",
              "      <th>6</th>\n",
              "      <td>Gradient Boost Classifier</td>\n",
              "      <td>64.233577</td>\n",
              "      <td>86.071987</td>\n",
              "    </tr>\n",
              "    <tr>\n",
              "      <th>7</th>\n",
              "      <td>Decision Tree Hyper Tuned</td>\n",
              "      <td>50.364964</td>\n",
              "      <td>86.854460</td>\n",
              "    </tr>\n",
              "    <tr>\n",
              "      <th>8</th>\n",
              "      <td>Support Vector Machines- Hypertuned</td>\n",
              "      <td>73.722628</td>\n",
              "      <td>95.774648</td>\n",
              "    </tr>\n",
              "    <tr>\n",
              "      <th>9</th>\n",
              "      <td>Sequential Model</td>\n",
              "      <td>56.934309</td>\n",
              "      <td>74.021912</td>\n",
              "    </tr>\n",
              "    <tr>\n",
              "      <th>10</th>\n",
              "      <td>Bidirectional LSTM Model</td>\n",
              "      <td>45.985401</td>\n",
              "      <td>44.444445</td>\n",
              "    </tr>\n",
              "    <tr>\n",
              "      <th>11</th>\n",
              "      <td>1D Convolution Model</td>\n",
              "      <td>61.313868</td>\n",
              "      <td>75.430357</td>\n",
              "    </tr>\n",
              "  </tbody>\n",
              "</table>\n",
              "</div>"
            ],
            "text/plain": [
              "                                  Model  Accuracy(Test)  Accuracy(Train)\n",
              "0   Logistic Regression with Chi Square       41.970803        46.165884\n",
              "1               Multinomial Naive Bayes       49.635036        56.651017\n",
              "2               Support Vector Machines       67.883212        83.411581\n",
              "3                        Decision Tree        48.540146        54.616588\n",
              "4                    Bagging Classifier       46.350365        49.139280\n",
              "5                   Adaboost Classifier       45.620438        49.452269\n",
              "6             Gradient Boost Classifier       64.233577        86.071987\n",
              "7            Decision Tree Hyper Tuned        50.364964        86.854460\n",
              "8   Support Vector Machines- Hypertuned       73.722628        95.774648\n",
              "9                      Sequential Model       56.934309        74.021912\n",
              "10             Bidirectional LSTM Model       45.985401        44.444445\n",
              "11                 1D Convolution Model       61.313868        75.430357"
            ]
          },
          "metadata": {
            "tags": []
          },
          "execution_count": 70
        }
      ]
    },
    {
      "cell_type": "code",
      "metadata": {
        "colab_type": "code",
        "id": "VPdlklJUkDDt",
        "colab": {
          "base_uri": "https://localhost:8080/",
          "height": 609
        },
        "outputId": "a73c82e6-94e7-40f0-c716-ca89a3b00026"
      },
      "source": [
        "x_axis=['LR','NM','SVM','DT','BC','ABC','GBC','DTH','SVMH','SM','BLSTM','1DCONV']\n",
        "plt.figure(figsize=(10,10))\n",
        "plt.bar(x_axis,cluster1_accuracies['Accuracy(Test)'])\n",
        "plt.bar(x_axis,cluster1_accuracies['Accuracy(Train)'],alpha=0.3)"
      ],
      "execution_count": 71,
      "outputs": [
        {
          "output_type": "execute_result",
          "data": {
            "text/plain": [
              "<BarContainer object of 12 artists>"
            ]
          },
          "metadata": {
            "tags": []
          },
          "execution_count": 71
        },
        {
          "output_type": "display_data",
          "data": {
            "image/png": "[encoded data removed]",
            "text/plain": [
              "<Figure size 720x720 with 1 Axes>"
            ]
          },
          "metadata": {
            "tags": [],
            "needs_background": "light"
          }
        }
      ]
    },
    {
      "cell_type": "markdown",
      "metadata": {
        "colab_type": "text",
        "id": "zNNt3IIakDDx"
      },
      "source": [
        "> LR-Logistic Regression\n",
        "\n",
        "> NM- Multinomial Naive Bayes\n",
        "\n",
        ">SVM-Support Vector Machine\n",
        "\n",
        ">DT- Decision Tree\n",
        "\n",
        ">BC-Bagging Classifier\n",
        "\n",
        ">ABC-AdaBoost Classifier\n",
        "\n",
        ">GBC-Gradient Boost Classifier\n",
        "\n",
        ">DTH- Decision Tree - Hyper Tunes\n",
        "\n",
        ">SVMH- Support Vector Machine Hyper Tuned\n",
        "\n",
        ">SM-Sequential Model\n",
        "\n",
        ">BLSTM-Bidirectional LSTM\n",
        "\n",
        ">1DCONV-1D Convolution\n",
        "\n",
        "\n",
        "#### **Model Selection**\n",
        "> The grey bar shows the accuracy on Train data and Yello shows the accuracy on Test data. \n",
        "\n",
        "> Higher the difference, the model is overfit\n",
        "\n",
        "> Out of all, Hyper tuned Support Vector Machines seems to be the best of all\n"
      ]
    },
    {
      "cell_type": "markdown",
      "metadata": {
        "colab_type": "text",
        "id": "rrGO6F4_F6es"
      },
      "source": [
        "# **Applying different models on Cluster 2**"
      ]
    },
    {
      "cell_type": "markdown",
      "metadata": {
        "colab_type": "text",
        "id": "6ihl7MAeF6e1"
      },
      "source": [
        "#### **Chi Square Analysis on Logistic Regression**"
      ]
    },
    {
      "cell_type": "code",
      "metadata": {
        "colab_type": "code",
        "id": "2lCl4GsZF6e9",
        "colab": {}
      },
      "source": [
        "X = data['Description'][data['Cluster TFIDFV']==2]\n",
        "Y = data['Assignment group'][data['Cluster TFIDFV']==2]\n",
        "X_train, X_test, Y_train, Y_test = train_test_split(X, Y, test_size=0.3, random_state=2)"
      ],
      "execution_count": 72,
      "outputs": []
    },
    {
      "cell_type": "code",
      "metadata": {
        "colab_type": "code",
        "id": "Gxd_Od_0F6fS",
        "colab": {}
      },
      "source": [
        "Cluster1df=pd.DataFrame()\n",
        "accuracytest=[]\n",
        "accuracytrain=[]\n",
        "model=[]"
      ],
      "execution_count": 73,
      "outputs": []
    },
    {
      "cell_type": "code",
      "metadata": {
        "colab_type": "code",
        "id": "Vrds00DIF6ff",
        "colab": {
          "base_uri": "https://localhost:8080/",
          "height": 52
        },
        "outputId": "7eb0124c-5734-4216-adf9-650af3b0e312"
      },
      "source": [
        "features = TfidfVectorizer(max_features=10000,ngram_range=(1, 3))\n",
        "X_train_tfidf = features.fit_transform(X_train)\n",
        "X_test_tfidf = features.transform(X_test)\n",
        "chi2score = chi2(X_train_tfidf, Y_train)[1]\n",
        "ch2_result = [0]\n",
        "ch2_result1=[0]\n",
        "model.append('Logistic Regression with Chi Square')\n",
        "for n in np.arange(15000,100000,10000):\n",
        "    ch2 = SelectKBest(chi2, k=1)\n",
        "    X_train_chi2_selected = ch2.fit_transform(X_train_tfidf, Y_train)\n",
        "    X_test_chi2_selected = ch2.transform(X_test_tfidf)\n",
        "    clf = LogisticRegression()\n",
        "    clf.fit(X_train_chi2_selected, Y_train)\n",
        "    score = clf.score(X_test_chi2_selected, Y_test)\n",
        "    score1=clf.score(X_train_chi2_selected, Y_train)\n",
        "\n",
        "    if int(score*100)>np.array(ch2_result).max()*100:\n",
        "      print('Accuracy Score Test: '+str(score*100))\n",
        "      max=score\n",
        "    else:\n",
        "      pass\n",
        "    ch2_result.append(score)\n",
        "\n",
        "    if int(score1*100)>np.array(ch2_result1).max()*100:\n",
        "      print('Accuracy Score Train: '+str(score1*100))\n",
        "      max1=score1\n",
        "    else:\n",
        "      pass\n",
        "    ch2_result.append(score)\n",
        "    ch2_result1.append(score1)\n",
        "accuracytest.append(max*100)\n",
        "accuracytrain.append(max1*100)"
      ],
      "execution_count": 74,
      "outputs": [
        {
          "output_type": "stream",
          "text": [
            "Accuracy Score Test: 55.04291845493562\n",
            "Accuracy Score Train: 56.18675252989881\n"
          ],
          "name": "stdout"
        }
      ]
    },
    {
      "cell_type": "markdown",
      "metadata": {
        "colab_type": "text",
        "id": "ttOLs1oCF6fv"
      },
      "source": [
        "#### **Creating the TFIDF Vectors for further processing**"
      ]
    },
    {
      "cell_type": "code",
      "metadata": {
        "colab_type": "code",
        "id": "Of6gzNNAF6fx",
        "colab": {}
      },
      "source": [
        "vectorizer = TfidfVectorizer()\n",
        "train_vectors_0 = vectorizer.fit_transform(X_train)\n",
        "test_vectors_0 = vectorizer.transform(X_test)"
      ],
      "execution_count": 75,
      "outputs": []
    },
    {
      "cell_type": "markdown",
      "metadata": {
        "colab_type": "text",
        "id": "s2CUDeYjF6f6"
      },
      "source": [
        "#### **Multinomial Naive Bayes**\n"
      ]
    },
    {
      "cell_type": "code",
      "metadata": {
        "colab_type": "code",
        "id": "1dakIx9AF6f8",
        "colab": {
          "base_uri": "https://localhost:8080/",
          "height": 1000
        },
        "outputId": "c3547dad-d5cb-4862-8b63-63eb6a36b7db"
      },
      "source": [
        "nbc2 = Pipeline([('count', CountVectorizer()),\n",
        "               ('tfidf', TfidfTransformer()),\n",
        "               ('clf', MultinomialNB()),\n",
        "              ])\n",
        "nbc2.fit(X,Y)\n",
        "\n",
        "#Test Set\n",
        "Y_pred = nbc2.predict(X_test)\n",
        "\n",
        "print('Accuracy Score Test :'+str(float(accuracy_score(Y_pred, Y_test)*100)))\n",
        "model.append('Multinomial Naive Bayes')\n",
        "accuracytest.append(accuracy_score(Y_pred, Y_test)*100)\n",
        "print('\\n')\n",
        "print(classification_report(Y_test, Y_pred))\n",
        "\n",
        "# Train set\n",
        "\n",
        "Y_pred = nbc2.predict(X_train)\n",
        "\n",
        "print('\\n\\nAccuracy Score Train :'+str(float(accuracy_score(Y_pred, Y_train)*100)))\n",
        "accuracytrain.append(accuracy_score(Y_pred, Y_train)*100)\n",
        "print('\\n')\n",
        "print(classification_report(Y_train, Y_pred))"
      ],
      "execution_count": 76,
      "outputs": [
        {
          "output_type": "stream",
          "text": [
            "Accuracy Score Test :60.622317596566525\n",
            "\n",
            "\n",
            "              precision    recall  f1-score   support\n",
            "\n",
            "           0       0.58      1.00      0.74      1010\n",
            "           1       0.00      0.00      0.00        29\n",
            "           2       0.93      0.20      0.33        65\n",
            "           3       0.00      0.00      0.00        51\n",
            "           4       0.00      0.00      0.00        26\n",
            "           5       0.00      0.00      0.00        23\n",
            "           6       0.00      0.00      0.00        23\n",
            "           7       0.00      0.00      0.00        26\n",
            "           8       0.00      0.00      0.00        73\n",
            "           9       1.00      0.01      0.03        75\n",
            "          10       1.00      0.62      0.77        85\n",
            "          11       0.00      0.00      0.00        37\n",
            "          12       0.00      0.00      0.00        10\n",
            "          13       0.00      0.00      0.00        22\n",
            "          14       0.00      0.00      0.00        67\n",
            "          15       1.00      0.04      0.07        28\n",
            "          16       0.00      0.00      0.00        38\n",
            "          17       0.00      0.00      0.00        13\n",
            "          18       0.00      0.00      0.00        31\n",
            "          19       0.00      0.00      0.00         6\n",
            "          20       0.00      0.00      0.00        24\n",
            "          21       0.00      0.00      0.00        14\n",
            "          22       0.88      0.69      0.78        75\n",
            "          23       0.00      0.00      0.00        13\n",
            "\n",
            "    accuracy                           0.61      1864\n",
            "   macro avg       0.22      0.11      0.11      1864\n",
            "weighted avg       0.48      0.61      0.48      1864\n",
            "\n",
            "\n",
            "\n",
            "Accuracy Score Train :62.258509659613615\n",
            "\n",
            "\n",
            "              precision    recall  f1-score   support\n",
            "\n",
            "           0       0.60      1.00      0.75      2403\n",
            "           1       0.00      0.00      0.00        48\n",
            "           2       0.90      0.21      0.34       182\n",
            "           3       0.00      0.00      0.00        90\n",
            "           4       0.00      0.00      0.00        88\n",
            "           5       0.00      0.00      0.00        62\n",
            "           6       0.00      0.00      0.00        42\n",
            "           7       0.00      0.00      0.00        59\n",
            "           8       0.00      0.00      0.00       142\n",
            "           9       0.72      0.09      0.15       152\n",
            "          10       1.00      0.63      0.77       204\n",
            "          11       0.00      0.00      0.00        79\n",
            "          12       0.00      0.00      0.00        45\n",
            "          13       0.00      0.00      0.00        72\n",
            "          14       0.00      0.00      0.00       133\n",
            "          15       1.00      0.05      0.10        40\n",
            "          16       0.00      0.00      0.00        69\n",
            "          17       0.00      0.00      0.00        47\n",
            "          18       0.00      0.00      0.00        69\n",
            "          19       0.00      0.00      0.00        15\n",
            "          20       0.00      0.00      0.00        37\n",
            "          21       0.00      0.00      0.00        41\n",
            "          22       0.88      0.69      0.78       176\n",
            "          23       0.00      0.00      0.00        53\n",
            "\n",
            "    accuracy                           0.62      4348\n",
            "   macro avg       0.21      0.11      0.12      4348\n",
            "weighted avg       0.49      0.62      0.50      4348\n",
            "\n"
          ],
          "name": "stdout"
        },
        {
          "output_type": "stream",
          "text": [
            "/usr/local/lib/python3.6/dist-packages/sklearn/metrics/_classification.py:1272: UndefinedMetricWarning: Precision and F-score are ill-defined and being set to 0.0 in labels with no predicted samples. Use `zero_division` parameter to control this behavior.\n",
            "  _warn_prf(average, modifier, msg_start, len(result))\n",
            "/usr/local/lib/python3.6/dist-packages/sklearn/metrics/_classification.py:1272: UndefinedMetricWarning: Precision and F-score are ill-defined and being set to 0.0 in labels with no predicted samples. Use `zero_division` parameter to control this behavior.\n",
            "  _warn_prf(average, modifier, msg_start, len(result))\n"
          ],
          "name": "stderr"
        }
      ]
    },
    {
      "cell_type": "markdown",
      "metadata": {
        "colab_type": "text",
        "id": "97WdE0J-F6gH"
      },
      "source": [
        "#### **Support vector Machines**\n",
        "\n",
        "\n"
      ]
    },
    {
      "cell_type": "code",
      "metadata": {
        "colab_type": "code",
        "id": "Q43TTEWKF6gJ",
        "colab": {
          "base_uri": "https://localhost:8080/",
          "height": 52
        },
        "outputId": "f860b81d-5603-4934-b558-00d448b1ae8b"
      },
      "source": [
        "SVMc2 = svm.SVC(C=1.0, kernel='linear', degree=3, gamma='auto',random_state=1)\n",
        "SVMc2.fit(train_vectors_0,Y_train)\n",
        "\n",
        "#Test set\n",
        "predictions_SVM = SVMc2.predict(test_vectors_0)\n",
        "# Use accuracy_score function to get the accuracy\n",
        "print(\"Accuracy Score Test: \",accuracy_score(predictions_SVM, Y_test)*100)\n",
        "\n",
        "model.append('Support Vector Machines')\n",
        "accuracytest.append(accuracy_score(predictions_SVM, Y_test)*100)\n",
        "\n",
        "#Train set\n",
        "\n",
        "predictions_SVM = SVMc2.predict(train_vectors_0)\n",
        "# Use accuracy_score function to get the accuracy\n",
        "print(\"Accuracy Score Train : \",accuracy_score(predictions_SVM, Y_train)*100)\n",
        "\n",
        "accuracytrain.append(accuracy_score(predictions_SVM, Y_train)*100)\n",
        "\n"
      ],
      "execution_count": 77,
      "outputs": [
        {
          "output_type": "stream",
          "text": [
            "Accuracy Score Test:  70.70815450643777\n",
            "Accuracy Score Train :  87.14351425942962\n"
          ],
          "name": "stdout"
        }
      ]
    },
    {
      "cell_type": "markdown",
      "metadata": {
        "colab_type": "text",
        "id": "RanQ4-J_F6gV"
      },
      "source": [
        "#### **Decision tree**\n"
      ]
    },
    {
      "cell_type": "code",
      "metadata": {
        "colab_type": "code",
        "id": "wj2lUjraF6gY",
        "colab": {
          "base_uri": "https://localhost:8080/",
          "height": 52
        },
        "outputId": "8bc3ff3b-284a-4b32-b121-4eb22303a201"
      },
      "source": [
        "dTreec2 = DecisionTreeClassifier(criterion = 'gini', max_depth=5, random_state=1)\n",
        "dTreec2.fit(train_vectors_0, Y_train)\n",
        "\n",
        "\n",
        "print('Accuracy Score Test : ',dTreec2.score(test_vectors_0, Y_test)*100)\n",
        "model.append('Decision Tree ')\n",
        "accuracytest.append(dTreec2.score(test_vectors_0, Y_test)*100)\n",
        "\n",
        "\n",
        "print('Accuracy Score Train : ',dTreec2.score(train_vectors_0, Y_train)*100)\n",
        "accuracytrain.append(dTreec2.score(train_vectors_0, Y_train)*100)"
      ],
      "execution_count": 78,
      "outputs": [
        {
          "output_type": "stream",
          "text": [
            "Accuracy Score Test :  58.798283261802574\n",
            "Accuracy Score Train :  61.08555657773689\n"
          ],
          "name": "stdout"
        }
      ]
    },
    {
      "cell_type": "markdown",
      "metadata": {
        "colab_type": "text",
        "id": "l-AaRc_aF6gg"
      },
      "source": [
        "#### **Bagging Classifier**"
      ]
    },
    {
      "cell_type": "code",
      "metadata": {
        "colab_type": "code",
        "id": "_OVUzUhTF6gj",
        "colab": {
          "base_uri": "https://localhost:8080/",
          "height": 52
        },
        "outputId": "7dcb24ae-8223-439e-e390-d10815c033ee"
      },
      "source": [
        "bgc2 = BaggingClassifier(base_estimator=dTree, n_estimators=50,random_state=1)\n",
        "bgc2 = bgc2.fit(train_vectors_0, Y_train)\n",
        "\n",
        "y_predict = bgc2.predict(test_vectors_0)\n",
        "\n",
        "print('Accuracy Score Test : ',bgc2.score(test_vectors_0, Y_test)*100)\n",
        "model.append('Bagging Classifier')\n",
        "accuracytest.append(bgc2.score(test_vectors_0, Y_test)*100)\n",
        "\n",
        "print('Accuracy Score Train : ',bgc2.score(train_vectors_0, Y_train)*100)\n",
        "accuracytrain.append(bgc2.score(train_vectors_0, Y_train)*100)\n"
      ],
      "execution_count": 79,
      "outputs": [
        {
          "output_type": "stream",
          "text": [
            "Accuracy Score Test :  56.65236051502146\n",
            "Accuracy Score Train :  57.796688132474706\n"
          ],
          "name": "stdout"
        }
      ]
    },
    {
      "cell_type": "markdown",
      "metadata": {
        "colab_type": "text",
        "id": "ui3JYs45F6gv"
      },
      "source": [
        "#### **Adaboost Classifier**"
      ]
    },
    {
      "cell_type": "code",
      "metadata": {
        "colab_type": "code",
        "id": "EaGg_WYwF6gx",
        "colab": {
          "base_uri": "https://localhost:8080/",
          "height": 52
        },
        "outputId": "9c7d5f35-86b8-4a54-aebf-ff1537480fec"
      },
      "source": [
        "abc2 = AdaBoostClassifier(n_estimators=10, random_state=1)\n",
        "abc2 = abc2.fit(train_vectors_0, Y_train)\n",
        "\n",
        "y_predict = abc2.predict(test_vectors_0)\n",
        "print('Accuracy Score Test : ' ,abc2.score(test_vectors_0, Y_test)*100)\n",
        "model.append('Adaboost Classifier')\n",
        "accuracytest.append(abc2.score(test_vectors_0, Y_test)*100)\n",
        "\n",
        "\n",
        "y_predict = abc2.predict(train_vectors_0)\n",
        "print('Accuracy Score Train : ' ,abc2.score(train_vectors_0, Y_train)*100)\n",
        "accuracytrain.append(abc2.score(train_vectors_0, Y_train)*100)"
      ],
      "execution_count": 80,
      "outputs": [
        {
          "output_type": "stream",
          "text": [
            "Accuracy Score Test :  57.72532188841202\n",
            "Accuracy Score Train :  59.08463661453543\n"
          ],
          "name": "stdout"
        }
      ]
    },
    {
      "cell_type": "markdown",
      "metadata": {
        "colab_type": "text",
        "id": "oXuoMWHhF6g_"
      },
      "source": [
        "#### **Gradient Boost Classifier**\n",
        "\n"
      ]
    },
    {
      "cell_type": "code",
      "metadata": {
        "colab_type": "code",
        "id": "GqLSKlm6F6hB",
        "colab": {
          "base_uri": "https://localhost:8080/",
          "height": 52
        },
        "outputId": "2e4f60ca-34b0-40e2-b17f-21935e1e0b39"
      },
      "source": [
        "gbc2 = GradientBoostingClassifier(n_estimators = 50,random_state=1)\n",
        "gbc2 = gbc2.fit(train_vectors_0, Y_train)\n",
        "\n",
        "y_predict = gbc2.predict(test_vectors_0)\n",
        "\n",
        "print('Accuracy Score Test : ' ,gbc2.score(test_vectors_0, Y_test)*100)\n",
        "model.append('Gradient Boost Classifier')\n",
        "accuracytest.append(gbc2.score(test_vectors_0, Y_test)*100)\n",
        "\n",
        "\n",
        "print('Accuracy Score Train : ' ,gbc2.score(train_vectors_0, Y_train)*100)\n",
        "accuracytrain.append(gbc2.score(train_vectors_0, Y_train)*100)"
      ],
      "execution_count": 81,
      "outputs": [
        {
          "output_type": "stream",
          "text": [
            "Accuracy Score Test :  65.98712446351931\n",
            "Accuracy Score Train :  93.90524379024839\n"
          ],
          "name": "stdout"
        }
      ]
    },
    {
      "cell_type": "markdown",
      "metadata": {
        "colab_type": "text",
        "id": "qdbbQF0uF6hL"
      },
      "source": [
        "#### **Randomized Search CV to enhance Decision tree**\n",
        "\n"
      ]
    },
    {
      "cell_type": "code",
      "metadata": {
        "colab_type": "code",
        "id": "7qwhycoZF6hM",
        "colab": {
          "base_uri": "https://localhost:8080/",
          "height": 1000
        },
        "outputId": "3097359a-0f1e-4900-e058-45c7b865d5b9"
      },
      "source": [
        "parameter={'criterion':['gini','entropy'],\n",
        "            'max_depth':np.arange(0,100,1)\n",
        "            }\n",
        "\n",
        "random_searchdt = RandomizedSearchCV(estimator = dTreec2, param_distributions= parameter,cv = 3, verbose=2, random_state=1,return_train_score=True)\n",
        "random_searchdt.fit(train_vectors_0,Y_train)"
      ],
      "execution_count": 82,
      "outputs": [
        {
          "output_type": "stream",
          "text": [
            "Fitting 3 folds for each of 10 candidates, totalling 30 fits\n",
            "[CV] max_depth=58, criterion=gini ....................................\n"
          ],
          "name": "stdout"
        },
        {
          "output_type": "stream",
          "text": [
            "[Parallel(n_jobs=1)]: Using backend SequentialBackend with 1 concurrent workers.\n"
          ],
          "name": "stderr"
        },
        {
          "output_type": "stream",
          "text": [
            "[CV] ..................... max_depth=58, criterion=gini, total=   0.7s\n",
            "[CV] max_depth=58, criterion=gini ....................................\n"
          ],
          "name": "stdout"
        },
        {
          "output_type": "stream",
          "text": [
            "[Parallel(n_jobs=1)]: Done   1 out of   1 | elapsed:    0.7s remaining:    0.0s\n"
          ],
          "name": "stderr"
        },
        {
          "output_type": "stream",
          "text": [
            "[CV] ..................... max_depth=58, criterion=gini, total=   0.7s\n",
            "[CV] max_depth=58, criterion=gini ....................................\n",
            "[CV] ..................... max_depth=58, criterion=gini, total=   0.7s\n",
            "[CV] max_depth=40, criterion=gini ....................................\n",
            "[CV] ..................... max_depth=40, criterion=gini, total=   0.6s\n",
            "[CV] max_depth=40, criterion=gini ....................................\n",
            "[CV] ..................... max_depth=40, criterion=gini, total=   0.6s\n",
            "[CV] max_depth=40, criterion=gini ....................................\n",
            "[CV] ..................... max_depth=40, criterion=gini, total=   0.6s\n",
            "[CV] max_depth=34, criterion=gini ....................................\n",
            "[CV] ..................... max_depth=34, criterion=gini, total=   0.5s\n",
            "[CV] max_depth=34, criterion=gini ....................................\n",
            "[CV] ..................... max_depth=34, criterion=gini, total=   0.6s\n",
            "[CV] max_depth=34, criterion=gini ....................................\n",
            "[CV] ..................... max_depth=34, criterion=gini, total=   0.5s\n",
            "[CV] max_depth=2, criterion=entropy ..................................\n",
            "[CV] ................... max_depth=2, criterion=entropy, total=   0.2s\n",
            "[CV] max_depth=2, criterion=entropy ..................................\n",
            "[CV] ................... max_depth=2, criterion=entropy, total=   0.2s\n",
            "[CV] max_depth=2, criterion=entropy ..................................\n",
            "[CV] ................... max_depth=2, criterion=entropy, total=   0.2s\n",
            "[CV] max_depth=84, criterion=entropy .................................\n",
            "[CV] .................. max_depth=84, criterion=entropy, total=   1.2s\n",
            "[CV] max_depth=84, criterion=entropy .................................\n",
            "[CV] .................. max_depth=84, criterion=entropy, total=   1.2s\n",
            "[CV] max_depth=84, criterion=entropy .................................\n",
            "[CV] .................. max_depth=84, criterion=entropy, total=   1.3s\n",
            "[CV] max_depth=98, criterion=entropy .................................\n",
            "[CV] .................. max_depth=98, criterion=entropy, total=   1.2s\n",
            "[CV] max_depth=98, criterion=entropy .................................\n",
            "[CV] .................. max_depth=98, criterion=entropy, total=   1.2s\n",
            "[CV] max_depth=98, criterion=entropy .................................\n",
            "[CV] .................. max_depth=98, criterion=entropy, total=   1.3s\n",
            "[CV] max_depth=95, criterion=gini ....................................\n",
            "[CV] ..................... max_depth=95, criterion=gini, total=   0.8s\n",
            "[CV] max_depth=95, criterion=gini ....................................\n",
            "[CV] ..................... max_depth=95, criterion=gini, total=   0.8s\n",
            "[CV] max_depth=95, criterion=gini ....................................\n",
            "[CV] ..................... max_depth=95, criterion=gini, total=   0.8s\n",
            "[CV] max_depth=4, criterion=gini .....................................\n",
            "[CV] ...................... max_depth=4, criterion=gini, total=   0.1s\n",
            "[CV] max_depth=4, criterion=gini .....................................\n",
            "[CV] ...................... max_depth=4, criterion=gini, total=   0.1s\n",
            "[CV] max_depth=4, criterion=gini .....................................\n",
            "[CV] ...................... max_depth=4, criterion=gini, total=   0.1s\n",
            "[CV] max_depth=29, criterion=gini ....................................\n",
            "[CV] ..................... max_depth=29, criterion=gini, total=   0.4s\n",
            "[CV] max_depth=29, criterion=gini ....................................\n",
            "[CV] ..................... max_depth=29, criterion=gini, total=   0.5s\n",
            "[CV] max_depth=29, criterion=gini ....................................\n",
            "[CV] ..................... max_depth=29, criterion=gini, total=   0.5s\n",
            "[CV] max_depth=68, criterion=entropy .................................\n",
            "[CV] .................. max_depth=68, criterion=entropy, total=   1.3s\n",
            "[CV] max_depth=68, criterion=entropy .................................\n",
            "[CV] .................. max_depth=68, criterion=entropy, total=   1.3s\n",
            "[CV] max_depth=68, criterion=entropy .................................\n",
            "[CV] .................. max_depth=68, criterion=entropy, total=   1.4s\n"
          ],
          "name": "stdout"
        },
        {
          "output_type": "stream",
          "text": [
            "[Parallel(n_jobs=1)]: Done  30 out of  30 | elapsed:   21.6s finished\n"
          ],
          "name": "stderr"
        },
        {
          "output_type": "execute_result",
          "data": {
            "text/plain": [
              "RandomizedSearchCV(cv=3, error_score=nan,\n",
              "                   estimator=DecisionTreeClassifier(ccp_alpha=0.0,\n",
              "                                                    class_weight=None,\n",
              "                                                    criterion='gini',\n",
              "                                                    max_depth=5,\n",
              "                                                    max_features=None,\n",
              "                                                    max_leaf_nodes=None,\n",
              "                                                    min_impurity_decrease=0.0,\n",
              "                                                    min_impurity_split=None,\n",
              "                                                    min_samples_leaf=1,\n",
              "                                                    min_samples_split=2,\n",
              "                                                    min_weight_fraction_leaf=0.0,\n",
              "                                                    presort='deprecated',\n",
              "                                                    random_state=1,\n",
              "                                                    splitter='best'),\n",
              "                   iid='de...\n",
              "                                        'max_depth': array([ 0,  1,  2,  3,  4,  5,  6,  7,  8,  9, 10, 11, 12, 13, 14, 15, 16,\n",
              "       17, 18, 19, 20, 21, 22, 23, 24, 25, 26, 27, 28, 29, 30, 31, 32, 33,\n",
              "       34, 35, 36, 37, 38, 39, 40, 41, 42, 43, 44, 45, 46, 47, 48, 49, 50,\n",
              "       51, 52, 53, 54, 55, 56, 57, 58, 59, 60, 61, 62, 63, 64, 65, 66, 67,\n",
              "       68, 69, 70, 71, 72, 73, 74, 75, 76, 77, 78, 79, 80, 81, 82, 83, 84,\n",
              "       85, 86, 87, 88, 89, 90, 91, 92, 93, 94, 95, 96, 97, 98, 99])},\n",
              "                   pre_dispatch='2*n_jobs', random_state=1, refit=True,\n",
              "                   return_train_score=True, scoring=None, verbose=2)"
            ]
          },
          "metadata": {
            "tags": []
          },
          "execution_count": 82
        }
      ]
    },
    {
      "cell_type": "code",
      "metadata": {
        "colab_type": "code",
        "id": "0X61itp7F6hb",
        "colab": {
          "base_uri": "https://localhost:8080/",
          "height": 34
        },
        "outputId": "3bad7a81-2401-4722-f294-6312fa1afbb7"
      },
      "source": [
        "random_searchdt.best_params_\n",
        "\n"
      ],
      "execution_count": 83,
      "outputs": [
        {
          "output_type": "execute_result",
          "data": {
            "text/plain": [
              "{'criterion': 'gini', 'max_depth': 29}"
            ]
          },
          "metadata": {
            "tags": []
          },
          "execution_count": 83
        }
      ]
    },
    {
      "cell_type": "code",
      "metadata": {
        "colab_type": "code",
        "id": "SDCx4jqoF6hl",
        "colab": {
          "base_uri": "https://localhost:8080/",
          "height": 52
        },
        "outputId": "d8ac3179-b49b-4857-8b89-60882a481c77"
      },
      "source": [
        "dTreec22 = DecisionTreeClassifier(criterion = 'gini', max_depth=40,random_state=1)\n",
        "dTreec22.fit(train_vectors_0, Y_train)\n",
        "\n",
        "\n",
        "print('Accuracy Score Test : ',dTreec22.score(test_vectors_0, Y_test)*100)\n",
        "model.append('Decision Tree Hyper Tuned ')\n",
        "accuracytest.append(dTreec22.score(test_vectors_0, Y_test)*100)\n",
        "\n",
        "\n",
        "print('Accuracy Score Train : ',dTreec22.score(train_vectors_0, Y_train)*100)\n",
        "accuracytrain.append(dTreec22.score(train_vectors_0, Y_train)*100)\n"
      ],
      "execution_count": 84,
      "outputs": [
        {
          "output_type": "stream",
          "text": [
            "Accuracy Score Test :  62.392703862660944\n",
            "Accuracy Score Train :  82.24471021159154\n"
          ],
          "name": "stdout"
        }
      ]
    },
    {
      "cell_type": "markdown",
      "metadata": {
        "colab_type": "text",
        "id": "3wl0_C5cF6hx"
      },
      "source": [
        "#### With the randomized search, it seems that we have a lower accuracy"
      ]
    },
    {
      "cell_type": "code",
      "metadata": {
        "colab_type": "code",
        "id": "MjfLDV9hF6hy",
        "colab": {
          "base_uri": "https://localhost:8080/",
          "height": 1000
        },
        "outputId": "6ae401b2-265b-4944-ff81-79de18c5cf3f"
      },
      "source": [
        "parameter={'C':np.arange(0.6,3,0.1),\n",
        " 'kernel': ['linear','poly','rbf'],\n",
        " 'gamma' : ['scale','auto'],\n",
        " 'degree':np.arange(0,5,1)}\n",
        "\n",
        "random_searchSVM = RandomizedSearchCV(estimator = SVMc2, param_distributions= parameter,cv = 3, verbose=2, random_state=1,return_train_score=True)\n",
        "random_searchSVM.fit(train_vectors_0,Y_train)\n",
        "\n"
      ],
      "execution_count": 85,
      "outputs": [
        {
          "output_type": "stream",
          "text": [
            "Fitting 3 folds for each of 10 candidates, totalling 30 fits\n",
            "[CV] kernel=rbf, gamma=auto, degree=4, C=0.7 .........................\n"
          ],
          "name": "stdout"
        },
        {
          "output_type": "stream",
          "text": [
            "[Parallel(n_jobs=1)]: Using backend SequentialBackend with 1 concurrent workers.\n"
          ],
          "name": "stderr"
        },
        {
          "output_type": "stream",
          "text": [
            "[CV] .......... kernel=rbf, gamma=auto, degree=4, C=0.7, total=   2.8s\n",
            "[CV] kernel=rbf, gamma=auto, degree=4, C=0.7 .........................\n"
          ],
          "name": "stdout"
        },
        {
          "output_type": "stream",
          "text": [
            "[Parallel(n_jobs=1)]: Done   1 out of   1 | elapsed:    4.6s remaining:    0.0s\n"
          ],
          "name": "stderr"
        },
        {
          "output_type": "stream",
          "text": [
            "[CV] .......... kernel=rbf, gamma=auto, degree=4, C=0.7, total=   2.8s\n",
            "[CV] kernel=rbf, gamma=auto, degree=4, C=0.7 .........................\n",
            "[CV] .......... kernel=rbf, gamma=auto, degree=4, C=0.7, total=   2.7s\n",
            "[CV] kernel=linear, gamma=scale, degree=0, C=0.7999999999999999 ......\n",
            "[CV]  kernel=linear, gamma=scale, degree=0, C=0.7999999999999999, total=   5.0s\n",
            "[CV] kernel=linear, gamma=scale, degree=0, C=0.7999999999999999 ......\n",
            "[CV]  kernel=linear, gamma=scale, degree=0, C=0.7999999999999999, total=   5.0s\n",
            "[CV] kernel=linear, gamma=scale, degree=0, C=0.7999999999999999 ......\n",
            "[CV]  kernel=linear, gamma=scale, degree=0, C=0.7999999999999999, total=   5.0s\n",
            "[CV] kernel=poly, gamma=auto, degree=0, C=1.2999999999999998 .........\n",
            "[CV]  kernel=poly, gamma=auto, degree=0, C=1.2999999999999998, total=   2.1s\n",
            "[CV] kernel=poly, gamma=auto, degree=0, C=1.2999999999999998 .........\n",
            "[CV]  kernel=poly, gamma=auto, degree=0, C=1.2999999999999998, total=   2.1s\n",
            "[CV] kernel=poly, gamma=auto, degree=0, C=1.2999999999999998 .........\n",
            "[CV]  kernel=poly, gamma=auto, degree=0, C=1.2999999999999998, total=   2.2s\n",
            "[CV] kernel=poly, gamma=scale, degree=1, C=2.6999999999999997 ........\n",
            "[CV]  kernel=poly, gamma=scale, degree=1, C=2.6999999999999997, total=   5.0s\n",
            "[CV] kernel=poly, gamma=scale, degree=1, C=2.6999999999999997 ........\n",
            "[CV]  kernel=poly, gamma=scale, degree=1, C=2.6999999999999997, total=   5.0s\n",
            "[CV] kernel=poly, gamma=scale, degree=1, C=2.6999999999999997 ........\n",
            "[CV]  kernel=poly, gamma=scale, degree=1, C=2.6999999999999997, total=   5.0s\n",
            "[CV] kernel=rbf, gamma=scale, degree=1, C=0.6 ........................\n",
            "[CV] ......... kernel=rbf, gamma=scale, degree=1, C=0.6, total=   8.8s\n",
            "[CV] kernel=rbf, gamma=scale, degree=1, C=0.6 ........................\n",
            "[CV] ......... kernel=rbf, gamma=scale, degree=1, C=0.6, total=   8.8s\n",
            "[CV] kernel=rbf, gamma=scale, degree=1, C=0.6 ........................\n",
            "[CV] ......... kernel=rbf, gamma=scale, degree=1, C=0.6, total=   8.7s\n",
            "[CV] kernel=rbf, gamma=auto, degree=1, C=0.8999999999999999 ..........\n",
            "[CV]  kernel=rbf, gamma=auto, degree=1, C=0.8999999999999999, total=   2.5s\n",
            "[CV] kernel=rbf, gamma=auto, degree=1, C=0.8999999999999999 ..........\n",
            "[CV]  kernel=rbf, gamma=auto, degree=1, C=0.8999999999999999, total=   2.6s\n",
            "[CV] kernel=rbf, gamma=auto, degree=1, C=0.8999999999999999 ..........\n",
            "[CV]  kernel=rbf, gamma=auto, degree=1, C=0.8999999999999999, total=   2.6s\n",
            "[CV] kernel=linear, gamma=scale, degree=4, C=2.0999999999999996 ......\n",
            "[CV]  kernel=linear, gamma=scale, degree=4, C=2.0999999999999996, total=   5.2s\n",
            "[CV] kernel=linear, gamma=scale, degree=4, C=2.0999999999999996 ......\n",
            "[CV]  kernel=linear, gamma=scale, degree=4, C=2.0999999999999996, total=   5.1s\n",
            "[CV] kernel=linear, gamma=scale, degree=4, C=2.0999999999999996 ......\n",
            "[CV]  kernel=linear, gamma=scale, degree=4, C=2.0999999999999996, total=   5.0s\n",
            "[CV] kernel=rbf, gamma=auto, degree=1, C=1.0999999999999999 ..........\n",
            "[CV]  kernel=rbf, gamma=auto, degree=1, C=1.0999999999999999, total=   2.7s\n",
            "[CV] kernel=rbf, gamma=auto, degree=1, C=1.0999999999999999 ..........\n",
            "[CV]  kernel=rbf, gamma=auto, degree=1, C=1.0999999999999999, total=   2.7s\n",
            "[CV] kernel=rbf, gamma=auto, degree=1, C=1.0999999999999999 ..........\n",
            "[CV]  kernel=rbf, gamma=auto, degree=1, C=1.0999999999999999, total=   2.8s\n",
            "[CV] kernel=poly, gamma=auto, degree=2, C=1.9 ........................\n",
            "[CV] ......... kernel=poly, gamma=auto, degree=2, C=1.9, total=   2.5s\n",
            "[CV] kernel=poly, gamma=auto, degree=2, C=1.9 ........................\n",
            "[CV] ......... kernel=poly, gamma=auto, degree=2, C=1.9, total=   2.5s\n",
            "[CV] kernel=poly, gamma=auto, degree=2, C=1.9 ........................\n",
            "[CV] ......... kernel=poly, gamma=auto, degree=2, C=1.9, total=   2.5s\n",
            "[CV] kernel=rbf, gamma=auto, degree=4, C=2.1999999999999997 ..........\n",
            "[CV]  kernel=rbf, gamma=auto, degree=4, C=2.1999999999999997, total=   2.8s\n",
            "[CV] kernel=rbf, gamma=auto, degree=4, C=2.1999999999999997 ..........\n",
            "[CV]  kernel=rbf, gamma=auto, degree=4, C=2.1999999999999997, total=   2.7s\n",
            "[CV] kernel=rbf, gamma=auto, degree=4, C=2.1999999999999997 ..........\n",
            "[CV]  kernel=rbf, gamma=auto, degree=4, C=2.1999999999999997, total=   2.7s\n"
          ],
          "name": "stdout"
        },
        {
          "output_type": "stream",
          "text": [
            "[Parallel(n_jobs=1)]: Done  30 out of  30 | elapsed:  2.9min finished\n"
          ],
          "name": "stderr"
        },
        {
          "output_type": "execute_result",
          "data": {
            "text/plain": [
              "RandomizedSearchCV(cv=3, error_score=nan,\n",
              "                   estimator=SVC(C=1.0, break_ties=False, cache_size=200,\n",
              "                                 class_weight=None, coef0=0.0,\n",
              "                                 decision_function_shape='ovr', degree=3,\n",
              "                                 gamma='auto', kernel='linear', max_iter=-1,\n",
              "                                 probability=False, random_state=1,\n",
              "                                 shrinking=True, tol=0.001, verbose=False),\n",
              "                   iid='deprecated', n_iter=10, n_jobs=None,\n",
              "                   param_distributions={'C': array([0.6, 0.7, 0.8, 0.9, 1. , 1.1, 1.2, 1.3, 1.4, 1.5, 1.6, 1.7, 1.8,\n",
              "       1.9, 2. , 2.1, 2.2, 2.3, 2.4, 2.5, 2.6, 2.7, 2.8, 2.9]),\n",
              "                                        'degree': array([0, 1, 2, 3, 4]),\n",
              "                                        'gamma': ['scale', 'auto'],\n",
              "                                        'kernel': ['linear', 'poly', 'rbf']},\n",
              "                   pre_dispatch='2*n_jobs', random_state=1, refit=True,\n",
              "                   return_train_score=True, scoring=None, verbose=2)"
            ]
          },
          "metadata": {
            "tags": []
          },
          "execution_count": 85
        }
      ]
    },
    {
      "cell_type": "code",
      "metadata": {
        "colab_type": "code",
        "id": "X3xBdNPmF6h6",
        "colab": {
          "base_uri": "https://localhost:8080/",
          "height": 34
        },
        "outputId": "607423f1-8212-45c5-ca69-490c74b45751"
      },
      "source": [
        "random_searchSVM.best_params_"
      ],
      "execution_count": 86,
      "outputs": [
        {
          "output_type": "execute_result",
          "data": {
            "text/plain": [
              "{'C': 2.6999999999999997, 'degree': 1, 'gamma': 'scale', 'kernel': 'poly'}"
            ]
          },
          "metadata": {
            "tags": []
          },
          "execution_count": 86
        }
      ]
    },
    {
      "cell_type": "code",
      "metadata": {
        "colab_type": "code",
        "id": "M5FNmT_nF6iA",
        "colab": {
          "base_uri": "https://localhost:8080/",
          "height": 52
        },
        "outputId": "e73fd5f6-efd3-4810-8fd0-d07aca93bcec"
      },
      "source": [
        "SVMc22 = svm.SVC(C=2.69, kernel='poly', degree=1, gamma='scale')\n",
        "SVMc22.fit(train_vectors_0,Y_train)\n",
        "\n",
        "#Test set\n",
        "predictions_SVM = SVMc22.predict(test_vectors_0)\n",
        "# Use accuracy_score function to get the accuracy\n",
        "print(\"Accuracy Score Test: \",accuracy_score(predictions_SVM, Y_test)*100)\n",
        "\n",
        "model.append('Support Vector Machines- Hypertuned')\n",
        "accuracytest.append(accuracy_score(predictions_SVM, Y_test)*100)\n",
        "\n",
        "#Train set\n",
        "\n",
        "predictions_SVM = SVMc22.predict(train_vectors_0)\n",
        "# Use accuracy_score function to get the accuracy\n",
        "print(\"Accuracy Score Train : \",accuracy_score(predictions_SVM, Y_train)*100)\n",
        "\n",
        "accuracytrain.append(accuracy_score(predictions_SVM, Y_train)*100)\n",
        "\n"
      ],
      "execution_count": 87,
      "outputs": [
        {
          "output_type": "stream",
          "text": [
            "Accuracy Score Test:  73.12231759656652\n",
            "Accuracy Score Train :  98.06807727690892\n"
          ],
          "name": "stdout"
        }
      ]
    },
    {
      "cell_type": "markdown",
      "metadata": {
        "colab_type": "text",
        "id": "mDHQf5gPF6iI"
      },
      "source": [
        "#### **Sequential Model**"
      ]
    },
    {
      "cell_type": "code",
      "metadata": {
        "colab_type": "code",
        "id": "AlawEb10F6iK",
        "colab": {
          "base_uri": "https://localhost:8080/",
          "height": 52
        },
        "outputId": "1cb362a6-d44a-4add-99bb-1ff2f1539c01"
      },
      "source": [
        "tok = Tokenizer(num_words = max_features)\n",
        "tok.fit_on_texts(data.Description)\n",
        "X = tok.texts_to_sequences(data['Description'][data['Cluster TFIDFV']==2])\n",
        "X = pad_sequences(X, maxlen = maxlen)\n",
        "Y = np.asarray(data['Assignment group'][data['Cluster TFIDFV']==2])\n",
        "\n",
        "X_train, X_test, Y_train, Y_test = train_test_split(X, Y, test_size=0.3, random_state=1)\n",
        "print(X_train.shape,Y_train.shape)\n",
        "print(X_test.shape,Y_test.shape)"
      ],
      "execution_count": 88,
      "outputs": [
        {
          "output_type": "stream",
          "text": [
            "(4348, 350) (4348,)\n",
            "(1864, 350) (1864,)\n"
          ],
          "name": "stdout"
        }
      ]
    },
    {
      "cell_type": "code",
      "metadata": {
        "colab_type": "code",
        "id": "Zl3yox4pF6iT",
        "colab": {
          "base_uri": "https://localhost:8080/",
          "height": 347
        },
        "outputId": "f555e7ad-e79d-4b17-b6c1-dad96b485d60"
      },
      "source": [
        "embed_dim = 256\n",
        "lstm_out = 64\n",
        "max_features = 2000\n",
        "maxlen = 350\n",
        "embedding_size = 200\n",
        "\n",
        "modelsc2 = Sequential()\n",
        "modelsc2.add(Embedding(max_features, embed_dim,input_length = X.shape[1]))\n",
        "modelsc2.add(SpatialDropout1D(0.4))\n",
        "modelsc2.add(MaxPooling1D(pool_size=4))\n",
        "modelsc2.add(LSTM(100))\n",
        "#model.add(LSTM(lstm_out, dropout=0.2, recurrent_dropout=0.4))\n",
        "modelsc2.add(Dense(350,activation='softmax'))\n",
        "modelsc2.compile(loss = 'sparse_categorical_crossentropy', optimizer='adam',metrics = ['accuracy'])\n",
        "print(modelsc2.summary())\n",
        "\n"
      ],
      "execution_count": 89,
      "outputs": [
        {
          "output_type": "stream",
          "text": [
            "Model: \"sequential_7\"\n",
            "_________________________________________________________________\n",
            "Layer (type)                 Output Shape              Param #   \n",
            "=================================================================\n",
            "embedding_7 (Embedding)      (None, 350, 256)          512000    \n",
            "_________________________________________________________________\n",
            "spatial_dropout1d_3 (Spatial (None, 350, 256)          0         \n",
            "_________________________________________________________________\n",
            "max_pooling1d_5 (MaxPooling1 (None, 87, 256)           0         \n",
            "_________________________________________________________________\n",
            "lstm_7 (LSTM)                (None, 100)               142800    \n",
            "_________________________________________________________________\n",
            "dense_7 (Dense)              (None, 350)               35350     \n",
            "=================================================================\n",
            "Total params: 690,150\n",
            "Trainable params: 690,150\n",
            "Non-trainable params: 0\n",
            "_________________________________________________________________\n",
            "None\n"
          ],
          "name": "stdout"
        }
      ]
    },
    {
      "cell_type": "code",
      "metadata": {
        "colab_type": "code",
        "id": "qYKk_N6dF6ie",
        "colab": {
          "base_uri": "https://localhost:8080/",
          "height": 1000
        },
        "outputId": "71cdf239-6030-4c30-a958-8a7617191169"
      },
      "source": [
        "histc2=modelsc2.fit(X_train,Y_train, validation_data = (X_test, Y_test), epochs=30, batch_size=32, verbose=2) \n",
        "# Final evaluation of the model\n",
        "model.append('Sequential Model')\n",
        "scores = modelsc2.evaluate(X_test, Y_test, verbose=0)\n",
        "accuracytest.append(scores[1]*100)\n",
        "scores = modelsc2.evaluate(X_train, Y_train, verbose=0)\n",
        "accuracytrain.append(scores[1]*100)"
      ],
      "execution_count": 90,
      "outputs": [
        {
          "output_type": "stream",
          "text": [
            "/usr/local/lib/python3.6/dist-packages/tensorflow/python/framework/indexed_slices.py:434: UserWarning: Converting sparse IndexedSlices to a dense Tensor of unknown shape. This may consume a large amount of memory.\n",
            "  \"Converting sparse IndexedSlices to a dense Tensor of unknown shape. \"\n"
          ],
          "name": "stderr"
        },
        {
          "output_type": "stream",
          "text": [
            "Train on 4348 samples, validate on 1864 samples\n",
            "Epoch 1/30\n",
            " - 35s - loss: 2.4727 - accuracy: 0.5458 - val_loss: 2.0648 - val_accuracy: 0.5408\n",
            "Epoch 2/30\n",
            " - 33s - loss: 1.9361 - accuracy: 0.5593 - val_loss: 1.8836 - val_accuracy: 0.5574\n",
            "Epoch 3/30\n",
            " - 34s - loss: 1.7020 - accuracy: 0.5869 - val_loss: 1.7092 - val_accuracy: 0.5762\n",
            "Epoch 4/30\n",
            " - 34s - loss: 1.5272 - accuracy: 0.6115 - val_loss: 1.6287 - val_accuracy: 0.5971\n",
            "Epoch 5/30\n",
            " - 33s - loss: 1.4109 - accuracy: 0.6341 - val_loss: 1.5909 - val_accuracy: 0.6030\n",
            "Epoch 6/30\n",
            " - 33s - loss: 1.3263 - accuracy: 0.6525 - val_loss: 1.5766 - val_accuracy: 0.6094\n",
            "Epoch 7/30\n",
            " - 33s - loss: 1.2484 - accuracy: 0.6598 - val_loss: 1.5467 - val_accuracy: 0.6180\n",
            "Epoch 8/30\n",
            " - 32s - loss: 1.1774 - accuracy: 0.6780 - val_loss: 1.5637 - val_accuracy: 0.6041\n",
            "Epoch 9/30\n",
            " - 34s - loss: 1.0991 - accuracy: 0.6923 - val_loss: 1.5390 - val_accuracy: 0.6014\n",
            "Epoch 10/30\n",
            " - 33s - loss: 1.0287 - accuracy: 0.7123 - val_loss: 1.5325 - val_accuracy: 0.6148\n",
            "Epoch 11/30\n",
            " - 33s - loss: 0.9609 - accuracy: 0.7277 - val_loss: 1.5581 - val_accuracy: 0.6191\n",
            "Epoch 12/30\n",
            " - 32s - loss: 0.8970 - accuracy: 0.7445 - val_loss: 1.5527 - val_accuracy: 0.6014\n",
            "Epoch 13/30\n",
            " - 33s - loss: 0.8445 - accuracy: 0.7622 - val_loss: 1.5383 - val_accuracy: 0.6025\n",
            "Epoch 14/30\n",
            " - 32s - loss: 0.7779 - accuracy: 0.7824 - val_loss: 1.6161 - val_accuracy: 0.6116\n",
            "Epoch 15/30\n",
            " - 33s - loss: 0.7468 - accuracy: 0.7942 - val_loss: 1.6064 - val_accuracy: 0.6223\n",
            "Epoch 16/30\n",
            " - 32s - loss: 0.6785 - accuracy: 0.8160 - val_loss: 1.5826 - val_accuracy: 0.6191\n",
            "Epoch 17/30\n",
            " - 34s - loss: 0.6302 - accuracy: 0.8296 - val_loss: 1.5866 - val_accuracy: 0.6180\n",
            "Epoch 18/30\n",
            " - 33s - loss: 0.5856 - accuracy: 0.8480 - val_loss: 1.6416 - val_accuracy: 0.6357\n",
            "Epoch 19/30\n",
            " - 34s - loss: 0.5415 - accuracy: 0.8609 - val_loss: 1.6547 - val_accuracy: 0.6245\n",
            "Epoch 20/30\n",
            " - 32s - loss: 0.5116 - accuracy: 0.8673 - val_loss: 1.7006 - val_accuracy: 0.6218\n",
            "Epoch 21/30\n",
            " - 34s - loss: 0.4676 - accuracy: 0.8813 - val_loss: 1.7063 - val_accuracy: 0.6277\n",
            "Epoch 22/30\n",
            " - 34s - loss: 0.4638 - accuracy: 0.8783 - val_loss: 1.7185 - val_accuracy: 0.6239\n",
            "Epoch 23/30\n",
            " - 35s - loss: 0.4196 - accuracy: 0.8947 - val_loss: 1.7057 - val_accuracy: 0.6202\n",
            "Epoch 24/30\n",
            " - 34s - loss: 0.3942 - accuracy: 0.9004 - val_loss: 1.7517 - val_accuracy: 0.6196\n",
            "Epoch 25/30\n",
            " - 34s - loss: 0.3609 - accuracy: 0.9112 - val_loss: 1.7694 - val_accuracy: 0.6223\n",
            "Epoch 26/30\n",
            " - 34s - loss: 0.3440 - accuracy: 0.9202 - val_loss: 1.8002 - val_accuracy: 0.6180\n",
            "Epoch 27/30\n",
            " - 35s - loss: 0.3198 - accuracy: 0.9209 - val_loss: 1.8213 - val_accuracy: 0.6250\n",
            "Epoch 28/30\n",
            " - 35s - loss: 0.3003 - accuracy: 0.9294 - val_loss: 1.8491 - val_accuracy: 0.6196\n",
            "Epoch 29/30\n",
            " - 34s - loss: 0.2964 - accuracy: 0.9264 - val_loss: 1.9101 - val_accuracy: 0.6255\n",
            "Epoch 30/30\n",
            " - 34s - loss: 0.2830 - accuracy: 0.9292 - val_loss: 1.9050 - val_accuracy: 0.6298\n"
          ],
          "name": "stdout"
        }
      ]
    },
    {
      "cell_type": "code",
      "metadata": {
        "colab_type": "code",
        "id": "lP9KBL8zF6ip",
        "colab": {
          "base_uri": "https://localhost:8080/",
          "height": 279
        },
        "outputId": "87c404f2-18b1-44c5-e26c-5d35d6200520"
      },
      "source": [
        "plt.plot(histc2.history['val_accuracy'],color='black')\n",
        "plt.plot(histc2.history['accuracy'])\n",
        "plt.xlabel('Accuracy')\n",
        "plt.ylabel('Iterations')\n",
        "plt.show()"
      ],
      "execution_count": 91,
      "outputs": [
        {
          "output_type": "display_data",
          "data": {
            "image/png": "[encoded data removed]",
            "text/plain": [
              "<Figure size 432x288 with 1 Axes>"
            ]
          },
          "metadata": {
            "tags": [],
            "needs_background": "light"
          }
        }
      ]
    },
    {
      "cell_type": "code",
      "metadata": {
        "colab_type": "code",
        "id": "JB3KHx7ZF6ix",
        "colab": {
          "base_uri": "https://localhost:8080/",
          "height": 279
        },
        "outputId": "4f360eec-c708-4bd9-dce9-ec584c490708"
      },
      "source": [
        "plt.plot(histc2.history['val_loss'],color='black')\n",
        "plt.plot(histc2.history['loss'])\n",
        "plt.xlabel('Loss')\n",
        "plt.ylabel('Iterations')\n",
        "plt.show()"
      ],
      "execution_count": 92,
      "outputs": [
        {
          "output_type": "display_data",
          "data": {
            "image/png": "[encoded data removed]",
            "text/plain": [
              "<Figure size 432x288 with 1 Axes>"
            ]
          },
          "metadata": {
            "tags": [],
            "needs_background": "light"
          }
        }
      ]
    },
    {
      "cell_type": "markdown",
      "metadata": {
        "colab_type": "text",
        "id": "_Oeb3QyAF6i3"
      },
      "source": [
        "#### **Bidirectional LSTM**"
      ]
    },
    {
      "cell_type": "code",
      "metadata": {
        "colab_type": "code",
        "id": "3FvxStsEF6i3",
        "colab": {
          "base_uri": "https://localhost:8080/",
          "height": 1000
        },
        "outputId": "90fe49b8-4c03-4764-cdc5-256d67c3bad7"
      },
      "source": [
        "\n",
        "lsmodc2 = lstmm()\n",
        "\n",
        "lshistc2 = lsmodc2.fit(X_train,Y_train,\n",
        "         epochs = 30,\n",
        "         batch_size = 128,\n",
        "         validation_data = (X_test, Y_test))"
      ],
      "execution_count": 93,
      "outputs": [
        {
          "output_type": "stream",
          "text": [
            "/usr/local/lib/python3.6/dist-packages/tensorflow/python/framework/indexed_slices.py:434: UserWarning: Converting sparse IndexedSlices to a dense Tensor of unknown shape. This may consume a large amount of memory.\n",
            "  \"Converting sparse IndexedSlices to a dense Tensor of unknown shape. \"\n"
          ],
          "name": "stderr"
        },
        {
          "output_type": "stream",
          "text": [
            "Train on 4348 samples, validate on 1864 samples\n",
            "Epoch 1/30\n",
            "4348/4348 [==============================] - 68s 16ms/step - loss: 4.7301 - acc: 0.4940 - val_loss: 2.9131 - val_acc: 0.5408\n",
            "Epoch 2/30\n",
            "4348/4348 [==============================] - 63s 14ms/step - loss: 2.2602 - acc: 0.5531 - val_loss: 2.1115 - val_acc: 0.5408\n",
            "Epoch 3/30\n",
            "4348/4348 [==============================] - 63s 15ms/step - loss: 2.0371 - acc: 0.5531 - val_loss: 2.0765 - val_acc: 0.5408\n",
            "Epoch 4/30\n",
            "4348/4348 [==============================] - 65s 15ms/step - loss: 2.0221 - acc: 0.5531 - val_loss: 2.0614 - val_acc: 0.5408\n",
            "Epoch 5/30\n",
            "4348/4348 [==============================] - 66s 15ms/step - loss: 2.0008 - acc: 0.5531 - val_loss: 2.0306 - val_acc: 0.5408\n",
            "Epoch 6/30\n",
            "4348/4348 [==============================] - 62s 14ms/step - loss: 1.9518 - acc: 0.5531 - val_loss: 1.9896 - val_acc: 0.5408\n",
            "Epoch 7/30\n",
            "4348/4348 [==============================] - 63s 15ms/step - loss: 1.8792 - acc: 0.5531 - val_loss: 1.9294 - val_acc: 0.5408\n",
            "Epoch 8/30\n",
            "4348/4348 [==============================] - 62s 14ms/step - loss: 1.7896 - acc: 0.5536 - val_loss: 1.8881 - val_acc: 0.5408\n",
            "Epoch 9/30\n",
            "4348/4348 [==============================] - 62s 14ms/step - loss: 1.7176 - acc: 0.5676 - val_loss: 1.8602 - val_acc: 0.5494\n",
            "Epoch 10/30\n",
            "4348/4348 [==============================] - 62s 14ms/step - loss: 1.6554 - acc: 0.5948 - val_loss: 1.8412 - val_acc: 0.5869\n",
            "Epoch 11/30\n",
            "4348/4348 [==============================] - 62s 14ms/step - loss: 1.6109 - acc: 0.6168 - val_loss: 1.8016 - val_acc: 0.5783\n",
            "Epoch 12/30\n",
            "4348/4348 [==============================] - 64s 15ms/step - loss: 1.5512 - acc: 0.6210 - val_loss: 1.7761 - val_acc: 0.5928\n",
            "Epoch 13/30\n",
            "4348/4348 [==============================] - 65s 15ms/step - loss: 1.5120 - acc: 0.6322 - val_loss: 1.7420 - val_acc: 0.5858\n",
            "Epoch 14/30\n",
            "4348/4348 [==============================] - 65s 15ms/step - loss: 1.4611 - acc: 0.6387 - val_loss: 1.7221 - val_acc: 0.5998\n",
            "Epoch 15/30\n",
            "4348/4348 [==============================] - 65s 15ms/step - loss: 1.4101 - acc: 0.6516 - val_loss: 1.6999 - val_acc: 0.6057\n",
            "Epoch 16/30\n",
            "4348/4348 [==============================] - 64s 15ms/step - loss: 1.3670 - acc: 0.6608 - val_loss: 1.6807 - val_acc: 0.6003\n",
            "Epoch 17/30\n",
            "4348/4348 [==============================] - 62s 14ms/step - loss: 1.3295 - acc: 0.6656 - val_loss: 1.6788 - val_acc: 0.5992\n",
            "Epoch 18/30\n",
            "4348/4348 [==============================] - 66s 15ms/step - loss: 1.2851 - acc: 0.6688 - val_loss: 1.6381 - val_acc: 0.5976\n",
            "Epoch 19/30\n",
            "4348/4348 [==============================] - 66s 15ms/step - loss: 1.2417 - acc: 0.6812 - val_loss: 1.6355 - val_acc: 0.6019\n",
            "Epoch 20/30\n",
            "4348/4348 [==============================] - 65s 15ms/step - loss: 1.2019 - acc: 0.6879 - val_loss: 1.6366 - val_acc: 0.6073\n",
            "Epoch 21/30\n",
            "4348/4348 [==============================] - 64s 15ms/step - loss: 1.1638 - acc: 0.6930 - val_loss: 1.6535 - val_acc: 0.6035\n",
            "Epoch 22/30\n",
            "4348/4348 [==============================] - 65s 15ms/step - loss: 1.1402 - acc: 0.6920 - val_loss: 1.6518 - val_acc: 0.5982\n",
            "Epoch 23/30\n",
            "4348/4348 [==============================] - 66s 15ms/step - loss: 1.1128 - acc: 0.7006 - val_loss: 1.6993 - val_acc: 0.6111\n",
            "Epoch 24/30\n",
            "4348/4348 [==============================] - 65s 15ms/step - loss: 1.1002 - acc: 0.6962 - val_loss: 1.6650 - val_acc: 0.6041\n",
            "Epoch 25/30\n",
            "4348/4348 [==============================] - 66s 15ms/step - loss: 1.0688 - acc: 0.7047 - val_loss: 1.6715 - val_acc: 0.5992\n",
            "Epoch 26/30\n",
            "4348/4348 [==============================] - 65s 15ms/step - loss: 1.0384 - acc: 0.7068 - val_loss: 1.6868 - val_acc: 0.6014\n",
            "Epoch 27/30\n",
            "4348/4348 [==============================] - 65s 15ms/step - loss: 1.0213 - acc: 0.7118 - val_loss: 1.6989 - val_acc: 0.6062\n",
            "Epoch 28/30\n",
            "4348/4348 [==============================] - 65s 15ms/step - loss: 0.9940 - acc: 0.7164 - val_loss: 1.7063 - val_acc: 0.5992\n",
            "Epoch 29/30\n",
            "4348/4348 [==============================] - 66s 15ms/step - loss: 0.9782 - acc: 0.7245 - val_loss: 1.7029 - val_acc: 0.5939\n",
            "Epoch 30/30\n",
            "4348/4348 [==============================] - 65s 15ms/step - loss: 0.9640 - acc: 0.7196 - val_loss: 1.7087 - val_acc: 0.6073\n"
          ],
          "name": "stdout"
        }
      ]
    },
    {
      "cell_type": "code",
      "metadata": {
        "colab_type": "code",
        "id": "Cfhtlal5F6jA",
        "colab": {}
      },
      "source": [
        "model.append('Bidirectional LSTM Model')\n",
        "scores = lsmodc2.evaluate(X_test, Y_test, verbose=0)\n",
        "accuracytest.append(scores[1]*100)\n",
        "scores = lsmodc2.evaluate(X_train, Y_train, verbose=0)\n",
        "accuracytrain.append(scores[1]*100)\n",
        "\n",
        "\n"
      ],
      "execution_count": 94,
      "outputs": []
    },
    {
      "cell_type": "code",
      "metadata": {
        "colab_type": "code",
        "id": "DVRVjBJuF6jG",
        "colab": {
          "base_uri": "https://localhost:8080/",
          "height": 279
        },
        "outputId": "d03b9a54-5f69-4ae2-c2a1-ae73123af0e1"
      },
      "source": [
        "plt.plot(lshistc2.history['val_acc'],color='black')\n",
        "plt.plot(lshistc2.history['acc'])\n",
        "plt.xlabel('Accuracy')\n",
        "plt.ylabel('Iterations')\n",
        "plt.show()"
      ],
      "execution_count": 95,
      "outputs": [
        {
          "output_type": "display_data",
          "data": {
            "image/png": "[encoded data removed]",
            "text/plain": [
              "<Figure size 432x288 with 1 Axes>"
            ]
          },
          "metadata": {
            "tags": [],
            "needs_background": "light"
          }
        }
      ]
    },
    {
      "cell_type": "code",
      "metadata": {
        "colab_type": "code",
        "id": "hycbBn7HF6jK",
        "colab": {
          "base_uri": "https://localhost:8080/",
          "height": 279
        },
        "outputId": "3e12346b-15ba-442c-92f1-fda315f4da13"
      },
      "source": [
        "plt.plot(lshistc2.history['val_loss'],color='black')\n",
        "plt.plot(lshistc2.history['loss'])\n",
        "plt.xlabel('Loss')\n",
        "plt.ylabel('Iterations')\n",
        "plt.show()"
      ],
      "execution_count": 96,
      "outputs": [
        {
          "output_type": "display_data",
          "data": {
            "image/png": "[encoded data removed]",
            "text/plain": [
              "<Figure size 432x288 with 1 Axes>"
            ]
          },
          "metadata": {
            "tags": [],
            "needs_background": "light"
          }
        }
      ]
    },
    {
      "cell_type": "markdown",
      "metadata": {
        "colab_type": "text",
        "id": "umB6gX7wF6jT"
      },
      "source": [
        "#### **1D Convolution**"
      ]
    },
    {
      "cell_type": "code",
      "metadata": {
        "colab_type": "code",
        "id": "0SZEa53oF6jV",
        "colab": {
          "base_uri": "https://localhost:8080/",
          "height": 1000
        },
        "outputId": "1b489eeb-759e-4a50-975b-58f0b2ca04ca"
      },
      "source": [
        "  \n",
        "convmodc2 = conv1d()\n",
        "\n",
        "\n",
        "\n",
        "convhistc2 = convmodc2.fit(X_train, Y_train,\n",
        "                      epochs = 30,\n",
        "                      batch_size = 128,\n",
        "                      validation_data = (X_test, Y_test))"
      ],
      "execution_count": 97,
      "outputs": [
        {
          "output_type": "stream",
          "text": [
            "/usr/local/lib/python3.6/dist-packages/tensorflow/python/framework/indexed_slices.py:434: UserWarning: Converting sparse IndexedSlices to a dense Tensor of unknown shape. This may consume a large amount of memory.\n",
            "  \"Converting sparse IndexedSlices to a dense Tensor of unknown shape. \"\n"
          ],
          "name": "stderr"
        },
        {
          "output_type": "stream",
          "text": [
            "Train on 4348 samples, validate on 1864 samples\n",
            "Epoch 1/30\n",
            "4348/4348 [==============================] - 29s 7ms/step - loss: 4.0839 - acc: 0.4777 - val_loss: 2.8378 - val_acc: 0.5402\n",
            "Epoch 2/30\n",
            "4348/4348 [==============================] - 28s 6ms/step - loss: 2.0834 - acc: 0.5722 - val_loss: 2.3557 - val_acc: 0.5579\n",
            "Epoch 3/30\n",
            "4348/4348 [==============================] - 30s 7ms/step - loss: 1.8544 - acc: 0.5800 - val_loss: 2.1300 - val_acc: 0.5703\n",
            "Epoch 4/30\n",
            "4348/4348 [==============================] - 28s 7ms/step - loss: 1.7123 - acc: 0.5872 - val_loss: 1.9702 - val_acc: 0.5874\n",
            "Epoch 5/30\n",
            "4348/4348 [==============================] - 29s 7ms/step - loss: 1.5527 - acc: 0.6033 - val_loss: 1.7841 - val_acc: 0.5982\n",
            "Epoch 6/30\n",
            "4348/4348 [==============================] - 30s 7ms/step - loss: 1.4076 - acc: 0.6168 - val_loss: 1.6195 - val_acc: 0.6009\n",
            "Epoch 7/30\n",
            "4348/4348 [==============================] - 28s 6ms/step - loss: 1.2902 - acc: 0.6481 - val_loss: 1.5441 - val_acc: 0.6325\n",
            "Epoch 8/30\n",
            "4348/4348 [==============================] - 30s 7ms/step - loss: 1.2064 - acc: 0.6815 - val_loss: 1.5111 - val_acc: 0.6314\n",
            "Epoch 9/30\n",
            "4348/4348 [==============================] - 28s 7ms/step - loss: 1.1311 - acc: 0.6918 - val_loss: 1.4974 - val_acc: 0.6320\n",
            "Epoch 10/30\n",
            "4348/4348 [==============================] - 29s 7ms/step - loss: 1.0592 - acc: 0.7091 - val_loss: 1.4487 - val_acc: 0.6400\n",
            "Epoch 11/30\n",
            "4348/4348 [==============================] - 28s 6ms/step - loss: 0.9960 - acc: 0.7164 - val_loss: 1.4656 - val_acc: 0.6411\n",
            "Epoch 12/30\n",
            "4348/4348 [==============================] - 30s 7ms/step - loss: 0.9294 - acc: 0.7399 - val_loss: 1.4199 - val_acc: 0.6454\n",
            "Epoch 13/30\n",
            "4348/4348 [==============================] - 29s 7ms/step - loss: 0.8797 - acc: 0.7574 - val_loss: 1.4446 - val_acc: 0.6368\n",
            "Epoch 14/30\n",
            "4348/4348 [==============================] - 29s 7ms/step - loss: 0.8141 - acc: 0.7693 - val_loss: 1.4482 - val_acc: 0.6336\n",
            "Epoch 15/30\n",
            "4348/4348 [==============================] - 30s 7ms/step - loss: 0.7639 - acc: 0.7822 - val_loss: 1.4570 - val_acc: 0.6298\n",
            "Epoch 16/30\n",
            "4348/4348 [==============================] - 28s 6ms/step - loss: 0.7144 - acc: 0.7976 - val_loss: 1.4671 - val_acc: 0.6288\n",
            "Epoch 17/30\n",
            "4348/4348 [==============================] - 30s 7ms/step - loss: 0.6649 - acc: 0.8132 - val_loss: 1.4935 - val_acc: 0.6271\n",
            "Epoch 18/30\n",
            "4348/4348 [==============================] - 28s 6ms/step - loss: 0.6243 - acc: 0.8188 - val_loss: 1.5243 - val_acc: 0.6330\n",
            "Epoch 19/30\n",
            "4348/4348 [==============================] - 29s 7ms/step - loss: 0.5811 - acc: 0.8365 - val_loss: 1.5235 - val_acc: 0.6288\n",
            "Epoch 20/30\n",
            "4348/4348 [==============================] - 29s 7ms/step - loss: 0.5472 - acc: 0.8438 - val_loss: 1.5583 - val_acc: 0.6239\n",
            "Epoch 21/30\n",
            "4348/4348 [==============================] - 29s 7ms/step - loss: 0.5035 - acc: 0.8540 - val_loss: 1.5915 - val_acc: 0.6395\n",
            "Epoch 22/30\n",
            "4348/4348 [==============================] - 29s 7ms/step - loss: 0.4710 - acc: 0.8707 - val_loss: 1.5823 - val_acc: 0.6465\n",
            "Epoch 23/30\n",
            "4348/4348 [==============================] - 28s 7ms/step - loss: 0.4383 - acc: 0.8765 - val_loss: 1.6531 - val_acc: 0.6379\n",
            "Epoch 24/30\n",
            "4348/4348 [==============================] - 29s 7ms/step - loss: 0.4006 - acc: 0.8919 - val_loss: 1.6659 - val_acc: 0.6411\n",
            "Epoch 25/30\n",
            "4348/4348 [==============================] - 28s 6ms/step - loss: 0.3875 - acc: 0.8974 - val_loss: 1.7178 - val_acc: 0.6416\n",
            "Epoch 26/30\n",
            "4348/4348 [==============================] - 30s 7ms/step - loss: 0.3522 - acc: 0.9057 - val_loss: 1.7374 - val_acc: 0.6363\n",
            "Epoch 27/30\n",
            "4348/4348 [==============================] - 28s 6ms/step - loss: 0.3252 - acc: 0.9092 - val_loss: 1.7790 - val_acc: 0.6330\n",
            "Epoch 28/30\n",
            "4348/4348 [==============================] - 30s 7ms/step - loss: 0.3203 - acc: 0.9131 - val_loss: 1.8452 - val_acc: 0.6245\n",
            "Epoch 29/30\n",
            "4348/4348 [==============================] - 29s 7ms/step - loss: 0.2936 - acc: 0.9179 - val_loss: 1.8769 - val_acc: 0.6229\n",
            "Epoch 30/30\n",
            "4348/4348 [==============================] - 28s 6ms/step - loss: 0.2728 - acc: 0.9246 - val_loss: 1.8672 - val_acc: 0.6330\n"
          ],
          "name": "stdout"
        }
      ]
    },
    {
      "cell_type": "code",
      "metadata": {
        "colab_type": "code",
        "id": "werQoCgQF6jZ",
        "colab": {}
      },
      "source": [
        "model.append('1D Convolution Model')\n",
        "scores = convmodc2.evaluate(X_test, Y_test, verbose=0)\n",
        "accuracytest.append(scores[1]*100)\n",
        "scores = convmodc2.evaluate(X_train, Y_train, verbose=0)\n",
        "accuracytrain.append(scores[1]*100)"
      ],
      "execution_count": 98,
      "outputs": []
    },
    {
      "cell_type": "code",
      "metadata": {
        "colab_type": "code",
        "id": "WXZ8FQapF6jg",
        "colab": {
          "base_uri": "https://localhost:8080/",
          "height": 279
        },
        "outputId": "0d7a4aa5-edb7-451e-a2b7-ace0ddac75fc"
      },
      "source": [
        "plt.plot(convhistc2.history['val_acc'],color='black')\n",
        "plt.plot(convhistc2.history['acc'])\n",
        "plt.xlabel('Accuracy')\n",
        "plt.ylabel('Iterations')\n",
        "plt.show()"
      ],
      "execution_count": 99,
      "outputs": [
        {
          "output_type": "display_data",
          "data": {
            "image/png": "[encoded data removed]",
            "text/plain": [
              "<Figure size 432x288 with 1 Axes>"
            ]
          },
          "metadata": {
            "tags": [],
            "needs_background": "light"
          }
        }
      ]
    },
    {
      "cell_type": "code",
      "metadata": {
        "colab_type": "code",
        "id": "3hI7uzHcF6jl",
        "colab": {
          "base_uri": "https://localhost:8080/",
          "height": 279
        },
        "outputId": "7ea6987a-3eca-4b59-a30e-10ad961971d0"
      },
      "source": [
        "plt.plot(convhistc2.history['val_loss'],color='black')\n",
        "plt.plot(convhistc2.history['loss'])\n",
        "plt.xlabel('Loss')\n",
        "plt.ylabel('Iterations')\n",
        "plt.show()"
      ],
      "execution_count": 100,
      "outputs": [
        {
          "output_type": "display_data",
          "data": {
            "image/png": "[encoded data removed]",
            "text/plain": [
              "<Figure size 432x288 with 1 Axes>"
            ]
          },
          "metadata": {
            "tags": [],
            "needs_background": "light"
          }
        }
      ]
    },
    {
      "cell_type": "markdown",
      "metadata": {
        "colab_type": "text",
        "id": "I006inmbF6jr"
      },
      "source": [
        "#### **Model Selection for Cluster 2**\n"
      ]
    },
    {
      "cell_type": "code",
      "metadata": {
        "colab_type": "code",
        "id": "mFhhRuM2F6jt",
        "colab": {
          "base_uri": "https://localhost:8080/",
          "height": 426
        },
        "outputId": "3eca6479-554f-4732-9046-4ef8717098a7"
      },
      "source": [
        "cluster1_accuracies=pd.DataFrame()\n",
        "cluster1_accuracies['Model']=model\n",
        "cluster1_accuracies['Accuracy(Test)']=accuracytest\n",
        "cluster1_accuracies['Accuracy(Train)']=accuracytrain\n",
        "cluster1_accuracies"
      ],
      "execution_count": 101,
      "outputs": [
        {
          "output_type": "execute_result",
          "data": {
            "text/html": [
              "<div>\n",
              "<style scoped>\n",
              "    .dataframe tbody tr th:only-of-type {\n",
              "        vertical-align: middle;\n",
              "    }\n",
              "\n",
              "    .dataframe tbody tr th {\n",
              "        vertical-align: top;\n",
              "    }\n",
              "\n",
              "    .dataframe thead th {\n",
              "        text-align: right;\n",
              "    }\n",
              "</style>\n",
              "<table border=\"1\" class=\"dataframe\">\n",
              "  <thead>\n",
              "    <tr style=\"text-align: right;\">\n",
              "      <th></th>\n",
              "      <th>Model</th>\n",
              "      <th>Accuracy(Test)</th>\n",
              "      <th>Accuracy(Train)</th>\n",
              "    </tr>\n",
              "  </thead>\n",
              "  <tbody>\n",
              "    <tr>\n",
              "      <th>0</th>\n",
              "      <td>Logistic Regression with Chi Square</td>\n",
              "      <td>55.042918</td>\n",
              "      <td>56.186753</td>\n",
              "    </tr>\n",
              "    <tr>\n",
              "      <th>1</th>\n",
              "      <td>Multinomial Naive Bayes</td>\n",
              "      <td>60.622318</td>\n",
              "      <td>62.258510</td>\n",
              "    </tr>\n",
              "    <tr>\n",
              "      <th>2</th>\n",
              "      <td>Support Vector Machines</td>\n",
              "      <td>70.708155</td>\n",
              "      <td>87.143514</td>\n",
              "    </tr>\n",
              "    <tr>\n",
              "      <th>3</th>\n",
              "      <td>Decision Tree</td>\n",
              "      <td>58.798283</td>\n",
              "      <td>61.085557</td>\n",
              "    </tr>\n",
              "    <tr>\n",
              "      <th>4</th>\n",
              "      <td>Bagging Classifier</td>\n",
              "      <td>56.652361</td>\n",
              "      <td>57.796688</td>\n",
              "    </tr>\n",
              "    <tr>\n",
              "      <th>5</th>\n",
              "      <td>Adaboost Classifier</td>\n",
              "      <td>57.725322</td>\n",
              "      <td>59.084637</td>\n",
              "    </tr>\n",
              "    <tr>\n",
              "      <th>6</th>\n",
              "      <td>Gradient Boost Classifier</td>\n",
              "      <td>65.987124</td>\n",
              "      <td>93.905244</td>\n",
              "    </tr>\n",
              "    <tr>\n",
              "      <th>7</th>\n",
              "      <td>Decision Tree Hyper Tuned</td>\n",
              "      <td>62.392704</td>\n",
              "      <td>82.244710</td>\n",
              "    </tr>\n",
              "    <tr>\n",
              "      <th>8</th>\n",
              "      <td>Support Vector Machines- Hypertuned</td>\n",
              "      <td>73.122318</td>\n",
              "      <td>98.068077</td>\n",
              "    </tr>\n",
              "    <tr>\n",
              "      <th>9</th>\n",
              "      <td>Sequential Model</td>\n",
              "      <td>62.982833</td>\n",
              "      <td>94.641215</td>\n",
              "    </tr>\n",
              "    <tr>\n",
              "      <th>10</th>\n",
              "      <td>Bidirectional LSTM Model</td>\n",
              "      <td>60.729611</td>\n",
              "      <td>73.712051</td>\n",
              "    </tr>\n",
              "    <tr>\n",
              "      <th>11</th>\n",
              "      <td>1D Convolution Model</td>\n",
              "      <td>63.304722</td>\n",
              "      <td>96.573138</td>\n",
              "    </tr>\n",
              "  </tbody>\n",
              "</table>\n",
              "</div>"
            ],
            "text/plain": [
              "                                  Model  Accuracy(Test)  Accuracy(Train)\n",
              "0   Logistic Regression with Chi Square       55.042918        56.186753\n",
              "1               Multinomial Naive Bayes       60.622318        62.258510\n",
              "2               Support Vector Machines       70.708155        87.143514\n",
              "3                        Decision Tree        58.798283        61.085557\n",
              "4                    Bagging Classifier       56.652361        57.796688\n",
              "5                   Adaboost Classifier       57.725322        59.084637\n",
              "6             Gradient Boost Classifier       65.987124        93.905244\n",
              "7            Decision Tree Hyper Tuned        62.392704        82.244710\n",
              "8   Support Vector Machines- Hypertuned       73.122318        98.068077\n",
              "9                      Sequential Model       62.982833        94.641215\n",
              "10             Bidirectional LSTM Model       60.729611        73.712051\n",
              "11                 1D Convolution Model       63.304722        96.573138"
            ]
          },
          "metadata": {
            "tags": []
          },
          "execution_count": 101
        }
      ]
    },
    {
      "cell_type": "code",
      "metadata": {
        "colab_type": "code",
        "id": "yPjA-dvFF6jx",
        "colab": {
          "base_uri": "https://localhost:8080/",
          "height": 609
        },
        "outputId": "b6be4fa7-4165-4af2-9d52-feee158581eb"
      },
      "source": [
        "x_axis=['LR','NM','SVM','DT','BC','ABC','GBC','DTH','SVMH','SM','BLSTM','1DCONV']\n",
        "plt.figure(figsize=(10,10))\n",
        "plt.bar(x_axis,cluster1_accuracies['Accuracy(Test)'])\n",
        "plt.bar(x_axis,cluster1_accuracies['Accuracy(Train)'],alpha=0.3)"
      ],
      "execution_count": 102,
      "outputs": [
        {
          "output_type": "execute_result",
          "data": {
            "text/plain": [
              "<BarContainer object of 12 artists>"
            ]
          },
          "metadata": {
            "tags": []
          },
          "execution_count": 102
        },
        {
          "output_type": "display_data",
          "data": {
            "image/png": "[encoded data removed]",
            "text/plain": [
              "<Figure size 720x720 with 1 Axes>"
            ]
          },
          "metadata": {
            "tags": [],
            "needs_background": "light"
          }
        }
      ]
    },
    {
      "cell_type": "markdown",
      "metadata": {
        "colab_type": "text",
        "id": "snUlcqyyF6j1"
      },
      "source": [
        "> LR-Logistic Regression\n",
        "\n",
        "> NM- Multinomial Naive Bayes\n",
        "\n",
        ">SVM-Support Vector Machine\n",
        "\n",
        ">DT- Decision Tree\n",
        "\n",
        ">BC-Bagging Classifier\n",
        "\n",
        ">ABC-AdaBoost Classifier\n",
        "\n",
        ">GBC-Gradient Boost Classifier\n",
        "\n",
        ">DTH- Decision Tree - Hyper Tunes\n",
        "\n",
        ">SVMH- Support Vector Machine Hyper Tuned\n",
        "\n",
        ">SM-Sequential Model\n",
        "\n",
        ">BLSTM-Bidirectional LSTM\n",
        "\n",
        ">1DCONV-1D Convolution\n",
        "\n",
        "\n",
        "#### **Model Selection**\n",
        "> The grey bar shows the accuracy on Train data and Yello shows the accuracy on Test data. \n",
        "\n",
        "> Higher the difference, the model is overfit\n",
        "\n",
        "> Out of all, Hyper tuned Support Vector Machines seems to be the best of all\n"
      ]
    },
    {
      "cell_type": "markdown",
      "metadata": {
        "id": "yqg2ROBC_JOd",
        "colab_type": "text"
      },
      "source": [
        "# **Applying models on the entire data without clustering**"
      ]
    },
    {
      "cell_type": "code",
      "metadata": {
        "id": "MuemEoDn7TGk",
        "colab_type": "code",
        "colab": {
          "base_uri": "https://localhost:8080/",
          "height": 52
        },
        "outputId": "1bf748da-086a-4433-b0a8-7f063245d728"
      },
      "source": [
        "tok = Tokenizer(num_words = max_features)\n",
        "tok.fit_on_texts(data.Description)\n",
        "X = tok.texts_to_sequences(data.Description)\n",
        "X = pad_sequences(X, maxlen = maxlen)\n",
        "Y = np.asarray(data['Assignment group'])\n",
        "\n",
        "X_train, X_test, Y_train, Y_test = train_test_split(X, Y, test_size=0.3, random_state=1)\n",
        "print(X_train.shape,Y_train.shape)\n",
        "print(X_test.shape,Y_test.shape)"
      ],
      "execution_count": 103,
      "outputs": [
        {
          "output_type": "stream",
          "text": [
            "(5406, 350) (5406,)\n",
            "(2318, 350) (2318,)\n"
          ],
          "name": "stdout"
        }
      ]
    },
    {
      "cell_type": "code",
      "metadata": {
        "colab_type": "code",
        "id": "AyQY4NBYkDDx",
        "colab": {
          "base_uri": "https://localhost:8080/",
          "height": 347
        },
        "outputId": "feca5bd6-ff52-4afe-cac3-4ec73f07436a"
      },
      "source": [
        "embed_dim = 256\n",
        "lstm_out = 64\n",
        "max_features = 2000\n",
        "maxlen = 350\n",
        "embedding_size = 200\n",
        "\n",
        "modelq = Sequential()\n",
        "modelq.add(Embedding(max_features, embed_dim,input_length = X.shape[1]))\n",
        "modelq.add(SpatialDropout1D(0.4))\n",
        "modelq.add(MaxPooling1D(pool_size=4))\n",
        "modelq.add(LSTM(100))\n",
        "#model.add(LSTM(lstm_out, dropout=0.2, recurrent_dropout=0.4))\n",
        "modelq.add(Dense(350,activation='softmax'))\n",
        "modelq.compile(loss = 'sparse_categorical_crossentropy', optimizer='adam',metrics = ['accuracy'])\n",
        "print(modelq.summary())\n",
        "\n"
      ],
      "execution_count": 104,
      "outputs": [
        {
          "output_type": "stream",
          "text": [
            "Model: \"sequential_10\"\n",
            "_________________________________________________________________\n",
            "Layer (type)                 Output Shape              Param #   \n",
            "=================================================================\n",
            "embedding_10 (Embedding)     (None, 350, 256)          512000    \n",
            "_________________________________________________________________\n",
            "spatial_dropout1d_4 (Spatial (None, 350, 256)          0         \n",
            "_________________________________________________________________\n",
            "max_pooling1d_7 (MaxPooling1 (None, 87, 256)           0         \n",
            "_________________________________________________________________\n",
            "lstm_10 (LSTM)               (None, 100)               142800    \n",
            "_________________________________________________________________\n",
            "dense_10 (Dense)             (None, 350)               35350     \n",
            "=================================================================\n",
            "Total params: 690,150\n",
            "Trainable params: 690,150\n",
            "Non-trainable params: 0\n",
            "_________________________________________________________________\n",
            "None\n"
          ],
          "name": "stdout"
        }
      ]
    },
    {
      "cell_type": "code",
      "metadata": {
        "id": "PyOd9hKo6n77",
        "colab_type": "code",
        "colab": {
          "base_uri": "https://localhost:8080/",
          "height": 434
        },
        "outputId": "bef730a2-2218-40a5-a7c2-6adf249045b9"
      },
      "source": [
        "modelq.fit(X,Y, validation_data = (X_test, Y_test), epochs=10, batch_size=32, verbose=2) \n",
        "# Final evaluation of the model\n",
        "scores = modelq.evaluate(X_test, Y_test, verbose=0)\n",
        "print(\"Accuracy: %.2f%%\" % (scores[1]*100))"
      ],
      "execution_count": 105,
      "outputs": [
        {
          "output_type": "stream",
          "text": [
            "/usr/local/lib/python3.6/dist-packages/tensorflow/python/framework/indexed_slices.py:434: UserWarning: Converting sparse IndexedSlices to a dense Tensor of unknown shape. This may consume a large amount of memory.\n",
            "  \"Converting sparse IndexedSlices to a dense Tensor of unknown shape. \"\n"
          ],
          "name": "stderr"
        },
        {
          "output_type": "stream",
          "text": [
            "Train on 7724 samples, validate on 2318 samples\n",
            "Epoch 1/10\n",
            " - 58s - loss: 2.2850 - accuracy: 0.5277 - val_loss: 1.7901 - val_accuracy: 0.5966\n",
            "Epoch 2/10\n",
            " - 57s - loss: 1.6630 - accuracy: 0.5965 - val_loss: 1.5090 - val_accuracy: 0.6135\n",
            "Epoch 3/10\n",
            " - 56s - loss: 1.4718 - accuracy: 0.6168 - val_loss: 1.3721 - val_accuracy: 0.6346\n",
            "Epoch 4/10\n",
            " - 59s - loss: 1.3637 - accuracy: 0.6335 - val_loss: 1.2633 - val_accuracy: 0.6471\n",
            "Epoch 5/10\n",
            " - 57s - loss: 1.2747 - accuracy: 0.6463 - val_loss: 1.1767 - val_accuracy: 0.6570\n",
            "Epoch 6/10\n",
            " - 57s - loss: 1.1982 - accuracy: 0.6565 - val_loss: 1.1079 - val_accuracy: 0.6803\n",
            "Epoch 7/10\n",
            " - 56s - loss: 1.1293 - accuracy: 0.6744 - val_loss: 1.0226 - val_accuracy: 0.7032\n",
            "Epoch 8/10\n",
            " - 57s - loss: 1.0602 - accuracy: 0.6917 - val_loss: 0.9659 - val_accuracy: 0.7166\n",
            "Epoch 9/10\n",
            " - 57s - loss: 0.9982 - accuracy: 0.7084 - val_loss: 0.8909 - val_accuracy: 0.7394\n",
            "Epoch 10/10\n",
            " - 58s - loss: 0.9440 - accuracy: 0.7209 - val_loss: 0.8383 - val_accuracy: 0.7575\n",
            "Accuracy: 75.75%\n"
          ],
          "name": "stdout"
        }
      ]
    },
    {
      "cell_type": "markdown",
      "metadata": {
        "colab_type": "text",
        "id": "glfNE475Kfdr"
      },
      "source": [
        "#### **Chi Square Analysis on Logistic Regression**"
      ]
    },
    {
      "cell_type": "code",
      "metadata": {
        "colab_type": "code",
        "id": "d22NuWl7Kfd0",
        "colab": {}
      },
      "source": [
        "X = data['Description']\n",
        "Y = data['Assignment group']\n",
        "X_train, X_test, Y_train, Y_test = train_test_split(X, Y, test_size=0.3, random_state=2)"
      ],
      "execution_count": 106,
      "outputs": []
    },
    {
      "cell_type": "code",
      "metadata": {
        "colab_type": "code",
        "id": "nYrk6BVUKfeR",
        "colab": {}
      },
      "source": [
        "Cluster1df=pd.DataFrame()\n",
        "accuracytest=[]\n",
        "accuracytrain=[]\n",
        "model=[]"
      ],
      "execution_count": 107,
      "outputs": []
    },
    {
      "cell_type": "code",
      "metadata": {
        "colab_type": "code",
        "id": "1tB6VHeCKfeo",
        "colab": {
          "base_uri": "https://localhost:8080/",
          "height": 52
        },
        "outputId": "4fefc89b-37b2-4426-86ad-233b9d4fbef6"
      },
      "source": [
        "features = TfidfVectorizer(max_features=10000,ngram_range=(1, 3))\n",
        "X_train_tfidf = features.fit_transform(X_train)\n",
        "X_test_tfidf = features.transform(X_test)\n",
        "chi2score = chi2(X_train_tfidf, Y_train)[1]\n",
        "ch2_result = [0]\n",
        "ch2_result1=[0]\n",
        "model.append('Logistic Regression with Chi Square')\n",
        "for n in np.arange(15000,100000,10000):\n",
        "    ch2 = SelectKBest(chi2, k=1)\n",
        "    X_train_chi2_selected = ch2.fit_transform(X_train_tfidf, Y_train)\n",
        "    X_test_chi2_selected = ch2.transform(X_test_tfidf)\n",
        "    clf = LogisticRegression()\n",
        "    clf.fit(X_train_chi2_selected, Y_train)\n",
        "    score = clf.score(X_test_chi2_selected, Y_test)\n",
        "    score1=clf.score(X_train_chi2_selected, Y_train)\n",
        "\n",
        "    if int(score*100)>np.array(ch2_result).max()*100:\n",
        "      print('Accuracy Score Test: '+str(score*100))\n",
        "      max=score\n",
        "    else:\n",
        "      pass\n",
        "    ch2_result.append(score)\n",
        "\n",
        "    if int(score1*100)>np.array(ch2_result1).max()*100:\n",
        "      print('Accuracy Score Train: '+str(score1*100))\n",
        "      max1=score1\n",
        "    else:\n",
        "      pass\n",
        "    ch2_result.append(score)\n",
        "    ch2_result1.append(score1)\n",
        "accuracytest.append(max*100)\n",
        "accuracytrain.append(max1*100)"
      ],
      "execution_count": 108,
      "outputs": [
        {
          "output_type": "stream",
          "text": [
            "Accuracy Score Test: 52.717860224331325\n",
            "Accuracy Score Train: 51.775804661487236\n"
          ],
          "name": "stdout"
        }
      ]
    },
    {
      "cell_type": "markdown",
      "metadata": {
        "colab_type": "text",
        "id": "WqitixtjKfe2"
      },
      "source": [
        "#### **Creating the TFIDF Vectors for further processing**"
      ]
    },
    {
      "cell_type": "code",
      "metadata": {
        "colab_type": "code",
        "id": "AvdR_HWaKfe7",
        "colab": {}
      },
      "source": [
        "vectorizer = TfidfVectorizer()\n",
        "train_vectors_0 = vectorizer.fit_transform(X_train)\n",
        "test_vectors_0 = vectorizer.transform(X_test)"
      ],
      "execution_count": 109,
      "outputs": []
    },
    {
      "cell_type": "markdown",
      "metadata": {
        "colab_type": "text",
        "id": "cXrUHuuhKffK"
      },
      "source": [
        "#### **Multinomial Naive Bayes**\n"
      ]
    },
    {
      "cell_type": "code",
      "metadata": {
        "colab_type": "code",
        "id": "Ac4x7yD2KffN",
        "colab": {
          "base_uri": "https://localhost:8080/",
          "height": 1000
        },
        "outputId": "f5af80dc-2542-4fdb-8f49-975abc130343"
      },
      "source": [
        "nbq = Pipeline([('count', CountVectorizer()),\n",
        "               ('tfidf', TfidfTransformer()),\n",
        "               ('clf', MultinomialNB()),\n",
        "              ])\n",
        "nbq.fit(X,Y)\n",
        "\n",
        "#Test Set\n",
        "Y_pred = nbq.predict(X_test)\n",
        "\n",
        "print('Accuracy Score Test :'+str(float(accuracy_score(Y_pred, Y_test)*100)))\n",
        "model.append('Multinomial Naive Bayes')\n",
        "accuracytest.append(accuracy_score(Y_pred, Y_test)*100)\n",
        "print('\\n')\n",
        "print(classification_report(Y_test, Y_pred))\n",
        "\n",
        "# Train set\n",
        "\n",
        "Y_pred = nbq.predict(X_train)\n",
        "\n",
        "print('\\n\\nAccuracy Score Train :'+str(float(accuracy_score(Y_pred, Y_train)*100)))\n",
        "accuracytrain.append(accuracy_score(Y_pred, Y_train)*100)\n",
        "print('\\n')\n",
        "print(classification_report(Y_train, Y_pred))"
      ],
      "execution_count": 110,
      "outputs": [
        {
          "output_type": "stream",
          "text": [
            "Accuracy Score Test :62.46764452113891\n",
            "\n",
            "\n",
            "              precision    recall  f1-score   support\n",
            "\n",
            "           0       0.63      1.00      0.77      1209\n",
            "           1       0.00      0.00      0.00        42\n",
            "           2       1.00      0.15      0.26        81\n",
            "           3       0.00      0.00      0.00        44\n",
            "           4       0.00      0.00      0.00        42\n",
            "           5       0.00      0.00      0.00        31\n",
            "           6       0.00      0.00      0.00        18\n",
            "           7       0.00      0.00      0.00        26\n",
            "           8       0.00      0.00      0.00        54\n",
            "           9       0.50      0.02      0.04        86\n",
            "          10       1.00      0.59      0.74        91\n",
            "          11       0.00      0.00      0.00        32\n",
            "          12       0.00      0.00      0.00        20\n",
            "          13       0.00      0.00      0.00        26\n",
            "          14       0.00      0.00      0.00        58\n",
            "          15       0.00      0.00      0.00        19\n",
            "          16       0.00      0.00      0.00        26\n",
            "          17       0.00      0.00      0.00        16\n",
            "          18       0.00      0.00      0.00        37\n",
            "          19       0.00      0.00      0.00        30\n",
            "          20       0.00      0.00      0.00        58\n",
            "          21       0.00      0.00      0.00        16\n",
            "          22       0.52      0.94      0.67       182\n",
            "          23       0.00      0.00      0.00        74\n",
            "\n",
            "    accuracy                           0.62      2318\n",
            "   macro avg       0.15      0.11      0.10      2318\n",
            "weighted avg       0.46      0.62      0.50      2318\n",
            "\n",
            "\n",
            "\n",
            "Accuracy Score Train :62.282648908620054\n",
            "\n",
            "\n",
            "              precision    recall  f1-score   support\n",
            "\n",
            "           0       0.63      1.00      0.77      2756\n",
            "           1       0.00      0.00      0.00        98\n",
            "           2       0.89      0.19      0.32       176\n",
            "           3       0.00      0.00      0.00       101\n",
            "           4       0.00      0.00      0.00        75\n",
            "           5       0.00      0.00      0.00        54\n",
            "           6       0.00      0.00      0.00        63\n",
            "           7       0.00      0.00      0.00        62\n",
            "           8       0.00      0.00      0.00       161\n",
            "           9       0.92      0.07      0.13       155\n",
            "          10       1.00      0.60      0.75       198\n",
            "          11       0.00      0.00      0.00        84\n",
            "          12       0.00      0.00      0.00        36\n",
            "          13       0.00      0.00      0.00        71\n",
            "          14       0.00      0.00      0.00       142\n",
            "          15       1.00      0.06      0.11        50\n",
            "          16       0.00      0.00      0.00        81\n",
            "          17       0.00      0.00      0.00        46\n",
            "          18       0.00      0.00      0.00        63\n",
            "          19       0.00      0.00      0.00        99\n",
            "          20       0.00      0.00      0.00       126\n",
            "          21       0.00      0.00      0.00        52\n",
            "          22       0.53      0.92      0.68       479\n",
            "          23       1.00      0.01      0.01       178\n",
            "\n",
            "    accuracy                           0.62      5406\n",
            "   macro avg       0.25      0.12      0.12      5406\n",
            "weighted avg       0.50      0.62      0.50      5406\n",
            "\n"
          ],
          "name": "stdout"
        },
        {
          "output_type": "stream",
          "text": [
            "/usr/local/lib/python3.6/dist-packages/sklearn/metrics/_classification.py:1272: UndefinedMetricWarning: Precision and F-score are ill-defined and being set to 0.0 in labels with no predicted samples. Use `zero_division` parameter to control this behavior.\n",
            "  _warn_prf(average, modifier, msg_start, len(result))\n",
            "/usr/local/lib/python3.6/dist-packages/sklearn/metrics/_classification.py:1272: UndefinedMetricWarning: Precision and F-score are ill-defined and being set to 0.0 in labels with no predicted samples. Use `zero_division` parameter to control this behavior.\n",
            "  _warn_prf(average, modifier, msg_start, len(result))\n"
          ],
          "name": "stderr"
        }
      ]
    },
    {
      "cell_type": "markdown",
      "metadata": {
        "colab_type": "text",
        "id": "0YQFHn6cKffd"
      },
      "source": [
        "#### **Support vector Machines**\n",
        "\n",
        "\n"
      ]
    },
    {
      "cell_type": "code",
      "metadata": {
        "colab_type": "code",
        "id": "14R3xWQqKfff",
        "colab": {
          "base_uri": "https://localhost:8080/",
          "height": 52
        },
        "outputId": "9af92c47-61ea-41fc-c1ea-6294d609780f"
      },
      "source": [
        "SVMq = svm.SVC(C=1.0, kernel='linear', degree=3, gamma='auto',random_state=1)\n",
        "SVMq.fit(train_vectors_0,Y_train)\n",
        "\n",
        "#Test set\n",
        "predictions_SVM = SVMq.predict(test_vectors_0)\n",
        "# Use accuracy_score function to get the accuracy\n",
        "print(\"Accuracy Score Test: \",accuracy_score(predictions_SVM, Y_test)*100)\n",
        "\n",
        "model.append('Support Vector Machines')\n",
        "accuracytest.append(accuracy_score(predictions_SVM, Y_test)*100)\n",
        "\n",
        "#Train set\n",
        "\n",
        "predictions_SVM = SVMq.predict(train_vectors_0)\n",
        "# Use accuracy_score function to get the accuracy\n",
        "print(\"Accuracy Score Train : \",accuracy_score(predictions_SVM, Y_train)*100)\n",
        "\n",
        "accuracytrain.append(accuracy_score(predictions_SVM, Y_train)*100)\n",
        "\n",
        "\n"
      ],
      "execution_count": 111,
      "outputs": [
        {
          "output_type": "stream",
          "text": [
            "Accuracy Score Test:  73.0802415875755\n",
            "Accuracy Score Train :  85.73806881243064\n"
          ],
          "name": "stdout"
        }
      ]
    },
    {
      "cell_type": "markdown",
      "metadata": {
        "colab_type": "text",
        "id": "9poOGuQlKffq"
      },
      "source": [
        "#### **Decision tree**\n"
      ]
    },
    {
      "cell_type": "code",
      "metadata": {
        "colab_type": "code",
        "id": "XMEp45vNKffr",
        "colab": {
          "base_uri": "https://localhost:8080/",
          "height": 52
        },
        "outputId": "f09bf150-f07e-44ba-ed8b-cbd650039310"
      },
      "source": [
        "dTreeq = DecisionTreeClassifier(criterion = 'gini', max_depth=5, random_state=1)\n",
        "dTreeq.fit(train_vectors_0, Y_train)\n",
        "\n",
        "\n",
        "print('Accuracy Score Test : ',dTreeq.score(test_vectors_0, Y_test)*100)\n",
        "model.append('Decision Tree ')\n",
        "accuracytest.append(dTreeq.score(test_vectors_0, Y_test)*100)\n",
        "\n",
        "\n",
        "print('Accuracy Score Train : ',dTreeq.score(train_vectors_0, Y_train)*100)\n",
        "accuracytrain.append(dTreeq.score(train_vectors_0, Y_train)*100)"
      ],
      "execution_count": 112,
      "outputs": [
        {
          "output_type": "stream",
          "text": [
            "Accuracy Score Test :  61.13028472821398\n",
            "Accuracy Score Train :  61.74620791712911\n"
          ],
          "name": "stdout"
        }
      ]
    },
    {
      "cell_type": "markdown",
      "metadata": {
        "colab_type": "text",
        "id": "sdZKa0HxKff5"
      },
      "source": [
        "#### **Bagging Classifier**"
      ]
    },
    {
      "cell_type": "code",
      "metadata": {
        "colab_type": "code",
        "id": "gYbd8ZCfKff7",
        "colab": {
          "base_uri": "https://localhost:8080/",
          "height": 52
        },
        "outputId": "f7325b73-40e9-4931-ddb6-bc1c9969f332"
      },
      "source": [
        "bgclq = BaggingClassifier(base_estimator=dTree, n_estimators=50,random_state=1)\n",
        "bgclq = bgclq.fit(train_vectors_0, Y_train)\n",
        "\n",
        "y_predict = bgclq.predict(test_vectors_0)\n",
        "\n",
        "print('Accuracy Score Test : ',bgclq.score(test_vectors_0, Y_test)*100)\n",
        "model.append('Bagging Classifier')\n",
        "accuracytest.append(bgclq.score(test_vectors_0, Y_test)*100)\n",
        "\n",
        "print('Accuracy Score Train : ',bgclq.score(train_vectors_0, Y_train)*100)\n",
        "accuracytrain.append(bgclq.score(train_vectors_0, Y_train)*100)\n"
      ],
      "execution_count": 113,
      "outputs": [
        {
          "output_type": "stream",
          "text": [
            "Accuracy Score Test :  59.232096635030196\n",
            "Accuracy Score Train :  59.02700702922679\n"
          ],
          "name": "stdout"
        }
      ]
    },
    {
      "cell_type": "markdown",
      "metadata": {
        "colab_type": "text",
        "id": "7q3kuWK1KfgE"
      },
      "source": [
        "#### **Adaboost Classifier**"
      ]
    },
    {
      "cell_type": "code",
      "metadata": {
        "colab_type": "code",
        "id": "HRnguOAkKfgG",
        "colab": {
          "base_uri": "https://localhost:8080/",
          "height": 52
        },
        "outputId": "cba5ab10-c606-49db-9ee6-ce2c1635f701"
      },
      "source": [
        "abclq = AdaBoostClassifier(n_estimators=10, random_state=1)\n",
        "abclq = abclq.fit(train_vectors_0, Y_train)\n",
        "\n",
        "y_predict = abclq.predict(test_vectors_0)\n",
        "print('Accuracy Score Test : ' ,abclq.score(test_vectors_0, Y_test)*100)\n",
        "model.append('Adaboost Classifier')\n",
        "accuracytest.append(abclq.score(test_vectors_0, Y_test)*100)\n",
        "\n",
        "\n",
        "y_predict = abclq.predict(train_vectors_0)\n",
        "print('Accuracy Score Train : ' ,abclq.score(train_vectors_0, Y_train)*100)\n",
        "accuracytrain.append(abclq.score(train_vectors_0, Y_train)*100)"
      ],
      "execution_count": 114,
      "outputs": [
        {
          "output_type": "stream",
          "text": [
            "Accuracy Score Test :  57.29076790336497\n",
            "Accuracy Score Train :  56.91823899371069\n"
          ],
          "name": "stdout"
        }
      ]
    },
    {
      "cell_type": "markdown",
      "metadata": {
        "colab_type": "text",
        "id": "1wmBWabGKfgQ"
      },
      "source": [
        "#### **Gradient Boost Classifier**\n",
        "\n"
      ]
    },
    {
      "cell_type": "code",
      "metadata": {
        "colab_type": "code",
        "id": "a_4Dagk7KfgT",
        "colab": {
          "base_uri": "https://localhost:8080/",
          "height": 52
        },
        "outputId": "8d73550f-6058-420e-b6e8-d4c4012d4d62"
      },
      "source": [
        "gbclq = GradientBoostingClassifier(n_estimators = 50,random_state=1)\n",
        "gbclq = gbcl.fit(train_vectors_0, Y_train)\n",
        "\n",
        "y_predict = gbclq.predict(test_vectors_0)\n",
        "\n",
        "print('Accuracy Score Test : ' ,gbclq.score(test_vectors_0, Y_test)*100)\n",
        "model.append('Gradient Boost Classifier')\n",
        "accuracytest.append(gbclq.score(test_vectors_0, Y_test)*100)\n",
        "\n",
        "\n",
        "print('Accuracy Score Train : ' ,gbclq.score(train_vectors_0, Y_train)*100)\n",
        "accuracytrain.append(gbclq.score(train_vectors_0, Y_train)*100)"
      ],
      "execution_count": 115,
      "outputs": [
        {
          "output_type": "stream",
          "text": [
            "Accuracy Score Test :  68.16220880069025\n",
            "Accuracy Score Train :  94.26563078061413\n"
          ],
          "name": "stdout"
        }
      ]
    },
    {
      "cell_type": "markdown",
      "metadata": {
        "colab_type": "text",
        "id": "3HhbERLeKfge"
      },
      "source": [
        "#### **Randomized Search CV to enhance Decision tree**\n",
        "\n"
      ]
    },
    {
      "cell_type": "code",
      "metadata": {
        "colab_type": "code",
        "id": "FHZs3gptKfgh",
        "colab": {
          "base_uri": "https://localhost:8080/",
          "height": 1000
        },
        "outputId": "1bce76de-71f4-4977-b52d-94fbbe3514ed"
      },
      "source": [
        "parameter={'criterion':['gini','entropy'],\n",
        "            'max_depth':np.arange(0,100,1)\n",
        "            }\n",
        "\n",
        "random_searchdt = RandomizedSearchCV(estimator = dTreeq, param_distributions= parameter,cv = 3, verbose=2, random_state=1,return_train_score=True)\n",
        "random_searchdt.fit(train_vectors_0,Y_train)"
      ],
      "execution_count": 116,
      "outputs": [
        {
          "output_type": "stream",
          "text": [
            "Fitting 3 folds for each of 10 candidates, totalling 30 fits\n",
            "[CV] max_depth=58, criterion=gini ....................................\n"
          ],
          "name": "stdout"
        },
        {
          "output_type": "stream",
          "text": [
            "[Parallel(n_jobs=1)]: Using backend SequentialBackend with 1 concurrent workers.\n"
          ],
          "name": "stderr"
        },
        {
          "output_type": "stream",
          "text": [
            "[CV] ..................... max_depth=58, criterion=gini, total=   0.8s\n",
            "[CV] max_depth=58, criterion=gini ....................................\n"
          ],
          "name": "stdout"
        },
        {
          "output_type": "stream",
          "text": [
            "[Parallel(n_jobs=1)]: Done   1 out of   1 | elapsed:    0.8s remaining:    0.0s\n"
          ],
          "name": "stderr"
        },
        {
          "output_type": "stream",
          "text": [
            "[CV] ..................... max_depth=58, criterion=gini, total=   0.8s\n",
            "[CV] max_depth=58, criterion=gini ....................................\n",
            "[CV] ..................... max_depth=58, criterion=gini, total=   0.8s\n",
            "[CV] max_depth=40, criterion=gini ....................................\n",
            "[CV] ..................... max_depth=40, criterion=gini, total=   0.7s\n",
            "[CV] max_depth=40, criterion=gini ....................................\n",
            "[CV] ..................... max_depth=40, criterion=gini, total=   0.7s\n",
            "[CV] max_depth=40, criterion=gini ....................................\n",
            "[CV] ..................... max_depth=40, criterion=gini, total=   0.7s\n",
            "[CV] max_depth=34, criterion=gini ....................................\n",
            "[CV] ..................... max_depth=34, criterion=gini, total=   0.6s\n",
            "[CV] max_depth=34, criterion=gini ....................................\n",
            "[CV] ..................... max_depth=34, criterion=gini, total=   0.6s\n",
            "[CV] max_depth=34, criterion=gini ....................................\n",
            "[CV] ..................... max_depth=34, criterion=gini, total=   0.7s\n",
            "[CV] max_depth=2, criterion=entropy ..................................\n",
            "[CV] ................... max_depth=2, criterion=entropy, total=   0.2s\n",
            "[CV] max_depth=2, criterion=entropy ..................................\n",
            "[CV] ................... max_depth=2, criterion=entropy, total=   0.2s\n",
            "[CV] max_depth=2, criterion=entropy ..................................\n",
            "[CV] ................... max_depth=2, criterion=entropy, total=   0.2s\n",
            "[CV] max_depth=84, criterion=entropy .................................\n",
            "[CV] .................. max_depth=84, criterion=entropy, total=   1.5s\n",
            "[CV] max_depth=84, criterion=entropy .................................\n",
            "[CV] .................. max_depth=84, criterion=entropy, total=   1.4s\n",
            "[CV] max_depth=84, criterion=entropy .................................\n",
            "[CV] .................. max_depth=84, criterion=entropy, total=   1.4s\n",
            "[CV] max_depth=98, criterion=entropy .................................\n",
            "[CV] .................. max_depth=98, criterion=entropy, total=   1.5s\n",
            "[CV] max_depth=98, criterion=entropy .................................\n",
            "[CV] .................. max_depth=98, criterion=entropy, total=   1.4s\n",
            "[CV] max_depth=98, criterion=entropy .................................\n",
            "[CV] .................. max_depth=98, criterion=entropy, total=   1.4s\n",
            "[CV] max_depth=95, criterion=gini ....................................\n",
            "[CV] ..................... max_depth=95, criterion=gini, total=   0.9s\n",
            "[CV] max_depth=95, criterion=gini ....................................\n",
            "[CV] ..................... max_depth=95, criterion=gini, total=   1.0s\n",
            "[CV] max_depth=95, criterion=gini ....................................\n",
            "[CV] ..................... max_depth=95, criterion=gini, total=   0.9s\n",
            "[CV] max_depth=4, criterion=gini .....................................\n",
            "[CV] ...................... max_depth=4, criterion=gini, total=   0.1s\n",
            "[CV] max_depth=4, criterion=gini .....................................\n",
            "[CV] ...................... max_depth=4, criterion=gini, total=   0.1s\n",
            "[CV] max_depth=4, criterion=gini .....................................\n",
            "[CV] ...................... max_depth=4, criterion=gini, total=   0.1s\n",
            "[CV] max_depth=29, criterion=gini ....................................\n",
            "[CV] ..................... max_depth=29, criterion=gini, total=   0.5s\n",
            "[CV] max_depth=29, criterion=gini ....................................\n",
            "[CV] ..................... max_depth=29, criterion=gini, total=   0.5s\n",
            "[CV] max_depth=29, criterion=gini ....................................\n",
            "[CV] ..................... max_depth=29, criterion=gini, total=   0.6s\n",
            "[CV] max_depth=68, criterion=entropy .................................\n",
            "[CV] .................. max_depth=68, criterion=entropy, total=   1.5s\n",
            "[CV] max_depth=68, criterion=entropy .................................\n",
            "[CV] .................. max_depth=68, criterion=entropy, total=   1.4s\n",
            "[CV] max_depth=68, criterion=entropy .................................\n",
            "[CV] .................. max_depth=68, criterion=entropy, total=   1.4s\n"
          ],
          "name": "stdout"
        },
        {
          "output_type": "stream",
          "text": [
            "[Parallel(n_jobs=1)]: Done  30 out of  30 | elapsed:   24.6s finished\n"
          ],
          "name": "stderr"
        },
        {
          "output_type": "execute_result",
          "data": {
            "text/plain": [
              "RandomizedSearchCV(cv=3, error_score=nan,\n",
              "                   estimator=DecisionTreeClassifier(ccp_alpha=0.0,\n",
              "                                                    class_weight=None,\n",
              "                                                    criterion='gini',\n",
              "                                                    max_depth=5,\n",
              "                                                    max_features=None,\n",
              "                                                    max_leaf_nodes=None,\n",
              "                                                    min_impurity_decrease=0.0,\n",
              "                                                    min_impurity_split=None,\n",
              "                                                    min_samples_leaf=1,\n",
              "                                                    min_samples_split=2,\n",
              "                                                    min_weight_fraction_leaf=0.0,\n",
              "                                                    presort='deprecated',\n",
              "                                                    random_state=1,\n",
              "                                                    splitter='best'),\n",
              "                   iid='de...\n",
              "                                        'max_depth': array([ 0,  1,  2,  3,  4,  5,  6,  7,  8,  9, 10, 11, 12, 13, 14, 15, 16,\n",
              "       17, 18, 19, 20, 21, 22, 23, 24, 25, 26, 27, 28, 29, 30, 31, 32, 33,\n",
              "       34, 35, 36, 37, 38, 39, 40, 41, 42, 43, 44, 45, 46, 47, 48, 49, 50,\n",
              "       51, 52, 53, 54, 55, 56, 57, 58, 59, 60, 61, 62, 63, 64, 65, 66, 67,\n",
              "       68, 69, 70, 71, 72, 73, 74, 75, 76, 77, 78, 79, 80, 81, 82, 83, 84,\n",
              "       85, 86, 87, 88, 89, 90, 91, 92, 93, 94, 95, 96, 97, 98, 99])},\n",
              "                   pre_dispatch='2*n_jobs', random_state=1, refit=True,\n",
              "                   return_train_score=True, scoring=None, verbose=2)"
            ]
          },
          "metadata": {
            "tags": []
          },
          "execution_count": 116
        }
      ]
    },
    {
      "cell_type": "code",
      "metadata": {
        "colab_type": "code",
        "id": "AQE4N47rKfgz",
        "colab": {
          "base_uri": "https://localhost:8080/",
          "height": 34
        },
        "outputId": "0f568370-efc6-4f61-a7d7-fb9435cc479c"
      },
      "source": [
        "random_searchdt.best_params_\n",
        "\n"
      ],
      "execution_count": 117,
      "outputs": [
        {
          "output_type": "execute_result",
          "data": {
            "text/plain": [
              "{'criterion': 'gini', 'max_depth': 29}"
            ]
          },
          "metadata": {
            "tags": []
          },
          "execution_count": 117
        }
      ]
    },
    {
      "cell_type": "code",
      "metadata": {
        "colab_type": "code",
        "id": "84SsLcEYKfhA",
        "colab": {
          "base_uri": "https://localhost:8080/",
          "height": 52
        },
        "outputId": "46611027-2b91-4d99-de60-28813087c211"
      },
      "source": [
        "dTreeqq = DecisionTreeClassifier(criterion = 'gini', max_depth=29,random_state=1)\n",
        "dTreeqq.fit(train_vectors_0, Y_train)\n",
        "\n",
        "\n",
        "print('Accuracy Score Test : ',dTreeqq.score(test_vectors_0, Y_test)*100)\n",
        "model.append('Decision Tree Hyper Tuned ')\n",
        "accuracytest.append(dTreeqq.score(test_vectors_0, Y_test)*100)\n",
        "\n",
        "\n",
        "print('Accuracy Score Train : ',dTreeqq.score(train_vectors_0, Y_train)*100)\n",
        "accuracytrain.append(dTreeqq.score(train_vectors_0, Y_train)*100)\n"
      ],
      "execution_count": 118,
      "outputs": [
        {
          "output_type": "stream",
          "text": [
            "Accuracy Score Test :  65.22864538395167\n",
            "Accuracy Score Train :  78.24639289678136\n"
          ],
          "name": "stdout"
        }
      ]
    },
    {
      "cell_type": "code",
      "metadata": {
        "colab_type": "code",
        "id": "XFK1-AZeKfhO",
        "colab": {
          "base_uri": "https://localhost:8080/",
          "height": 1000
        },
        "outputId": "6afd8bac-81bb-47bf-dbae-04cb7212236d"
      },
      "source": [
        "parameter={'C':np.arange(0.6,3,0.1),\n",
        " 'kernel': ['linear','poly','rbf'],\n",
        " 'gamma' : ['scale','auto'],\n",
        " 'degree':np.arange(0,5,1)}\n",
        "\n",
        "random_searchSVM = RandomizedSearchCV(estimator = SVMq, param_distributions= parameter,cv = 3, verbose=2, random_state=1,return_train_score=True)\n",
        "random_searchSVM.fit(train_vectors_0,Y_train)\n",
        "\n"
      ],
      "execution_count": 119,
      "outputs": [
        {
          "output_type": "stream",
          "text": [
            "Fitting 3 folds for each of 10 candidates, totalling 30 fits\n",
            "[CV] kernel=rbf, gamma=auto, degree=4, C=0.7 .........................\n"
          ],
          "name": "stdout"
        },
        {
          "output_type": "stream",
          "text": [
            "[Parallel(n_jobs=1)]: Using backend SequentialBackend with 1 concurrent workers.\n"
          ],
          "name": "stderr"
        },
        {
          "output_type": "stream",
          "text": [
            "[CV] .......... kernel=rbf, gamma=auto, degree=4, C=0.7, total=   3.6s\n",
            "[CV] kernel=rbf, gamma=auto, degree=4, C=0.7 .........................\n"
          ],
          "name": "stdout"
        },
        {
          "output_type": "stream",
          "text": [
            "[Parallel(n_jobs=1)]: Done   1 out of   1 | elapsed:    5.9s remaining:    0.0s\n"
          ],
          "name": "stderr"
        },
        {
          "output_type": "stream",
          "text": [
            "[CV] .......... kernel=rbf, gamma=auto, degree=4, C=0.7, total=   3.7s\n",
            "[CV] kernel=rbf, gamma=auto, degree=4, C=0.7 .........................\n",
            "[CV] .......... kernel=rbf, gamma=auto, degree=4, C=0.7, total=   3.8s\n",
            "[CV] kernel=linear, gamma=scale, degree=0, C=0.7999999999999999 ......\n",
            "[CV]  kernel=linear, gamma=scale, degree=0, C=0.7999999999999999, total=   6.0s\n",
            "[CV] kernel=linear, gamma=scale, degree=0, C=0.7999999999999999 ......\n",
            "[CV]  kernel=linear, gamma=scale, degree=0, C=0.7999999999999999, total=   6.1s\n",
            "[CV] kernel=linear, gamma=scale, degree=0, C=0.7999999999999999 ......\n",
            "[CV]  kernel=linear, gamma=scale, degree=0, C=0.7999999999999999, total=   6.2s\n",
            "[CV] kernel=poly, gamma=auto, degree=0, C=1.2999999999999998 .........\n",
            "[CV]  kernel=poly, gamma=auto, degree=0, C=1.2999999999999998, total=   3.1s\n",
            "[CV] kernel=poly, gamma=auto, degree=0, C=1.2999999999999998 .........\n",
            "[CV]  kernel=poly, gamma=auto, degree=0, C=1.2999999999999998, total=   3.1s\n",
            "[CV] kernel=poly, gamma=auto, degree=0, C=1.2999999999999998 .........\n",
            "[CV]  kernel=poly, gamma=auto, degree=0, C=1.2999999999999998, total=   3.2s\n",
            "[CV] kernel=poly, gamma=scale, degree=1, C=2.6999999999999997 ........\n",
            "[CV]  kernel=poly, gamma=scale, degree=1, C=2.6999999999999997, total=   6.1s\n",
            "[CV] kernel=poly, gamma=scale, degree=1, C=2.6999999999999997 ........\n",
            "[CV]  kernel=poly, gamma=scale, degree=1, C=2.6999999999999997, total=   6.2s\n",
            "[CV] kernel=poly, gamma=scale, degree=1, C=2.6999999999999997 ........\n",
            "[CV]  kernel=poly, gamma=scale, degree=1, C=2.6999999999999997, total=   6.4s\n",
            "[CV] kernel=rbf, gamma=scale, degree=1, C=0.6 ........................\n",
            "[CV] ......... kernel=rbf, gamma=scale, degree=1, C=0.6, total=  10.5s\n",
            "[CV] kernel=rbf, gamma=scale, degree=1, C=0.6 ........................\n",
            "[CV] ......... kernel=rbf, gamma=scale, degree=1, C=0.6, total=  10.9s\n",
            "[CV] kernel=rbf, gamma=scale, degree=1, C=0.6 ........................\n",
            "[CV] ......... kernel=rbf, gamma=scale, degree=1, C=0.6, total=  11.0s\n",
            "[CV] kernel=rbf, gamma=auto, degree=1, C=0.8999999999999999 ..........\n",
            "[CV]  kernel=rbf, gamma=auto, degree=1, C=0.8999999999999999, total=   3.8s\n",
            "[CV] kernel=rbf, gamma=auto, degree=1, C=0.8999999999999999 ..........\n",
            "[CV]  kernel=rbf, gamma=auto, degree=1, C=0.8999999999999999, total=   3.6s\n",
            "[CV] kernel=rbf, gamma=auto, degree=1, C=0.8999999999999999 ..........\n",
            "[CV]  kernel=rbf, gamma=auto, degree=1, C=0.8999999999999999, total=   3.9s\n",
            "[CV] kernel=linear, gamma=scale, degree=4, C=2.0999999999999996 ......\n",
            "[CV]  kernel=linear, gamma=scale, degree=4, C=2.0999999999999996, total=   6.3s\n",
            "[CV] kernel=linear, gamma=scale, degree=4, C=2.0999999999999996 ......\n",
            "[CV]  kernel=linear, gamma=scale, degree=4, C=2.0999999999999996, total=   6.2s\n",
            "[CV] kernel=linear, gamma=scale, degree=4, C=2.0999999999999996 ......\n",
            "[CV]  kernel=linear, gamma=scale, degree=4, C=2.0999999999999996, total=   6.3s\n",
            "[CV] kernel=rbf, gamma=auto, degree=1, C=1.0999999999999999 ..........\n",
            "[CV]  kernel=rbf, gamma=auto, degree=1, C=1.0999999999999999, total=   3.8s\n",
            "[CV] kernel=rbf, gamma=auto, degree=1, C=1.0999999999999999 ..........\n",
            "[CV]  kernel=rbf, gamma=auto, degree=1, C=1.0999999999999999, total=   3.8s\n",
            "[CV] kernel=rbf, gamma=auto, degree=1, C=1.0999999999999999 ..........\n",
            "[CV]  kernel=rbf, gamma=auto, degree=1, C=1.0999999999999999, total=   3.8s\n",
            "[CV] kernel=poly, gamma=auto, degree=2, C=1.9 ........................\n",
            "[CV] ......... kernel=poly, gamma=auto, degree=2, C=1.9, total=   3.5s\n",
            "[CV] kernel=poly, gamma=auto, degree=2, C=1.9 ........................\n",
            "[CV] ......... kernel=poly, gamma=auto, degree=2, C=1.9, total=   3.3s\n",
            "[CV] kernel=poly, gamma=auto, degree=2, C=1.9 ........................\n",
            "[CV] ......... kernel=poly, gamma=auto, degree=2, C=1.9, total=   3.5s\n",
            "[CV] kernel=rbf, gamma=auto, degree=4, C=2.1999999999999997 ..........\n",
            "[CV]  kernel=rbf, gamma=auto, degree=4, C=2.1999999999999997, total=   3.8s\n",
            "[CV] kernel=rbf, gamma=auto, degree=4, C=2.1999999999999997 ..........\n",
            "[CV]  kernel=rbf, gamma=auto, degree=4, C=2.1999999999999997, total=   3.7s\n",
            "[CV] kernel=rbf, gamma=auto, degree=4, C=2.1999999999999997 ..........\n",
            "[CV]  kernel=rbf, gamma=auto, degree=4, C=2.1999999999999997, total=   3.9s\n"
          ],
          "name": "stdout"
        },
        {
          "output_type": "stream",
          "text": [
            "[Parallel(n_jobs=1)]: Done  30 out of  30 | elapsed:  3.8min finished\n"
          ],
          "name": "stderr"
        },
        {
          "output_type": "execute_result",
          "data": {
            "text/plain": [
              "RandomizedSearchCV(cv=3, error_score=nan,\n",
              "                   estimator=SVC(C=1.0, break_ties=False, cache_size=200,\n",
              "                                 class_weight=None, coef0=0.0,\n",
              "                                 decision_function_shape='ovr', degree=3,\n",
              "                                 gamma='auto', kernel='linear', max_iter=-1,\n",
              "                                 probability=False, random_state=1,\n",
              "                                 shrinking=True, tol=0.001, verbose=False),\n",
              "                   iid='deprecated', n_iter=10, n_jobs=None,\n",
              "                   param_distributions={'C': array([0.6, 0.7, 0.8, 0.9, 1. , 1.1, 1.2, 1.3, 1.4, 1.5, 1.6, 1.7, 1.8,\n",
              "       1.9, 2. , 2.1, 2.2, 2.3, 2.4, 2.5, 2.6, 2.7, 2.8, 2.9]),\n",
              "                                        'degree': array([0, 1, 2, 3, 4]),\n",
              "                                        'gamma': ['scale', 'auto'],\n",
              "                                        'kernel': ['linear', 'poly', 'rbf']},\n",
              "                   pre_dispatch='2*n_jobs', random_state=1, refit=True,\n",
              "                   return_train_score=True, scoring=None, verbose=2)"
            ]
          },
          "metadata": {
            "tags": []
          },
          "execution_count": 119
        }
      ]
    },
    {
      "cell_type": "code",
      "metadata": {
        "colab_type": "code",
        "id": "VSIA63d3Kfha",
        "colab": {
          "base_uri": "https://localhost:8080/",
          "height": 34
        },
        "outputId": "c69c56bd-931c-4d0d-ebbc-7c130a978772"
      },
      "source": [
        "random_searchSVM.best_params_"
      ],
      "execution_count": 120,
      "outputs": [
        {
          "output_type": "execute_result",
          "data": {
            "text/plain": [
              "{'C': 2.6999999999999997, 'degree': 1, 'gamma': 'scale', 'kernel': 'poly'}"
            ]
          },
          "metadata": {
            "tags": []
          },
          "execution_count": 120
        }
      ]
    },
    {
      "cell_type": "code",
      "metadata": {
        "colab_type": "code",
        "id": "VrNS-x-kKfhh",
        "colab": {
          "base_uri": "https://localhost:8080/",
          "height": 52
        },
        "outputId": "6f2319b5-3c46-414d-b92e-a60d0ecc76cb"
      },
      "source": [
        "SVMqq = svm.SVC(C=2.69, kernel='poly', degree=1, gamma='scale')\n",
        "SVMqq.fit(train_vectors_0,Y_train)\n",
        "\n",
        "#Test set\n",
        "predictions_SVM = SVMqq.predict(test_vectors_0)\n",
        "# Use accuracy_score function to get the accuracy\n",
        "print(\"Accuracy Score Test: \",accuracy_score(predictions_SVM, Y_test)*100)\n",
        "\n",
        "model.append('Support Vector Machines- Hypertuned')\n",
        "accuracytest.append(accuracy_score(predictions_SVM, Y_test)*100)\n",
        "\n",
        "#Train set\n",
        "\n",
        "predictions_SVM = SVMqq.predict(train_vectors_0)\n",
        "# Use accuracy_score function to get the accuracy\n",
        "print(\"Accuracy Score Train : \",accuracy_score(predictions_SVM, Y_train)*100)\n",
        "\n",
        "accuracytrain.append(accuracy_score(predictions_SVM, Y_train)*100)\n",
        "\n"
      ],
      "execution_count": 121,
      "outputs": [
        {
          "output_type": "stream",
          "text": [
            "Accuracy Score Test:  75.49611734253668\n",
            "Accuracy Score Train :  97.2253052164262\n"
          ],
          "name": "stdout"
        }
      ]
    },
    {
      "cell_type": "markdown",
      "metadata": {
        "colab_type": "text",
        "id": "5hxrX6hnKfhn"
      },
      "source": [
        "#### **Sequential Model**"
      ]
    },
    {
      "cell_type": "code",
      "metadata": {
        "colab_type": "code",
        "id": "SzEGWJpWKfho",
        "colab": {
          "base_uri": "https://localhost:8080/",
          "height": 52
        },
        "outputId": "ce968738-82cb-4758-b135-1fa3cfa9bcfa"
      },
      "source": [
        "tok = Tokenizer(num_words = max_features)\n",
        "tok.fit_on_texts(data.Description)\n",
        "X = tok.texts_to_sequences(data['Description'])\n",
        "X = pad_sequences(X, maxlen = maxlen)\n",
        "Y = np.asarray(data['Assignment group'])\n",
        "\n",
        "X_train, X_test, Y_train, Y_test = train_test_split(X, Y, test_size=0.3, random_state=1)\n",
        "print(X_train.shape,Y_train.shape)\n",
        "print(X_test.shape,Y_test.shape)"
      ],
      "execution_count": 122,
      "outputs": [
        {
          "output_type": "stream",
          "text": [
            "(5406, 350) (5406,)\n",
            "(2318, 350) (2318,)\n"
          ],
          "name": "stdout"
        }
      ]
    },
    {
      "cell_type": "code",
      "metadata": {
        "colab_type": "code",
        "id": "od1roRSVKfhy",
        "colab": {
          "base_uri": "https://localhost:8080/",
          "height": 347
        },
        "outputId": "be1e6dcf-c5cc-434a-8c06-0550f5b49a89"
      },
      "source": [
        "embed_dim = 256\n",
        "lstm_out = 64\n",
        "max_features = 2000\n",
        "maxlen = 350\n",
        "embedding_size = 200\n",
        "\n",
        "modelsq = Sequential()\n",
        "modelsq.add(Embedding(max_features, embed_dim,input_length = X.shape[1]))\n",
        "modelsq.add(SpatialDropout1D(0.4))\n",
        "modelsq.add(MaxPooling1D(pool_size=4))\n",
        "modelsq.add(LSTM(100))\n",
        "#model.add(LSTM(lstm_out, dropout=0.2, recurrent_dropout=0.4))\n",
        "modelsq.add(Dense(350,activation='softmax'))\n",
        "modelsq.compile(loss = 'sparse_categorical_crossentropy', optimizer='adam',metrics = ['accuracy'])\n",
        "print(modelsq.summary())\n",
        "\n"
      ],
      "execution_count": 123,
      "outputs": [
        {
          "output_type": "stream",
          "text": [
            "Model: \"sequential_11\"\n",
            "_________________________________________________________________\n",
            "Layer (type)                 Output Shape              Param #   \n",
            "=================================================================\n",
            "embedding_11 (Embedding)     (None, 350, 256)          512000    \n",
            "_________________________________________________________________\n",
            "spatial_dropout1d_5 (Spatial (None, 350, 256)          0         \n",
            "_________________________________________________________________\n",
            "max_pooling1d_8 (MaxPooling1 (None, 87, 256)           0         \n",
            "_________________________________________________________________\n",
            "lstm_11 (LSTM)               (None, 100)               142800    \n",
            "_________________________________________________________________\n",
            "dense_11 (Dense)             (None, 350)               35350     \n",
            "=================================================================\n",
            "Total params: 690,150\n",
            "Trainable params: 690,150\n",
            "Non-trainable params: 0\n",
            "_________________________________________________________________\n",
            "None\n"
          ],
          "name": "stdout"
        }
      ]
    },
    {
      "cell_type": "code",
      "metadata": {
        "colab_type": "code",
        "id": "Ii6N6lA8Kfh4",
        "colab": {
          "base_uri": "https://localhost:8080/",
          "height": 1000
        },
        "outputId": "c6d96353-7d10-4cbf-b3e1-535157a25601"
      },
      "source": [
        "histq=modelsq.fit(X_train,Y_train, validation_data = (X_test, Y_test), epochs=30, batch_size=32, verbose=2) \n",
        "# Final evaluation of the model\n",
        "model.append('Sequential Model')\n",
        "scores = modelsq.evaluate(X_test, Y_test, verbose=0)\n",
        "accuracytest.append(scores[1]*100)\n",
        "scores = modelsq.evaluate(X_train, Y_train, verbose=0)\n",
        "accuracytrain.append(scores[1]*100)"
      ],
      "execution_count": 124,
      "outputs": [
        {
          "output_type": "stream",
          "text": [
            "/usr/local/lib/python3.6/dist-packages/tensorflow/python/framework/indexed_slices.py:434: UserWarning: Converting sparse IndexedSlices to a dense Tensor of unknown shape. This may consume a large amount of memory.\n",
            "  \"Converting sparse IndexedSlices to a dense Tensor of unknown shape. \"\n"
          ],
          "name": "stderr"
        },
        {
          "output_type": "stream",
          "text": [
            "Train on 5406 samples, validate on 2318 samples\n",
            "Epoch 1/30\n",
            " - 41s - loss: 2.4671 - accuracy: 0.5068 - val_loss: 1.9725 - val_accuracy: 0.5518\n",
            "Epoch 2/30\n",
            " - 40s - loss: 1.8273 - accuracy: 0.5788 - val_loss: 1.7087 - val_accuracy: 0.5962\n",
            "Epoch 3/30\n",
            " - 40s - loss: 1.6119 - accuracy: 0.5984 - val_loss: 1.5862 - val_accuracy: 0.6079\n",
            "Epoch 4/30\n",
            " - 40s - loss: 1.4703 - accuracy: 0.6197 - val_loss: 1.5256 - val_accuracy: 0.6178\n",
            "Epoch 5/30\n",
            " - 42s - loss: 1.3711 - accuracy: 0.6319 - val_loss: 1.4826 - val_accuracy: 0.6234\n",
            "Epoch 6/30\n",
            " - 40s - loss: 1.2940 - accuracy: 0.6426 - val_loss: 1.4939 - val_accuracy: 0.6242\n",
            "Epoch 7/30\n",
            " - 40s - loss: 1.2277 - accuracy: 0.6498 - val_loss: 1.4699 - val_accuracy: 0.6212\n",
            "Epoch 8/30\n",
            " - 40s - loss: 1.1729 - accuracy: 0.6585 - val_loss: 1.4702 - val_accuracy: 0.6242\n",
            "Epoch 9/30\n",
            " - 40s - loss: 1.1203 - accuracy: 0.6724 - val_loss: 1.5050 - val_accuracy: 0.6096\n",
            "Epoch 10/30\n",
            " - 41s - loss: 1.0706 - accuracy: 0.6841 - val_loss: 1.4706 - val_accuracy: 0.6264\n",
            "Epoch 11/30\n",
            " - 40s - loss: 1.0122 - accuracy: 0.7018 - val_loss: 1.4873 - val_accuracy: 0.6389\n",
            "Epoch 12/30\n",
            " - 40s - loss: 0.9528 - accuracy: 0.7203 - val_loss: 1.5050 - val_accuracy: 0.6337\n",
            "Epoch 13/30\n",
            " - 42s - loss: 0.9021 - accuracy: 0.7351 - val_loss: 1.4945 - val_accuracy: 0.6230\n",
            "Epoch 14/30\n",
            " - 39s - loss: 0.8534 - accuracy: 0.7527 - val_loss: 1.4924 - val_accuracy: 0.6363\n",
            "Epoch 15/30\n",
            " - 41s - loss: 0.7976 - accuracy: 0.7730 - val_loss: 1.4972 - val_accuracy: 0.6277\n",
            "Epoch 16/30\n",
            " - 40s - loss: 0.7447 - accuracy: 0.7875 - val_loss: 1.5444 - val_accuracy: 0.6307\n",
            "Epoch 17/30\n",
            " - 40s - loss: 0.6993 - accuracy: 0.8058 - val_loss: 1.5497 - val_accuracy: 0.6320\n",
            "Epoch 18/30\n",
            " - 41s - loss: 0.6445 - accuracy: 0.8230 - val_loss: 1.5780 - val_accuracy: 0.6428\n",
            "Epoch 19/30\n",
            " - 40s - loss: 0.6141 - accuracy: 0.8343 - val_loss: 1.5818 - val_accuracy: 0.6385\n",
            "Epoch 20/30\n",
            " - 40s - loss: 0.5806 - accuracy: 0.8422 - val_loss: 1.5911 - val_accuracy: 0.6290\n",
            "Epoch 21/30\n",
            " - 41s - loss: 0.5327 - accuracy: 0.8568 - val_loss: 1.6023 - val_accuracy: 0.6350\n",
            "Epoch 22/30\n",
            " - 40s - loss: 0.5039 - accuracy: 0.8642 - val_loss: 1.6383 - val_accuracy: 0.6415\n",
            "Epoch 23/30\n",
            " - 41s - loss: 0.4695 - accuracy: 0.8777 - val_loss: 1.6635 - val_accuracy: 0.6385\n",
            "Epoch 24/30\n",
            " - 40s - loss: 0.4590 - accuracy: 0.8787 - val_loss: 1.6430 - val_accuracy: 0.6346\n",
            "Epoch 25/30\n",
            " - 41s - loss: 0.4407 - accuracy: 0.8838 - val_loss: 1.6670 - val_accuracy: 0.6355\n",
            "Epoch 26/30\n",
            " - 40s - loss: 0.4026 - accuracy: 0.8933 - val_loss: 1.6984 - val_accuracy: 0.6350\n",
            "Epoch 27/30\n",
            " - 39s - loss: 0.3935 - accuracy: 0.9009 - val_loss: 1.7371 - val_accuracy: 0.6411\n",
            "Epoch 28/30\n",
            " - 41s - loss: 0.3636 - accuracy: 0.9062 - val_loss: 1.7525 - val_accuracy: 0.6402\n",
            "Epoch 29/30\n",
            " - 40s - loss: 0.3476 - accuracy: 0.9110 - val_loss: 1.7886 - val_accuracy: 0.6450\n",
            "Epoch 30/30\n",
            " - 40s - loss: 0.3384 - accuracy: 0.9090 - val_loss: 1.8286 - val_accuracy: 0.6458\n"
          ],
          "name": "stdout"
        }
      ]
    },
    {
      "cell_type": "code",
      "metadata": {
        "colab_type": "code",
        "id": "fRC01WXWKfiE",
        "colab": {
          "base_uri": "https://localhost:8080/",
          "height": 279
        },
        "outputId": "c7665e7d-7de1-4925-96db-f28de03c4aad"
      },
      "source": [
        "plt.plot(histq.history['val_accuracy'],color='black')\n",
        "plt.plot(histq.history['accuracy'])\n",
        "plt.xlabel('Accuracy')\n",
        "plt.ylabel('Iterations')\n",
        "plt.show()"
      ],
      "execution_count": 125,
      "outputs": [
        {
          "output_type": "display_data",
          "data": {
            "image/png": "[encoded data removed]",
            "text/plain": [
              "<Figure size 432x288 with 1 Axes>"
            ]
          },
          "metadata": {
            "tags": [],
            "needs_background": "light"
          }
        }
      ]
    },
    {
      "cell_type": "code",
      "metadata": {
        "colab_type": "code",
        "id": "smfkqKrJKfiN",
        "colab": {
          "base_uri": "https://localhost:8080/",
          "height": 279
        },
        "outputId": "e0d5a194-b3e1-4021-f62d-ac2f3cd7244e"
      },
      "source": [
        "plt.plot(histq.history['val_loss'],color='black')\n",
        "plt.plot(histq.history['loss'])\n",
        "plt.xlabel('Loss')\n",
        "plt.ylabel('Iterations')\n",
        "plt.show()"
      ],
      "execution_count": 126,
      "outputs": [
        {
          "output_type": "display_data",
          "data": {
            "image/png": "[encoded data removed]",
            "text/plain": [
              "<Figure size 432x288 with 1 Axes>"
            ]
          },
          "metadata": {
            "tags": [],
            "needs_background": "light"
          }
        }
      ]
    },
    {
      "cell_type": "markdown",
      "metadata": {
        "colab_type": "text",
        "id": "mpOWzYpMKfiV"
      },
      "source": [
        "#### **Bidirectional LSTM**"
      ]
    },
    {
      "cell_type": "code",
      "metadata": {
        "colab_type": "code",
        "id": "mjPw2hkGKfiX",
        "colab": {
          "base_uri": "https://localhost:8080/",
          "height": 1000
        },
        "outputId": "64cc755c-a442-42e1-b70a-66a1e84f2647"
      },
      "source": [
        "\n",
        "lsmodq = lstmm()\n",
        "\n",
        "lshistq = lsmodq.fit(X_train,Y_train,\n",
        "         epochs = 30,\n",
        "         batch_size = 128,\n",
        "         validation_data = (X_test, Y_test))"
      ],
      "execution_count": 127,
      "outputs": [
        {
          "output_type": "stream",
          "text": [
            "/usr/local/lib/python3.6/dist-packages/tensorflow/python/framework/indexed_slices.py:434: UserWarning: Converting sparse IndexedSlices to a dense Tensor of unknown shape. This may consume a large amount of memory.\n",
            "  \"Converting sparse IndexedSlices to a dense Tensor of unknown shape. \"\n"
          ],
          "name": "stderr"
        },
        {
          "output_type": "stream",
          "text": [
            "Train on 5406 samples, validate on 2318 samples\n",
            "Epoch 1/30\n",
            "5406/5406 [==============================] - 81s 15ms/step - loss: 4.3190 - acc: 0.4661 - val_loss: 2.3446 - val_acc: 0.5190\n",
            "Epoch 2/30\n",
            "5406/5406 [==============================] - 77s 14ms/step - loss: 2.1894 - acc: 0.5109 - val_loss: 2.1143 - val_acc: 0.5190\n",
            "Epoch 3/30\n",
            "5406/5406 [==============================] - 78s 14ms/step - loss: 2.1125 - acc: 0.5109 - val_loss: 2.0657 - val_acc: 0.5190\n",
            "Epoch 4/30\n",
            "5406/5406 [==============================] - 76s 14ms/step - loss: 2.0169 - acc: 0.5303 - val_loss: 1.9113 - val_acc: 0.5958\n",
            "Epoch 5/30\n",
            "5406/5406 [==============================] - 77s 14ms/step - loss: 1.8530 - acc: 0.5897 - val_loss: 1.7914 - val_acc: 0.5971\n",
            "Epoch 6/30\n",
            "5406/5406 [==============================] - 77s 14ms/step - loss: 1.7312 - acc: 0.5910 - val_loss: 1.7122 - val_acc: 0.5966\n",
            "Epoch 7/30\n",
            "5406/5406 [==============================] - 77s 14ms/step - loss: 1.6375 - acc: 0.5930 - val_loss: 1.6571 - val_acc: 0.5979\n",
            "Epoch 8/30\n",
            "5406/5406 [==============================] - 77s 14ms/step - loss: 1.5652 - acc: 0.5967 - val_loss: 1.6313 - val_acc: 0.5988\n",
            "Epoch 9/30\n",
            "5406/5406 [==============================] - 77s 14ms/step - loss: 1.5079 - acc: 0.6041 - val_loss: 1.6158 - val_acc: 0.6005\n",
            "Epoch 10/30\n",
            "5406/5406 [==============================] - 77s 14ms/step - loss: 1.4555 - acc: 0.6226 - val_loss: 1.6003 - val_acc: 0.6022\n",
            "Epoch 11/30\n",
            "5406/5406 [==============================] - 77s 14ms/step - loss: 1.4247 - acc: 0.6280 - val_loss: 1.6086 - val_acc: 0.6018\n",
            "Epoch 12/30\n",
            "5406/5406 [==============================] - 77s 14ms/step - loss: 1.3828 - acc: 0.6387 - val_loss: 1.6106 - val_acc: 0.5958\n",
            "Epoch 13/30\n",
            "5406/5406 [==============================] - 81s 15ms/step - loss: 1.3495 - acc: 0.6410 - val_loss: 1.5982 - val_acc: 0.6053\n",
            "Epoch 14/30\n",
            "5406/5406 [==============================] - 77s 14ms/step - loss: 1.3195 - acc: 0.6458 - val_loss: 1.6057 - val_acc: 0.5958\n",
            "Epoch 15/30\n",
            "5406/5406 [==============================] - 77s 14ms/step - loss: 1.2827 - acc: 0.6508 - val_loss: 1.6083 - val_acc: 0.5975\n",
            "Epoch 16/30\n",
            "5406/5406 [==============================] - 77s 14ms/step - loss: 1.2507 - acc: 0.6574 - val_loss: 1.6053 - val_acc: 0.5984\n",
            "Epoch 17/30\n",
            "5406/5406 [==============================] - 76s 14ms/step - loss: 1.2230 - acc: 0.6607 - val_loss: 1.5981 - val_acc: 0.6061\n",
            "Epoch 18/30\n",
            "5406/5406 [==============================] - 78s 14ms/step - loss: 1.2006 - acc: 0.6646 - val_loss: 1.5879 - val_acc: 0.6035\n",
            "Epoch 19/30\n",
            "5406/5406 [==============================] - 77s 14ms/step - loss: 1.1714 - acc: 0.6693 - val_loss: 1.5920 - val_acc: 0.6061\n",
            "Epoch 20/30\n",
            "5406/5406 [==============================] - 78s 14ms/step - loss: 1.1508 - acc: 0.6746 - val_loss: 1.6031 - val_acc: 0.6044\n",
            "Epoch 21/30\n",
            "5406/5406 [==============================] - 77s 14ms/step - loss: 1.1201 - acc: 0.6789 - val_loss: 1.6124 - val_acc: 0.5958\n",
            "Epoch 22/30\n",
            "5406/5406 [==============================] - 77s 14ms/step - loss: 1.1015 - acc: 0.6798 - val_loss: 1.6047 - val_acc: 0.6048\n",
            "Epoch 23/30\n",
            "5406/5406 [==============================] - 77s 14ms/step - loss: 1.0777 - acc: 0.6859 - val_loss: 1.6170 - val_acc: 0.5984\n",
            "Epoch 24/30\n",
            "5406/5406 [==============================] - 81s 15ms/step - loss: 1.0624 - acc: 0.6896 - val_loss: 1.6068 - val_acc: 0.5975\n",
            "Epoch 25/30\n",
            "5406/5406 [==============================] - 76s 14ms/step - loss: 1.0463 - acc: 0.6909 - val_loss: 1.6141 - val_acc: 0.5992\n",
            "Epoch 26/30\n",
            "5406/5406 [==============================] - 77s 14ms/step - loss: 1.0337 - acc: 0.6989 - val_loss: 1.6180 - val_acc: 0.6057\n",
            "Epoch 27/30\n",
            "5406/5406 [==============================] - 78s 14ms/step - loss: 1.0044 - acc: 0.7070 - val_loss: 1.6147 - val_acc: 0.6143\n",
            "Epoch 28/30\n",
            "5406/5406 [==============================] - 77s 14ms/step - loss: 0.9908 - acc: 0.7092 - val_loss: 1.6278 - val_acc: 0.6135\n",
            "Epoch 29/30\n",
            "5406/5406 [==============================] - 77s 14ms/step - loss: 0.9710 - acc: 0.7138 - val_loss: 1.6371 - val_acc: 0.6130\n",
            "Epoch 30/30\n",
            "5406/5406 [==============================] - 77s 14ms/step - loss: 0.9561 - acc: 0.7174 - val_loss: 1.6305 - val_acc: 0.6160\n"
          ],
          "name": "stdout"
        }
      ]
    },
    {
      "cell_type": "code",
      "metadata": {
        "colab_type": "code",
        "id": "-Vxkj_DHKfii",
        "colab": {}
      },
      "source": [
        "model.append('Bidirectional LSTM Model')\n",
        "scores = lsmodq.evaluate(X_test, Y_test, verbose=0)\n",
        "accuracytest.append(scores[1]*100)\n",
        "scores = lsmodq.evaluate(X_train, Y_train, verbose=0)\n",
        "accuracytrain.append(scores[1]*100)\n",
        "\n",
        "\n"
      ],
      "execution_count": 128,
      "outputs": []
    },
    {
      "cell_type": "code",
      "metadata": {
        "colab_type": "code",
        "id": "i2MbCUBtKfiq",
        "colab": {
          "base_uri": "https://localhost:8080/",
          "height": 279
        },
        "outputId": "5459c3ee-b251-458b-f238-18417751edc3"
      },
      "source": [
        "plt.plot(lshistq.history['val_acc'],color='black')\n",
        "plt.plot(lshistq.history['acc'])\n",
        "plt.xlabel('Accuracy')\n",
        "plt.ylabel('Iterations')\n",
        "plt.show()"
      ],
      "execution_count": 129,
      "outputs": [
        {
          "output_type": "display_data",
          "data": {
            "image/png": "[encoded data removed]",
            "text/plain": [
              "<Figure size 432x288 with 1 Axes>"
            ]
          },
          "metadata": {
            "tags": [],
            "needs_background": "light"
          }
        }
      ]
    },
    {
      "cell_type": "code",
      "metadata": {
        "colab_type": "code",
        "id": "S_sKsVjVKfi2",
        "colab": {
          "base_uri": "https://localhost:8080/",
          "height": 279
        },
        "outputId": "e36ad9e8-06b5-456e-eb1f-b9749b09246c"
      },
      "source": [
        "plt.plot(lshistq.history['val_loss'],color='black')\n",
        "plt.plot(lshistq.history['loss'])\n",
        "plt.xlabel('Loss')\n",
        "plt.ylabel('Iterations')\n",
        "plt.show()"
      ],
      "execution_count": 130,
      "outputs": [
        {
          "output_type": "display_data",
          "data": {
            "image/png": "[encoded data removed]",
            "text/plain": [
              "<Figure size 432x288 with 1 Axes>"
            ]
          },
          "metadata": {
            "tags": [],
            "needs_background": "light"
          }
        }
      ]
    },
    {
      "cell_type": "markdown",
      "metadata": {
        "colab_type": "text",
        "id": "PG8rlvYzKfi_"
      },
      "source": [
        "#### **1D Convolution**"
      ]
    },
    {
      "cell_type": "code",
      "metadata": {
        "colab_type": "code",
        "id": "xqK1XhA5KfjB",
        "colab": {
          "base_uri": "https://localhost:8080/",
          "height": 1000
        },
        "outputId": "21239eae-1a68-4fc6-df0e-42eac44f826b"
      },
      "source": [
        "  \n",
        "convmodq = conv1d()\n",
        "\n",
        "\n",
        "\n",
        "convhistq = convmodq.fit(X_train, Y_train,\n",
        "                      epochs = 30,\n",
        "                      batch_size = 128,\n",
        "                      validation_data = (X_test, Y_test))"
      ],
      "execution_count": 131,
      "outputs": [
        {
          "output_type": "stream",
          "text": [
            "/usr/local/lib/python3.6/dist-packages/tensorflow/python/framework/indexed_slices.py:434: UserWarning: Converting sparse IndexedSlices to a dense Tensor of unknown shape. This may consume a large amount of memory.\n",
            "  \"Converting sparse IndexedSlices to a dense Tensor of unknown shape. \"\n"
          ],
          "name": "stderr"
        },
        {
          "output_type": "stream",
          "text": [
            "Train on 5406 samples, validate on 2318 samples\n",
            "Epoch 1/30\n",
            "5406/5406 [==============================] - 36s 7ms/step - loss: 3.8288 - acc: 0.4822 - val_loss: 2.8309 - val_acc: 0.5349\n",
            "Epoch 2/30\n",
            "5406/5406 [==============================] - 37s 7ms/step - loss: 1.9760 - acc: 0.5609 - val_loss: 2.1415 - val_acc: 0.5971\n",
            "Epoch 3/30\n",
            "5406/5406 [==============================] - 35s 7ms/step - loss: 1.6897 - acc: 0.5853 - val_loss: 1.8200 - val_acc: 0.6027\n",
            "Epoch 4/30\n",
            "5406/5406 [==============================] - 36s 7ms/step - loss: 1.5189 - acc: 0.6027 - val_loss: 1.6109 - val_acc: 0.6083\n",
            "Epoch 5/30\n",
            "5406/5406 [==============================] - 35s 7ms/step - loss: 1.4000 - acc: 0.6199 - val_loss: 1.5312 - val_acc: 0.6307\n",
            "Epoch 6/30\n",
            "5406/5406 [==============================] - 37s 7ms/step - loss: 1.2959 - acc: 0.6509 - val_loss: 1.4492 - val_acc: 0.6484\n",
            "Epoch 7/30\n",
            "5406/5406 [==============================] - 35s 6ms/step - loss: 1.2001 - acc: 0.6748 - val_loss: 1.4103 - val_acc: 0.6549\n",
            "Epoch 8/30\n",
            "5406/5406 [==============================] - 36s 7ms/step - loss: 1.1110 - acc: 0.6918 - val_loss: 1.3809 - val_acc: 0.6579\n",
            "Epoch 9/30\n",
            "5406/5406 [==============================] - 36s 7ms/step - loss: 1.0432 - acc: 0.7046 - val_loss: 1.3949 - val_acc: 0.6471\n",
            "Epoch 10/30\n",
            "5406/5406 [==============================] - 36s 7ms/step - loss: 0.9880 - acc: 0.7203 - val_loss: 1.3697 - val_acc: 0.6601\n",
            "Epoch 11/30\n",
            "5406/5406 [==============================] - 37s 7ms/step - loss: 0.9199 - acc: 0.7342 - val_loss: 1.3797 - val_acc: 0.6575\n",
            "Epoch 12/30\n",
            "5406/5406 [==============================] - 36s 7ms/step - loss: 0.8494 - acc: 0.7529 - val_loss: 1.3667 - val_acc: 0.6644\n",
            "Epoch 13/30\n",
            "5406/5406 [==============================] - 36s 7ms/step - loss: 0.7927 - acc: 0.7653 - val_loss: 1.4169 - val_acc: 0.6553\n",
            "Epoch 14/30\n",
            "5406/5406 [==============================] - 35s 6ms/step - loss: 0.7403 - acc: 0.7845 - val_loss: 1.4103 - val_acc: 0.6523\n",
            "Epoch 15/30\n",
            "5406/5406 [==============================] - 37s 7ms/step - loss: 0.6788 - acc: 0.8060 - val_loss: 1.4235 - val_acc: 0.6501\n",
            "Epoch 16/30\n",
            "5406/5406 [==============================] - 36s 7ms/step - loss: 0.6357 - acc: 0.8139 - val_loss: 1.4259 - val_acc: 0.6588\n",
            "Epoch 17/30\n",
            "5406/5406 [==============================] - 37s 7ms/step - loss: 0.5923 - acc: 0.8230 - val_loss: 1.4661 - val_acc: 0.6544\n",
            "Epoch 18/30\n",
            "5406/5406 [==============================] - 36s 7ms/step - loss: 0.5465 - acc: 0.8370 - val_loss: 1.4482 - val_acc: 0.6553\n",
            "Epoch 19/30\n",
            "5406/5406 [==============================] - 37s 7ms/step - loss: 0.5210 - acc: 0.8442 - val_loss: 1.4941 - val_acc: 0.6592\n",
            "Epoch 20/30\n",
            "5406/5406 [==============================] - 35s 6ms/step - loss: 0.4844 - acc: 0.8550 - val_loss: 1.5216 - val_acc: 0.6553\n",
            "Epoch 21/30\n",
            "5406/5406 [==============================] - 36s 7ms/step - loss: 0.4539 - acc: 0.8653 - val_loss: 1.5416 - val_acc: 0.6549\n",
            "Epoch 22/30\n",
            "5406/5406 [==============================] - 36s 7ms/step - loss: 0.4311 - acc: 0.8746 - val_loss: 1.5624 - val_acc: 0.6613\n",
            "Epoch 23/30\n",
            "5406/5406 [==============================] - 35s 7ms/step - loss: 0.4144 - acc: 0.8748 - val_loss: 1.6279 - val_acc: 0.6488\n",
            "Epoch 24/30\n",
            "5406/5406 [==============================] - 37s 7ms/step - loss: 0.3767 - acc: 0.8907 - val_loss: 1.6544 - val_acc: 0.6514\n",
            "Epoch 25/30\n",
            "5406/5406 [==============================] - 35s 7ms/step - loss: 0.3596 - acc: 0.8946 - val_loss: 1.6925 - val_acc: 0.6540\n",
            "Epoch 26/30\n",
            "5406/5406 [==============================] - 37s 7ms/step - loss: 0.3386 - acc: 0.8997 - val_loss: 1.6974 - val_acc: 0.6622\n",
            "Epoch 27/30\n",
            "5406/5406 [==============================] - 34s 6ms/step - loss: 0.3225 - acc: 0.9033 - val_loss: 1.7180 - val_acc: 0.6592\n",
            "Epoch 28/30\n",
            "5406/5406 [==============================] - 37s 7ms/step - loss: 0.2982 - acc: 0.9125 - val_loss: 1.7920 - val_acc: 0.6506\n",
            "Epoch 29/30\n",
            "5406/5406 [==============================] - 35s 7ms/step - loss: 0.2879 - acc: 0.9197 - val_loss: 1.7879 - val_acc: 0.6536\n",
            "Epoch 30/30\n",
            "5406/5406 [==============================] - 37s 7ms/step - loss: 0.2832 - acc: 0.9219 - val_loss: 1.8401 - val_acc: 0.6553\n"
          ],
          "name": "stdout"
        }
      ]
    },
    {
      "cell_type": "code",
      "metadata": {
        "colab_type": "code",
        "id": "tYKDUMtPKfjF",
        "colab": {}
      },
      "source": [
        "model.append('1D Convolution Model')\n",
        "scores = convmodq.evaluate(X_test, Y_test, verbose=0)\n",
        "accuracytest.append(scores[1]*100)\n",
        "scores = convmodq.evaluate(X_train, Y_train, verbose=0)\n",
        "accuracytrain.append(scores[1]*100)"
      ],
      "execution_count": 132,
      "outputs": []
    },
    {
      "cell_type": "code",
      "metadata": {
        "colab_type": "code",
        "id": "ZC_CPAs5KfjL",
        "colab": {
          "base_uri": "https://localhost:8080/",
          "height": 279
        },
        "outputId": "f93aae32-f71c-4629-85fd-3d82cfad0dde"
      },
      "source": [
        "plt.plot(convhistq.history['val_acc'],color='black')\n",
        "plt.plot(convhistq.history['acc'])\n",
        "plt.xlabel('Accuracy')\n",
        "plt.ylabel('Iterations')\n",
        "plt.show()"
      ],
      "execution_count": 133,
      "outputs": [
        {
          "output_type": "display_data",
          "data": {
            "image/png": "[encoded data removed]",
            "text/plain": [
              "<Figure size 432x288 with 1 Axes>"
            ]
          },
          "metadata": {
            "tags": [],
            "needs_background": "light"
          }
        }
      ]
    },
    {
      "cell_type": "code",
      "metadata": {
        "colab_type": "code",
        "id": "ED1me4NaKfjS",
        "colab": {
          "base_uri": "https://localhost:8080/",
          "height": 283
        },
        "outputId": "b8290d9a-824c-4ef8-b150-b7fc9708fb45"
      },
      "source": [
        "plt.plot(convhistq.history['val_loss'],color='black')\n",
        "plt.plot(convhistq.history['loss'])\n",
        "plt.xlabel('Loss')\n",
        "plt.ylabel('Iterations')\n",
        "plt.show()"
      ],
      "execution_count": 134,
      "outputs": [
        {
          "output_type": "display_data",
          "data": {
            "image/png": "[encoded data removed]",
            "text/plain": [
              "<Figure size 432x288 with 1 Axes>"
            ]
          },
          "metadata": {
            "tags": [],
            "needs_background": "light"
          }
        }
      ]
    },
    {
      "cell_type": "markdown",
      "metadata": {
        "colab_type": "text",
        "id": "yb9H-tsfKfjY"
      },
      "source": [
        "#### **Model Selection for Cluster 2**\n"
      ]
    },
    {
      "cell_type": "code",
      "metadata": {
        "colab_type": "code",
        "id": "NOPKHcYQKfjY",
        "colab": {
          "base_uri": "https://localhost:8080/",
          "height": 426
        },
        "outputId": "12c22f55-165e-4f65-ed27-7589e6bb7480"
      },
      "source": [
        "cluster1_accuracies=pd.DataFrame()\n",
        "cluster1_accuracies['Model']=model\n",
        "cluster1_accuracies['Accuracy(Test)']=accuracytest\n",
        "cluster1_accuracies['Accuracy(Train)']=accuracytrain\n",
        "cluster1_accuracies"
      ],
      "execution_count": 135,
      "outputs": [
        {
          "output_type": "execute_result",
          "data": {
            "text/html": [
              "<div>\n",
              "<style scoped>\n",
              "    .dataframe tbody tr th:only-of-type {\n",
              "        vertical-align: middle;\n",
              "    }\n",
              "\n",
              "    .dataframe tbody tr th {\n",
              "        vertical-align: top;\n",
              "    }\n",
              "\n",
              "    .dataframe thead th {\n",
              "        text-align: right;\n",
              "    }\n",
              "</style>\n",
              "<table border=\"1\" class=\"dataframe\">\n",
              "  <thead>\n",
              "    <tr style=\"text-align: right;\">\n",
              "      <th></th>\n",
              "      <th>Model</th>\n",
              "      <th>Accuracy(Test)</th>\n",
              "      <th>Accuracy(Train)</th>\n",
              "    </tr>\n",
              "  </thead>\n",
              "  <tbody>\n",
              "    <tr>\n",
              "      <th>0</th>\n",
              "      <td>Logistic Regression with Chi Square</td>\n",
              "      <td>52.717860</td>\n",
              "      <td>51.775805</td>\n",
              "    </tr>\n",
              "    <tr>\n",
              "      <th>1</th>\n",
              "      <td>Multinomial Naive Bayes</td>\n",
              "      <td>62.467645</td>\n",
              "      <td>62.282649</td>\n",
              "    </tr>\n",
              "    <tr>\n",
              "      <th>2</th>\n",
              "      <td>Support Vector Machines</td>\n",
              "      <td>73.080242</td>\n",
              "      <td>85.738069</td>\n",
              "    </tr>\n",
              "    <tr>\n",
              "      <th>3</th>\n",
              "      <td>Decision Tree</td>\n",
              "      <td>61.130285</td>\n",
              "      <td>61.746208</td>\n",
              "    </tr>\n",
              "    <tr>\n",
              "      <th>4</th>\n",
              "      <td>Bagging Classifier</td>\n",
              "      <td>59.232097</td>\n",
              "      <td>59.027007</td>\n",
              "    </tr>\n",
              "    <tr>\n",
              "      <th>5</th>\n",
              "      <td>Adaboost Classifier</td>\n",
              "      <td>57.290768</td>\n",
              "      <td>56.918239</td>\n",
              "    </tr>\n",
              "    <tr>\n",
              "      <th>6</th>\n",
              "      <td>Gradient Boost Classifier</td>\n",
              "      <td>68.162209</td>\n",
              "      <td>94.265631</td>\n",
              "    </tr>\n",
              "    <tr>\n",
              "      <th>7</th>\n",
              "      <td>Decision Tree Hyper Tuned</td>\n",
              "      <td>65.228645</td>\n",
              "      <td>78.246393</td>\n",
              "    </tr>\n",
              "    <tr>\n",
              "      <th>8</th>\n",
              "      <td>Support Vector Machines- Hypertuned</td>\n",
              "      <td>75.496117</td>\n",
              "      <td>97.225305</td>\n",
              "    </tr>\n",
              "    <tr>\n",
              "      <th>9</th>\n",
              "      <td>Sequential Model</td>\n",
              "      <td>64.581537</td>\n",
              "      <td>93.211246</td>\n",
              "    </tr>\n",
              "    <tr>\n",
              "      <th>10</th>\n",
              "      <td>Bidirectional LSTM Model</td>\n",
              "      <td>61.604834</td>\n",
              "      <td>73.473918</td>\n",
              "    </tr>\n",
              "    <tr>\n",
              "      <th>11</th>\n",
              "      <td>1D Convolution Model</td>\n",
              "      <td>65.530628</td>\n",
              "      <td>95.523494</td>\n",
              "    </tr>\n",
              "  </tbody>\n",
              "</table>\n",
              "</div>"
            ],
            "text/plain": [
              "                                  Model  Accuracy(Test)  Accuracy(Train)\n",
              "0   Logistic Regression with Chi Square       52.717860        51.775805\n",
              "1               Multinomial Naive Bayes       62.467645        62.282649\n",
              "2               Support Vector Machines       73.080242        85.738069\n",
              "3                        Decision Tree        61.130285        61.746208\n",
              "4                    Bagging Classifier       59.232097        59.027007\n",
              "5                   Adaboost Classifier       57.290768        56.918239\n",
              "6             Gradient Boost Classifier       68.162209        94.265631\n",
              "7            Decision Tree Hyper Tuned        65.228645        78.246393\n",
              "8   Support Vector Machines- Hypertuned       75.496117        97.225305\n",
              "9                      Sequential Model       64.581537        93.211246\n",
              "10             Bidirectional LSTM Model       61.604834        73.473918\n",
              "11                 1D Convolution Model       65.530628        95.523494"
            ]
          },
          "metadata": {
            "tags": []
          },
          "execution_count": 135
        }
      ]
    },
    {
      "cell_type": "code",
      "metadata": {
        "colab_type": "code",
        "id": "ozo3JhjhKfjc",
        "colab": {
          "base_uri": "https://localhost:8080/",
          "height": 609
        },
        "outputId": "125fef90-440f-4787-c8b6-5e179c710e51"
      },
      "source": [
        "x_axis=['LR','NM','SVM','DT','BC','ABC','GBC','DTH','SVMH','SM','BLSTM','1DCONV']\n",
        "plt.figure(figsize=(10,10))\n",
        "plt.bar(x_axis,cluster1_accuracies['Accuracy(Test)'])\n",
        "plt.bar(x_axis,cluster1_accuracies['Accuracy(Train)'],alpha=0.3)"
      ],
      "execution_count": 136,
      "outputs": [
        {
          "output_type": "execute_result",
          "data": {
            "text/plain": [
              "<BarContainer object of 12 artists>"
            ]
          },
          "metadata": {
            "tags": []
          },
          "execution_count": 136
        },
        {
          "output_type": "display_data",
          "data": {
            "image/png": "[encoded data removed]",
            "text/plain": [
              "<Figure size 720x720 with 1 Axes>"
            ]
          },
          "metadata": {
            "tags": [],
            "needs_background": "light"
          }
        }
      ]
    },
    {
      "cell_type": "markdown",
      "metadata": {
        "colab_type": "text",
        "id": "-h3Ab6r6Kfjh"
      },
      "source": [
        "> LR-Logistic Regression\n",
        "\n",
        "> NM- Multinomial Naive Bayes\n",
        "\n",
        ">SVM-Support Vector Machine\n",
        "\n",
        ">DT- Decision Tree\n",
        "\n",
        ">BC-Bagging Classifier\n",
        "\n",
        ">ABC-AdaBoost Classifier\n",
        "\n",
        ">GBC-Gradient Boost Classifier\n",
        "\n",
        ">DTH- Decision Tree - Hyper Tunes\n",
        "\n",
        ">SVMH- Support Vector Machine Hyper Tuned\n",
        "\n",
        ">SM-Sequential Model\n",
        "\n",
        ">BLSTM-Bidirectional LSTM\n",
        "\n",
        ">1DCONV-1D Convolution\n",
        "\n",
        "\n",
        "#### **Model Selection**\n",
        "> The grey bar shows the accuracy on Train data and Yello shows the accuracy on Test data. \n",
        "\n",
        "> Higher the difference, the model is overfit\n",
        "\n",
        "> Out of all, Hyper tuned Support Vector Machines seems to be the best of all\n"
      ]
    },
    {
      "cell_type": "code",
      "metadata": {
        "id": "b5VpIfW3SuRI",
        "colab_type": "code",
        "colab": {}
      },
      "source": [
        ""
      ],
      "execution_count": 136,
      "outputs": []
    }
  ]
}