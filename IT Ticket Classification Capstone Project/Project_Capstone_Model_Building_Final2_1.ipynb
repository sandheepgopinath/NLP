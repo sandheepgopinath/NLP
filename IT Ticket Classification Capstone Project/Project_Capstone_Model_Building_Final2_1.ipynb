{
  "nbformat": 4,
  "nbformat_minor": 0,
  "metadata": {
    "colab": {
      "name": "Project_Capstone_Model Building_Final2.1.ipynb",
      "provenance": [],
      "authorship_tag": "ABX9TyM/I+b+9Dzx034YdtqJi4rI",
      "include_colab_link": true
    },
    "kernelspec": {
      "name": "python3",
      "display_name": "Python 3"
    }
  },
  "cells": [
    {
      "cell_type": "markdown",
      "metadata": {
        "id": "view-in-github",
        "colab_type": "text"
      },
      "source": [
        "<a href=\"https://colab.research.google.com/github/Capstone-Project-July/Interim/blob/master/Project_Capstone_Model_Building_Final2_1.ipynb\" target=\"_parent\"><img src=\"https://colab.research.google.com/assets/colab-badge.svg\" alt=\"Open In Colab\"/></a>"
      ]
    },
    {
      "cell_type": "code",
      "metadata": {
        "id": "NnIvUOg3HP5k",
        "colab_type": "code",
        "colab": {
          "base_uri": "https://localhost:8080/",
          "height": 191
        },
        "outputId": "e1c4c4fd-353d-4d89-8782-467e2c15c5db"
      },
      "source": [
        "import pandas as pd\n",
        "import numpy as np\n",
        "import re\n",
        "import matplotlib.pyplot as plt\n",
        "%matplotlib inline \n",
        "import seaborn as sns \n",
        "import nltk\n",
        "nltk.download('punkt')\n",
        "nltk.download('averaged_perceptron_tagger')\n",
        "nltk.download('stopwords')\n",
        "from nltk.tokenize import TweetTokenizer \n",
        "from sklearn.feature_extraction.text import TfidfVectorizer\n",
        "from nltk.tokenize import word_tokenize\n",
        "from sklearn.model_selection import train_test_split\n",
        "import tensorflow as tf\n",
        "from textblob import TextBlob\n",
        "from sklearn.preprocessing import LabelEncoder\n",
        "from keras.preprocessing.sequence import pad_sequences\n",
        "from keras.models import Sequential\n",
        "from keras.preprocessing.text import Tokenizer\n",
        "from keras.preprocessing import sequence\n",
        "from IPython.display import clear_output\n",
        "from keras.models import Model \n",
        "from keras.layers import Embedding, Activation, SpatialDropout1D, Flatten, Dense, Input, LSTM, Bidirectional, Dropout, Conv1D, MaxPool1D, CuDNNLSTM, GlobalMaxPool1D\n",
        "from keras.optimizers import RMSprop\n",
        "from keras.utils import to_categorical\n",
        "from keras.callbacks import EarlyStopping\n",
        "#For stopwords and tokenisation\n",
        "import string\n",
        "from string import punctuation\n",
        "from nltk.corpus import stopwords\n",
        "from nltk import word_tokenize\n",
        "from PIL import Image\n",
        "import matplotlib.pyplot as plt\n",
        "from wordcloud import WordCloud\n",
        "from sklearn import preprocessing #Changing categorical data to one hot encoding\n",
        "from nltk.tokenize import RegexpTokenizer\n",
        "from sklearn.cluster import KMeans\n",
        "from nltk.stem import PorterStemmer\n",
        "from sklearn.datasets import make_blobs\n",
        "from sklearn.decomposition import PCA\n",
        "from sklearn.metrics.pairwise import euclidean_distances\n",
        "from numpy import unique\n",
        "from numpy import where\n",
        "from sklearn.cluster import AffinityPropagation #Using this to best summarize the data\n",
        "from matplotlib import pyplot \n",
        "\n",
        "#Models\n",
        "\n",
        "from sklearn.feature_selection import chi2\n",
        "from sklearn.feature_selection import SelectKBest\n",
        "from sklearn.linear_model import LogisticRegression\n",
        "from sklearn.naive_bayes import MultinomialNB\n",
        "from sklearn.pipeline import Pipeline\n",
        "from sklearn.feature_extraction.text import TfidfTransformer\n",
        "from sklearn.metrics import accuracy_score, confusion_matrix\n",
        "from sklearn.feature_extraction.text import CountVectorizer\n",
        "from sklearn.metrics import classification_report\n",
        "from sklearn.pipeline import Pipeline\n",
        "from sklearn.linear_model import SGDClassifier\n",
        "from sklearn.metrics import accuracy_score\n",
        "from sklearn import model_selection, naive_bayes, svm\n",
        "from sklearn.tree import DecisionTreeClassifier\n",
        "from sklearn import tree\n",
        "from sklearn.ensemble import BaggingClassifier\n",
        "from sklearn.ensemble import AdaBoostClassifier\n",
        "from sklearn.ensemble import GradientBoostingClassifier\n",
        "from keras.models import Sequential\n",
        "from keras import layers\n",
        "from keras.layers import Embedding, Activation, SpatialDropout1D, Flatten, Dense, Input, LSTM, Bidirectional, Dropout, Conv1D, MaxPool1D, CuDNNLSTM, GlobalMaxPool1D, MaxPooling1D, GRU\n",
        "\n",
        "\n",
        "# Hyper Parameter Tuning\n",
        "from sklearn.model_selection import RandomizedSearchCV\n"
      ],
      "execution_count": 1,
      "outputs": [
        {
          "output_type": "stream",
          "text": [
            "/usr/local/lib/python3.6/dist-packages/statsmodels/tools/_testing.py:19: FutureWarning: pandas.util.testing is deprecated. Use the functions in the public API at pandas.testing instead.\n",
            "  import pandas.util.testing as tm\n"
          ],
          "name": "stderr"
        },
        {
          "output_type": "stream",
          "text": [
            "[nltk_data] Downloading package punkt to /root/nltk_data...\n",
            "[nltk_data]   Unzipping tokenizers/punkt.zip.\n",
            "[nltk_data] Downloading package averaged_perceptron_tagger to\n",
            "[nltk_data]     /root/nltk_data...\n",
            "[nltk_data]   Unzipping taggers/averaged_perceptron_tagger.zip.\n",
            "[nltk_data] Downloading package stopwords to /root/nltk_data...\n",
            "[nltk_data]   Unzipping corpora/stopwords.zip.\n"
          ],
          "name": "stdout"
        },
        {
          "output_type": "stream",
          "text": [
            "Using TensorFlow backend.\n"
          ],
          "name": "stderr"
        }
      ]
    },
    {
      "cell_type": "code",
      "metadata": {
        "id": "45sWGExSHeoP",
        "colab_type": "code",
        "colab": {
          "base_uri": "https://localhost:8080/",
          "height": 124
        },
        "outputId": "fe5ae9d8-80f5-4767-dea1-d98f57730cf4"
      },
      "source": [
        "from google.colab import drive\n",
        "\n",
        "drive.mount('/content/drive')\n",
        "#Loading the datafile\n",
        "data=pd.read_csv('/content/drive/My Drive/Colab Notebooks/Preprocessed_input_data_114.csv')"
      ],
      "execution_count": 2,
      "outputs": [
        {
          "output_type": "stream",
          "text": [
            "Go to this URL in a browser: https://accounts.google.com/o/oauth2/auth?client_id=947318989803-6bn6qk8qdgf4n4g3pfee6491hc0brc4i.apps.googleusercontent.com&redirect_uri=urn%3aietf%3awg%3aoauth%3a2.0%3aoob&response_type=code&scope=email%20https%3a%2f%2fwww.googleapis.com%2fauth%2fdocs.test%20https%3a%2f%2fwww.googleapis.com%2fauth%2fdrive%20https%3a%2f%2fwww.googleapis.com%2fauth%2fdrive.photos.readonly%20https%3a%2f%2fwww.googleapis.com%2fauth%2fpeopleapi.readonly\n",
            "\n",
            "Enter your authorization code:\n",
            "··········\n",
            "Mounted at /content/drive\n"
          ],
          "name": "stdout"
        }
      ]
    },
    {
      "cell_type": "code",
      "metadata": {
        "id": "9ciUV2SVK_Ae",
        "colab_type": "code",
        "colab": {
          "base_uri": "https://localhost:8080/",
          "height": 615
        },
        "outputId": "cfac74f8-e3c7-46b3-c038-022b4e07f84f"
      },
      "source": [
        "data.head(100)"
      ],
      "execution_count": 3,
      "outputs": [
        {
          "output_type": "execute_result",
          "data": {
            "text/html": [
              "<div>\n",
              "<style scoped>\n",
              "    .dataframe tbody tr th:only-of-type {\n",
              "        vertical-align: middle;\n",
              "    }\n",
              "\n",
              "    .dataframe tbody tr th {\n",
              "        vertical-align: top;\n",
              "    }\n",
              "\n",
              "    .dataframe thead th {\n",
              "        text-align: right;\n",
              "    }\n",
              "</style>\n",
              "<table border=\"1\" class=\"dataframe\">\n",
              "  <thead>\n",
              "    <tr style=\"text-align: right;\">\n",
              "      <th></th>\n",
              "      <th>Unnamed: 0</th>\n",
              "      <th>Short description</th>\n",
              "      <th>Description</th>\n",
              "      <th>Assignment group</th>\n",
              "      <th>Assignment group Encoded</th>\n",
              "      <th>Tokens</th>\n",
              "      <th>Tweet Tokens</th>\n",
              "      <th>Cluster</th>\n",
              "      <th>features</th>\n",
              "      <th>Cluster TFIDFV</th>\n",
              "    </tr>\n",
              "  </thead>\n",
              "  <tbody>\n",
              "    <tr>\n",
              "      <th>0</th>\n",
              "      <td>0</td>\n",
              "      <td>login issue</td>\n",
              "      <td>-verified user details.(employee# &amp; manager na...</td>\n",
              "      <td>0</td>\n",
              "      <td>0</td>\n",
              "      <td>['caller', 'employe', 'check', 'ad', 'manag', ...</td>\n",
              "      <td>['caller', 'employe', 'check', 'ad', 'manag', ...</td>\n",
              "      <td>2</td>\n",
              "      <td>(0, 788)\\t0.22105651897018327\\n  (0, 547)\\t0...</td>\n",
              "      <td>2</td>\n",
              "    </tr>\n",
              "    <tr>\n",
              "      <th>1</th>\n",
              "      <td>1</td>\n",
              "      <td>outlook</td>\n",
              "      <td>\\r\\n\\r\\nreceived from: \\r\\n\\r\\nhello team,\\r\\n...</td>\n",
              "      <td>0</td>\n",
              "      <td>0</td>\n",
              "      <td>['team', 'calendar', 'meet', 'outlook', 'corre...</td>\n",
              "      <td>['team', 'calendar', 'meet', 'outlook', 'corre...</td>\n",
              "      <td>2</td>\n",
              "      <td>(0, 788)\\t0.22105651897018327\\n  (0, 547)\\t0...</td>\n",
              "      <td>2</td>\n",
              "    </tr>\n",
              "    <tr>\n",
              "      <th>2</th>\n",
              "      <td>2</td>\n",
              "      <td>cant log in to vpn</td>\n",
              "      <td>\\r\\n\\r\\nreceived from: \\r\\n\\r\\nhi\\r\\n\\r\\ni can...</td>\n",
              "      <td>0</td>\n",
              "      <td>0</td>\n",
              "      <td>['log', 'cant', 'vpn']</td>\n",
              "      <td>['log', 'cant', 'vpn', 'cannot']</td>\n",
              "      <td>2</td>\n",
              "      <td>(0, 788)\\t0.22105651897018327\\n  (0, 547)\\t0...</td>\n",
              "      <td>2</td>\n",
              "    </tr>\n",
              "    <tr>\n",
              "      <th>3</th>\n",
              "      <td>3</td>\n",
              "      <td>unable to access hr_tool page</td>\n",
              "      <td>unable to access hr_tool page</td>\n",
              "      <td>0</td>\n",
              "      <td>0</td>\n",
              "      <td>['hr', 'page', 'tool', 'access']</td>\n",
              "      <td>['hr', 'page', 'tool', 'access']</td>\n",
              "      <td>2</td>\n",
              "      <td>(0, 788)\\t0.22105651897018327\\n  (0, 547)\\t0...</td>\n",
              "      <td>2</td>\n",
              "    </tr>\n",
              "    <tr>\n",
              "      <th>4</th>\n",
              "      <td>4</td>\n",
              "      <td>skype error</td>\n",
              "      <td>skype error</td>\n",
              "      <td>0</td>\n",
              "      <td>0</td>\n",
              "      <td>['skype', 'error']</td>\n",
              "      <td>['skype', 'error']</td>\n",
              "      <td>2</td>\n",
              "      <td>(0, 788)\\t0.22105651897018327\\n  (0, 547)\\t0...</td>\n",
              "      <td>2</td>\n",
              "    </tr>\n",
              "    <tr>\n",
              "      <th>...</th>\n",
              "      <td>...</td>\n",
              "      <td>...</td>\n",
              "      <td>...</td>\n",
              "      <td>...</td>\n",
              "      <td>...</td>\n",
              "      <td>...</td>\n",
              "      <td>...</td>\n",
              "      <td>...</td>\n",
              "      <td>...</td>\n",
              "      <td>...</td>\n",
              "    </tr>\n",
              "    <tr>\n",
              "      <th>95</th>\n",
              "      <td>99</td>\n",
              "      <td>password expiry tomorrow</td>\n",
              "      <td>\\n\\nreceived from: \\n\\nmy system says my passw...</td>\n",
              "      <td>0</td>\n",
              "      <td>0</td>\n",
              "      <td>['server', 'tomorrow', 'expiri', 'chang', 'pas...</td>\n",
              "      <td>['server', 'check', 'tomorrow', 'expiri', 'cha...</td>\n",
              "      <td>2</td>\n",
              "      <td>(0, 788)\\t0.22105651897018327\\n  (0, 547)\\t0...</td>\n",
              "      <td>0</td>\n",
              "    </tr>\n",
              "    <tr>\n",
              "      <th>96</th>\n",
              "      <td>100</td>\n",
              "      <td>re: ess portal access issue</td>\n",
              "      <td>\\n\\nreceived from: \\n\\nhello,\\n\\nhe is an kios...</td>\n",
              "      <td>0</td>\n",
              "      <td>0</td>\n",
              "      <td>['employe', 'revert', 'kiosk', 'compani', 'aki...</td>\n",
              "      <td>['employe', 'revert', 'kiosk', 'compani', 'aki...</td>\n",
              "      <td>2</td>\n",
              "      <td>(0, 788)\\t0.22105651897018327\\n  (0, 547)\\t0...</td>\n",
              "      <td>2</td>\n",
              "    </tr>\n",
              "    <tr>\n",
              "      <th>97</th>\n",
              "      <td>101</td>\n",
              "      <td>ess portal access issue</td>\n",
              "      <td>\\n\\nreceived from: \\n\\nhi,\\n\\nbelow mentioned ...</td>\n",
              "      <td>0</td>\n",
              "      <td>0</td>\n",
              "      <td>['portal', 'employe', 'revert', 'content', 'sl...</td>\n",
              "      <td>['portal', 'employe', 'revert', 'content', 'sl...</td>\n",
              "      <td>2</td>\n",
              "      <td>(0, 788)\\t0.22105651897018327\\n  (0, 547)\\t0...</td>\n",
              "      <td>2</td>\n",
              "    </tr>\n",
              "    <tr>\n",
              "      <th>98</th>\n",
              "      <td>102</td>\n",
              "      <td>job Job_1390 failed in job_scheduler at: 10/29...</td>\n",
              "      <td>received from: \\r\\n\\r\\njob Job_1390 failed in ...</td>\n",
              "      <td>13</td>\n",
              "      <td>73</td>\n",
              "      <td>['job', 'schedul']</td>\n",
              "      <td>['job', 'schedul']</td>\n",
              "      <td>0</td>\n",
              "      <td>(0, 788)\\t0.22105651897018327\\n  (0, 547)\\t0...</td>\n",
              "      <td>1</td>\n",
              "    </tr>\n",
              "    <tr>\n",
              "      <th>99</th>\n",
              "      <td>103</td>\n",
              "      <td>job Job_2002 failed in job_scheduler at: 10/29...</td>\n",
              "      <td>received from: \\r\\n\\r\\njob Job_2002 failed in ...</td>\n",
              "      <td>12</td>\n",
              "      <td>72</td>\n",
              "      <td>['job', 'schedul']</td>\n",
              "      <td>['job', 'schedul']</td>\n",
              "      <td>0</td>\n",
              "      <td>(0, 788)\\t0.22105651897018327\\n  (0, 547)\\t0...</td>\n",
              "      <td>1</td>\n",
              "    </tr>\n",
              "  </tbody>\n",
              "</table>\n",
              "<p>100 rows × 10 columns</p>\n",
              "</div>"
            ],
            "text/plain": [
              "    Unnamed: 0  ... Cluster TFIDFV\n",
              "0            0  ...              2\n",
              "1            1  ...              2\n",
              "2            2  ...              2\n",
              "3            3  ...              2\n",
              "4            4  ...              2\n",
              "..         ...  ...            ...\n",
              "95          99  ...              0\n",
              "96         100  ...              2\n",
              "97         101  ...              2\n",
              "98         102  ...              1\n",
              "99         103  ...              1\n",
              "\n",
              "[100 rows x 10 columns]"
            ]
          },
          "metadata": {
            "tags": []
          },
          "execution_count": 3
        }
      ]
    },
    {
      "cell_type": "markdown",
      "metadata": {
        "id": "AySKEkmYZP2a",
        "colab_type": "text"
      },
      "source": [
        "# **Model to predict the ticket into any of the 3 clusters¶**"
      ]
    },
    {
      "cell_type": "code",
      "metadata": {
        "id": "Nkb2GaNGZRuW",
        "colab_type": "code",
        "colab": {}
      },
      "source": [
        "X = data['Description'] \n",
        "Y = data['Cluster TFIDFV']   \n",
        "X_train, X_test, Y_train, Y_test = train_test_split(X, Y, test_size=0.3, random_state=2)"
      ],
      "execution_count": 4,
      "outputs": []
    },
    {
      "cell_type": "code",
      "metadata": {
        "id": "SkDwUC2ZI4Fy",
        "colab_type": "code",
        "colab": {
          "base_uri": "https://localhost:8080/",
          "height": 34
        },
        "outputId": "01673ea5-9009-45eb-b2dc-27b1b35a72c1"
      },
      "source": [
        "sgd = Pipeline([('tfidf', TfidfVectorizer()),\n",
        "                ('clf', SGDClassifier(loss='log', penalty='elasticnet',alpha=1e-5, random_state=42, max_iter=35, tol=None)),\n",
        "               ])\n",
        "sgd.fit(X_train, Y_train)\n",
        "\n",
        "Y_pred = sgd.predict(X_test)\n",
        "print(accuracy_score(Y_pred, Y_test))"
      ],
      "execution_count": 5,
      "outputs": [
        {
          "output_type": "stream",
          "text": [
            "0.9850674373795761\n"
          ],
          "name": "stdout"
        }
      ]
    },
    {
      "cell_type": "code",
      "metadata": {
        "id": "A-RMTTH-RcHt",
        "colab_type": "code",
        "colab": {
          "base_uri": "https://localhost:8080/",
          "height": 34
        },
        "outputId": "36bda79b-646d-4fed-9e4a-fd8a3704e11c"
      },
      "source": [
        "x=sgd.predict(['unable to view payslips from hr_tool e time'])\n",
        "if x==2:\n",
        "  print('Predicted Successfully')\n",
        "else:\n",
        "  print('Wrong prediction')"
      ],
      "execution_count": 6,
      "outputs": [
        {
          "output_type": "stream",
          "text": [
            "Predicted Successfully\n"
          ],
          "name": "stdout"
        }
      ]
    },
    {
      "cell_type": "markdown",
      "metadata": {
        "id": "O-qq2GdiRUNU",
        "colab_type": "text"
      },
      "source": [
        "#### **The SGD Classifier is able to predict a Description into a Sub Cluster with 99.3% Accuracy**"
      ]
    },
    {
      "cell_type": "code",
      "metadata": {
        "id": "55dEUBZSdK-j",
        "colab_type": "code",
        "colab": {}
      },
      "source": [
        "def lstmm():\n",
        "    model = Sequential()\n",
        "    \n",
        "    model.add(Embedding(input_dim=max_features, output_dim=embed_dim, input_length=maxlen))\n",
        "    \n",
        "    model.add(Bidirectional(LSTM(16, return_sequences=True, recurrent_dropout=0.2, dropout=0.2)))\n",
        "    \n",
        "    model.add(Bidirectional(LSTM(32, recurrent_dropout=0.1, dropout=0.4)))\n",
        "\n",
        "    model.add(Dense(350, activation='softmax'))\n",
        "        \n",
        "    # Compile the model\n",
        "    model.compile(optimizer = 'adam',\n",
        "                  loss = 'sparse_categorical_crossentropy',\n",
        "                  metrics = ['acc'])\n",
        "    \n",
        "    return model\n"
      ],
      "execution_count": 7,
      "outputs": []
    },
    {
      "cell_type": "code",
      "metadata": {
        "id": "pXZFJZlYm8pW",
        "colab_type": "code",
        "colab": {}
      },
      "source": [
        "\n",
        "\n",
        "#1D CNN\n",
        "\n",
        "def conv1d():\n",
        "    \n",
        "    model = Sequential()\n",
        "    \n",
        "    model.add(Embedding(input_dim=max_features,output_dim=embed_dim, input_length=maxlen))\n",
        "    \n",
        "    model.add(Conv1D(filters=32, kernel_size=7, activation='relu'))\n",
        "    \n",
        "    model.add(MaxPool1D(pool_size=8))\n",
        "    \n",
        "    model.add(Conv1D(filters=32, kernel_size=4, activation='relu'))\n",
        "    \n",
        "    model.add(Dropout(0.4))\n",
        "    \n",
        "    model.add(GlobalMaxPool1D())\n",
        "    \n",
        "    model.add(Dense(350, activation='softmax'))\n",
        "    \n",
        "    model.compile(optimizer='adam',\n",
        "                  loss='sparse_categorical_crossentropy',\n",
        "                  metrics= ['acc'])\n",
        "    \n",
        "    return model\n",
        "\n",
        "\n"
      ],
      "execution_count": 8,
      "outputs": []
    },
    {
      "cell_type": "markdown",
      "metadata": {
        "id": "V7cFIqNGg0Cv",
        "colab_type": "text"
      },
      "source": [
        "# Models for individual clusters\n",
        "\n",
        "We are using a multiple model approach where the below steps are followed when we get a new Ticket\n",
        "> The description is analyzed\n",
        "> It is converted into a TFIDF Vector using TFIDF Vectorizer\n",
        "> An SGD Classifier is used to predict the subgroup of the ticket\n",
        "> Once the Sub Group is predicted, the corresponding assignment Groups are predicted using individual models for each sub groups"
      ]
    },
    {
      "cell_type": "markdown",
      "metadata": {
        "id": "IhnQYXQAg3Az",
        "colab_type": "text"
      },
      "source": [
        "**Applying different models on CLuster 0**"
      ]
    },
    {
      "cell_type": "markdown",
      "metadata": {
        "id": "UCcKb2GMl1ug",
        "colab_type": "text"
      },
      "source": [
        "#### **Chi Square Analysis on Logistic Regression**"
      ]
    },
    {
      "cell_type": "code",
      "metadata": {
        "id": "KStioCSpCTfD",
        "colab_type": "code",
        "colab": {}
      },
      "source": [
        "X = data['Description'][data['Cluster TFIDFV']==0]\n",
        "Y = data['Assignment group'][data['Cluster TFIDFV']==0]\n",
        "X_train, X_test, Y_train, Y_test = train_test_split(X, Y, test_size=0.3, random_state=2)"
      ],
      "execution_count": 9,
      "outputs": []
    },
    {
      "cell_type": "code",
      "metadata": {
        "id": "KWNmtuz3qUsl",
        "colab_type": "code",
        "colab": {}
      },
      "source": [
        "Cluster1df=pd.DataFrame()\n",
        "accuracytest=[]\n",
        "accuracytrain=[]\n",
        "model=[]"
      ],
      "execution_count": 10,
      "outputs": []
    },
    {
      "cell_type": "code",
      "metadata": {
        "id": "v1RO4yWrmBfy",
        "colab_type": "code",
        "colab": {
          "base_uri": "https://localhost:8080/",
          "height": 52
        },
        "outputId": "309f5f44-e039-43ab-b546-1eac879c8209"
      },
      "source": [
        "features = TfidfVectorizer(max_features=10000,ngram_range=(1, 3))\n",
        "X_train_tfidf = features.fit_transform(X_train)\n",
        "X_test_tfidf = features.transform(X_test)\n",
        "chi2score = chi2(X_train_tfidf, Y_train)[1]\n",
        "ch2_result = [0]\n",
        "ch2_result1=[0]\n",
        "model.append('Logistic Regression with Chi Square')\n",
        "for n in np.arange(15000,100000,10000):\n",
        "    ch2 = SelectKBest(chi2, k=1)\n",
        "    X_train_chi2_selected = ch2.fit_transform(X_train_tfidf, Y_train)\n",
        "    X_test_chi2_selected = ch2.transform(X_test_tfidf)\n",
        "    clf = LogisticRegression()\n",
        "    clf.fit(X_train_chi2_selected, Y_train)\n",
        "    score = clf.score(X_test_chi2_selected, Y_test)\n",
        "    score1=clf.score(X_train_chi2_selected, Y_train)\n",
        "\n",
        "    if int(score*100)>np.array(ch2_result).max()*100:\n",
        "      print('Accuracy Score Test: '+str(score*100))\n",
        "      max=score\n",
        "    else:\n",
        "      pass\n",
        "    ch2_result.append(score)\n",
        "\n",
        "    if int(score1*100)>np.array(ch2_result1).max()*100:\n",
        "      print('Accuracy Score Train: '+str(score1*100))\n",
        "      max1=score1\n",
        "    else:\n",
        "      pass\n",
        "    ch2_result.append(score)\n",
        "    ch2_result1.append(score1)\n",
        "accuracytest.append(max*100)\n",
        "accuracytrain.append(max1*100)"
      ],
      "execution_count": 11,
      "outputs": [
        {
          "output_type": "stream",
          "text": [
            "Accuracy Score Test: 96.29629629629629\n",
            "Accuracy Score Train: 97.14285714285714\n"
          ],
          "name": "stdout"
        }
      ]
    },
    {
      "cell_type": "markdown",
      "metadata": {
        "id": "5GRL2bbvnEg0",
        "colab_type": "text"
      },
      "source": [
        "#### **Creating the TFIDF Vectors for further processing**"
      ]
    },
    {
      "cell_type": "code",
      "metadata": {
        "id": "u9zwULy2mYkE",
        "colab_type": "code",
        "colab": {}
      },
      "source": [
        "vectorizer = TfidfVectorizer()\n",
        "train_vectors_0 = vectorizer.fit_transform(X_train)\n",
        "test_vectors_0 = vectorizer.transform(X_test)"
      ],
      "execution_count": 12,
      "outputs": []
    },
    {
      "cell_type": "markdown",
      "metadata": {
        "id": "sQf-NX2RmJYK",
        "colab_type": "text"
      },
      "source": [
        "#### **Multinomial Naive Bayes**\n"
      ]
    },
    {
      "cell_type": "code",
      "metadata": {
        "id": "4X-3o9LWnqQF",
        "colab_type": "code",
        "colab": {
          "base_uri": "https://localhost:8080/",
          "height": 575
        },
        "outputId": "e38b484c-d118-4cb5-826c-f3d656ed6c52"
      },
      "source": [
        "nb = Pipeline([('count', CountVectorizer()),\n",
        "               ('tfidf', TfidfTransformer()),\n",
        "               ('clf', MultinomialNB()),\n",
        "              ])\n",
        "nb.fit(X,Y)\n",
        "\n",
        "#Test Set\n",
        "Y_pred = nb.predict(X_test)\n",
        "\n",
        "print('Accuracy Score Test :'+str(float(accuracy_score(Y_pred, Y_test)*100)))\n",
        "model.append('Multinomial Naive Bayes')\n",
        "accuracytest.append(accuracy_score(Y_pred, Y_test)*100)\n",
        "print('\\n')\n",
        "print(classification_report(Y_test, Y_pred))\n",
        "\n",
        "# Train set\n",
        "\n",
        "Y_pred = nb.predict(X_train)\n",
        "\n",
        "print('\\n\\nAccuracy Score Train :'+str(float(accuracy_score(Y_pred, Y_train)*100)))\n",
        "accuracytrain.append(accuracy_score(Y_pred, Y_train)*100)\n",
        "print('\\n')\n",
        "print(classification_report(Y_train, Y_pred))"
      ],
      "execution_count": 13,
      "outputs": [
        {
          "output_type": "stream",
          "text": [
            "Accuracy Score Test :96.29629629629629\n",
            "\n",
            "\n",
            "              precision    recall  f1-score   support\n",
            "\n",
            "           0       0.96      1.00      0.98       260\n",
            "           6       0.00      0.00      0.00        10\n",
            "\n",
            "    accuracy                           0.96       270\n",
            "   macro avg       0.48      0.50      0.49       270\n",
            "weighted avg       0.93      0.96      0.94       270\n",
            "\n",
            "\n",
            "\n",
            "Accuracy Score Train :97.14285714285714\n",
            "\n",
            "\n",
            "              precision    recall  f1-score   support\n",
            "\n",
            "           0       0.97      1.00      0.99       612\n",
            "           2       0.00      0.00      0.00         3\n",
            "           6       0.00      0.00      0.00        15\n",
            "\n",
            "    accuracy                           0.97       630\n",
            "   macro avg       0.32      0.33      0.33       630\n",
            "weighted avg       0.94      0.97      0.96       630\n",
            "\n"
          ],
          "name": "stdout"
        },
        {
          "output_type": "stream",
          "text": [
            "/usr/local/lib/python3.6/dist-packages/sklearn/metrics/_classification.py:1272: UndefinedMetricWarning: Precision and F-score are ill-defined and being set to 0.0 in labels with no predicted samples. Use `zero_division` parameter to control this behavior.\n",
            "  _warn_prf(average, modifier, msg_start, len(result))\n",
            "/usr/local/lib/python3.6/dist-packages/sklearn/metrics/_classification.py:1272: UndefinedMetricWarning: Precision and F-score are ill-defined and being set to 0.0 in labels with no predicted samples. Use `zero_division` parameter to control this behavior.\n",
            "  _warn_prf(average, modifier, msg_start, len(result))\n"
          ],
          "name": "stderr"
        }
      ]
    },
    {
      "cell_type": "markdown",
      "metadata": {
        "id": "UBqIs_QPogm-",
        "colab_type": "text"
      },
      "source": [
        "#### **Support vector Machines**\n",
        "\n",
        "\n"
      ]
    },
    {
      "cell_type": "code",
      "metadata": {
        "id": "W3ruhJiotWPG",
        "colab_type": "code",
        "colab": {
          "base_uri": "https://localhost:8080/",
          "height": 52
        },
        "outputId": "bcc61c67-f2cc-42d4-dd9e-2827898c6594"
      },
      "source": [
        "SVM = svm.SVC(C=1.0, kernel='linear', degree=3, gamma='auto',random_state=1)\n",
        "SVM.fit(train_vectors_0,Y_train)\n",
        "\n",
        "#Test set\n",
        "predictions_SVM = SVM.predict(test_vectors_0)\n",
        "# Use accuracy_score function to get the accuracy\n",
        "print(\"Accuracy Score Test: \",accuracy_score(predictions_SVM, Y_test)*100)\n",
        "\n",
        "model.append('Support Vector Machines')\n",
        "accuracytest.append(accuracy_score(predictions_SVM, Y_test)*100)\n",
        "\n",
        "#Train set\n",
        "\n",
        "predictions_SVM = SVM.predict(train_vectors_0)\n",
        "# Use accuracy_score function to get the accuracy\n",
        "print(\"Accuracy Score Train : \",accuracy_score(predictions_SVM, Y_train)*100)\n",
        "\n",
        "accuracytrain.append(accuracy_score(predictions_SVM, Y_train)*100)\n",
        "\n",
        "\n"
      ],
      "execution_count": 14,
      "outputs": [
        {
          "output_type": "stream",
          "text": [
            "Accuracy Score Test:  96.29629629629629\n",
            "Accuracy Score Train :  98.09523809523809\n"
          ],
          "name": "stdout"
        }
      ]
    },
    {
      "cell_type": "markdown",
      "metadata": {
        "id": "zB27aDMNwQV8",
        "colab_type": "text"
      },
      "source": [
        "#### **Decision tree**\n"
      ]
    },
    {
      "cell_type": "code",
      "metadata": {
        "id": "U2ghYZPHwwf-",
        "colab_type": "code",
        "colab": {
          "base_uri": "https://localhost:8080/",
          "height": 52
        },
        "outputId": "4d974d9e-5052-4c07-c038-e3730b4a5325"
      },
      "source": [
        "dTree = DecisionTreeClassifier(criterion = 'gini', max_depth=5, random_state=1)\n",
        "dTree.fit(train_vectors_0, Y_train)\n",
        "\n",
        "\n",
        "print('Accuracy Score Test : ',dTree.score(test_vectors_0, Y_test)*100)\n",
        "model.append('Decision Tree ')\n",
        "accuracytest.append(dTree.score(test_vectors_0, Y_test)*100)\n",
        "\n",
        "\n",
        "print('Accuracy Score Train : ',dTree.score(train_vectors_0, Y_train)*100)\n",
        "accuracytrain.append(dTree.score(train_vectors_0, Y_train)*100)"
      ],
      "execution_count": 15,
      "outputs": [
        {
          "output_type": "stream",
          "text": [
            "Accuracy Score Test :  95.55555555555556\n",
            "Accuracy Score Train :  98.57142857142858\n"
          ],
          "name": "stdout"
        }
      ]
    },
    {
      "cell_type": "markdown",
      "metadata": {
        "id": "CuPrbT2GzVcU",
        "colab_type": "text"
      },
      "source": [
        "#### **Bagging Classifier**"
      ]
    },
    {
      "cell_type": "code",
      "metadata": {
        "id": "c0NEMFt632DX",
        "colab_type": "code",
        "colab": {
          "base_uri": "https://localhost:8080/",
          "height": 52
        },
        "outputId": "592642c1-446d-493c-f043-fbd2ba56d742"
      },
      "source": [
        "bgcl = BaggingClassifier(base_estimator=dTree, n_estimators=50,random_state=1)\n",
        "bgcl = bgcl.fit(train_vectors_0, Y_train)\n",
        "\n",
        "y_predict = bgcl.predict(test_vectors_0)\n",
        "\n",
        "print('Accuracy Score Test : ',bgcl.score(test_vectors_0, Y_test)*100)\n",
        "model.append('Bagging Classifier')\n",
        "accuracytest.append(bgcl.score(test_vectors_0, Y_test)*100)\n",
        "\n",
        "print('Accuracy Score Train : ',bgcl.score(train_vectors_0, Y_train)*100)\n",
        "accuracytrain.append(bgcl.score(train_vectors_0, Y_train)*100)\n"
      ],
      "execution_count": 16,
      "outputs": [
        {
          "output_type": "stream",
          "text": [
            "Accuracy Score Test :  95.55555555555556\n",
            "Accuracy Score Train :  98.4126984126984\n"
          ],
          "name": "stdout"
        }
      ]
    },
    {
      "cell_type": "markdown",
      "metadata": {
        "id": "v_vtH-Uw34fc",
        "colab_type": "text"
      },
      "source": [
        "#### **Adaboost Classifier**"
      ]
    },
    {
      "cell_type": "code",
      "metadata": {
        "id": "_lg69VFa34rf",
        "colab_type": "code",
        "colab": {
          "base_uri": "https://localhost:8080/",
          "height": 52
        },
        "outputId": "b3f78db9-78b8-452c-9ec5-80da889dba62"
      },
      "source": [
        "abcl = AdaBoostClassifier(n_estimators=10, random_state=1)\n",
        "abcl = abcl.fit(train_vectors_0, Y_train)\n",
        "\n",
        "y_predict = abcl.predict(test_vectors_0)\n",
        "print('Accuracy Score Test : ' ,abcl.score(test_vectors_0, Y_test)*100)\n",
        "model.append('Adaboost Classifier')\n",
        "accuracytest.append(abcl.score(test_vectors_0, Y_test)*100)\n",
        "\n",
        "\n",
        "y_predict = abcl.predict(train_vectors_0)\n",
        "print('Accuracy Score Train : ' ,abcl.score(train_vectors_0, Y_train)*100)\n",
        "accuracytrain.append(abcl.score(train_vectors_0, Y_train)*100)"
      ],
      "execution_count": 17,
      "outputs": [
        {
          "output_type": "stream",
          "text": [
            "Accuracy Score Test :  94.81481481481482\n",
            "Accuracy Score Train :  96.03174603174604\n"
          ],
          "name": "stdout"
        }
      ]
    },
    {
      "cell_type": "markdown",
      "metadata": {
        "id": "ZzAh6aqw34wU",
        "colab_type": "text"
      },
      "source": [
        "#### **Gradient Boost Classifier**\n",
        "\n"
      ]
    },
    {
      "cell_type": "code",
      "metadata": {
        "id": "v66lDdol340j",
        "colab_type": "code",
        "colab": {
          "base_uri": "https://localhost:8080/",
          "height": 52
        },
        "outputId": "63192316-5cc8-4cdd-a41d-ee5a8c3f8c6d"
      },
      "source": [
        "gbcl = GradientBoostingClassifier(n_estimators = 50,random_state=1)\n",
        "gbcl = gbcl.fit(train_vectors_0, Y_train)\n",
        "\n",
        "y_predict = gbcl.predict(test_vectors_0)\n",
        "\n",
        "print('Accuracy Score Test : ' ,gbcl.score(test_vectors_0, Y_test)*100)\n",
        "model.append('Gradient Boost Classifier')\n",
        "accuracytest.append(gbcl.score(test_vectors_0, Y_test)*100)\n",
        "\n",
        "\n",
        "print('Accuracy Score Train : ' ,gbcl.score(train_vectors_0, Y_train)*100)\n",
        "accuracytrain.append(gbcl.score(train_vectors_0, Y_train)*100)"
      ],
      "execution_count": 18,
      "outputs": [
        {
          "output_type": "stream",
          "text": [
            "Accuracy Score Test :  94.44444444444444\n",
            "Accuracy Score Train :  99.84126984126985\n"
          ],
          "name": "stdout"
        }
      ]
    },
    {
      "cell_type": "markdown",
      "metadata": {
        "id": "-1lUdOfI34-Z",
        "colab_type": "text"
      },
      "source": [
        "#### **Out of all the models Decision Tree has the highest accuracy to predict the final class of cluster 0 and the lowest overfitting**"
      ]
    },
    {
      "cell_type": "markdown",
      "metadata": {
        "id": "i61YrRVkPkUD",
        "colab_type": "text"
      },
      "source": [
        "#### **Randomized Search CV to enhance Decision tree**\n",
        "\n"
      ]
    },
    {
      "cell_type": "code",
      "metadata": {
        "id": "fU60jOSU6xmW",
        "colab_type": "code",
        "colab": {
          "base_uri": "https://localhost:8080/",
          "height": 1000
        },
        "outputId": "4ab05854-dbb1-4d83-c734-b06b1e0d34bf"
      },
      "source": [
        "parameter={'criterion':['gini','entropy'],\n",
        "            'max_depth':np.arange(0,100,1)\n",
        "            }\n",
        "\n",
        "random_searchdt = RandomizedSearchCV(estimator = dTree, param_distributions= parameter,cv = 3, verbose=2, random_state=1,return_train_score=True)\n",
        "random_searchdt.fit(train_vectors_0,Y_train)"
      ],
      "execution_count": 19,
      "outputs": [
        {
          "output_type": "stream",
          "text": [
            "Fitting 3 folds for each of 10 candidates, totalling 30 fits\n",
            "[CV] max_depth=58, criterion=gini ....................................\n",
            "[CV] ..................... max_depth=58, criterion=gini, total=   0.0s\n",
            "[CV] max_depth=58, criterion=gini ....................................\n",
            "[CV] ..................... max_depth=58, criterion=gini, total=   0.0s\n",
            "[CV] max_depth=58, criterion=gini ....................................\n",
            "[CV] ..................... max_depth=58, criterion=gini, total=   0.0s\n",
            "[CV] max_depth=40, criterion=gini ....................................\n",
            "[CV] ..................... max_depth=40, criterion=gini, total=   0.0s\n",
            "[CV] max_depth=40, criterion=gini ....................................\n",
            "[CV] ..................... max_depth=40, criterion=gini, total=   0.0s\n",
            "[CV] max_depth=40, criterion=gini ....................................\n",
            "[CV] ..................... max_depth=40, criterion=gini, total=   0.0s\n",
            "[CV] max_depth=34, criterion=gini ....................................\n",
            "[CV] ..................... max_depth=34, criterion=gini, total=   0.0s\n",
            "[CV] max_depth=34, criterion=gini ....................................\n",
            "[CV] ..................... max_depth=34, criterion=gini, total=   0.0s\n",
            "[CV] max_depth=34, criterion=gini ....................................\n",
            "[CV] ..................... max_depth=34, criterion=gini, total=   0.0s\n",
            "[CV] max_depth=2, criterion=entropy ..................................\n",
            "[CV] ................... max_depth=2, criterion=entropy, total=   0.0s\n",
            "[CV] max_depth=2, criterion=entropy ..................................\n",
            "[CV] ................... max_depth=2, criterion=entropy, total=   0.0s\n",
            "[CV] max_depth=2, criterion=entropy ..................................\n",
            "[CV] ................... max_depth=2, criterion=entropy, total=   0.0s\n",
            "[CV] max_depth=84, criterion=entropy .................................\n",
            "[CV] .................. max_depth=84, criterion=entropy, total=   0.0s\n",
            "[CV] max_depth=84, criterion=entropy .................................\n",
            "[CV] .................. max_depth=84, criterion=entropy, total=   0.0s\n",
            "[CV] max_depth=84, criterion=entropy .................................\n",
            "[CV] .................. max_depth=84, criterion=entropy, total=   0.0s\n",
            "[CV] max_depth=98, criterion=entropy .................................\n",
            "[CV] .................. max_depth=98, criterion=entropy, total=   0.0s\n",
            "[CV] max_depth=98, criterion=entropy .................................\n",
            "[CV] .................. max_depth=98, criterion=entropy, total=   0.0s\n",
            "[CV] max_depth=98, criterion=entropy .................................\n",
            "[CV] .................. max_depth=98, criterion=entropy, total=   0.0s\n",
            "[CV] max_depth=95, criterion=gini ....................................\n",
            "[CV] ..................... max_depth=95, criterion=gini, total=   0.0s\n",
            "[CV] max_depth=95, criterion=gini ....................................\n",
            "[CV] ..................... max_depth=95, criterion=gini, total=   0.0s\n",
            "[CV] max_depth=95, criterion=gini ....................................\n",
            "[CV] ..................... max_depth=95, criterion=gini, total=   0.0s\n",
            "[CV] max_depth=4, criterion=gini .....................................\n",
            "[CV] ...................... max_depth=4, criterion=gini, total=   0.0s\n",
            "[CV] max_depth=4, criterion=gini .....................................\n"
          ],
          "name": "stdout"
        },
        {
          "output_type": "stream",
          "text": [
            "[Parallel(n_jobs=1)]: Using backend SequentialBackend with 1 concurrent workers.\n",
            "[Parallel(n_jobs=1)]: Done   1 out of   1 | elapsed:    0.0s remaining:    0.0s\n"
          ],
          "name": "stderr"
        },
        {
          "output_type": "stream",
          "text": [
            "[CV] ...................... max_depth=4, criterion=gini, total=   0.0s\n",
            "[CV] max_depth=4, criterion=gini .....................................\n",
            "[CV] ...................... max_depth=4, criterion=gini, total=   0.0s\n",
            "[CV] max_depth=29, criterion=gini ....................................\n",
            "[CV] ..................... max_depth=29, criterion=gini, total=   0.0s\n",
            "[CV] max_depth=29, criterion=gini ....................................\n",
            "[CV] ..................... max_depth=29, criterion=gini, total=   0.0s\n",
            "[CV] max_depth=29, criterion=gini ....................................\n",
            "[CV] ..................... max_depth=29, criterion=gini, total=   0.0s\n",
            "[CV] max_depth=68, criterion=entropy .................................\n",
            "[CV] .................. max_depth=68, criterion=entropy, total=   0.0s\n",
            "[CV] max_depth=68, criterion=entropy .................................\n",
            "[CV] .................. max_depth=68, criterion=entropy, total=   0.0s\n",
            "[CV] max_depth=68, criterion=entropy .................................\n",
            "[CV] .................. max_depth=68, criterion=entropy, total=   0.0s\n"
          ],
          "name": "stdout"
        },
        {
          "output_type": "stream",
          "text": [
            "[Parallel(n_jobs=1)]: Done  30 out of  30 | elapsed:    0.3s finished\n"
          ],
          "name": "stderr"
        },
        {
          "output_type": "execute_result",
          "data": {
            "text/plain": [
              "RandomizedSearchCV(cv=3, error_score=nan,\n",
              "                   estimator=DecisionTreeClassifier(ccp_alpha=0.0,\n",
              "                                                    class_weight=None,\n",
              "                                                    criterion='gini',\n",
              "                                                    max_depth=5,\n",
              "                                                    max_features=None,\n",
              "                                                    max_leaf_nodes=None,\n",
              "                                                    min_impurity_decrease=0.0,\n",
              "                                                    min_impurity_split=None,\n",
              "                                                    min_samples_leaf=1,\n",
              "                                                    min_samples_split=2,\n",
              "                                                    min_weight_fraction_leaf=0.0,\n",
              "                                                    presort='deprecated',\n",
              "                                                    random_state=1,\n",
              "                                                    splitter='best'),\n",
              "                   iid='de...\n",
              "                                        'max_depth': array([ 0,  1,  2,  3,  4,  5,  6,  7,  8,  9, 10, 11, 12, 13, 14, 15, 16,\n",
              "       17, 18, 19, 20, 21, 22, 23, 24, 25, 26, 27, 28, 29, 30, 31, 32, 33,\n",
              "       34, 35, 36, 37, 38, 39, 40, 41, 42, 43, 44, 45, 46, 47, 48, 49, 50,\n",
              "       51, 52, 53, 54, 55, 56, 57, 58, 59, 60, 61, 62, 63, 64, 65, 66, 67,\n",
              "       68, 69, 70, 71, 72, 73, 74, 75, 76, 77, 78, 79, 80, 81, 82, 83, 84,\n",
              "       85, 86, 87, 88, 89, 90, 91, 92, 93, 94, 95, 96, 97, 98, 99])},\n",
              "                   pre_dispatch='2*n_jobs', random_state=1, refit=True,\n",
              "                   return_train_score=True, scoring=None, verbose=2)"
            ]
          },
          "metadata": {
            "tags": []
          },
          "execution_count": 19
        }
      ]
    },
    {
      "cell_type": "code",
      "metadata": {
        "id": "IkzP6AMXP873",
        "colab_type": "code",
        "colab": {
          "base_uri": "https://localhost:8080/",
          "height": 34
        },
        "outputId": "bfbb73ff-e599-468c-8dd0-5eecc18cbe72"
      },
      "source": [
        "random_searchdt.best_params_\n",
        "\n"
      ],
      "execution_count": 20,
      "outputs": [
        {
          "output_type": "execute_result",
          "data": {
            "text/plain": [
              "{'criterion': 'gini', 'max_depth': 58}"
            ]
          },
          "metadata": {
            "tags": []
          },
          "execution_count": 20
        }
      ]
    },
    {
      "cell_type": "code",
      "metadata": {
        "id": "hCV8fZcZ7LrU",
        "colab_type": "code",
        "colab": {
          "base_uri": "https://localhost:8080/",
          "height": 52
        },
        "outputId": "07a289e3-1dfc-4490-8ec8-e26c2b4a9357"
      },
      "source": [
        "dTree = DecisionTreeClassifier(criterion = 'entropy', max_depth=2,random_state=1)\n",
        "dTree.fit(train_vectors_0, Y_train)\n",
        "\n",
        "\n",
        "print('Accuracy Score Test : ',dTree.score(test_vectors_0, Y_test)*100)\n",
        "model.append('Decision Tree Hyper Tuned ')\n",
        "accuracytest.append(dTree.score(test_vectors_0, Y_test)*100)\n",
        "\n",
        "\n",
        "print('Accuracy Score Train : ',dTree.score(train_vectors_0, Y_train)*100)\n",
        "accuracytrain.append(dTree.score(train_vectors_0, Y_train)*100)\n"
      ],
      "execution_count": 21,
      "outputs": [
        {
          "output_type": "stream",
          "text": [
            "Accuracy Score Test :  95.92592592592592\n",
            "Accuracy Score Train :  97.93650793650794\n"
          ],
          "name": "stdout"
        }
      ]
    },
    {
      "cell_type": "markdown",
      "metadata": {
        "id": "DSOKpKy56388",
        "colab_type": "text"
      },
      "source": [
        "#### With the randomized search, it seems that we have a lower accuracy"
      ]
    },
    {
      "cell_type": "code",
      "metadata": {
        "id": "JUMoefwxi_Vw",
        "colab_type": "code",
        "colab": {
          "base_uri": "https://localhost:8080/",
          "height": 1000
        },
        "outputId": "7b02e6d0-3c44-44fb-c006-e003127dd173"
      },
      "source": [
        "parameter={'C':np.arange(0.6,3,0.1),\n",
        " 'kernel': ['linear','poly','rbf'],\n",
        " 'gamma' : ['scale','auto'],\n",
        " 'degree':np.arange(0,5,1)}\n",
        "\n",
        "random_searchSVM = RandomizedSearchCV(estimator = SVM, param_distributions= parameter,cv = 3, verbose=2, random_state=1,return_train_score=True)\n",
        "random_searchSVM.fit(train_vectors_0,Y_train)\n",
        "\n"
      ],
      "execution_count": 22,
      "outputs": [
        {
          "output_type": "stream",
          "text": [
            "Fitting 3 folds for each of 10 candidates, totalling 30 fits\n",
            "[CV] kernel=rbf, gamma=auto, degree=4, C=0.7 .........................\n",
            "[CV] .......... kernel=rbf, gamma=auto, degree=4, C=0.7, total=   0.0s\n",
            "[CV] kernel=rbf, gamma=auto, degree=4, C=0.7 .........................\n",
            "[CV] .......... kernel=rbf, gamma=auto, degree=4, C=0.7, total=   0.0s\n",
            "[CV] kernel=rbf, gamma=auto, degree=4, C=0.7 .........................\n",
            "[CV] .......... kernel=rbf, gamma=auto, degree=4, C=0.7, total=   0.0s\n",
            "[CV] kernel=linear, gamma=scale, degree=0, C=0.7999999999999999 ......\n",
            "[CV]  kernel=linear, gamma=scale, degree=0, C=0.7999999999999999, total=   0.0s\n",
            "[CV] kernel=linear, gamma=scale, degree=0, C=0.7999999999999999 ......\n"
          ],
          "name": "stdout"
        },
        {
          "output_type": "stream",
          "text": [
            "[Parallel(n_jobs=1)]: Using backend SequentialBackend with 1 concurrent workers.\n",
            "[Parallel(n_jobs=1)]: Done   1 out of   1 | elapsed:    0.0s remaining:    0.0s\n"
          ],
          "name": "stderr"
        },
        {
          "output_type": "stream",
          "text": [
            "[CV]  kernel=linear, gamma=scale, degree=0, C=0.7999999999999999, total=   0.0s\n",
            "[CV] kernel=linear, gamma=scale, degree=0, C=0.7999999999999999 ......\n",
            "[CV]  kernel=linear, gamma=scale, degree=0, C=0.7999999999999999, total=   0.0s\n",
            "[CV] kernel=poly, gamma=auto, degree=0, C=1.2999999999999998 .........\n",
            "[CV]  kernel=poly, gamma=auto, degree=0, C=1.2999999999999998, total=   0.0s\n",
            "[CV] kernel=poly, gamma=auto, degree=0, C=1.2999999999999998 .........\n",
            "[CV]  kernel=poly, gamma=auto, degree=0, C=1.2999999999999998, total=   0.0s\n",
            "[CV] kernel=poly, gamma=auto, degree=0, C=1.2999999999999998 .........\n",
            "[CV]  kernel=poly, gamma=auto, degree=0, C=1.2999999999999998, total=   0.0s\n",
            "[CV] kernel=poly, gamma=scale, degree=1, C=2.6999999999999997 ........\n",
            "[CV]  kernel=poly, gamma=scale, degree=1, C=2.6999999999999997, total=   0.0s\n",
            "[CV] kernel=poly, gamma=scale, degree=1, C=2.6999999999999997 ........\n",
            "[CV]  kernel=poly, gamma=scale, degree=1, C=2.6999999999999997, total=   0.0s\n",
            "[CV] kernel=poly, gamma=scale, degree=1, C=2.6999999999999997 ........\n",
            "[CV]  kernel=poly, gamma=scale, degree=1, C=2.6999999999999997, total=   0.0s\n",
            "[CV] kernel=rbf, gamma=scale, degree=1, C=0.6 ........................\n",
            "[CV] ......... kernel=rbf, gamma=scale, degree=1, C=0.6, total=   0.0s\n",
            "[CV] kernel=rbf, gamma=scale, degree=1, C=0.6 ........................\n",
            "[CV] ......... kernel=rbf, gamma=scale, degree=1, C=0.6, total=   0.0s\n",
            "[CV] kernel=rbf, gamma=scale, degree=1, C=0.6 ........................\n",
            "[CV] ......... kernel=rbf, gamma=scale, degree=1, C=0.6, total=   0.0s\n",
            "[CV] kernel=rbf, gamma=auto, degree=1, C=0.8999999999999999 ..........\n",
            "[CV]  kernel=rbf, gamma=auto, degree=1, C=0.8999999999999999, total=   0.0s\n",
            "[CV] kernel=rbf, gamma=auto, degree=1, C=0.8999999999999999 ..........\n",
            "[CV]  kernel=rbf, gamma=auto, degree=1, C=0.8999999999999999, total=   0.0s\n",
            "[CV] kernel=rbf, gamma=auto, degree=1, C=0.8999999999999999 ..........\n",
            "[CV]  kernel=rbf, gamma=auto, degree=1, C=0.8999999999999999, total=   0.0s\n",
            "[CV] kernel=linear, gamma=scale, degree=4, C=2.0999999999999996 ......\n",
            "[CV]  kernel=linear, gamma=scale, degree=4, C=2.0999999999999996, total=   0.0s\n",
            "[CV] kernel=linear, gamma=scale, degree=4, C=2.0999999999999996 ......\n",
            "[CV]  kernel=linear, gamma=scale, degree=4, C=2.0999999999999996, total=   0.0s\n",
            "[CV] kernel=linear, gamma=scale, degree=4, C=2.0999999999999996 ......\n",
            "[CV]  kernel=linear, gamma=scale, degree=4, C=2.0999999999999996, total=   0.0s\n",
            "[CV] kernel=rbf, gamma=auto, degree=1, C=1.0999999999999999 ..........\n",
            "[CV]  kernel=rbf, gamma=auto, degree=1, C=1.0999999999999999, total=   0.0s\n",
            "[CV] kernel=rbf, gamma=auto, degree=1, C=1.0999999999999999 ..........\n",
            "[CV]  kernel=rbf, gamma=auto, degree=1, C=1.0999999999999999, total=   0.0s\n",
            "[CV] kernel=rbf, gamma=auto, degree=1, C=1.0999999999999999 ..........\n",
            "[CV]  kernel=rbf, gamma=auto, degree=1, C=1.0999999999999999, total=   0.0s\n",
            "[CV] kernel=poly, gamma=auto, degree=2, C=1.9 ........................\n",
            "[CV] ......... kernel=poly, gamma=auto, degree=2, C=1.9, total=   0.0s\n",
            "[CV] kernel=poly, gamma=auto, degree=2, C=1.9 ........................\n",
            "[CV] ......... kernel=poly, gamma=auto, degree=2, C=1.9, total=   0.0s\n",
            "[CV] kernel=poly, gamma=auto, degree=2, C=1.9 ........................\n",
            "[CV] ......... kernel=poly, gamma=auto, degree=2, C=1.9, total=   0.0s\n",
            "[CV] kernel=rbf, gamma=auto, degree=4, C=2.1999999999999997 ..........\n",
            "[CV]  kernel=rbf, gamma=auto, degree=4, C=2.1999999999999997, total=   0.0s\n",
            "[CV] kernel=rbf, gamma=auto, degree=4, C=2.1999999999999997 ..........\n",
            "[CV]  kernel=rbf, gamma=auto, degree=4, C=2.1999999999999997, total=   0.0s\n",
            "[CV] kernel=rbf, gamma=auto, degree=4, C=2.1999999999999997 ..........\n",
            "[CV]  kernel=rbf, gamma=auto, degree=4, C=2.1999999999999997, total=   0.0s\n"
          ],
          "name": "stdout"
        },
        {
          "output_type": "stream",
          "text": [
            "[Parallel(n_jobs=1)]: Done  30 out of  30 | elapsed:    0.5s finished\n"
          ],
          "name": "stderr"
        },
        {
          "output_type": "execute_result",
          "data": {
            "text/plain": [
              "RandomizedSearchCV(cv=3, error_score=nan,\n",
              "                   estimator=SVC(C=1.0, break_ties=False, cache_size=200,\n",
              "                                 class_weight=None, coef0=0.0,\n",
              "                                 decision_function_shape='ovr', degree=3,\n",
              "                                 gamma='auto', kernel='linear', max_iter=-1,\n",
              "                                 probability=False, random_state=1,\n",
              "                                 shrinking=True, tol=0.001, verbose=False),\n",
              "                   iid='deprecated', n_iter=10, n_jobs=None,\n",
              "                   param_distributions={'C': array([0.6, 0.7, 0.8, 0.9, 1. , 1.1, 1.2, 1.3, 1.4, 1.5, 1.6, 1.7, 1.8,\n",
              "       1.9, 2. , 2.1, 2.2, 2.3, 2.4, 2.5, 2.6, 2.7, 2.8, 2.9]),\n",
              "                                        'degree': array([0, 1, 2, 3, 4]),\n",
              "                                        'gamma': ['scale', 'auto'],\n",
              "                                        'kernel': ['linear', 'poly', 'rbf']},\n",
              "                   pre_dispatch='2*n_jobs', random_state=1, refit=True,\n",
              "                   return_train_score=True, scoring=None, verbose=2)"
            ]
          },
          "metadata": {
            "tags": []
          },
          "execution_count": 22
        }
      ]
    },
    {
      "cell_type": "code",
      "metadata": {
        "id": "Du8aaPKTi_d6",
        "colab_type": "code",
        "colab": {
          "base_uri": "https://localhost:8080/",
          "height": 34
        },
        "outputId": "0d5f6747-37f3-4dbf-a410-9f1e0a42b637"
      },
      "source": [
        "random_searchSVM.best_params_\n",
        "\n"
      ],
      "execution_count": 23,
      "outputs": [
        {
          "output_type": "execute_result",
          "data": {
            "text/plain": [
              "{'C': 2.6999999999999997, 'degree': 1, 'gamma': 'scale', 'kernel': 'poly'}"
            ]
          },
          "metadata": {
            "tags": []
          },
          "execution_count": 23
        }
      ]
    },
    {
      "cell_type": "code",
      "metadata": {
        "id": "urFdKU6Ai_iE",
        "colab_type": "code",
        "colab": {
          "base_uri": "https://localhost:8080/",
          "height": 52
        },
        "outputId": "2041b5af-652b-4a96-be25-bd07b8a04087"
      },
      "source": [
        "SVM = svm.SVC(C=0.7, kernel='rbf', degree=4, gamma='auto')\n",
        "SVM.fit(train_vectors_0,Y_train)\n",
        "\n",
        "#Test set\n",
        "predictions_SVM = SVM.predict(test_vectors_0)\n",
        "# Use accuracy_score function to get the accuracy\n",
        "print(\"Accuracy Score Test: \",accuracy_score(predictions_SVM, Y_test)*100)\n",
        "\n",
        "model.append('Support Vector Machines- Hypertuned')\n",
        "accuracytest.append(accuracy_score(predictions_SVM, Y_test)*100)\n",
        "\n",
        "#Train set\n",
        "\n",
        "predictions_SVM = SVM.predict(train_vectors_0)\n",
        "# Use accuracy_score function to get the accuracy\n",
        "print(\"Accuracy Score Train : \",accuracy_score(predictions_SVM, Y_train)*100)\n",
        "\n",
        "accuracytrain.append(accuracy_score(predictions_SVM, Y_train)*100)\n",
        "\n"
      ],
      "execution_count": 24,
      "outputs": [
        {
          "output_type": "stream",
          "text": [
            "Accuracy Score Test:  96.29629629629629\n",
            "Accuracy Score Train :  97.14285714285714\n"
          ],
          "name": "stdout"
        }
      ]
    },
    {
      "cell_type": "markdown",
      "metadata": {
        "colab_type": "text",
        "id": "AK-O3F6BAsRH"
      },
      "source": [
        "#### **Sequential Model**"
      ]
    },
    {
      "cell_type": "code",
      "metadata": {
        "id": "2DMN5QUi2aEe",
        "colab_type": "code",
        "colab": {}
      },
      "source": [
        "embed_dim = 256\n",
        "lstm_out = 64\n",
        "max_features = 2000\n",
        "maxlen = 350\n",
        "embedding_size = 200"
      ],
      "execution_count": 25,
      "outputs": []
    },
    {
      "cell_type": "code",
      "metadata": {
        "colab_type": "code",
        "id": "Yy514VSoAsRT",
        "colab": {
          "base_uri": "https://localhost:8080/",
          "height": 52
        },
        "outputId": "43e8ae72-79e3-465e-9175-8d539bcf6f4b"
      },
      "source": [
        "tok = Tokenizer(num_words = max_features)\n",
        "tok.fit_on_texts(data.Description)\n",
        "X = tok.texts_to_sequences(data['Description'][data['Cluster TFIDFV']==0])\n",
        "X = pad_sequences(X, maxlen = maxlen)\n",
        "Y = np.asarray(data['Assignment group'][data['Cluster TFIDFV']==0])\n",
        "\n",
        "X_train, X_test, Y_train, Y_test = train_test_split(X, Y, test_size=0.3, random_state=1)\n",
        "print(X_train.shape,Y_train.shape)\n",
        "print(X_test.shape,Y_test.shape)"
      ],
      "execution_count": 26,
      "outputs": [
        {
          "output_type": "stream",
          "text": [
            "(630, 350) (630,)\n",
            "(270, 350) (270,)\n"
          ],
          "name": "stdout"
        }
      ]
    },
    {
      "cell_type": "code",
      "metadata": {
        "colab_type": "code",
        "id": "DTSkY3hfAsRi",
        "colab": {
          "base_uri": "https://localhost:8080/",
          "height": 347
        },
        "outputId": "db112a5e-8a79-4c82-b3f0-a54ae8735de6"
      },
      "source": [
        "models = Sequential()\n",
        "models.add(Embedding(max_features, embed_dim,input_length = X.shape[1]))\n",
        "models.add(SpatialDropout1D(0.4))\n",
        "models.add(MaxPooling1D(pool_size=4))\n",
        "models.add(LSTM(100))\n",
        "#model.add(LSTM(lstm_out, dropout=0.2, recurrent_dropout=0.4))\n",
        "models.add(Dense(350,activation='softmax'))\n",
        "models.compile(loss = 'sparse_categorical_crossentropy', optimizer='adam',metrics = ['accuracy'])\n",
        "print(models.summary())\n",
        "\n"
      ],
      "execution_count": 27,
      "outputs": [
        {
          "output_type": "stream",
          "text": [
            "Model: \"sequential_1\"\n",
            "_________________________________________________________________\n",
            "Layer (type)                 Output Shape              Param #   \n",
            "=================================================================\n",
            "embedding_1 (Embedding)      (None, 350, 256)          512000    \n",
            "_________________________________________________________________\n",
            "spatial_dropout1d_1 (Spatial (None, 350, 256)          0         \n",
            "_________________________________________________________________\n",
            "max_pooling1d_1 (MaxPooling1 (None, 87, 256)           0         \n",
            "_________________________________________________________________\n",
            "lstm_1 (LSTM)                (None, 100)               142800    \n",
            "_________________________________________________________________\n",
            "dense_1 (Dense)              (None, 350)               35350     \n",
            "=================================================================\n",
            "Total params: 690,150\n",
            "Trainable params: 690,150\n",
            "Non-trainable params: 0\n",
            "_________________________________________________________________\n",
            "None\n"
          ],
          "name": "stdout"
        }
      ]
    },
    {
      "cell_type": "code",
      "metadata": {
        "colab_type": "code",
        "id": "b5zOyv1LAsRv",
        "colab": {
          "base_uri": "https://localhost:8080/",
          "height": 1000
        },
        "outputId": "7794b37e-51d6-4b62-bb8c-0ec043ec55e2"
      },
      "source": [
        "models.fit(X_train,Y_train, validation_data = (X_test, Y_test), epochs=40, batch_size=32, verbose=2) \n",
        "# Final evaluation of the model\n",
        "model.append('Sequential Model')\n",
        "scores = models.evaluate(X_test, Y_test, verbose=0)\n",
        "accuracytest.append(scores[1]*100)\n",
        "scores = models.evaluate(X_train, Y_train, verbose=0)\n",
        "accuracytrain.append(scores[1]*100)"
      ],
      "execution_count": 28,
      "outputs": [
        {
          "output_type": "stream",
          "text": [
            "/usr/local/lib/python3.6/dist-packages/tensorflow/python/framework/indexed_slices.py:434: UserWarning: Converting sparse IndexedSlices to a dense Tensor of unknown shape. This may consume a large amount of memory.\n",
            "  \"Converting sparse IndexedSlices to a dense Tensor of unknown shape. \"\n"
          ],
          "name": "stderr"
        },
        {
          "output_type": "stream",
          "text": [
            "Train on 630 samples, validate on 270 samples\n",
            "Epoch 1/40\n",
            " - 4s - loss: 3.7482 - accuracy: 0.9111 - val_loss: 0.8395 - val_accuracy: 0.9741\n",
            "Epoch 2/40\n",
            " - 4s - loss: 0.3555 - accuracy: 0.9667 - val_loss: 0.1725 - val_accuracy: 0.9741\n",
            "Epoch 3/40\n",
            " - 4s - loss: 0.1939 - accuracy: 0.9667 - val_loss: 0.1459 - val_accuracy: 0.9741\n",
            "Epoch 4/40\n",
            " - 4s - loss: 0.1701 - accuracy: 0.9667 - val_loss: 0.1446 - val_accuracy: 0.9741\n",
            "Epoch 5/40\n",
            " - 4s - loss: 0.1659 - accuracy: 0.9667 - val_loss: 0.1408 - val_accuracy: 0.9741\n",
            "Epoch 6/40\n",
            " - 4s - loss: 0.1640 - accuracy: 0.9667 - val_loss: 0.1378 - val_accuracy: 0.9741\n",
            "Epoch 7/40\n",
            " - 4s - loss: 0.1626 - accuracy: 0.9667 - val_loss: 0.1367 - val_accuracy: 0.9741\n",
            "Epoch 8/40\n",
            " - 4s - loss: 0.1618 - accuracy: 0.9667 - val_loss: 0.1374 - val_accuracy: 0.9741\n",
            "Epoch 9/40\n",
            " - 4s - loss: 0.1606 - accuracy: 0.9667 - val_loss: 0.1350 - val_accuracy: 0.9741\n",
            "Epoch 10/40\n",
            " - 4s - loss: 0.1604 - accuracy: 0.9667 - val_loss: 0.1354 - val_accuracy: 0.9741\n",
            "Epoch 11/40\n",
            " - 4s - loss: 0.1598 - accuracy: 0.9667 - val_loss: 0.1351 - val_accuracy: 0.9741\n",
            "Epoch 12/40\n",
            " - 4s - loss: 0.1600 - accuracy: 0.9667 - val_loss: 0.1338 - val_accuracy: 0.9741\n",
            "Epoch 13/40\n",
            " - 4s - loss: 0.1587 - accuracy: 0.9667 - val_loss: 0.1344 - val_accuracy: 0.9741\n",
            "Epoch 14/40\n",
            " - 4s - loss: 0.1587 - accuracy: 0.9667 - val_loss: 0.1337 - val_accuracy: 0.9741\n",
            "Epoch 15/40\n",
            " - 4s - loss: 0.1578 - accuracy: 0.9667 - val_loss: 0.1335 - val_accuracy: 0.9741\n",
            "Epoch 16/40\n",
            " - 4s - loss: 0.1572 - accuracy: 0.9667 - val_loss: 0.1324 - val_accuracy: 0.9741\n",
            "Epoch 17/40\n",
            " - 4s - loss: 0.1566 - accuracy: 0.9667 - val_loss: 0.1318 - val_accuracy: 0.9741\n",
            "Epoch 18/40\n",
            " - 4s - loss: 0.1558 - accuracy: 0.9667 - val_loss: 0.1329 - val_accuracy: 0.9741\n",
            "Epoch 19/40\n",
            " - 4s - loss: 0.1541 - accuracy: 0.9667 - val_loss: 0.1302 - val_accuracy: 0.9741\n",
            "Epoch 20/40\n",
            " - 4s - loss: 0.1541 - accuracy: 0.9667 - val_loss: 0.1293 - val_accuracy: 0.9741\n",
            "Epoch 21/40\n",
            " - 4s - loss: 0.1490 - accuracy: 0.9667 - val_loss: 0.1301 - val_accuracy: 0.9741\n",
            "Epoch 22/40\n",
            " - 4s - loss: 0.1441 - accuracy: 0.9667 - val_loss: 0.1264 - val_accuracy: 0.9741\n",
            "Epoch 23/40\n",
            " - 4s - loss: 0.1379 - accuracy: 0.9667 - val_loss: 0.1267 - val_accuracy: 0.9741\n",
            "Epoch 24/40\n",
            " - 4s - loss: 0.1308 - accuracy: 0.9667 - val_loss: 0.1220 - val_accuracy: 0.9741\n",
            "Epoch 25/40\n",
            " - 4s - loss: 0.1226 - accuracy: 0.9667 - val_loss: 0.1201 - val_accuracy: 0.9741\n",
            "Epoch 26/40\n",
            " - 4s - loss: 0.1105 - accuracy: 0.9667 - val_loss: 0.1188 - val_accuracy: 0.9741\n",
            "Epoch 27/40\n",
            " - 4s - loss: 0.1005 - accuracy: 0.9667 - val_loss: 0.1180 - val_accuracy: 0.9741\n",
            "Epoch 28/40\n",
            " - 4s - loss: 0.0886 - accuracy: 0.9667 - val_loss: 0.1184 - val_accuracy: 0.9741\n",
            "Epoch 29/40\n",
            " - 4s - loss: 0.0837 - accuracy: 0.9683 - val_loss: 0.1194 - val_accuracy: 0.9741\n",
            "Epoch 30/40\n",
            " - 4s - loss: 0.0739 - accuracy: 0.9762 - val_loss: 0.1218 - val_accuracy: 0.9741\n",
            "Epoch 31/40\n",
            " - 4s - loss: 0.0695 - accuracy: 0.9730 - val_loss: 0.1236 - val_accuracy: 0.9741\n",
            "Epoch 32/40\n",
            " - 4s - loss: 0.0644 - accuracy: 0.9746 - val_loss: 0.1253 - val_accuracy: 0.9741\n",
            "Epoch 33/40\n",
            " - 4s - loss: 0.0625 - accuracy: 0.9841 - val_loss: 0.1270 - val_accuracy: 0.9741\n",
            "Epoch 34/40\n",
            " - 4s - loss: 0.0577 - accuracy: 0.9889 - val_loss: 0.1295 - val_accuracy: 0.9741\n",
            "Epoch 35/40\n",
            " - 4s - loss: 0.0538 - accuracy: 0.9857 - val_loss: 0.1321 - val_accuracy: 0.9741\n",
            "Epoch 36/40\n",
            " - 4s - loss: 0.0546 - accuracy: 0.9857 - val_loss: 0.1344 - val_accuracy: 0.9778\n",
            "Epoch 37/40\n",
            " - 4s - loss: 0.0529 - accuracy: 0.9857 - val_loss: 0.1355 - val_accuracy: 0.9741\n",
            "Epoch 38/40\n",
            " - 4s - loss: 0.0473 - accuracy: 0.9905 - val_loss: 0.1368 - val_accuracy: 0.9741\n",
            "Epoch 39/40\n",
            " - 4s - loss: 0.0452 - accuracy: 0.9905 - val_loss: 0.1384 - val_accuracy: 0.9778\n",
            "Epoch 40/40\n",
            " - 4s - loss: 0.0476 - accuracy: 0.9889 - val_loss: 0.1395 - val_accuracy: 0.9778\n"
          ],
          "name": "stdout"
        }
      ]
    },
    {
      "cell_type": "markdown",
      "metadata": {
        "colab_type": "text",
        "id": "e1Km3AFC1OeZ"
      },
      "source": [
        "#### **Bidirectional LSTM**"
      ]
    },
    {
      "cell_type": "code",
      "metadata": {
        "colab_type": "code",
        "id": "W5MmjvxN1Oej",
        "colab": {
          "base_uri": "https://localhost:8080/",
          "height": 1000
        },
        "outputId": "de7cd139-f853-43db-b710-831018c3af47"
      },
      "source": [
        "lsmod1 = lstmm()\n",
        "\n",
        "lshist = lsmod1.fit(X_train,Y_train,\n",
        "         epochs = 30,\n",
        "         batch_size = 128,\n",
        "         validation_data = (X_test, Y_test))"
      ],
      "execution_count": 29,
      "outputs": [
        {
          "output_type": "stream",
          "text": [
            "/usr/local/lib/python3.6/dist-packages/tensorflow/python/framework/indexed_slices.py:434: UserWarning: Converting sparse IndexedSlices to a dense Tensor of unknown shape. This may consume a large amount of memory.\n",
            "  \"Converting sparse IndexedSlices to a dense Tensor of unknown shape. \"\n"
          ],
          "name": "stderr"
        },
        {
          "output_type": "stream",
          "text": [
            "Train on 630 samples, validate on 270 samples\n",
            "Epoch 1/30\n",
            "630/630 [==============================] - 11s 17ms/step - loss: 5.8168 - acc: 0.4206 - val_loss: 5.7325 - val_acc: 0.9741\n",
            "Epoch 2/30\n",
            "630/630 [==============================] - 8s 12ms/step - loss: 5.6389 - acc: 0.9603 - val_loss: 5.4236 - val_acc: 0.9741\n",
            "Epoch 3/30\n",
            "630/630 [==============================] - 8s 12ms/step - loss: 5.2246 - acc: 0.9667 - val_loss: 4.7489 - val_acc: 0.9741\n",
            "Epoch 4/30\n",
            "630/630 [==============================] - 8s 12ms/step - loss: 4.4794 - acc: 0.9667 - val_loss: 3.8367 - val_acc: 0.9741\n",
            "Epoch 5/30\n",
            "630/630 [==============================] - 8s 12ms/step - loss: 3.5957 - acc: 0.9667 - val_loss: 2.9411 - val_acc: 0.9741\n",
            "Epoch 6/30\n",
            "630/630 [==============================] - 8s 12ms/step - loss: 2.7119 - acc: 0.9667 - val_loss: 2.1373 - val_acc: 0.9741\n",
            "Epoch 7/30\n",
            "630/630 [==============================] - 8s 12ms/step - loss: 1.9075 - acc: 0.9667 - val_loss: 1.4044 - val_acc: 0.9741\n",
            "Epoch 8/30\n",
            "630/630 [==============================] - 7s 12ms/step - loss: 1.2107 - acc: 0.9667 - val_loss: 0.8220 - val_acc: 0.9741\n",
            "Epoch 9/30\n",
            "630/630 [==============================] - 7s 12ms/step - loss: 0.7056 - acc: 0.9667 - val_loss: 0.4643 - val_acc: 0.9741\n",
            "Epoch 10/30\n",
            "630/630 [==============================] - 8s 12ms/step - loss: 0.4227 - acc: 0.9667 - val_loss: 0.2937 - val_acc: 0.9741\n",
            "Epoch 11/30\n",
            "630/630 [==============================] - 8s 12ms/step - loss: 0.2946 - acc: 0.9667 - val_loss: 0.2210 - val_acc: 0.9741\n",
            "Epoch 12/30\n",
            "630/630 [==============================] - 7s 12ms/step - loss: 0.2382 - acc: 0.9667 - val_loss: 0.1887 - val_acc: 0.9741\n",
            "Epoch 13/30\n",
            "630/630 [==============================] - 7s 12ms/step - loss: 0.2139 - acc: 0.9667 - val_loss: 0.1726 - val_acc: 0.9741\n",
            "Epoch 14/30\n",
            "630/630 [==============================] - 8s 12ms/step - loss: 0.1987 - acc: 0.9667 - val_loss: 0.1634 - val_acc: 0.9741\n",
            "Epoch 15/30\n",
            "630/630 [==============================] - 8s 12ms/step - loss: 0.1896 - acc: 0.9667 - val_loss: 0.1576 - val_acc: 0.9741\n",
            "Epoch 16/30\n",
            "630/630 [==============================] - 8s 12ms/step - loss: 0.1836 - acc: 0.9667 - val_loss: 0.1541 - val_acc: 0.9741\n",
            "Epoch 17/30\n",
            "630/630 [==============================] - 8s 12ms/step - loss: 0.1798 - acc: 0.9667 - val_loss: 0.1521 - val_acc: 0.9741\n",
            "Epoch 18/30\n",
            "630/630 [==============================] - 8s 12ms/step - loss: 0.1778 - acc: 0.9667 - val_loss: 0.1504 - val_acc: 0.9741\n",
            "Epoch 19/30\n",
            "630/630 [==============================] - 8s 12ms/step - loss: 0.1753 - acc: 0.9667 - val_loss: 0.1491 - val_acc: 0.9741\n",
            "Epoch 20/30\n",
            "630/630 [==============================] - 8s 12ms/step - loss: 0.1733 - acc: 0.9667 - val_loss: 0.1475 - val_acc: 0.9741\n",
            "Epoch 21/30\n",
            "630/630 [==============================] - 8s 12ms/step - loss: 0.1728 - acc: 0.9667 - val_loss: 0.1463 - val_acc: 0.9741\n",
            "Epoch 22/30\n",
            "630/630 [==============================] - 8s 12ms/step - loss: 0.1713 - acc: 0.9667 - val_loss: 0.1451 - val_acc: 0.9741\n",
            "Epoch 23/30\n",
            "630/630 [==============================] - 8s 12ms/step - loss: 0.1699 - acc: 0.9667 - val_loss: 0.1441 - val_acc: 0.9741\n",
            "Epoch 24/30\n",
            "630/630 [==============================] - 8s 12ms/step - loss: 0.1687 - acc: 0.9667 - val_loss: 0.1434 - val_acc: 0.9741\n",
            "Epoch 25/30\n",
            "630/630 [==============================] - 8s 12ms/step - loss: 0.1685 - acc: 0.9667 - val_loss: 0.1428 - val_acc: 0.9741\n",
            "Epoch 26/30\n",
            "630/630 [==============================] - 8s 12ms/step - loss: 0.1685 - acc: 0.9667 - val_loss: 0.1424 - val_acc: 0.9741\n",
            "Epoch 27/30\n",
            "630/630 [==============================] - 8s 12ms/step - loss: 0.1676 - acc: 0.9667 - val_loss: 0.1417 - val_acc: 0.9741\n",
            "Epoch 28/30\n",
            "630/630 [==============================] - 8s 12ms/step - loss: 0.1667 - acc: 0.9667 - val_loss: 0.1411 - val_acc: 0.9741\n",
            "Epoch 29/30\n",
            "630/630 [==============================] - 8s 12ms/step - loss: 0.1662 - acc: 0.9667 - val_loss: 0.1406 - val_acc: 0.9741\n",
            "Epoch 30/30\n",
            "630/630 [==============================] - 8s 12ms/step - loss: 0.1665 - acc: 0.9667 - val_loss: 0.1400 - val_acc: 0.9741\n"
          ],
          "name": "stdout"
        }
      ]
    },
    {
      "cell_type": "code",
      "metadata": {
        "id": "VGTkI30g4ts9",
        "colab_type": "code",
        "colab": {}
      },
      "source": [
        "model.append('Bidirectional LSTM Model')\n",
        "scores = lsmod1.evaluate(X_test, Y_test, verbose=0)\n",
        "accuracytest.append(scores[1]*100)\n",
        "scores = lsmod1.evaluate(X_train, Y_train, verbose=0)\n",
        "accuracytrain.append(scores[1]*100)\n",
        "\n",
        "\n"
      ],
      "execution_count": 30,
      "outputs": []
    },
    {
      "cell_type": "code",
      "metadata": {
        "colab_type": "code",
        "id": "ms0kA-NF1Oe2",
        "colab": {
          "base_uri": "https://localhost:8080/",
          "height": 283
        },
        "outputId": "c1c1a95b-e304-4483-8a01-b2f39d0e7440"
      },
      "source": [
        "plt.plot(lshist.history['val_acc'],color='black')\n",
        "plt.plot(lshist.history['acc'])\n",
        "plt.xlabel('Accuracy')\n",
        "plt.ylabel('Iterations')\n",
        "plt.show()"
      ],
      "execution_count": 31,
      "outputs": [
        {
          "output_type": "display_data",
          "data": {
            "image/png": "[encoded data removed]",
            "text/plain": [
              "<Figure size 432x288 with 1 Axes>"
            ]
          },
          "metadata": {
            "tags": [],
            "needs_background": "light"
          }
        }
      ]
    },
    {
      "cell_type": "code",
      "metadata": {
        "colab_type": "code",
        "id": "NKgj0zGN1Oe9",
        "colab": {
          "base_uri": "https://localhost:8080/",
          "height": 280
        },
        "outputId": "4771a5a9-451f-4b97-d797-f4633d4fb4f4"
      },
      "source": [
        "plt.plot(lshist.history['val_loss'],color='black')\n",
        "plt.plot(lshist.history['loss'])\n",
        "plt.xlabel('Loss')\n",
        "plt.ylabel('Iterations')\n",
        "plt.show()"
      ],
      "execution_count": 32,
      "outputs": [
        {
          "output_type": "display_data",
          "data": {
            "image/png": "[encoded data removed]",
            "text/plain": [
              "<Figure size 432x288 with 1 Axes>"
            ]
          },
          "metadata": {
            "tags": [],
            "needs_background": "light"
          }
        }
      ]
    },
    {
      "cell_type": "markdown",
      "metadata": {
        "id": "9QSaW5EX5Q06",
        "colab_type": "text"
      },
      "source": [
        "#### **1D Convolution**"
      ]
    },
    {
      "cell_type": "code",
      "metadata": {
        "colab_type": "code",
        "id": "E3WdCFl51OfD",
        "colab": {
          "base_uri": "https://localhost:8080/",
          "height": 1000
        },
        "outputId": "19c7f7d2-ec56-47ca-9d34-d5cf18d2c4e0"
      },
      "source": [
        "\n",
        "convmod = conv1d()\n",
        "\n",
        "convhist = convmod.fit(X_train, Y_train,\n",
        "                      epochs = 30,\n",
        "                      batch_size = 128,\n",
        "                      validation_data = (X_test, Y_test))"
      ],
      "execution_count": 33,
      "outputs": [
        {
          "output_type": "stream",
          "text": [
            "/usr/local/lib/python3.6/dist-packages/tensorflow/python/framework/indexed_slices.py:434: UserWarning: Converting sparse IndexedSlices to a dense Tensor of unknown shape. This may consume a large amount of memory.\n",
            "  \"Converting sparse IndexedSlices to a dense Tensor of unknown shape. \"\n"
          ],
          "name": "stderr"
        },
        {
          "output_type": "stream",
          "text": [
            "Train on 630 samples, validate on 270 samples\n",
            "Epoch 1/30\n",
            "630/630 [==============================] - 3s 5ms/step - loss: 5.7570 - acc: 0.0048 - val_loss: 5.6743 - val_acc: 0.0778\n",
            "Epoch 2/30\n",
            "630/630 [==============================] - 3s 5ms/step - loss: 5.3761 - acc: 0.4333 - val_loss: 5.3236 - val_acc: 0.9741\n",
            "Epoch 3/30\n",
            "630/630 [==============================] - 3s 5ms/step - loss: 4.6276 - acc: 0.9667 - val_loss: 4.6109 - val_acc: 0.9741\n",
            "Epoch 4/30\n",
            "630/630 [==============================] - 3s 5ms/step - loss: 3.1651 - acc: 0.9667 - val_loss: 3.2308 - val_acc: 0.9741\n",
            "Epoch 5/30\n",
            "630/630 [==============================] - 3s 5ms/step - loss: 1.0566 - acc: 0.9667 - val_loss: 1.1672 - val_acc: 0.9741\n",
            "Epoch 6/30\n",
            "630/630 [==============================] - 3s 5ms/step - loss: 0.2468 - acc: 0.9667 - val_loss: 0.2415 - val_acc: 0.9741\n",
            "Epoch 7/30\n",
            "630/630 [==============================] - 3s 5ms/step - loss: 0.2628 - acc: 0.9667 - val_loss: 0.1567 - val_acc: 0.9741\n",
            "Epoch 8/30\n",
            "630/630 [==============================] - 3s 5ms/step - loss: 0.2662 - acc: 0.9667 - val_loss: 0.1427 - val_acc: 0.9741\n",
            "Epoch 9/30\n",
            "630/630 [==============================] - 3s 5ms/step - loss: 0.2271 - acc: 0.9667 - val_loss: 0.1459 - val_acc: 0.9741\n",
            "Epoch 10/30\n",
            "630/630 [==============================] - 3s 5ms/step - loss: 0.1762 - acc: 0.9667 - val_loss: 0.2277 - val_acc: 0.9741\n",
            "Epoch 11/30\n",
            "630/630 [==============================] - 3s 5ms/step - loss: 0.1908 - acc: 0.9667 - val_loss: 0.2505 - val_acc: 0.9741\n",
            "Epoch 12/30\n",
            "630/630 [==============================] - 3s 5ms/step - loss: 0.1698 - acc: 0.9667 - val_loss: 0.1720 - val_acc: 0.9741\n",
            "Epoch 13/30\n",
            "630/630 [==============================] - 3s 5ms/step - loss: 0.1717 - acc: 0.9667 - val_loss: 0.1533 - val_acc: 0.9741\n",
            "Epoch 14/30\n",
            "630/630 [==============================] - 3s 5ms/step - loss: 0.1699 - acc: 0.9667 - val_loss: 0.1684 - val_acc: 0.9741\n",
            "Epoch 15/30\n",
            "630/630 [==============================] - 3s 5ms/step - loss: 0.1612 - acc: 0.9667 - val_loss: 0.2153 - val_acc: 0.9741\n",
            "Epoch 16/30\n",
            "630/630 [==============================] - 3s 5ms/step - loss: 0.1591 - acc: 0.9667 - val_loss: 0.2181 - val_acc: 0.9741\n",
            "Epoch 17/30\n",
            "630/630 [==============================] - 3s 5ms/step - loss: 0.1568 - acc: 0.9667 - val_loss: 0.2050 - val_acc: 0.9741\n",
            "Epoch 18/30\n",
            "630/630 [==============================] - 3s 5ms/step - loss: 0.1555 - acc: 0.9667 - val_loss: 0.2011 - val_acc: 0.9741\n",
            "Epoch 19/30\n",
            "630/630 [==============================] - 3s 5ms/step - loss: 0.1552 - acc: 0.9667 - val_loss: 0.2066 - val_acc: 0.9741\n",
            "Epoch 20/30\n",
            "630/630 [==============================] - 3s 5ms/step - loss: 0.1533 - acc: 0.9667 - val_loss: 0.2145 - val_acc: 0.9741\n",
            "Epoch 21/30\n",
            "630/630 [==============================] - 3s 5ms/step - loss: 0.1538 - acc: 0.9667 - val_loss: 0.2167 - val_acc: 0.9741\n",
            "Epoch 22/30\n",
            "630/630 [==============================] - 3s 5ms/step - loss: 0.1539 - acc: 0.9667 - val_loss: 0.2016 - val_acc: 0.9741\n",
            "Epoch 23/30\n",
            "630/630 [==============================] - 3s 5ms/step - loss: 0.1525 - acc: 0.9667 - val_loss: 0.2004 - val_acc: 0.9741\n",
            "Epoch 24/30\n",
            "630/630 [==============================] - 3s 5ms/step - loss: 0.1519 - acc: 0.9667 - val_loss: 0.1964 - val_acc: 0.9741\n",
            "Epoch 25/30\n",
            "630/630 [==============================] - 3s 5ms/step - loss: 0.1499 - acc: 0.9667 - val_loss: 0.2024 - val_acc: 0.9741\n",
            "Epoch 26/30\n",
            "630/630 [==============================] - 3s 5ms/step - loss: 0.1508 - acc: 0.9667 - val_loss: 0.2113 - val_acc: 0.9741\n",
            "Epoch 27/30\n",
            "630/630 [==============================] - 3s 5ms/step - loss: 0.1500 - acc: 0.9667 - val_loss: 0.2031 - val_acc: 0.9741\n",
            "Epoch 28/30\n",
            "630/630 [==============================] - 3s 5ms/step - loss: 0.1486 - acc: 0.9667 - val_loss: 0.1991 - val_acc: 0.9741\n",
            "Epoch 29/30\n",
            "630/630 [==============================] - 3s 5ms/step - loss: 0.1462 - acc: 0.9667 - val_loss: 0.2047 - val_acc: 0.9741\n",
            "Epoch 30/30\n",
            "630/630 [==============================] - 3s 5ms/step - loss: 0.1432 - acc: 0.9667 - val_loss: 0.2060 - val_acc: 0.9741\n"
          ],
          "name": "stdout"
        }
      ]
    },
    {
      "cell_type": "code",
      "metadata": {
        "id": "ffqGaoSB5cEa",
        "colab_type": "code",
        "colab": {}
      },
      "source": [
        "model.append('1D Convolution Model')\n",
        "scores = convmod.evaluate(X_test, Y_test, verbose=0)\n",
        "accuracytest.append(scores[1]*100)\n",
        "scores = convmod.evaluate(X_train, Y_train, verbose=0)\n",
        "accuracytrain.append(scores[1]*100)"
      ],
      "execution_count": 34,
      "outputs": []
    },
    {
      "cell_type": "code",
      "metadata": {
        "colab_type": "code",
        "id": "sl_0SOPF1OfK",
        "colab": {
          "base_uri": "https://localhost:8080/",
          "height": 279
        },
        "outputId": "feb82f49-b2b9-4fbe-c3f6-bf534e317a1f"
      },
      "source": [
        "plt.plot(convhist.history['val_acc'],color='black')\n",
        "plt.plot(convhist.history['acc'])\n",
        "plt.xlabel('Accuracy')\n",
        "plt.ylabel('Iterations')\n",
        "plt.show()"
      ],
      "execution_count": 35,
      "outputs": [
        {
          "output_type": "display_data",
          "data": {
            "image/png": "[encoded data removed]",
            "text/plain": [
              "<Figure size 432x288 with 1 Axes>"
            ]
          },
          "metadata": {
            "tags": [],
            "needs_background": "light"
          }
        }
      ]
    },
    {
      "cell_type": "code",
      "metadata": {
        "colab_type": "code",
        "id": "VIlrMaFe1OfQ",
        "colab": {
          "base_uri": "https://localhost:8080/",
          "height": 282
        },
        "outputId": "d3d65550-7067-4a47-f350-e508d08ca556"
      },
      "source": [
        "plt.plot(convhist.history['val_loss'],color='black')\n",
        "plt.plot(convhist.history['loss'])\n",
        "plt.xlabel('Loss')\n",
        "plt.ylabel('Iterations')\n",
        "plt.show()"
      ],
      "execution_count": 36,
      "outputs": [
        {
          "output_type": "display_data",
          "data": {
            "image/png": "[encoded data removed]",
            "text/plain": [
              "<Figure size 432x288 with 1 Axes>"
            ]
          },
          "metadata": {
            "tags": [],
            "needs_background": "light"
          }
        }
      ]
    },
    {
      "cell_type": "markdown",
      "metadata": {
        "id": "ky8bVH-M3435",
        "colab_type": "text"
      },
      "source": [
        "#### **Model Selection for Cluster 1**\n"
      ]
    },
    {
      "cell_type": "code",
      "metadata": {
        "id": "mlTldjwo347Q",
        "colab_type": "code",
        "colab": {
          "base_uri": "https://localhost:8080/",
          "height": 426
        },
        "outputId": "c741006a-9571-43b0-ccbe-0ddc2fff6fc7"
      },
      "source": [
        "cluster0_accuracies=pd.DataFrame()\n",
        "cluster0_accuracies['Model']=model\n",
        "cluster0_accuracies['Accuracy(Test)']=accuracytest\n",
        "cluster0_accuracies['Accuracy(Train)']=accuracytrain\n",
        "cluster0_accuracies"
      ],
      "execution_count": 37,
      "outputs": [
        {
          "output_type": "execute_result",
          "data": {
            "text/html": [
              "<div>\n",
              "<style scoped>\n",
              "    .dataframe tbody tr th:only-of-type {\n",
              "        vertical-align: middle;\n",
              "    }\n",
              "\n",
              "    .dataframe tbody tr th {\n",
              "        vertical-align: top;\n",
              "    }\n",
              "\n",
              "    .dataframe thead th {\n",
              "        text-align: right;\n",
              "    }\n",
              "</style>\n",
              "<table border=\"1\" class=\"dataframe\">\n",
              "  <thead>\n",
              "    <tr style=\"text-align: right;\">\n",
              "      <th></th>\n",
              "      <th>Model</th>\n",
              "      <th>Accuracy(Test)</th>\n",
              "      <th>Accuracy(Train)</th>\n",
              "    </tr>\n",
              "  </thead>\n",
              "  <tbody>\n",
              "    <tr>\n",
              "      <th>0</th>\n",
              "      <td>Logistic Regression with Chi Square</td>\n",
              "      <td>96.296296</td>\n",
              "      <td>97.142857</td>\n",
              "    </tr>\n",
              "    <tr>\n",
              "      <th>1</th>\n",
              "      <td>Multinomial Naive Bayes</td>\n",
              "      <td>96.296296</td>\n",
              "      <td>97.142857</td>\n",
              "    </tr>\n",
              "    <tr>\n",
              "      <th>2</th>\n",
              "      <td>Support Vector Machines</td>\n",
              "      <td>96.296296</td>\n",
              "      <td>98.095238</td>\n",
              "    </tr>\n",
              "    <tr>\n",
              "      <th>3</th>\n",
              "      <td>Decision Tree</td>\n",
              "      <td>95.555556</td>\n",
              "      <td>98.571429</td>\n",
              "    </tr>\n",
              "    <tr>\n",
              "      <th>4</th>\n",
              "      <td>Bagging Classifier</td>\n",
              "      <td>95.555556</td>\n",
              "      <td>98.412698</td>\n",
              "    </tr>\n",
              "    <tr>\n",
              "      <th>5</th>\n",
              "      <td>Adaboost Classifier</td>\n",
              "      <td>94.814815</td>\n",
              "      <td>96.031746</td>\n",
              "    </tr>\n",
              "    <tr>\n",
              "      <th>6</th>\n",
              "      <td>Gradient Boost Classifier</td>\n",
              "      <td>94.444444</td>\n",
              "      <td>99.841270</td>\n",
              "    </tr>\n",
              "    <tr>\n",
              "      <th>7</th>\n",
              "      <td>Decision Tree Hyper Tuned</td>\n",
              "      <td>95.925926</td>\n",
              "      <td>97.936508</td>\n",
              "    </tr>\n",
              "    <tr>\n",
              "      <th>8</th>\n",
              "      <td>Support Vector Machines- Hypertuned</td>\n",
              "      <td>96.296296</td>\n",
              "      <td>97.142857</td>\n",
              "    </tr>\n",
              "    <tr>\n",
              "      <th>9</th>\n",
              "      <td>Sequential Model</td>\n",
              "      <td>97.777778</td>\n",
              "      <td>98.888886</td>\n",
              "    </tr>\n",
              "    <tr>\n",
              "      <th>10</th>\n",
              "      <td>Bidirectional LSTM Model</td>\n",
              "      <td>97.407407</td>\n",
              "      <td>96.666664</td>\n",
              "    </tr>\n",
              "    <tr>\n",
              "      <th>11</th>\n",
              "      <td>1D Convolution Model</td>\n",
              "      <td>97.407407</td>\n",
              "      <td>96.666664</td>\n",
              "    </tr>\n",
              "  </tbody>\n",
              "</table>\n",
              "</div>"
            ],
            "text/plain": [
              "                                  Model  Accuracy(Test)  Accuracy(Train)\n",
              "0   Logistic Regression with Chi Square       96.296296        97.142857\n",
              "1               Multinomial Naive Bayes       96.296296        97.142857\n",
              "2               Support Vector Machines       96.296296        98.095238\n",
              "3                        Decision Tree        95.555556        98.571429\n",
              "4                    Bagging Classifier       95.555556        98.412698\n",
              "5                   Adaboost Classifier       94.814815        96.031746\n",
              "6             Gradient Boost Classifier       94.444444        99.841270\n",
              "7            Decision Tree Hyper Tuned        95.925926        97.936508\n",
              "8   Support Vector Machines- Hypertuned       96.296296        97.142857\n",
              "9                      Sequential Model       97.777778        98.888886\n",
              "10             Bidirectional LSTM Model       97.407407        96.666664\n",
              "11                 1D Convolution Model       97.407407        96.666664"
            ]
          },
          "metadata": {
            "tags": []
          },
          "execution_count": 37
        }
      ]
    },
    {
      "cell_type": "code",
      "metadata": {
        "id": "TIPi2Xmj6Vz1",
        "colab_type": "code",
        "colab": {}
      },
      "source": [
        "x_axis=['LR','NM','SVM','DT','BC','ABC','GBC','DTH','SVMH','SM','BLSTM','1DCONV']"
      ],
      "execution_count": 38,
      "outputs": []
    },
    {
      "cell_type": "code",
      "metadata": {
        "id": "MaQmTTZZ727O",
        "colab_type": "code",
        "colab": {
          "base_uri": "https://localhost:8080/",
          "height": 609
        },
        "outputId": "c2af2692-3f96-4917-916d-2b4934dc11ed"
      },
      "source": [
        "plt.figure(figsize=(10,10))\n",
        "plt.bar(x_axis,cluster0_accuracies['Accuracy(Test)'],color='green')\n",
        "plt.bar(x_axis,cluster0_accuracies['Accuracy(Train)'],color='brown',alpha=0.3)"
      ],
      "execution_count": 39,
      "outputs": [
        {
          "output_type": "execute_result",
          "data": {
            "text/plain": [
              "<BarContainer object of 12 artists>"
            ]
          },
          "metadata": {
            "tags": []
          },
          "execution_count": 39
        },
        {
          "output_type": "display_data",
          "data": {
            "image/png": "[encoded data removed]",
            "text/plain": [
              "<Figure size 720x720 with 1 Axes>"
            ]
          },
          "metadata": {
            "tags": [],
            "needs_background": "light"
          }
        }
      ]
    },
    {
      "cell_type": "markdown",
      "metadata": {
        "id": "cC0OrkTmC4A5",
        "colab_type": "text"
      },
      "source": [
        "> LR-Logistic Regression\n",
        "\n",
        "> NM- Multinomial Naive Bayes\n",
        "\n",
        ">SVM-Support Vector Machine\n",
        "\n",
        ">DT- Decision Tree\n",
        "\n",
        ">BC-Bagging Classifier\n",
        "\n",
        ">ABC-AdaBoost Classifier\n",
        "\n",
        ">GBC-Gradient Boost Classifier\n",
        "\n",
        ">DTH- Decision Tree - Hyper Tunes\n",
        "\n",
        ">SVMH- Support Vector Machine Hyper Tuned\n",
        "\n",
        ">SM-Sequential Model\n",
        "\n",
        ">BLSTM-Bidirectional LSTM\n",
        "\n",
        ">1DCONV-1D Convolution\n",
        "\n",
        "\n",
        "#### **Model Selection**\n",
        "> The grey bar shows the accuracy on Train data and Yello shows the accuracy on Test data. \n",
        "\n",
        "> Higher the difference, the model is overfit\n",
        "\n",
        "> Out of all, Hyper tuned Decision Tree seems to be the best of all\n"
      ]
    },
    {
      "cell_type": "markdown",
      "metadata": {
        "id": "QvFB_z9cad7p",
        "colab_type": "text"
      },
      "source": [
        "# **Applying different models on Cluster 1**"
      ]
    },
    {
      "cell_type": "markdown",
      "metadata": {
        "colab_type": "text",
        "id": "3I9-9vRDkDB0"
      },
      "source": [
        "#### **Chi Square Analysis on Logistic Regression**"
      ]
    },
    {
      "cell_type": "code",
      "metadata": {
        "colab_type": "code",
        "id": "RVAm7ELkkDCA",
        "colab": {}
      },
      "source": [
        "X = data['Description'][data['Cluster TFIDFV']==1]\n",
        "Y = data['Assignment group'][data['Cluster TFIDFV']==1]\n",
        "X_train, X_test, Y_train, Y_test = train_test_split(X, Y, test_size=0.3, random_state=2)"
      ],
      "execution_count": 40,
      "outputs": []
    },
    {
      "cell_type": "code",
      "metadata": {
        "colab_type": "code",
        "id": "UUyO4OCQkDCR",
        "colab": {}
      },
      "source": [
        "Cluster1df=pd.DataFrame()\n",
        "accuracytest=[]\n",
        "accuracytrain=[]\n",
        "model=[]"
      ],
      "execution_count": 41,
      "outputs": []
    },
    {
      "cell_type": "code",
      "metadata": {
        "colab_type": "code",
        "id": "tgiCz-XRkDCc",
        "colab": {
          "base_uri": "https://localhost:8080/",
          "height": 52
        },
        "outputId": "0f8a3529-eeb4-46df-b41b-47d1c0a60a59"
      },
      "source": [
        "features = TfidfVectorizer(max_features=10000,ngram_range=(1, 3))\n",
        "X_train_tfidf = features.fit_transform(X_train)\n",
        "X_test_tfidf = features.transform(X_test)\n",
        "chi2score = chi2(X_train_tfidf, Y_train)[1]\n",
        "ch2_result = [0]\n",
        "ch2_result1=[0]\n",
        "model.append('Logistic Regression with Chi Square')\n",
        "for n in np.arange(15000,100000,10000):\n",
        "    ch2 = SelectKBest(chi2, k=1)\n",
        "    X_train_chi2_selected = ch2.fit_transform(X_train_tfidf, Y_train)\n",
        "    X_test_chi2_selected = ch2.transform(X_test_tfidf)\n",
        "    clf = LogisticRegression()\n",
        "    clf.fit(X_train_chi2_selected, Y_train)\n",
        "    score = clf.score(X_test_chi2_selected, Y_test)\n",
        "    score1=clf.score(X_train_chi2_selected, Y_train)\n",
        "\n",
        "    if int(score*100)>np.array(ch2_result).max()*100:\n",
        "      print('Accuracy Score Test: '+str(score*100))\n",
        "      max=score\n",
        "    else:\n",
        "      pass\n",
        "    ch2_result.append(score)\n",
        "\n",
        "    if int(score1*100)>np.array(ch2_result1).max()*100:\n",
        "      print('Accuracy Score Train: '+str(score1*100))\n",
        "      max1=score1\n",
        "    else:\n",
        "      pass\n",
        "    ch2_result.append(score)\n",
        "    ch2_result1.append(score1)\n",
        "accuracytest.append(max*100)\n",
        "accuracytrain.append(max1*100)"
      ],
      "execution_count": 42,
      "outputs": [
        {
          "output_type": "stream",
          "text": [
            "Accuracy Score Test: 41.911764705882355\n",
            "Accuracy Score Train: 46.68769716088328\n"
          ],
          "name": "stdout"
        }
      ]
    },
    {
      "cell_type": "markdown",
      "metadata": {
        "colab_type": "text",
        "id": "mLdoCxcnkDCi"
      },
      "source": [
        "#### **Creating the TFIDF Vectors for further processing**"
      ]
    },
    {
      "cell_type": "code",
      "metadata": {
        "colab_type": "code",
        "id": "EhWkwHd6kDCj",
        "colab": {}
      },
      "source": [
        "vectorizer = TfidfVectorizer()\n",
        "train_vectors_0 = vectorizer.fit_transform(X_train)\n",
        "test_vectors_0 = vectorizer.transform(X_test)"
      ],
      "execution_count": 43,
      "outputs": []
    },
    {
      "cell_type": "markdown",
      "metadata": {
        "colab_type": "text",
        "id": "3jDMHwrjkDCo"
      },
      "source": [
        "#### **Multinomial Naive Bayes**\n"
      ]
    },
    {
      "cell_type": "code",
      "metadata": {
        "colab_type": "code",
        "id": "TuEQ9hoQkDCp",
        "colab": {
          "base_uri": "https://localhost:8080/",
          "height": 749
        },
        "outputId": "28bfc1e6-e4f8-4835-e513-d00f93702853"
      },
      "source": [
        "nbc1 = Pipeline([('count', CountVectorizer()),\n",
        "               ('tfidf', TfidfTransformer()),\n",
        "               ('clf', MultinomialNB()),\n",
        "              ])\n",
        "nbc1.fit(X,Y)\n",
        "\n",
        "#Test Set\n",
        "Y_pred = nbc1.predict(X_test)\n",
        "\n",
        "print('Accuracy Score Test :'+str(float(accuracy_score(Y_pred, Y_test)*100)))\n",
        "model.append('Multinomial Naive Bayes')\n",
        "accuracytest.append(accuracy_score(Y_pred, Y_test)*100)\n",
        "print('\\n')\n",
        "print(classification_report(Y_test, Y_pred))\n",
        "\n",
        "# Train set\n",
        "\n",
        "Y_pred = nbc1.predict(X_train)\n",
        "\n",
        "print('\\n\\nAccuracy Score Train :'+str(float(accuracy_score(Y_pred, Y_train)*100)))\n",
        "accuracytrain.append(accuracy_score(Y_pred, Y_train)*100)\n",
        "print('\\n')\n",
        "print(classification_report(Y_train, Y_pred))"
      ],
      "execution_count": 44,
      "outputs": [
        {
          "output_type": "stream",
          "text": [
            "Accuracy Score Test :53.67647058823529\n",
            "\n",
            "\n",
            "              precision    recall  f1-score   support\n",
            "\n",
            "           1       0.00      0.00      0.00        17\n",
            "           2       0.00      0.00      0.00         3\n",
            "           4       0.00      0.00      0.00         1\n",
            "          10       1.00      0.09      0.16        35\n",
            "          11       1.00      0.02      0.04        45\n",
            "          12       0.47      1.00      0.64       114\n",
            "          13       1.00      0.49      0.66        57\n",
            "\n",
            "    accuracy                           0.54       272\n",
            "   macro avg       0.50      0.23      0.21       272\n",
            "weighted avg       0.70      0.54      0.44       272\n",
            "\n",
            "\n",
            "\n",
            "Accuracy Score Train :56.782334384858046\n",
            "\n",
            "\n",
            "              precision    recall  f1-score   support\n",
            "\n",
            "           1       0.00      0.00      0.00        46\n",
            "           2       0.00      0.00      0.00         6\n",
            "           3       0.00      0.00      0.00         4\n",
            "           4       0.00      0.00      0.00         2\n",
            "          10       0.83      0.07      0.13        73\n",
            "          11       0.00      0.00      0.00        78\n",
            "          12       0.52      1.00      0.68       296\n",
            "          13       1.00      0.47      0.63       129\n",
            "\n",
            "    accuracy                           0.57       634\n",
            "   macro avg       0.29      0.19      0.18       634\n",
            "weighted avg       0.54      0.57      0.46       634\n",
            "\n"
          ],
          "name": "stdout"
        },
        {
          "output_type": "stream",
          "text": [
            "/usr/local/lib/python3.6/dist-packages/sklearn/metrics/_classification.py:1272: UndefinedMetricWarning: Precision and F-score are ill-defined and being set to 0.0 in labels with no predicted samples. Use `zero_division` parameter to control this behavior.\n",
            "  _warn_prf(average, modifier, msg_start, len(result))\n",
            "/usr/local/lib/python3.6/dist-packages/sklearn/metrics/_classification.py:1272: UndefinedMetricWarning: Precision and F-score are ill-defined and being set to 0.0 in labels with no predicted samples. Use `zero_division` parameter to control this behavior.\n",
            "  _warn_prf(average, modifier, msg_start, len(result))\n"
          ],
          "name": "stderr"
        }
      ]
    },
    {
      "cell_type": "markdown",
      "metadata": {
        "colab_type": "text",
        "id": "nyhGUU4XkDCv"
      },
      "source": [
        "#### **Support vector Machines**\n",
        "\n",
        "\n"
      ]
    },
    {
      "cell_type": "code",
      "metadata": {
        "colab_type": "code",
        "id": "uDbeT505kDCv",
        "colab": {
          "base_uri": "https://localhost:8080/",
          "height": 52
        },
        "outputId": "4cd54e1d-b2fc-4af5-afe6-6ae4ddfc2f03"
      },
      "source": [
        "SVMc1 = svm.SVC(C=1.0, kernel='linear', degree=3, gamma='auto',random_state=1)\n",
        "SVMc1.fit(train_vectors_0,Y_train)\n",
        "\n",
        "#Test set\n",
        "predictions_SVM = SVMc1.predict(test_vectors_0)\n",
        "# Use accuracy_score function to get the accuracy\n",
        "print(\"Accuracy Score Test: \",accuracy_score(predictions_SVM, Y_test)*100)\n",
        "\n",
        "model.append('Support Vector Machines')\n",
        "accuracytest.append(accuracy_score(predictions_SVM, Y_test)*100)\n",
        "\n",
        "#Train set\n",
        "\n",
        "predictions_SVM = SVMc1.predict(train_vectors_0)\n",
        "# Use accuracy_score function to get the accuracy\n",
        "print(\"Accuracy Score Train : \",accuracy_score(predictions_SVM, Y_train)*100)\n",
        "\n",
        "accuracytrain.append(accuracy_score(predictions_SVM, Y_train)*100)\n",
        "\n",
        "\n"
      ],
      "execution_count": 45,
      "outputs": [
        {
          "output_type": "stream",
          "text": [
            "Accuracy Score Test:  68.75\n",
            "Accuracy Score Train :  81.07255520504731\n"
          ],
          "name": "stdout"
        }
      ]
    },
    {
      "cell_type": "markdown",
      "metadata": {
        "colab_type": "text",
        "id": "fAprA93xkDC1"
      },
      "source": [
        "#### **Decision tree**\n"
      ]
    },
    {
      "cell_type": "code",
      "metadata": {
        "colab_type": "code",
        "id": "13XVhy4dkDC2",
        "colab": {
          "base_uri": "https://localhost:8080/",
          "height": 52
        },
        "outputId": "add35eb0-34d5-4e55-d4cd-858913b482c4"
      },
      "source": [
        "dTreec1 = DecisionTreeClassifier(criterion = 'gini', max_depth=5, random_state=1)\n",
        "dTreec1.fit(train_vectors_0, Y_train)\n",
        "\n",
        "\n",
        "print('Accuracy Score Test : ',dTreec1.score(test_vectors_0, Y_test)*100)\n",
        "model.append('Decision Tree ')\n",
        "accuracytest.append(dTreec1.score(test_vectors_0, Y_test)*100)\n",
        "\n",
        "\n",
        "print('Accuracy Score Train : ',dTreec1.score(train_vectors_0, Y_train)*100)\n",
        "accuracytrain.append(dTreec1.score(train_vectors_0, Y_train)*100)"
      ],
      "execution_count": 46,
      "outputs": [
        {
          "output_type": "stream",
          "text": [
            "Accuracy Score Test :  47.42647058823529\n",
            "Accuracy Score Train :  53.47003154574133\n"
          ],
          "name": "stdout"
        }
      ]
    },
    {
      "cell_type": "markdown",
      "metadata": {
        "colab_type": "text",
        "id": "GrRCQq-jkDC6"
      },
      "source": [
        "#### **Bagging Classifier**"
      ]
    },
    {
      "cell_type": "code",
      "metadata": {
        "colab_type": "code",
        "id": "HSUxtzCMkDC7",
        "colab": {
          "base_uri": "https://localhost:8080/",
          "height": 52
        },
        "outputId": "234e9d2e-f63f-4657-bc70-d12095d6239e"
      },
      "source": [
        "bgcl = BaggingClassifier(base_estimator=dTree, n_estimators=50,random_state=1)\n",
        "bgcl = bgcl.fit(train_vectors_0, Y_train)\n",
        "\n",
        "y_predict = bgcl.predict(test_vectors_0)\n",
        "\n",
        "print('Accuracy Score Test : ',bgcl.score(test_vectors_0, Y_test)*100)\n",
        "model.append('Bagging Classifier')\n",
        "accuracytest.append(bgcl.score(test_vectors_0, Y_test)*100)\n",
        "\n",
        "print('Accuracy Score Train : ',bgcl.score(train_vectors_0, Y_train)*100)\n",
        "accuracytrain.append(bgcl.score(train_vectors_0, Y_train)*100)\n"
      ],
      "execution_count": 47,
      "outputs": [
        {
          "output_type": "stream",
          "text": [
            "Accuracy Score Test :  44.85294117647059\n",
            "Accuracy Score Train :  49.8422712933754\n"
          ],
          "name": "stdout"
        }
      ]
    },
    {
      "cell_type": "markdown",
      "metadata": {
        "colab_type": "text",
        "id": "FyXq8K94kDC_"
      },
      "source": [
        "#### **Adaboost Classifier**"
      ]
    },
    {
      "cell_type": "code",
      "metadata": {
        "colab_type": "code",
        "id": "SHhoEIRzkDDA",
        "colab": {
          "base_uri": "https://localhost:8080/",
          "height": 52
        },
        "outputId": "5d9a5c13-b866-4f51-a919-ca12e8173525"
      },
      "source": [
        "abcl = AdaBoostClassifier(n_estimators=10, random_state=1)\n",
        "abcl = abcl.fit(train_vectors_0, Y_train)\n",
        "\n",
        "y_predict = abcl.predict(test_vectors_0)\n",
        "print('Accuracy Score Test : ' ,abcl.score(test_vectors_0, Y_test)*100)\n",
        "model.append('Adaboost Classifier')\n",
        "accuracytest.append(abcl.score(test_vectors_0, Y_test)*100)\n",
        "\n",
        "\n",
        "y_predict = abcl.predict(train_vectors_0)\n",
        "print('Accuracy Score Train : ' ,abcl.score(train_vectors_0, Y_train)*100)\n",
        "accuracytrain.append(abcl.score(train_vectors_0, Y_train)*100)"
      ],
      "execution_count": 48,
      "outputs": [
        {
          "output_type": "stream",
          "text": [
            "Accuracy Score Test :  44.11764705882353\n",
            "Accuracy Score Train :  50.315457413249206\n"
          ],
          "name": "stdout"
        }
      ]
    },
    {
      "cell_type": "markdown",
      "metadata": {
        "colab_type": "text",
        "id": "jFbUxXBkkDDG"
      },
      "source": [
        "#### **Gradient Boost Classifier**\n",
        "\n"
      ]
    },
    {
      "cell_type": "code",
      "metadata": {
        "colab_type": "code",
        "id": "bUVZCM29kDDG",
        "colab": {
          "base_uri": "https://localhost:8080/",
          "height": 52
        },
        "outputId": "5bbac0b1-5597-48c7-b7ab-96c34233b863"
      },
      "source": [
        "gbcl = GradientBoostingClassifier(n_estimators = 50,random_state=1)\n",
        "gbcl = gbcl.fit(train_vectors_0, Y_train)\n",
        "\n",
        "y_predict = gbcl.predict(test_vectors_0)\n",
        "\n",
        "print('Accuracy Score Test : ' ,gbcl.score(test_vectors_0, Y_test)*100)\n",
        "model.append('Gradient Boost Classifier')\n",
        "accuracytest.append(gbcl.score(test_vectors_0, Y_test)*100)\n",
        "\n",
        "\n",
        "print('Accuracy Score Train : ' ,gbcl.score(train_vectors_0, Y_train)*100)\n",
        "accuracytrain.append(gbcl.score(train_vectors_0, Y_train)*100)"
      ],
      "execution_count": 49,
      "outputs": [
        {
          "output_type": "stream",
          "text": [
            "Accuracy Score Test :  68.38235294117648\n",
            "Accuracy Score Train :  85.96214511041009\n"
          ],
          "name": "stdout"
        }
      ]
    },
    {
      "cell_type": "markdown",
      "metadata": {
        "colab_type": "text",
        "id": "KaGHZXxWkDDK"
      },
      "source": [
        "#### **Randomized Search CV to enhance Decision tree**\n",
        "\n"
      ]
    },
    {
      "cell_type": "code",
      "metadata": {
        "colab_type": "code",
        "id": "6k4_P_NVkDDM",
        "colab": {
          "base_uri": "https://localhost:8080/",
          "height": 1000
        },
        "outputId": "863c806a-9820-4741-e098-49a0debc86cd"
      },
      "source": [
        "parameter={'criterion':['gini','entropy'],\n",
        "            'max_depth':np.arange(0,100,1)\n",
        "            }\n",
        "\n",
        "random_searchdt = RandomizedSearchCV(estimator = dTreec1, param_distributions= parameter,cv = 3, verbose=2, random_state=1,return_train_score=True)\n",
        "random_searchdt.fit(train_vectors_0,Y_train)"
      ],
      "execution_count": 50,
      "outputs": [
        {
          "output_type": "stream",
          "text": [
            "Fitting 3 folds for each of 10 candidates, totalling 30 fits\n",
            "[CV] max_depth=58, criterion=gini ....................................\n",
            "[CV] ..................... max_depth=58, criterion=gini, total=   0.0s\n",
            "[CV] max_depth=58, criterion=gini ....................................\n",
            "[CV] ..................... max_depth=58, criterion=gini, total=   0.0s\n",
            "[CV] max_depth=58, criterion=gini ....................................\n",
            "[CV] ..................... max_depth=58, criterion=gini, total=   0.0s\n",
            "[CV] max_depth=40, criterion=gini ....................................\n",
            "[CV] ..................... max_depth=40, criterion=gini, total=   0.0s\n",
            "[CV] max_depth=40, criterion=gini ....................................\n",
            "[CV] ..................... max_depth=40, criterion=gini, total=   0.0s\n",
            "[CV] max_depth=40, criterion=gini ....................................\n",
            "[CV] ..................... max_depth=40, criterion=gini, total=   0.0s\n",
            "[CV] max_depth=34, criterion=gini ....................................\n",
            "[CV] ..................... max_depth=34, criterion=gini, total=   0.0s\n",
            "[CV] max_depth=34, criterion=gini ....................................\n",
            "[CV] ..................... max_depth=34, criterion=gini, total=   0.0s\n",
            "[CV] max_depth=34, criterion=gini ....................................\n"
          ],
          "name": "stdout"
        },
        {
          "output_type": "stream",
          "text": [
            "/usr/local/lib/python3.6/dist-packages/sklearn/model_selection/_split.py:667: UserWarning: The least populated class in y has only 2 members, which is less than n_splits=3.\n",
            "  % (min_groups, self.n_splits)), UserWarning)\n",
            "[Parallel(n_jobs=1)]: Using backend SequentialBackend with 1 concurrent workers.\n",
            "[Parallel(n_jobs=1)]: Done   1 out of   1 | elapsed:    0.0s remaining:    0.0s\n"
          ],
          "name": "stderr"
        },
        {
          "output_type": "stream",
          "text": [
            "[CV] ..................... max_depth=34, criterion=gini, total=   0.0s\n",
            "[CV] max_depth=2, criterion=entropy ..................................\n",
            "[CV] ................... max_depth=2, criterion=entropy, total=   0.0s\n",
            "[CV] max_depth=2, criterion=entropy ..................................\n",
            "[CV] ................... max_depth=2, criterion=entropy, total=   0.0s\n",
            "[CV] max_depth=2, criterion=entropy ..................................\n",
            "[CV] ................... max_depth=2, criterion=entropy, total=   0.0s\n",
            "[CV] max_depth=84, criterion=entropy .................................\n",
            "[CV] .................. max_depth=84, criterion=entropy, total=   0.0s\n",
            "[CV] max_depth=84, criterion=entropy .................................\n",
            "[CV] .................. max_depth=84, criterion=entropy, total=   0.0s\n",
            "[CV] max_depth=84, criterion=entropy .................................\n",
            "[CV] .................. max_depth=84, criterion=entropy, total=   0.0s\n",
            "[CV] max_depth=98, criterion=entropy .................................\n",
            "[CV] .................. max_depth=98, criterion=entropy, total=   0.0s\n",
            "[CV] max_depth=98, criterion=entropy .................................\n",
            "[CV] .................. max_depth=98, criterion=entropy, total=   0.0s\n",
            "[CV] max_depth=98, criterion=entropy .................................\n",
            "[CV] .................. max_depth=98, criterion=entropy, total=   0.0s\n",
            "[CV] max_depth=95, criterion=gini ....................................\n",
            "[CV] ..................... max_depth=95, criterion=gini, total=   0.0s\n",
            "[CV] max_depth=95, criterion=gini ....................................\n",
            "[CV] ..................... max_depth=95, criterion=gini, total=   0.0s\n",
            "[CV] max_depth=95, criterion=gini ....................................\n",
            "[CV] ..................... max_depth=95, criterion=gini, total=   0.0s\n",
            "[CV] max_depth=4, criterion=gini .....................................\n",
            "[CV] ...................... max_depth=4, criterion=gini, total=   0.0s\n",
            "[CV] max_depth=4, criterion=gini .....................................\n",
            "[CV] ...................... max_depth=4, criterion=gini, total=   0.0s\n",
            "[CV] max_depth=4, criterion=gini .....................................\n",
            "[CV] ...................... max_depth=4, criterion=gini, total=   0.0s\n",
            "[CV] max_depth=29, criterion=gini ....................................\n",
            "[CV] ..................... max_depth=29, criterion=gini, total=   0.0s\n",
            "[CV] max_depth=29, criterion=gini ....................................\n",
            "[CV] ..................... max_depth=29, criterion=gini, total=   0.0s\n",
            "[CV] max_depth=29, criterion=gini ....................................\n",
            "[CV] ..................... max_depth=29, criterion=gini, total=   0.0s\n",
            "[CV] max_depth=68, criterion=entropy .................................\n",
            "[CV] .................. max_depth=68, criterion=entropy, total=   0.0s\n",
            "[CV] max_depth=68, criterion=entropy .................................\n",
            "[CV] .................. max_depth=68, criterion=entropy, total=   0.0s\n",
            "[CV] max_depth=68, criterion=entropy .................................\n",
            "[CV] .................. max_depth=68, criterion=entropy, total=   0.0s\n"
          ],
          "name": "stdout"
        },
        {
          "output_type": "stream",
          "text": [
            "[Parallel(n_jobs=1)]: Done  30 out of  30 | elapsed:    0.8s finished\n"
          ],
          "name": "stderr"
        },
        {
          "output_type": "execute_result",
          "data": {
            "text/plain": [
              "RandomizedSearchCV(cv=3, error_score=nan,\n",
              "                   estimator=DecisionTreeClassifier(ccp_alpha=0.0,\n",
              "                                                    class_weight=None,\n",
              "                                                    criterion='gini',\n",
              "                                                    max_depth=5,\n",
              "                                                    max_features=None,\n",
              "                                                    max_leaf_nodes=None,\n",
              "                                                    min_impurity_decrease=0.0,\n",
              "                                                    min_impurity_split=None,\n",
              "                                                    min_samples_leaf=1,\n",
              "                                                    min_samples_split=2,\n",
              "                                                    min_weight_fraction_leaf=0.0,\n",
              "                                                    presort='deprecated',\n",
              "                                                    random_state=1,\n",
              "                                                    splitter='best'),\n",
              "                   iid='de...\n",
              "                                        'max_depth': array([ 0,  1,  2,  3,  4,  5,  6,  7,  8,  9, 10, 11, 12, 13, 14, 15, 16,\n",
              "       17, 18, 19, 20, 21, 22, 23, 24, 25, 26, 27, 28, 29, 30, 31, 32, 33,\n",
              "       34, 35, 36, 37, 38, 39, 40, 41, 42, 43, 44, 45, 46, 47, 48, 49, 50,\n",
              "       51, 52, 53, 54, 55, 56, 57, 58, 59, 60, 61, 62, 63, 64, 65, 66, 67,\n",
              "       68, 69, 70, 71, 72, 73, 74, 75, 76, 77, 78, 79, 80, 81, 82, 83, 84,\n",
              "       85, 86, 87, 88, 89, 90, 91, 92, 93, 94, 95, 96, 97, 98, 99])},\n",
              "                   pre_dispatch='2*n_jobs', random_state=1, refit=True,\n",
              "                   return_train_score=True, scoring=None, verbose=2)"
            ]
          },
          "metadata": {
            "tags": []
          },
          "execution_count": 50
        }
      ]
    },
    {
      "cell_type": "code",
      "metadata": {
        "colab_type": "code",
        "id": "sxApFJXMkDDQ",
        "colab": {
          "base_uri": "https://localhost:8080/",
          "height": 34
        },
        "outputId": "1590ad62-ceb3-42d4-fbb3-da7d4f6870c0"
      },
      "source": [
        "random_searchdt.best_params_\n",
        "\n"
      ],
      "execution_count": 51,
      "outputs": [
        {
          "output_type": "execute_result",
          "data": {
            "text/plain": [
              "{'criterion': 'gini', 'max_depth': 29}"
            ]
          },
          "metadata": {
            "tags": []
          },
          "execution_count": 51
        }
      ]
    },
    {
      "cell_type": "code",
      "metadata": {
        "colab_type": "code",
        "id": "lXdjhVhjkDDU",
        "colab": {
          "base_uri": "https://localhost:8080/",
          "height": 52
        },
        "outputId": "607d0cee-4523-44d2-e225-912e2b271440"
      },
      "source": [
        "dTreec11 = DecisionTreeClassifier(criterion = 'gini', max_depth=40,random_state=1)\n",
        "dTreec11.fit(train_vectors_0, Y_train)\n",
        "\n",
        "\n",
        "print('Accuracy Score Test : ',dTreec11.score(test_vectors_0, Y_test)*100)\n",
        "model.append('Decision Tree Hyper Tuned ')\n",
        "accuracytest.append(dTreec11.score(test_vectors_0, Y_test)*100)\n",
        "\n",
        "\n",
        "print('Accuracy Score Train : ',dTreec11.score(train_vectors_0, Y_train)*100)\n",
        "accuracytrain.append(dTreec11.score(train_vectors_0, Y_train)*100)\n"
      ],
      "execution_count": 52,
      "outputs": [
        {
          "output_type": "stream",
          "text": [
            "Accuracy Score Test :  58.08823529411765\n",
            "Accuracy Score Train :  92.90220820189275\n"
          ],
          "name": "stdout"
        }
      ]
    },
    {
      "cell_type": "markdown",
      "metadata": {
        "colab_type": "text",
        "id": "nyV2AzV6kDDa"
      },
      "source": [
        "#### With the randomized search, it seems that we have a lower accuracy"
      ]
    },
    {
      "cell_type": "code",
      "metadata": {
        "colab_type": "code",
        "id": "vcQZG7vykDDb",
        "colab": {
          "base_uri": "https://localhost:8080/",
          "height": 1000
        },
        "outputId": "f49a477a-3c57-4fa4-f7ce-abd55cb3eb39"
      },
      "source": [
        "parameter={'C':np.arange(0.6,3,0.1),\n",
        " 'kernel': ['linear','poly','rbf'],\n",
        " 'gamma' : ['scale','auto'],\n",
        " 'degree':np.arange(0,5,1)}\n",
        "\n",
        "random_searchSVM = RandomizedSearchCV(estimator = SVMc1, param_distributions= parameter,cv = 3, verbose=2, random_state=1,return_train_score=True)\n",
        "random_searchSVM.fit(train_vectors_0,Y_train)\n",
        "\n"
      ],
      "execution_count": 53,
      "outputs": [
        {
          "output_type": "stream",
          "text": [
            "Fitting 3 folds for each of 10 candidates, totalling 30 fits\n"
          ],
          "name": "stdout"
        },
        {
          "output_type": "stream",
          "text": [
            "/usr/local/lib/python3.6/dist-packages/sklearn/model_selection/_split.py:667: UserWarning: The least populated class in y has only 2 members, which is less than n_splits=3.\n",
            "  % (min_groups, self.n_splits)), UserWarning)\n",
            "[Parallel(n_jobs=1)]: Using backend SequentialBackend with 1 concurrent workers.\n"
          ],
          "name": "stderr"
        },
        {
          "output_type": "stream",
          "text": [
            "[CV] kernel=rbf, gamma=auto, degree=4, C=0.7 .........................\n",
            "[CV] .......... kernel=rbf, gamma=auto, degree=4, C=0.7, total=   0.1s\n",
            "[CV] kernel=rbf, gamma=auto, degree=4, C=0.7 .........................\n",
            "[CV] .......... kernel=rbf, gamma=auto, degree=4, C=0.7, total=   0.0s\n",
            "[CV] kernel=rbf, gamma=auto, degree=4, C=0.7 .........................\n"
          ],
          "name": "stdout"
        },
        {
          "output_type": "stream",
          "text": [
            "[Parallel(n_jobs=1)]: Done   1 out of   1 | elapsed:    0.1s remaining:    0.0s\n"
          ],
          "name": "stderr"
        },
        {
          "output_type": "stream",
          "text": [
            "[CV] .......... kernel=rbf, gamma=auto, degree=4, C=0.7, total=   0.1s\n",
            "[CV] kernel=linear, gamma=scale, degree=0, C=0.7999999999999999 ......\n",
            "[CV]  kernel=linear, gamma=scale, degree=0, C=0.7999999999999999, total=   0.1s\n",
            "[CV] kernel=linear, gamma=scale, degree=0, C=0.7999999999999999 ......\n",
            "[CV]  kernel=linear, gamma=scale, degree=0, C=0.7999999999999999, total=   0.1s\n",
            "[CV] kernel=linear, gamma=scale, degree=0, C=0.7999999999999999 ......\n",
            "[CV]  kernel=linear, gamma=scale, degree=0, C=0.7999999999999999, total=   0.1s\n",
            "[CV] kernel=poly, gamma=auto, degree=0, C=1.2999999999999998 .........\n",
            "[CV]  kernel=poly, gamma=auto, degree=0, C=1.2999999999999998, total=   0.0s\n",
            "[CV] kernel=poly, gamma=auto, degree=0, C=1.2999999999999998 .........\n",
            "[CV]  kernel=poly, gamma=auto, degree=0, C=1.2999999999999998, total=   0.0s\n",
            "[CV] kernel=poly, gamma=auto, degree=0, C=1.2999999999999998 .........\n",
            "[CV]  kernel=poly, gamma=auto, degree=0, C=1.2999999999999998, total=   0.0s\n",
            "[CV] kernel=poly, gamma=scale, degree=1, C=2.6999999999999997 ........\n",
            "[CV]  kernel=poly, gamma=scale, degree=1, C=2.6999999999999997, total=   0.1s\n",
            "[CV] kernel=poly, gamma=scale, degree=1, C=2.6999999999999997 ........\n",
            "[CV]  kernel=poly, gamma=scale, degree=1, C=2.6999999999999997, total=   0.1s\n",
            "[CV] kernel=poly, gamma=scale, degree=1, C=2.6999999999999997 ........\n",
            "[CV]  kernel=poly, gamma=scale, degree=1, C=2.6999999999999997, total=   0.1s\n",
            "[CV] kernel=rbf, gamma=scale, degree=1, C=0.6 ........................\n",
            "[CV] ......... kernel=rbf, gamma=scale, degree=1, C=0.6, total=   0.1s\n",
            "[CV] kernel=rbf, gamma=scale, degree=1, C=0.6 ........................\n",
            "[CV] ......... kernel=rbf, gamma=scale, degree=1, C=0.6, total=   0.1s\n",
            "[CV] kernel=rbf, gamma=scale, degree=1, C=0.6 ........................\n",
            "[CV] ......... kernel=rbf, gamma=scale, degree=1, C=0.6, total=   0.1s\n",
            "[CV] kernel=rbf, gamma=auto, degree=1, C=0.8999999999999999 ..........\n",
            "[CV]  kernel=rbf, gamma=auto, degree=1, C=0.8999999999999999, total=   0.1s\n",
            "[CV] kernel=rbf, gamma=auto, degree=1, C=0.8999999999999999 ..........\n",
            "[CV]  kernel=rbf, gamma=auto, degree=1, C=0.8999999999999999, total=   0.0s\n",
            "[CV] kernel=rbf, gamma=auto, degree=1, C=0.8999999999999999 ..........\n",
            "[CV]  kernel=rbf, gamma=auto, degree=1, C=0.8999999999999999, total=   0.0s\n",
            "[CV] kernel=linear, gamma=scale, degree=4, C=2.0999999999999996 ......\n",
            "[CV]  kernel=linear, gamma=scale, degree=4, C=2.0999999999999996, total=   0.1s\n",
            "[CV] kernel=linear, gamma=scale, degree=4, C=2.0999999999999996 ......\n",
            "[CV]  kernel=linear, gamma=scale, degree=4, C=2.0999999999999996, total=   0.1s\n",
            "[CV] kernel=linear, gamma=scale, degree=4, C=2.0999999999999996 ......\n",
            "[CV]  kernel=linear, gamma=scale, degree=4, C=2.0999999999999996, total=   0.1s\n",
            "[CV] kernel=rbf, gamma=auto, degree=1, C=1.0999999999999999 ..........\n",
            "[CV]  kernel=rbf, gamma=auto, degree=1, C=1.0999999999999999, total=   0.0s\n",
            "[CV] kernel=rbf, gamma=auto, degree=1, C=1.0999999999999999 ..........\n",
            "[CV]  kernel=rbf, gamma=auto, degree=1, C=1.0999999999999999, total=   0.0s\n",
            "[CV] kernel=rbf, gamma=auto, degree=1, C=1.0999999999999999 ..........\n",
            "[CV]  kernel=rbf, gamma=auto, degree=1, C=1.0999999999999999, total=   0.0s\n",
            "[CV] kernel=poly, gamma=auto, degree=2, C=1.9 ........................\n",
            "[CV] ......... kernel=poly, gamma=auto, degree=2, C=1.9, total=   0.0s\n",
            "[CV] kernel=poly, gamma=auto, degree=2, C=1.9 ........................\n",
            "[CV] ......... kernel=poly, gamma=auto, degree=2, C=1.9, total=   0.0s\n",
            "[CV] kernel=poly, gamma=auto, degree=2, C=1.9 ........................\n",
            "[CV] ......... kernel=poly, gamma=auto, degree=2, C=1.9, total=   0.0s\n",
            "[CV] kernel=rbf, gamma=auto, degree=4, C=2.1999999999999997 ..........\n",
            "[CV]  kernel=rbf, gamma=auto, degree=4, C=2.1999999999999997, total=   0.1s\n",
            "[CV] kernel=rbf, gamma=auto, degree=4, C=2.1999999999999997 ..........\n",
            "[CV]  kernel=rbf, gamma=auto, degree=4, C=2.1999999999999997, total=   0.1s\n",
            "[CV] kernel=rbf, gamma=auto, degree=4, C=2.1999999999999997 ..........\n",
            "[CV]  kernel=rbf, gamma=auto, degree=4, C=2.1999999999999997, total=   0.1s\n"
          ],
          "name": "stdout"
        },
        {
          "output_type": "stream",
          "text": [
            "[Parallel(n_jobs=1)]: Done  30 out of  30 | elapsed:    2.3s finished\n"
          ],
          "name": "stderr"
        },
        {
          "output_type": "execute_result",
          "data": {
            "text/plain": [
              "RandomizedSearchCV(cv=3, error_score=nan,\n",
              "                   estimator=SVC(C=1.0, break_ties=False, cache_size=200,\n",
              "                                 class_weight=None, coef0=0.0,\n",
              "                                 decision_function_shape='ovr', degree=3,\n",
              "                                 gamma='auto', kernel='linear', max_iter=-1,\n",
              "                                 probability=False, random_state=1,\n",
              "                                 shrinking=True, tol=0.001, verbose=False),\n",
              "                   iid='deprecated', n_iter=10, n_jobs=None,\n",
              "                   param_distributions={'C': array([0.6, 0.7, 0.8, 0.9, 1. , 1.1, 1.2, 1.3, 1.4, 1.5, 1.6, 1.7, 1.8,\n",
              "       1.9, 2. , 2.1, 2.2, 2.3, 2.4, 2.5, 2.6, 2.7, 2.8, 2.9]),\n",
              "                                        'degree': array([0, 1, 2, 3, 4]),\n",
              "                                        'gamma': ['scale', 'auto'],\n",
              "                                        'kernel': ['linear', 'poly', 'rbf']},\n",
              "                   pre_dispatch='2*n_jobs', random_state=1, refit=True,\n",
              "                   return_train_score=True, scoring=None, verbose=2)"
            ]
          },
          "metadata": {
            "tags": []
          },
          "execution_count": 53
        }
      ]
    },
    {
      "cell_type": "code",
      "metadata": {
        "colab_type": "code",
        "id": "FVkDBqtXkDDg",
        "colab": {
          "base_uri": "https://localhost:8080/",
          "height": 34
        },
        "outputId": "fbcda8bc-f54d-4712-a1a2-40e4322e264e"
      },
      "source": [
        "random_searchSVM.best_params_"
      ],
      "execution_count": 54,
      "outputs": [
        {
          "output_type": "execute_result",
          "data": {
            "text/plain": [
              "{'C': 2.6999999999999997, 'degree': 1, 'gamma': 'scale', 'kernel': 'poly'}"
            ]
          },
          "metadata": {
            "tags": []
          },
          "execution_count": 54
        }
      ]
    },
    {
      "cell_type": "code",
      "metadata": {
        "colab_type": "code",
        "id": "XOoFQrYKkDDk",
        "colab": {
          "base_uri": "https://localhost:8080/",
          "height": 52
        },
        "outputId": "43afa330-46c2-40be-88b3-a13a316b4c0d"
      },
      "source": [
        "SVMc11 = svm.SVC(C=2.69, kernel='poly', degree=1, gamma='scale')\n",
        "SVMc11.fit(train_vectors_0,Y_train)\n",
        "\n",
        "#Test set\n",
        "predictions_SVM = SVMc11.predict(test_vectors_0)\n",
        "# Use accuracy_score function to get the accuracy\n",
        "print(\"Accuracy Score Test: \",accuracy_score(predictions_SVM, Y_test)*100)\n",
        "\n",
        "model.append('Support Vector Machines- Hypertuned')\n",
        "accuracytest.append(accuracy_score(predictions_SVM, Y_test)*100)\n",
        "\n",
        "#Train set\n",
        "\n",
        "predictions_SVM = SVMc11.predict(train_vectors_0)\n",
        "# Use accuracy_score function to get the accuracy\n",
        "print(\"Accuracy Score Train : \",accuracy_score(predictions_SVM, Y_train)*100)\n",
        "\n",
        "accuracytrain.append(accuracy_score(predictions_SVM, Y_train)*100)\n",
        "\n"
      ],
      "execution_count": 55,
      "outputs": [
        {
          "output_type": "stream",
          "text": [
            "Accuracy Score Test:  75.73529411764706\n",
            "Accuracy Score Train :  96.05678233438486\n"
          ],
          "name": "stdout"
        }
      ]
    },
    {
      "cell_type": "markdown",
      "metadata": {
        "colab_type": "text",
        "id": "A6S4swvOCYBp"
      },
      "source": [
        "#### **Sequential Model**"
      ]
    },
    {
      "cell_type": "code",
      "metadata": {
        "colab_type": "code",
        "id": "iE59zsDaCYB3",
        "colab": {
          "base_uri": "https://localhost:8080/",
          "height": 52
        },
        "outputId": "6c545328-88dc-4dc3-e702-e1a2f622ccf4"
      },
      "source": [
        "tok = Tokenizer(num_words = max_features)\n",
        "tok.fit_on_texts(data.Description)\n",
        "X = tok.texts_to_sequences(data['Description'][data['Cluster TFIDFV']==1])\n",
        "X = pad_sequences(X, maxlen = maxlen)\n",
        "Y = np.asarray(data['Assignment group'][data['Cluster TFIDFV']==1])\n",
        "\n",
        "X_train, X_test, Y_train, Y_test = train_test_split(X, Y, test_size=0.3, random_state=1)\n",
        "print(X_train.shape,Y_train.shape)\n",
        "print(X_test.shape,Y_test.shape)"
      ],
      "execution_count": 56,
      "outputs": [
        {
          "output_type": "stream",
          "text": [
            "(634, 350) (634,)\n",
            "(272, 350) (272,)\n"
          ],
          "name": "stdout"
        }
      ]
    },
    {
      "cell_type": "code",
      "metadata": {
        "colab_type": "code",
        "id": "5q8IcQBcCYCP",
        "colab": {
          "base_uri": "https://localhost:8080/",
          "height": 347
        },
        "outputId": "530f63f5-9ab2-4650-b9aa-95c66bd3218f"
      },
      "source": [
        "embed_dim = 256\n",
        "lstm_out = 64\n",
        "max_features = 2000\n",
        "maxlen = 350\n",
        "embedding_size = 200\n",
        "\n",
        "modelsc1 = Sequential()\n",
        "modelsc1.add(Embedding(max_features, embed_dim,input_length = X.shape[1]))\n",
        "modelsc1.add(SpatialDropout1D(0.4))\n",
        "modelsc1.add(MaxPooling1D(pool_size=4))\n",
        "modelsc1.add(LSTM(100))\n",
        "#model.add(LSTM(lstm_out, dropout=0.2, recurrent_dropout=0.4))\n",
        "modelsc1.add(Dense(350,activation='softmax'))\n",
        "modelsc1.compile(loss = 'sparse_categorical_crossentropy', optimizer='adam',metrics = ['accuracy'])\n",
        "print(modelsc1.summary())\n",
        "\n"
      ],
      "execution_count": 57,
      "outputs": [
        {
          "output_type": "stream",
          "text": [
            "Model: \"sequential_4\"\n",
            "_________________________________________________________________\n",
            "Layer (type)                 Output Shape              Param #   \n",
            "=================================================================\n",
            "embedding_4 (Embedding)      (None, 350, 256)          512000    \n",
            "_________________________________________________________________\n",
            "spatial_dropout1d_2 (Spatial (None, 350, 256)          0         \n",
            "_________________________________________________________________\n",
            "max_pooling1d_3 (MaxPooling1 (None, 87, 256)           0         \n",
            "_________________________________________________________________\n",
            "lstm_4 (LSTM)                (None, 100)               142800    \n",
            "_________________________________________________________________\n",
            "dense_4 (Dense)              (None, 350)               35350     \n",
            "=================================================================\n",
            "Total params: 690,150\n",
            "Trainable params: 690,150\n",
            "Non-trainable params: 0\n",
            "_________________________________________________________________\n",
            "None\n"
          ],
          "name": "stdout"
        }
      ]
    },
    {
      "cell_type": "code",
      "metadata": {
        "colab_type": "code",
        "id": "Qd-B7pfaCYCb",
        "colab": {
          "base_uri": "https://localhost:8080/",
          "height": 1000
        },
        "outputId": "5b3d96e9-f94e-49fe-af5b-8340d5ad9677"
      },
      "source": [
        "histc1=modelsc1.fit(X_train,Y_train, validation_data = (X_test, Y_test), epochs=40, batch_size=32, verbose=2) \n",
        "# Final evaluation of the model\n",
        "model.append('Sequential Model')\n",
        "scores = modelsc1.evaluate(X_test, Y_test, verbose=0)\n",
        "accuracytest.append(scores[1]*100)\n",
        "scores = modelsc1.evaluate(X_train, Y_train, verbose=0)\n",
        "accuracytrain.append(scores[1]*100)"
      ],
      "execution_count": 58,
      "outputs": [
        {
          "output_type": "stream",
          "text": [
            "/usr/local/lib/python3.6/dist-packages/tensorflow/python/framework/indexed_slices.py:434: UserWarning: Converting sparse IndexedSlices to a dense Tensor of unknown shape. This may consume a large amount of memory.\n",
            "  \"Converting sparse IndexedSlices to a dense Tensor of unknown shape. \"\n"
          ],
          "name": "stderr"
        },
        {
          "output_type": "stream",
          "text": [
            "Train on 634 samples, validate on 272 samples\n",
            "Epoch 1/40\n",
            " - 5s - loss: 4.7720 - accuracy: 0.3801 - val_loss: 2.5383 - val_accuracy: 0.5074\n",
            "Epoch 2/40\n",
            " - 4s - loss: 1.8738 - accuracy: 0.4290 - val_loss: 1.4191 - val_accuracy: 0.5074\n",
            "Epoch 3/40\n",
            " - 4s - loss: 1.5568 - accuracy: 0.4290 - val_loss: 1.4064 - val_accuracy: 0.5074\n",
            "Epoch 4/40\n",
            " - 4s - loss: 1.5424 - accuracy: 0.4290 - val_loss: 1.4036 - val_accuracy: 0.5074\n",
            "Epoch 5/40\n",
            " - 4s - loss: 1.5408 - accuracy: 0.4290 - val_loss: 1.4184 - val_accuracy: 0.5074\n",
            "Epoch 6/40\n",
            " - 4s - loss: 1.5328 - accuracy: 0.4290 - val_loss: 1.3941 - val_accuracy: 0.5074\n",
            "Epoch 7/40\n",
            " - 4s - loss: 1.5398 - accuracy: 0.4290 - val_loss: 1.4044 - val_accuracy: 0.5074\n",
            "Epoch 8/40\n",
            " - 4s - loss: 1.5427 - accuracy: 0.4290 - val_loss: 1.4109 - val_accuracy: 0.5074\n",
            "Epoch 9/40\n",
            " - 4s - loss: 1.5344 - accuracy: 0.4290 - val_loss: 1.3986 - val_accuracy: 0.5074\n",
            "Epoch 10/40\n",
            " - 4s - loss: 1.5301 - accuracy: 0.4290 - val_loss: 1.3929 - val_accuracy: 0.5074\n",
            "Epoch 11/40\n",
            " - 4s - loss: 1.5238 - accuracy: 0.4290 - val_loss: 1.3958 - val_accuracy: 0.5074\n",
            "Epoch 12/40\n",
            " - 4s - loss: 1.5201 - accuracy: 0.4290 - val_loss: 1.4042 - val_accuracy: 0.5074\n",
            "Epoch 13/40\n",
            " - 4s - loss: 1.5167 - accuracy: 0.4290 - val_loss: 1.3832 - val_accuracy: 0.5074\n",
            "Epoch 14/40\n",
            " - 4s - loss: 1.5064 - accuracy: 0.4290 - val_loss: 1.3674 - val_accuracy: 0.5074\n",
            "Epoch 15/40\n",
            " - 4s - loss: 1.4824 - accuracy: 0.4290 - val_loss: 1.3781 - val_accuracy: 0.5074\n",
            "Epoch 16/40\n",
            " - 4s - loss: 1.4755 - accuracy: 0.4290 - val_loss: 1.3640 - val_accuracy: 0.5184\n",
            "Epoch 17/40\n",
            " - 4s - loss: 1.4372 - accuracy: 0.4448 - val_loss: 1.3403 - val_accuracy: 0.5221\n",
            "Epoch 18/40\n",
            " - 4s - loss: 1.4125 - accuracy: 0.4606 - val_loss: 1.3072 - val_accuracy: 0.5404\n",
            "Epoch 19/40\n",
            " - 4s - loss: 1.3719 - accuracy: 0.4811 - val_loss: 1.2723 - val_accuracy: 0.5368\n",
            "Epoch 20/40\n",
            " - 4s - loss: 1.3219 - accuracy: 0.5126 - val_loss: 1.2417 - val_accuracy: 0.5331\n",
            "Epoch 21/40\n",
            " - 4s - loss: 1.2772 - accuracy: 0.5158 - val_loss: 1.2346 - val_accuracy: 0.5074\n",
            "Epoch 22/40\n",
            " - 4s - loss: 1.2380 - accuracy: 0.5394 - val_loss: 1.1701 - val_accuracy: 0.5368\n",
            "Epoch 23/40\n",
            " - 4s - loss: 1.1788 - accuracy: 0.5694 - val_loss: 1.1307 - val_accuracy: 0.5368\n",
            "Epoch 24/40\n",
            " - 4s - loss: 1.1390 - accuracy: 0.5852 - val_loss: 1.1154 - val_accuracy: 0.5735\n",
            "Epoch 25/40\n",
            " - 4s - loss: 1.0992 - accuracy: 0.6057 - val_loss: 1.0742 - val_accuracy: 0.5662\n",
            "Epoch 26/40\n",
            " - 4s - loss: 1.0510 - accuracy: 0.6199 - val_loss: 1.0821 - val_accuracy: 0.5882\n",
            "Epoch 27/40\n",
            " - 4s - loss: 1.0183 - accuracy: 0.6341 - val_loss: 1.0387 - val_accuracy: 0.5846\n",
            "Epoch 28/40\n",
            " - 4s - loss: 0.9871 - accuracy: 0.6278 - val_loss: 1.0164 - val_accuracy: 0.5699\n",
            "Epoch 29/40\n",
            " - 4s - loss: 0.9637 - accuracy: 0.6593 - val_loss: 1.0136 - val_accuracy: 0.5993\n",
            "Epoch 30/40\n",
            " - 4s - loss: 0.9307 - accuracy: 0.6751 - val_loss: 0.9957 - val_accuracy: 0.5993\n",
            "Epoch 31/40\n",
            " - 4s - loss: 0.9083 - accuracy: 0.6861 - val_loss: 1.0153 - val_accuracy: 0.6066\n",
            "Epoch 32/40\n",
            " - 4s - loss: 0.9066 - accuracy: 0.6688 - val_loss: 1.0313 - val_accuracy: 0.5772\n",
            "Epoch 33/40\n",
            " - 4s - loss: 0.8893 - accuracy: 0.6751 - val_loss: 0.9945 - val_accuracy: 0.5993\n",
            "Epoch 34/40\n",
            " - 4s - loss: 0.8738 - accuracy: 0.6877 - val_loss: 1.0207 - val_accuracy: 0.5919\n",
            "Epoch 35/40\n",
            " - 4s - loss: 0.8496 - accuracy: 0.6940 - val_loss: 0.9989 - val_accuracy: 0.6029\n",
            "Epoch 36/40\n",
            " - 4s - loss: 0.8316 - accuracy: 0.7066 - val_loss: 0.9736 - val_accuracy: 0.6140\n",
            "Epoch 37/40\n",
            " - 4s - loss: 0.8254 - accuracy: 0.7145 - val_loss: 0.9654 - val_accuracy: 0.6140\n",
            "Epoch 38/40\n",
            " - 4s - loss: 0.8051 - accuracy: 0.7240 - val_loss: 0.9746 - val_accuracy: 0.6066\n",
            "Epoch 39/40\n",
            " - 4s - loss: 0.7856 - accuracy: 0.7177 - val_loss: 0.9515 - val_accuracy: 0.6471\n",
            "Epoch 40/40\n",
            " - 4s - loss: 0.7669 - accuracy: 0.7397 - val_loss: 0.9653 - val_accuracy: 0.6103\n"
          ],
          "name": "stdout"
        }
      ]
    },
    {
      "cell_type": "code",
      "metadata": {
        "colab_type": "code",
        "id": "lYH1u5exaQU0",
        "colab": {
          "base_uri": "https://localhost:8080/",
          "height": 279
        },
        "outputId": "9c7e6aad-619b-448a-c114-81a6dd034d35"
      },
      "source": [
        "plt.plot(histc1.history['val_accuracy'],color='black')\n",
        "plt.plot(histc1.history['accuracy'])\n",
        "plt.xlabel('Accuracy')\n",
        "plt.ylabel('Iterations')\n",
        "plt.show()"
      ],
      "execution_count": 59,
      "outputs": [
        {
          "output_type": "display_data",
          "data": {
            "image/png": "[encoded data removed]",
            "text/plain": [
              "<Figure size 432x288 with 1 Axes>"
            ]
          },
          "metadata": {
            "tags": [],
            "needs_background": "light"
          }
        }
      ]
    },
    {
      "cell_type": "code",
      "metadata": {
        "colab_type": "code",
        "id": "P_EcZwJaaQVW",
        "colab": {
          "base_uri": "https://localhost:8080/",
          "height": 279
        },
        "outputId": "6bea874a-433b-48f0-d375-a8179e2ab734"
      },
      "source": [
        "plt.plot(histc1.history['val_loss'],color='black')\n",
        "plt.plot(histc1.history['loss'])\n",
        "plt.xlabel('Loss')\n",
        "plt.ylabel('Iterations')\n",
        "plt.show()"
      ],
      "execution_count": 60,
      "outputs": [
        {
          "output_type": "display_data",
          "data": {
            "image/png": "[encoded data removed]",
            "text/plain": [
              "<Figure size 432x288 with 1 Axes>"
            ]
          },
          "metadata": {
            "tags": [],
            "needs_background": "light"
          }
        }
      ]
    },
    {
      "cell_type": "markdown",
      "metadata": {
        "colab_type": "text",
        "id": "gO8oI4kf1c1J"
      },
      "source": [
        "#### **Bidirectional LSTM**"
      ]
    },
    {
      "cell_type": "code",
      "metadata": {
        "colab_type": "code",
        "id": "gAmQ44Ec1c1U",
        "colab": {
          "base_uri": "https://localhost:8080/",
          "height": 1000
        },
        "outputId": "ed9d34e1-7039-46b8-e129-c0dd5fd4849a"
      },
      "source": [
        "\n",
        "lsmodc1 = lstmm()\n",
        "\n",
        "lshistc1 = lsmodc1.fit(X_train,Y_train,\n",
        "         epochs = 45,\n",
        "         batch_size = 128,\n",
        "         validation_data = (X_test, Y_test))"
      ],
      "execution_count": 61,
      "outputs": [
        {
          "output_type": "stream",
          "text": [
            "/usr/local/lib/python3.6/dist-packages/tensorflow/python/framework/indexed_slices.py:434: UserWarning: Converting sparse IndexedSlices to a dense Tensor of unknown shape. This may consume a large amount of memory.\n",
            "  \"Converting sparse IndexedSlices to a dense Tensor of unknown shape. \"\n"
          ],
          "name": "stderr"
        },
        {
          "output_type": "stream",
          "text": [
            "Train on 634 samples, validate on 272 samples\n",
            "Epoch 1/45\n",
            "634/634 [==============================] - 10s 16ms/step - loss: 5.8271 - acc: 0.2177 - val_loss: 5.7639 - val_acc: 0.5074\n",
            "Epoch 2/45\n",
            "634/634 [==============================] - 8s 12ms/step - loss: 5.7027 - acc: 0.4196 - val_loss: 5.5314 - val_acc: 0.5074\n",
            "Epoch 3/45\n",
            "634/634 [==============================] - 8s 12ms/step - loss: 5.4064 - acc: 0.4290 - val_loss: 5.0173 - val_acc: 0.5074\n",
            "Epoch 4/45\n",
            "634/634 [==============================] - 8s 12ms/step - loss: 4.8855 - acc: 0.4290 - val_loss: 4.3109 - val_acc: 0.5074\n",
            "Epoch 5/45\n",
            "634/634 [==============================] - 8s 12ms/step - loss: 4.1877 - acc: 0.4290 - val_loss: 3.5441 - val_acc: 0.5074\n",
            "Epoch 6/45\n",
            "634/634 [==============================] - 8s 12ms/step - loss: 3.4295 - acc: 0.4290 - val_loss: 2.8389 - val_acc: 0.5074\n",
            "Epoch 7/45\n",
            "634/634 [==============================] - 8s 12ms/step - loss: 2.7545 - acc: 0.4290 - val_loss: 2.2453 - val_acc: 0.5074\n",
            "Epoch 8/45\n",
            "634/634 [==============================] - 8s 12ms/step - loss: 2.2238 - acc: 0.4290 - val_loss: 1.8266 - val_acc: 0.5074\n",
            "Epoch 9/45\n",
            "634/634 [==============================] - 8s 12ms/step - loss: 1.8927 - acc: 0.4290 - val_loss: 1.6007 - val_acc: 0.5074\n",
            "Epoch 10/45\n",
            "634/634 [==============================] - 8s 13ms/step - loss: 1.7207 - acc: 0.4290 - val_loss: 1.4959 - val_acc: 0.5074\n",
            "Epoch 11/45\n",
            "634/634 [==============================] - 8s 12ms/step - loss: 1.6364 - acc: 0.4290 - val_loss: 1.4490 - val_acc: 0.5074\n",
            "Epoch 12/45\n",
            "634/634 [==============================] - 8s 12ms/step - loss: 1.5939 - acc: 0.4290 - val_loss: 1.4331 - val_acc: 0.5074\n",
            "Epoch 13/45\n",
            "634/634 [==============================] - 8s 12ms/step - loss: 1.5732 - acc: 0.4290 - val_loss: 1.4324 - val_acc: 0.5074\n",
            "Epoch 14/45\n",
            "634/634 [==============================] - 8s 13ms/step - loss: 1.5615 - acc: 0.4290 - val_loss: 1.4307 - val_acc: 0.5074\n",
            "Epoch 15/45\n",
            "634/634 [==============================] - 8s 13ms/step - loss: 1.5548 - acc: 0.4290 - val_loss: 1.4268 - val_acc: 0.5074\n",
            "Epoch 16/45\n",
            "634/634 [==============================] - 8s 12ms/step - loss: 1.5505 - acc: 0.4290 - val_loss: 1.4203 - val_acc: 0.5074\n",
            "Epoch 17/45\n",
            "634/634 [==============================] - 8s 12ms/step - loss: 1.5469 - acc: 0.4290 - val_loss: 1.4140 - val_acc: 0.5074\n",
            "Epoch 18/45\n",
            "634/634 [==============================] - 8s 12ms/step - loss: 1.5443 - acc: 0.4290 - val_loss: 1.4100 - val_acc: 0.5074\n",
            "Epoch 19/45\n",
            "634/634 [==============================] - 8s 13ms/step - loss: 1.5411 - acc: 0.4290 - val_loss: 1.4101 - val_acc: 0.5074\n",
            "Epoch 20/45\n",
            "634/634 [==============================] - 8s 12ms/step - loss: 1.5392 - acc: 0.4290 - val_loss: 1.4113 - val_acc: 0.5074\n",
            "Epoch 21/45\n",
            "634/634 [==============================] - 8s 12ms/step - loss: 1.5390 - acc: 0.4290 - val_loss: 1.4111 - val_acc: 0.5074\n",
            "Epoch 22/45\n",
            "634/634 [==============================] - 8s 12ms/step - loss: 1.5369 - acc: 0.4290 - val_loss: 1.4114 - val_acc: 0.5074\n",
            "Epoch 23/45\n",
            "634/634 [==============================] - 8s 12ms/step - loss: 1.5368 - acc: 0.4290 - val_loss: 1.4124 - val_acc: 0.5074\n",
            "Epoch 24/45\n",
            "634/634 [==============================] - 8s 12ms/step - loss: 1.5364 - acc: 0.4290 - val_loss: 1.4134 - val_acc: 0.5074\n",
            "Epoch 25/45\n",
            "634/634 [==============================] - 8s 12ms/step - loss: 1.5355 - acc: 0.4290 - val_loss: 1.4125 - val_acc: 0.5074\n",
            "Epoch 26/45\n",
            "634/634 [==============================] - 8s 12ms/step - loss: 1.5344 - acc: 0.4290 - val_loss: 1.4081 - val_acc: 0.5074\n",
            "Epoch 27/45\n",
            "634/634 [==============================] - 8s 12ms/step - loss: 1.5345 - acc: 0.4290 - val_loss: 1.4052 - val_acc: 0.5074\n",
            "Epoch 28/45\n",
            "634/634 [==============================] - 8s 12ms/step - loss: 1.5340 - acc: 0.4290 - val_loss: 1.4067 - val_acc: 0.5074\n",
            "Epoch 29/45\n",
            "634/634 [==============================] - 8s 12ms/step - loss: 1.5335 - acc: 0.4290 - val_loss: 1.4060 - val_acc: 0.5074\n",
            "Epoch 30/45\n",
            "634/634 [==============================] - 8s 12ms/step - loss: 1.5325 - acc: 0.4290 - val_loss: 1.4093 - val_acc: 0.5074\n",
            "Epoch 31/45\n",
            "634/634 [==============================] - 8s 12ms/step - loss: 1.5323 - acc: 0.4290 - val_loss: 1.4097 - val_acc: 0.5074\n",
            "Epoch 32/45\n",
            "634/634 [==============================] - 8s 12ms/step - loss: 1.5323 - acc: 0.4290 - val_loss: 1.4064 - val_acc: 0.5074\n",
            "Epoch 33/45\n",
            "634/634 [==============================] - 8s 12ms/step - loss: 1.5321 - acc: 0.4290 - val_loss: 1.4068 - val_acc: 0.5074\n",
            "Epoch 34/45\n",
            "634/634 [==============================] - 8s 12ms/step - loss: 1.5312 - acc: 0.4290 - val_loss: 1.4062 - val_acc: 0.5074\n",
            "Epoch 35/45\n",
            "634/634 [==============================] - 8s 12ms/step - loss: 1.5309 - acc: 0.4290 - val_loss: 1.4036 - val_acc: 0.5074\n",
            "Epoch 36/45\n",
            "634/634 [==============================] - 8s 12ms/step - loss: 1.5300 - acc: 0.4290 - val_loss: 1.4027 - val_acc: 0.5074\n",
            "Epoch 37/45\n",
            "634/634 [==============================] - 8s 12ms/step - loss: 1.5299 - acc: 0.4290 - val_loss: 1.4060 - val_acc: 0.5074\n",
            "Epoch 38/45\n",
            "634/634 [==============================] - 8s 12ms/step - loss: 1.5303 - acc: 0.4290 - val_loss: 1.4055 - val_acc: 0.5074\n",
            "Epoch 39/45\n",
            "634/634 [==============================] - 8s 12ms/step - loss: 1.5295 - acc: 0.4290 - val_loss: 1.4050 - val_acc: 0.5074\n",
            "Epoch 40/45\n",
            "634/634 [==============================] - 8s 12ms/step - loss: 1.5295 - acc: 0.4290 - val_loss: 1.4047 - val_acc: 0.5074\n",
            "Epoch 41/45\n",
            "634/634 [==============================] - 8s 12ms/step - loss: 1.5302 - acc: 0.4290 - val_loss: 1.4038 - val_acc: 0.5074\n",
            "Epoch 42/45\n",
            "634/634 [==============================] - 8s 12ms/step - loss: 1.5284 - acc: 0.4290 - val_loss: 1.4042 - val_acc: 0.5074\n",
            "Epoch 43/45\n",
            "634/634 [==============================] - 8s 12ms/step - loss: 1.5289 - acc: 0.4290 - val_loss: 1.4029 - val_acc: 0.5074\n",
            "Epoch 44/45\n",
            "634/634 [==============================] - 8s 12ms/step - loss: 1.5272 - acc: 0.4290 - val_loss: 1.4050 - val_acc: 0.5074\n",
            "Epoch 45/45\n",
            "634/634 [==============================] - 8s 12ms/step - loss: 1.5274 - acc: 0.4290 - val_loss: 1.4035 - val_acc: 0.5074\n"
          ],
          "name": "stdout"
        }
      ]
    },
    {
      "cell_type": "code",
      "metadata": {
        "id": "CAztXCN1D1wg",
        "colab_type": "code",
        "colab": {}
      },
      "source": [
        "model.append('Bidirectional LSTM Model')\n",
        "scores = lsmodc1.evaluate(X_test, Y_test, verbose=0)\n",
        "accuracytest.append(scores[1]*100)\n",
        "scores = lsmodc1.evaluate(X_train, Y_train, verbose=0)\n",
        "accuracytrain.append(scores[1]*100)\n",
        "\n",
        "\n"
      ],
      "execution_count": 62,
      "outputs": []
    },
    {
      "cell_type": "code",
      "metadata": {
        "colab_type": "code",
        "id": "nHC_eeVU1c1t",
        "colab": {
          "base_uri": "https://localhost:8080/",
          "height": 279
        },
        "outputId": "f269ccde-8614-4bc7-ac30-3ab31e3c6c35"
      },
      "source": [
        "plt.plot(lshistc1.history['val_acc'],color='black')\n",
        "plt.plot(lshistc1.history['acc'])\n",
        "plt.xlabel('Accuracy')\n",
        "plt.ylabel('Iterations')\n",
        "plt.show()"
      ],
      "execution_count": 63,
      "outputs": [
        {
          "output_type": "display_data",
          "data": {
            "image/png": "[encoded data removed]",
            "text/plain": [
              "<Figure size 432x288 with 1 Axes>"
            ]
          },
          "metadata": {
            "tags": [],
            "needs_background": "light"
          }
        }
      ]
    },
    {
      "cell_type": "code",
      "metadata": {
        "colab_type": "code",
        "id": "AHZ4ea0e1c11",
        "colab": {
          "base_uri": "https://localhost:8080/",
          "height": 281
        },
        "outputId": "b54b94fa-cde0-4eb8-a11e-cdd7c51dbffc"
      },
      "source": [
        "plt.plot(lshistc1.history['val_loss'],color='black')\n",
        "plt.plot(lshistc1.history['loss'])\n",
        "plt.xlabel('Loss')\n",
        "plt.ylabel('Iterations')\n",
        "plt.show()"
      ],
      "execution_count": 64,
      "outputs": [
        {
          "output_type": "display_data",
          "data": {
            "image/png": "[encoded data removed]",
            "text/plain": [
              "<Figure size 432x288 with 1 Axes>"
            ]
          },
          "metadata": {
            "tags": [],
            "needs_background": "light"
          }
        }
      ]
    },
    {
      "cell_type": "markdown",
      "metadata": {
        "id": "eCvGPtJpD_Dg",
        "colab_type": "text"
      },
      "source": [
        "#### **1D Convolution**"
      ]
    },
    {
      "cell_type": "code",
      "metadata": {
        "colab_type": "code",
        "id": "17AOR9wp1c17",
        "colab": {
          "base_uri": "https://localhost:8080/",
          "height": 1000
        },
        "outputId": "12b94123-224d-4a66-c295-7427bb649d7f"
      },
      "source": [
        "\n",
        "convmodc1 = conv1d()\n",
        "\n",
        "\n",
        "\n",
        "convhistc1 = convmodc1.fit(X_train, Y_train,\n",
        "                      epochs = 45,\n",
        "                      batch_size = 128,\n",
        "                      validation_data = (X_test, Y_test))"
      ],
      "execution_count": 65,
      "outputs": [
        {
          "output_type": "stream",
          "text": [
            "/usr/local/lib/python3.6/dist-packages/tensorflow/python/framework/indexed_slices.py:434: UserWarning: Converting sparse IndexedSlices to a dense Tensor of unknown shape. This may consume a large amount of memory.\n",
            "  \"Converting sparse IndexedSlices to a dense Tensor of unknown shape. \"\n"
          ],
          "name": "stderr"
        },
        {
          "output_type": "stream",
          "text": [
            "Train on 634 samples, validate on 272 samples\n",
            "Epoch 1/45\n",
            "634/634 [==============================] - 4s 6ms/step - loss: 5.8180 - acc: 0.0000e+00 - val_loss: 5.7586 - val_acc: 0.0000e+00\n",
            "Epoch 2/45\n",
            "634/634 [==============================] - 3s 5ms/step - loss: 5.6467 - acc: 0.0110 - val_loss: 5.5500 - val_acc: 0.0699\n",
            "Epoch 3/45\n",
            "634/634 [==============================] - 3s 5ms/step - loss: 5.2663 - acc: 0.0915 - val_loss: 5.1102 - val_acc: 0.1287\n",
            "Epoch 4/45\n",
            "634/634 [==============================] - 3s 5ms/step - loss: 4.4682 - acc: 0.1656 - val_loss: 4.2437 - val_acc: 0.1287\n",
            "Epoch 5/45\n",
            "634/634 [==============================] - 3s 5ms/step - loss: 3.2258 - acc: 0.2082 - val_loss: 2.8662 - val_acc: 0.3824\n",
            "Epoch 6/45\n",
            "634/634 [==============================] - 3s 5ms/step - loss: 2.3289 - acc: 0.3912 - val_loss: 1.9062 - val_acc: 0.5074\n",
            "Epoch 7/45\n",
            "634/634 [==============================] - 3s 5ms/step - loss: 1.9928 - acc: 0.4290 - val_loss: 1.6216 - val_acc: 0.5074\n",
            "Epoch 8/45\n",
            "634/634 [==============================] - 3s 5ms/step - loss: 1.6147 - acc: 0.4148 - val_loss: 1.6809 - val_acc: 0.2279\n",
            "Epoch 9/45\n",
            "634/634 [==============================] - 3s 5ms/step - loss: 1.6742 - acc: 0.2918 - val_loss: 1.5704 - val_acc: 0.4228\n",
            "Epoch 10/45\n",
            "634/634 [==============================] - 3s 5ms/step - loss: 1.5513 - acc: 0.4101 - val_loss: 1.5035 - val_acc: 0.5074\n",
            "Epoch 11/45\n",
            "634/634 [==============================] - 3s 5ms/step - loss: 1.5697 - acc: 0.4290 - val_loss: 1.5360 - val_acc: 0.5074\n",
            "Epoch 12/45\n",
            "634/634 [==============================] - 3s 5ms/step - loss: 1.5034 - acc: 0.4306 - val_loss: 1.5720 - val_acc: 0.5074\n",
            "Epoch 13/45\n",
            "634/634 [==============================] - 4s 6ms/step - loss: 1.4893 - acc: 0.4006 - val_loss: 1.5803 - val_acc: 0.5588\n",
            "Epoch 14/45\n",
            "634/634 [==============================] - 4s 6ms/step - loss: 1.4719 - acc: 0.4132 - val_loss: 1.5365 - val_acc: 0.5074\n",
            "Epoch 15/45\n",
            "634/634 [==============================] - 3s 5ms/step - loss: 1.4493 - acc: 0.4322 - val_loss: 1.4946 - val_acc: 0.5074\n",
            "Epoch 16/45\n",
            "634/634 [==============================] - 3s 5ms/step - loss: 1.4478 - acc: 0.4290 - val_loss: 1.4870 - val_acc: 0.5074\n",
            "Epoch 17/45\n",
            "634/634 [==============================] - 3s 5ms/step - loss: 1.4111 - acc: 0.4338 - val_loss: 1.4792 - val_acc: 0.5184\n",
            "Epoch 18/45\n",
            "634/634 [==============================] - 3s 5ms/step - loss: 1.4118 - acc: 0.4464 - val_loss: 1.4278 - val_acc: 0.5147\n",
            "Epoch 19/45\n",
            "634/634 [==============================] - 3s 5ms/step - loss: 1.3908 - acc: 0.4511 - val_loss: 1.3867 - val_acc: 0.5441\n",
            "Epoch 20/45\n",
            "634/634 [==============================] - 3s 5ms/step - loss: 1.3644 - acc: 0.4637 - val_loss: 1.3885 - val_acc: 0.5699\n",
            "Epoch 21/45\n",
            "634/634 [==============================] - 3s 5ms/step - loss: 1.3279 - acc: 0.4874 - val_loss: 1.3349 - val_acc: 0.5699\n",
            "Epoch 22/45\n",
            "634/634 [==============================] - 3s 5ms/step - loss: 1.3071 - acc: 0.4937 - val_loss: 1.2952 - val_acc: 0.5772\n",
            "Epoch 23/45\n",
            "634/634 [==============================] - 3s 5ms/step - loss: 1.2634 - acc: 0.4811 - val_loss: 1.2758 - val_acc: 0.6103\n",
            "Epoch 24/45\n",
            "634/634 [==============================] - 3s 5ms/step - loss: 1.2560 - acc: 0.5315 - val_loss: 1.2214 - val_acc: 0.6029\n",
            "Epoch 25/45\n",
            "634/634 [==============================] - 3s 5ms/step - loss: 1.1964 - acc: 0.5426 - val_loss: 1.1693 - val_acc: 0.5882\n",
            "Epoch 26/45\n",
            "634/634 [==============================] - 3s 5ms/step - loss: 1.1691 - acc: 0.5410 - val_loss: 1.1496 - val_acc: 0.6360\n",
            "Epoch 27/45\n",
            "634/634 [==============================] - 3s 5ms/step - loss: 1.1187 - acc: 0.5757 - val_loss: 1.0982 - val_acc: 0.6066\n",
            "Epoch 28/45\n",
            "634/634 [==============================] - 3s 5ms/step - loss: 1.0874 - acc: 0.5931 - val_loss: 1.0659 - val_acc: 0.6397\n",
            "Epoch 29/45\n",
            "634/634 [==============================] - 3s 5ms/step - loss: 1.0758 - acc: 0.5883 - val_loss: 1.0404 - val_acc: 0.6471\n",
            "Epoch 30/45\n",
            "634/634 [==============================] - 3s 5ms/step - loss: 1.0661 - acc: 0.5962 - val_loss: 1.0158 - val_acc: 0.6434\n",
            "Epoch 31/45\n",
            "634/634 [==============================] - 3s 5ms/step - loss: 1.0205 - acc: 0.6057 - val_loss: 1.0138 - val_acc: 0.6471\n",
            "Epoch 32/45\n",
            "634/634 [==============================] - 3s 5ms/step - loss: 1.0037 - acc: 0.6009 - val_loss: 0.9744 - val_acc: 0.6471\n",
            "Epoch 33/45\n",
            "634/634 [==============================] - 3s 5ms/step - loss: 0.9813 - acc: 0.6467 - val_loss: 0.9657 - val_acc: 0.6581\n",
            "Epoch 34/45\n",
            "634/634 [==============================] - 3s 5ms/step - loss: 0.9476 - acc: 0.6498 - val_loss: 0.9452 - val_acc: 0.6581\n",
            "Epoch 35/45\n",
            "634/634 [==============================] - 3s 5ms/step - loss: 0.9349 - acc: 0.6530 - val_loss: 0.9314 - val_acc: 0.6654\n",
            "Epoch 36/45\n",
            "634/634 [==============================] - 3s 5ms/step - loss: 0.9154 - acc: 0.6451 - val_loss: 0.9266 - val_acc: 0.6985\n",
            "Epoch 37/45\n",
            "634/634 [==============================] - 3s 5ms/step - loss: 0.8766 - acc: 0.6798 - val_loss: 0.9090 - val_acc: 0.6875\n",
            "Epoch 38/45\n",
            "634/634 [==============================] - 3s 5ms/step - loss: 0.8777 - acc: 0.6672 - val_loss: 0.8984 - val_acc: 0.6912\n",
            "Epoch 39/45\n",
            "634/634 [==============================] - 3s 5ms/step - loss: 0.8492 - acc: 0.6924 - val_loss: 0.8974 - val_acc: 0.6985\n",
            "Epoch 40/45\n",
            "634/634 [==============================] - 3s 5ms/step - loss: 0.8510 - acc: 0.6956 - val_loss: 0.8847 - val_acc: 0.7059\n",
            "Epoch 41/45\n",
            "634/634 [==============================] - 3s 5ms/step - loss: 0.8136 - acc: 0.6877 - val_loss: 0.8768 - val_acc: 0.7096\n",
            "Epoch 42/45\n",
            "634/634 [==============================] - 3s 5ms/step - loss: 0.8198 - acc: 0.6972 - val_loss: 0.8686 - val_acc: 0.7022\n",
            "Epoch 43/45\n",
            "634/634 [==============================] - 3s 5ms/step - loss: 0.7832 - acc: 0.7114 - val_loss: 0.8682 - val_acc: 0.7132\n",
            "Epoch 44/45\n",
            "634/634 [==============================] - 3s 5ms/step - loss: 0.7607 - acc: 0.7397 - val_loss: 0.8645 - val_acc: 0.7059\n",
            "Epoch 45/45\n",
            "634/634 [==============================] - 3s 5ms/step - loss: 0.7416 - acc: 0.7508 - val_loss: 0.8507 - val_acc: 0.7022\n"
          ],
          "name": "stdout"
        }
      ]
    },
    {
      "cell_type": "code",
      "metadata": {
        "id": "r35wmJbpEoOZ",
        "colab_type": "code",
        "colab": {}
      },
      "source": [
        "model.append('1D Convolution Model')\n",
        "scores = convmodc1.evaluate(X_test, Y_test, verbose=0)\n",
        "accuracytest.append(scores[1]*100)\n",
        "scores = convmodc1.evaluate(X_train, Y_train, verbose=0)\n",
        "accuracytrain.append(scores[1]*100)"
      ],
      "execution_count": 66,
      "outputs": []
    },
    {
      "cell_type": "code",
      "metadata": {
        "colab_type": "code",
        "id": "5ZDP24_31c2B",
        "colab": {
          "base_uri": "https://localhost:8080/",
          "height": 279
        },
        "outputId": "bbee6670-9f4c-4142-ff17-09d6d69913f6"
      },
      "source": [
        "plt.plot(convhistc1.history['val_acc'],color='black')\n",
        "plt.plot(convhistc1.history['acc'])\n",
        "plt.xlabel('Accuracy')\n",
        "plt.ylabel('Iterations')\n",
        "plt.show()"
      ],
      "execution_count": 67,
      "outputs": [
        {
          "output_type": "display_data",
          "data": {
            "image/png": "[encoded data removed]",
            "text/plain": [
              "<Figure size 432x288 with 1 Axes>"
            ]
          },
          "metadata": {
            "tags": [],
            "needs_background": "light"
          }
        }
      ]
    },
    {
      "cell_type": "code",
      "metadata": {
        "colab_type": "code",
        "id": "abzfmmCu1c2G",
        "colab": {
          "base_uri": "https://localhost:8080/",
          "height": 281
        },
        "outputId": "901a60db-4644-4385-86b9-fc09a62e7e21"
      },
      "source": [
        "plt.plot(convhistc1.history['val_loss'],color='black')\n",
        "plt.plot(convhistc1.history['loss'])\n",
        "plt.xlabel('Loss')\n",
        "plt.ylabel('Iterations')\n",
        "plt.show()"
      ],
      "execution_count": 68,
      "outputs": [
        {
          "output_type": "display_data",
          "data": {
            "image/png": "[encoded data removed]",
            "text/plain": [
              "<Figure size 432x288 with 1 Axes>"
            ]
          },
          "metadata": {
            "tags": [],
            "needs_background": "light"
          }
        }
      ]
    },
    {
      "cell_type": "markdown",
      "metadata": {
        "colab_type": "text",
        "id": "45HBUDyUkDDq"
      },
      "source": [
        "#### **Model Selection for Cluster 1**\n"
      ]
    },
    {
      "cell_type": "code",
      "metadata": {
        "colab_type": "code",
        "id": "LDovOtHPkDDq",
        "colab": {
          "base_uri": "https://localhost:8080/",
          "height": 426
        },
        "outputId": "b937dd61-3700-44bf-f568-9ca95d96f300"
      },
      "source": [
        "cluster1_accuracies=pd.DataFrame()\n",
        "cluster1_accuracies['Model']=model\n",
        "cluster1_accuracies['Accuracy(Test)']=accuracytest\n",
        "cluster1_accuracies['Accuracy(Train)']=accuracytrain\n",
        "cluster1_accuracies"
      ],
      "execution_count": 69,
      "outputs": [
        {
          "output_type": "execute_result",
          "data": {
            "text/html": [
              "<div>\n",
              "<style scoped>\n",
              "    .dataframe tbody tr th:only-of-type {\n",
              "        vertical-align: middle;\n",
              "    }\n",
              "\n",
              "    .dataframe tbody tr th {\n",
              "        vertical-align: top;\n",
              "    }\n",
              "\n",
              "    .dataframe thead th {\n",
              "        text-align: right;\n",
              "    }\n",
              "</style>\n",
              "<table border=\"1\" class=\"dataframe\">\n",
              "  <thead>\n",
              "    <tr style=\"text-align: right;\">\n",
              "      <th></th>\n",
              "      <th>Model</th>\n",
              "      <th>Accuracy(Test)</th>\n",
              "      <th>Accuracy(Train)</th>\n",
              "    </tr>\n",
              "  </thead>\n",
              "  <tbody>\n",
              "    <tr>\n",
              "      <th>0</th>\n",
              "      <td>Logistic Regression with Chi Square</td>\n",
              "      <td>41.911765</td>\n",
              "      <td>46.687697</td>\n",
              "    </tr>\n",
              "    <tr>\n",
              "      <th>1</th>\n",
              "      <td>Multinomial Naive Bayes</td>\n",
              "      <td>53.676471</td>\n",
              "      <td>56.782334</td>\n",
              "    </tr>\n",
              "    <tr>\n",
              "      <th>2</th>\n",
              "      <td>Support Vector Machines</td>\n",
              "      <td>68.750000</td>\n",
              "      <td>81.072555</td>\n",
              "    </tr>\n",
              "    <tr>\n",
              "      <th>3</th>\n",
              "      <td>Decision Tree</td>\n",
              "      <td>47.426471</td>\n",
              "      <td>53.470032</td>\n",
              "    </tr>\n",
              "    <tr>\n",
              "      <th>4</th>\n",
              "      <td>Bagging Classifier</td>\n",
              "      <td>44.852941</td>\n",
              "      <td>49.842271</td>\n",
              "    </tr>\n",
              "    <tr>\n",
              "      <th>5</th>\n",
              "      <td>Adaboost Classifier</td>\n",
              "      <td>44.117647</td>\n",
              "      <td>50.315457</td>\n",
              "    </tr>\n",
              "    <tr>\n",
              "      <th>6</th>\n",
              "      <td>Gradient Boost Classifier</td>\n",
              "      <td>68.382353</td>\n",
              "      <td>85.962145</td>\n",
              "    </tr>\n",
              "    <tr>\n",
              "      <th>7</th>\n",
              "      <td>Decision Tree Hyper Tuned</td>\n",
              "      <td>58.088235</td>\n",
              "      <td>92.902208</td>\n",
              "    </tr>\n",
              "    <tr>\n",
              "      <th>8</th>\n",
              "      <td>Support Vector Machines- Hypertuned</td>\n",
              "      <td>75.735294</td>\n",
              "      <td>96.056782</td>\n",
              "    </tr>\n",
              "    <tr>\n",
              "      <th>9</th>\n",
              "      <td>Sequential Model</td>\n",
              "      <td>61.029410</td>\n",
              "      <td>74.290222</td>\n",
              "    </tr>\n",
              "    <tr>\n",
              "      <th>10</th>\n",
              "      <td>Bidirectional LSTM Model</td>\n",
              "      <td>50.735295</td>\n",
              "      <td>42.902207</td>\n",
              "    </tr>\n",
              "    <tr>\n",
              "      <th>11</th>\n",
              "      <td>1D Convolution Model</td>\n",
              "      <td>70.220590</td>\n",
              "      <td>77.444798</td>\n",
              "    </tr>\n",
              "  </tbody>\n",
              "</table>\n",
              "</div>"
            ],
            "text/plain": [
              "                                  Model  Accuracy(Test)  Accuracy(Train)\n",
              "0   Logistic Regression with Chi Square       41.911765        46.687697\n",
              "1               Multinomial Naive Bayes       53.676471        56.782334\n",
              "2               Support Vector Machines       68.750000        81.072555\n",
              "3                        Decision Tree        47.426471        53.470032\n",
              "4                    Bagging Classifier       44.852941        49.842271\n",
              "5                   Adaboost Classifier       44.117647        50.315457\n",
              "6             Gradient Boost Classifier       68.382353        85.962145\n",
              "7            Decision Tree Hyper Tuned        58.088235        92.902208\n",
              "8   Support Vector Machines- Hypertuned       75.735294        96.056782\n",
              "9                      Sequential Model       61.029410        74.290222\n",
              "10             Bidirectional LSTM Model       50.735295        42.902207\n",
              "11                 1D Convolution Model       70.220590        77.444798"
            ]
          },
          "metadata": {
            "tags": []
          },
          "execution_count": 69
        }
      ]
    },
    {
      "cell_type": "code",
      "metadata": {
        "colab_type": "code",
        "id": "VPdlklJUkDDt",
        "colab": {
          "base_uri": "https://localhost:8080/",
          "height": 609
        },
        "outputId": "67569051-472d-4353-fd00-e8b5d7b95886"
      },
      "source": [
        "x_axis=['LR','NM','SVM','DT','BC','ABC','GBC','DTH','SVMH','SM','BLSTM','1DCONV']\n",
        "plt.figure(figsize=(10,10))\n",
        "plt.bar(x_axis,cluster1_accuracies['Accuracy(Test)'])\n",
        "plt.bar(x_axis,cluster1_accuracies['Accuracy(Train)'],alpha=0.3)"
      ],
      "execution_count": 70,
      "outputs": [
        {
          "output_type": "execute_result",
          "data": {
            "text/plain": [
              "<BarContainer object of 12 artists>"
            ]
          },
          "metadata": {
            "tags": []
          },
          "execution_count": 70
        },
        {
          "output_type": "display_data",
          "data": {
            "image/png": "[encoded data removed]",
            "text/plain": [
              "<Figure size 720x720 with 1 Axes>"
            ]
          },
          "metadata": {
            "tags": [],
            "needs_background": "light"
          }
        }
      ]
    },
    {
      "cell_type": "markdown",
      "metadata": {
        "colab_type": "text",
        "id": "zNNt3IIakDDx"
      },
      "source": [
        "> LR-Logistic Regression\n",
        "\n",
        "> NM- Multinomial Naive Bayes\n",
        "\n",
        ">SVM-Support Vector Machine\n",
        "\n",
        ">DT- Decision Tree\n",
        "\n",
        ">BC-Bagging Classifier\n",
        "\n",
        ">ABC-AdaBoost Classifier\n",
        "\n",
        ">GBC-Gradient Boost Classifier\n",
        "\n",
        ">DTH- Decision Tree - Hyper Tunes\n",
        "\n",
        ">SVMH- Support Vector Machine Hyper Tuned\n",
        "\n",
        ">SM-Sequential Model\n",
        "\n",
        ">BLSTM-Bidirectional LSTM\n",
        "\n",
        ">1DCONV-1D Convolution\n",
        "\n",
        "\n",
        "#### **Model Selection**\n",
        "> The grey bar shows the accuracy on Train data and Yello shows the accuracy on Test data. \n",
        "\n",
        "> Higher the difference, the model is overfit\n",
        "\n",
        "> Out of all, Hyper tuned Support Vector Machines seems to be the best of all\n"
      ]
    },
    {
      "cell_type": "markdown",
      "metadata": {
        "colab_type": "text",
        "id": "rrGO6F4_F6es"
      },
      "source": [
        "# **Applying different models on Cluster 2**"
      ]
    },
    {
      "cell_type": "markdown",
      "metadata": {
        "colab_type": "text",
        "id": "6ihl7MAeF6e1"
      },
      "source": [
        "#### **Chi Square Analysis on Logistic Regression**"
      ]
    },
    {
      "cell_type": "code",
      "metadata": {
        "colab_type": "code",
        "id": "2lCl4GsZF6e9",
        "colab": {}
      },
      "source": [
        "X = data['Description'][data['Cluster TFIDFV']==2]\n",
        "Y = data['Assignment group'][data['Cluster TFIDFV']==2]\n",
        "X_train, X_test, Y_train, Y_test = train_test_split(X, Y, test_size=0.3, random_state=2)"
      ],
      "execution_count": 71,
      "outputs": []
    },
    {
      "cell_type": "code",
      "metadata": {
        "colab_type": "code",
        "id": "Gxd_Od_0F6fS",
        "colab": {}
      },
      "source": [
        "Cluster1df=pd.DataFrame()\n",
        "accuracytest=[]\n",
        "accuracytrain=[]\n",
        "model=[]"
      ],
      "execution_count": 72,
      "outputs": []
    },
    {
      "cell_type": "code",
      "metadata": {
        "colab_type": "code",
        "id": "Vrds00DIF6ff",
        "colab": {
          "base_uri": "https://localhost:8080/",
          "height": 52
        },
        "outputId": "6d27687e-af8a-4030-d81f-c63586a2f1cb"
      },
      "source": [
        "features = TfidfVectorizer(max_features=10000,ngram_range=(1, 3))\n",
        "X_train_tfidf = features.fit_transform(X_train)\n",
        "X_test_tfidf = features.transform(X_test)\n",
        "chi2score = chi2(X_train_tfidf, Y_train)[1]\n",
        "ch2_result = [0]\n",
        "ch2_result1=[0]\n",
        "model.append('Logistic Regression with Chi Square')\n",
        "for n in np.arange(15000,100000,10000):\n",
        "    ch2 = SelectKBest(chi2, k=1)\n",
        "    X_train_chi2_selected = ch2.fit_transform(X_train_tfidf, Y_train)\n",
        "    X_test_chi2_selected = ch2.transform(X_test_tfidf)\n",
        "    clf = LogisticRegression()\n",
        "    clf.fit(X_train_chi2_selected, Y_train)\n",
        "    score = clf.score(X_test_chi2_selected, Y_test)\n",
        "    score1=clf.score(X_train_chi2_selected, Y_train)\n",
        "\n",
        "    if int(score*100)>np.array(ch2_result).max()*100:\n",
        "      print('Accuracy Score Test: '+str(score*100))\n",
        "      max=score\n",
        "    else:\n",
        "      pass\n",
        "    ch2_result.append(score)\n",
        "\n",
        "    if int(score1*100)>np.array(ch2_result1).max()*100:\n",
        "      print('Accuracy Score Train: '+str(score1*100))\n",
        "      max1=score1\n",
        "    else:\n",
        "      pass\n",
        "    ch2_result.append(score)\n",
        "    ch2_result1.append(score1)\n",
        "accuracytest.append(max*100)\n",
        "accuracytrain.append(max1*100)"
      ],
      "execution_count": 73,
      "outputs": [
        {
          "output_type": "stream",
          "text": [
            "Accuracy Score Test: 64.08083441981746\n",
            "Accuracy Score Train: 62.92260407935177\n"
          ],
          "name": "stdout"
        }
      ]
    },
    {
      "cell_type": "markdown",
      "metadata": {
        "colab_type": "text",
        "id": "ttOLs1oCF6fv"
      },
      "source": [
        "#### **Creating the TFIDF Vectors for further processing**"
      ]
    },
    {
      "cell_type": "code",
      "metadata": {
        "colab_type": "code",
        "id": "Of6gzNNAF6fx",
        "colab": {}
      },
      "source": [
        "vectorizer = TfidfVectorizer()\n",
        "train_vectors_0 = vectorizer.fit_transform(X_train)\n",
        "test_vectors_0 = vectorizer.transform(X_test)"
      ],
      "execution_count": 74,
      "outputs": []
    },
    {
      "cell_type": "markdown",
      "metadata": {
        "colab_type": "text",
        "id": "s2CUDeYjF6f6"
      },
      "source": [
        "#### **Multinomial Naive Bayes**\n"
      ]
    },
    {
      "cell_type": "code",
      "metadata": {
        "colab_type": "code",
        "id": "1dakIx9AF6f8",
        "colab": {
          "base_uri": "https://localhost:8080/",
          "height": 975
        },
        "outputId": "4e756607-0900-43c9-ce4a-4c087f791136"
      },
      "source": [
        "nbc2 = Pipeline([('count', CountVectorizer()),\n",
        "               ('tfidf', TfidfTransformer()),\n",
        "               ('clf', MultinomialNB()),\n",
        "              ])\n",
        "nbc2.fit(X,Y)\n",
        "\n",
        "#Test Set\n",
        "Y_pred = nbc2.predict(X_test)\n",
        "\n",
        "print('Accuracy Score Test :'+str(float(accuracy_score(Y_pred, Y_test)*100)))\n",
        "model.append('Multinomial Naive Bayes')\n",
        "accuracytest.append(accuracy_score(Y_pred, Y_test)*100)\n",
        "print('\\n')\n",
        "print(classification_report(Y_test, Y_pred))\n",
        "\n",
        "# Train set\n",
        "\n",
        "Y_pred = nbc2.predict(X_train)\n",
        "\n",
        "print('\\n\\nAccuracy Score Train :'+str(float(accuracy_score(Y_pred, Y_train)*100)))\n",
        "accuracytrain.append(accuracy_score(Y_pred, Y_train)*100)\n",
        "print('\\n')\n",
        "print(classification_report(Y_train, Y_pred))"
      ],
      "execution_count": 75,
      "outputs": [
        {
          "output_type": "stream",
          "text": [
            "Accuracy Score Test :70.07822685788787\n",
            "\n",
            "\n",
            "              precision    recall  f1-score   support\n",
            "\n",
            "           0       0.68      1.00      0.81       946\n",
            "           1       0.00      0.00      0.00        20\n",
            "           2       0.93      0.18      0.31        71\n",
            "           3       0.00      0.00      0.00        45\n",
            "           4       1.00      0.03      0.06        31\n",
            "           5       0.00      0.00      0.00        71\n",
            "           6       0.83      0.08      0.15        61\n",
            "           7       0.98      0.75      0.85        79\n",
            "           8       0.00      0.00      0.00        34\n",
            "           9       0.00      0.00      0.00        60\n",
            "          10       0.00      0.00      0.00         1\n",
            "          11       0.00      0.00      0.00        15\n",
            "          12       0.98      0.67      0.80        76\n",
            "          13       0.00      0.00      0.00        24\n",
            "\n",
            "    accuracy                           0.70      1534\n",
            "   macro avg       0.39      0.19      0.21      1534\n",
            "weighted avg       0.61      0.70      0.60      1534\n",
            "\n",
            "\n",
            "\n",
            "Accuracy Score Train :69.46074322436435\n",
            "\n",
            "\n",
            "              precision    recall  f1-score   support\n",
            "\n",
            "           0       0.67      1.00      0.80      2154\n",
            "           1       0.00      0.00      0.00        57\n",
            "           2       0.91      0.24      0.37       174\n",
            "           3       0.00      0.00      0.00        96\n",
            "           4       1.00      0.02      0.05        84\n",
            "           5       0.00      0.00      0.00       144\n",
            "           6       0.71      0.08      0.14       155\n",
            "           7       1.00      0.69      0.82       210\n",
            "           8       0.00      0.00      0.00        82\n",
            "           9       0.00      0.00      0.00       140\n",
            "          10       0.00      0.00      0.00        20\n",
            "          11       0.00      0.00      0.00        46\n",
            "          12       0.96      0.75      0.85       175\n",
            "          13       0.00      0.00      0.00        42\n",
            "\n",
            "    accuracy                           0.69      3579\n",
            "   macro avg       0.37      0.20      0.22      3579\n",
            "weighted avg       0.61      0.69      0.60      3579\n",
            "\n"
          ],
          "name": "stdout"
        },
        {
          "output_type": "stream",
          "text": [
            "/usr/local/lib/python3.6/dist-packages/sklearn/metrics/_classification.py:1272: UndefinedMetricWarning: Precision and F-score are ill-defined and being set to 0.0 in labels with no predicted samples. Use `zero_division` parameter to control this behavior.\n",
            "  _warn_prf(average, modifier, msg_start, len(result))\n",
            "/usr/local/lib/python3.6/dist-packages/sklearn/metrics/_classification.py:1272: UndefinedMetricWarning: Precision and F-score are ill-defined and being set to 0.0 in labels with no predicted samples. Use `zero_division` parameter to control this behavior.\n",
            "  _warn_prf(average, modifier, msg_start, len(result))\n"
          ],
          "name": "stderr"
        }
      ]
    },
    {
      "cell_type": "markdown",
      "metadata": {
        "colab_type": "text",
        "id": "97WdE0J-F6gH"
      },
      "source": [
        "#### **Support vector Machines**\n",
        "\n",
        "\n"
      ]
    },
    {
      "cell_type": "code",
      "metadata": {
        "colab_type": "code",
        "id": "Q43TTEWKF6gJ",
        "colab": {
          "base_uri": "https://localhost:8080/",
          "height": 52
        },
        "outputId": "0f6e9991-e856-4b35-cdeb-09ede59821b4"
      },
      "source": [
        "SVMc2 = svm.SVC(C=1.0, kernel='linear', degree=3, gamma='auto',random_state=1)\n",
        "SVMc2.fit(train_vectors_0,Y_train)\n",
        "\n",
        "#Test set\n",
        "predictions_SVM = SVMc2.predict(test_vectors_0)\n",
        "# Use accuracy_score function to get the accuracy\n",
        "print(\"Accuracy Score Test: \",accuracy_score(predictions_SVM, Y_test)*100)\n",
        "\n",
        "model.append('Support Vector Machines')\n",
        "accuracytest.append(accuracy_score(predictions_SVM, Y_test)*100)\n",
        "\n",
        "#Train set\n",
        "\n",
        "predictions_SVM = SVMc2.predict(train_vectors_0)\n",
        "# Use accuracy_score function to get the accuracy\n",
        "print(\"Accuracy Score Train : \",accuracy_score(predictions_SVM, Y_train)*100)\n",
        "\n",
        "accuracytrain.append(accuracy_score(predictions_SVM, Y_train)*100)\n",
        "\n"
      ],
      "execution_count": 76,
      "outputs": [
        {
          "output_type": "stream",
          "text": [
            "Accuracy Score Test:  77.05345501955672\n",
            "Accuracy Score Train :  89.35456831517183\n"
          ],
          "name": "stdout"
        }
      ]
    },
    {
      "cell_type": "markdown",
      "metadata": {
        "colab_type": "text",
        "id": "RanQ4-J_F6gV"
      },
      "source": [
        "#### **Decision tree**\n"
      ]
    },
    {
      "cell_type": "code",
      "metadata": {
        "colab_type": "code",
        "id": "wj2lUjraF6gY",
        "colab": {
          "base_uri": "https://localhost:8080/",
          "height": 52
        },
        "outputId": "303771e7-e470-4db4-cd6b-9dd1c76a2941"
      },
      "source": [
        "dTreec2 = DecisionTreeClassifier(criterion = 'gini', max_depth=5, random_state=1)\n",
        "dTreec2.fit(train_vectors_0, Y_train)\n",
        "\n",
        "\n",
        "print('Accuracy Score Test : ',dTreec2.score(test_vectors_0, Y_test)*100)\n",
        "model.append('Decision Tree ')\n",
        "accuracytest.append(dTreec2.score(test_vectors_0, Y_test)*100)\n",
        "\n",
        "\n",
        "print('Accuracy Score Train : ',dTreec2.score(train_vectors_0, Y_train)*100)\n",
        "accuracytrain.append(dTreec2.score(train_vectors_0, Y_train)*100)"
      ],
      "execution_count": 77,
      "outputs": [
        {
          "output_type": "stream",
          "text": [
            "Accuracy Score Test :  67.01434159061279\n",
            "Accuracy Score Train :  67.44900810282202\n"
          ],
          "name": "stdout"
        }
      ]
    },
    {
      "cell_type": "markdown",
      "metadata": {
        "colab_type": "text",
        "id": "l-AaRc_aF6gg"
      },
      "source": [
        "#### **Bagging Classifier**"
      ]
    },
    {
      "cell_type": "code",
      "metadata": {
        "colab_type": "code",
        "id": "_OVUzUhTF6gj",
        "colab": {
          "base_uri": "https://localhost:8080/",
          "height": 52
        },
        "outputId": "00eb3888-4969-4fcd-d7b5-3362e9a5bc3d"
      },
      "source": [
        "bgc2 = BaggingClassifier(base_estimator=dTree, n_estimators=50,random_state=1)\n",
        "bgc2 = bgc2.fit(train_vectors_0, Y_train)\n",
        "\n",
        "y_predict = bgc2.predict(test_vectors_0)\n",
        "\n",
        "print('Accuracy Score Test : ',bgc2.score(test_vectors_0, Y_test)*100)\n",
        "model.append('Bagging Classifier')\n",
        "accuracytest.append(bgc2.score(test_vectors_0, Y_test)*100)\n",
        "\n",
        "print('Accuracy Score Train : ',bgc2.score(train_vectors_0, Y_train)*100)\n",
        "accuracytrain.append(bgc2.score(train_vectors_0, Y_train)*100)\n"
      ],
      "execution_count": 78,
      "outputs": [
        {
          "output_type": "stream",
          "text": [
            "Accuracy Score Test :  65.97131681877445\n",
            "Accuracy Score Train :  64.85051690416317\n"
          ],
          "name": "stdout"
        }
      ]
    },
    {
      "cell_type": "markdown",
      "metadata": {
        "colab_type": "text",
        "id": "ui3JYs45F6gv"
      },
      "source": [
        "#### **Adaboost Classifier**"
      ]
    },
    {
      "cell_type": "code",
      "metadata": {
        "colab_type": "code",
        "id": "EaGg_WYwF6gx",
        "colab": {
          "base_uri": "https://localhost:8080/",
          "height": 52
        },
        "outputId": "e8e289b9-3abe-438f-a144-5b1173374f91"
      },
      "source": [
        "abc2 = AdaBoostClassifier(n_estimators=10, random_state=1)\n",
        "abc2 = abc2.fit(train_vectors_0, Y_train)\n",
        "\n",
        "y_predict = abc2.predict(test_vectors_0)\n",
        "print('Accuracy Score Test : ' ,abc2.score(test_vectors_0, Y_test)*100)\n",
        "model.append('Adaboost Classifier')\n",
        "accuracytest.append(abc2.score(test_vectors_0, Y_test)*100)\n",
        "\n",
        "\n",
        "y_predict = abc2.predict(train_vectors_0)\n",
        "print('Accuracy Score Train : ' ,abc2.score(train_vectors_0, Y_train)*100)\n",
        "accuracytrain.append(abc2.score(train_vectors_0, Y_train)*100)"
      ],
      "execution_count": 79,
      "outputs": [
        {
          "output_type": "stream",
          "text": [
            "Accuracy Score Test :  67.27509778357236\n",
            "Accuracy Score Train :  66.275495948589\n"
          ],
          "name": "stdout"
        }
      ]
    },
    {
      "cell_type": "markdown",
      "metadata": {
        "colab_type": "text",
        "id": "oXuoMWHhF6g_"
      },
      "source": [
        "#### **Gradient Boost Classifier**\n",
        "\n"
      ]
    },
    {
      "cell_type": "code",
      "metadata": {
        "colab_type": "code",
        "id": "GqLSKlm6F6hB",
        "colab": {
          "base_uri": "https://localhost:8080/",
          "height": 52
        },
        "outputId": "258dc04a-6c2f-48d1-f483-d97b1bc97b78"
      },
      "source": [
        "gbc2 = GradientBoostingClassifier(n_estimators = 50,random_state=1)\n",
        "gbc2 = gbc2.fit(train_vectors_0, Y_train)\n",
        "\n",
        "y_predict = gbc2.predict(test_vectors_0)\n",
        "\n",
        "print('Accuracy Score Test : ' ,gbc2.score(test_vectors_0, Y_test)*100)\n",
        "model.append('Gradient Boost Classifier')\n",
        "accuracytest.append(gbc2.score(test_vectors_0, Y_test)*100)\n",
        "\n",
        "\n",
        "print('Accuracy Score Train : ' ,gbc2.score(train_vectors_0, Y_train)*100)\n",
        "accuracytrain.append(gbc2.score(train_vectors_0, Y_train)*100)"
      ],
      "execution_count": 80,
      "outputs": [
        {
          "output_type": "stream",
          "text": [
            "Accuracy Score Test :  73.85919165580182\n",
            "Accuracy Score Train :  91.36630343671416\n"
          ],
          "name": "stdout"
        }
      ]
    },
    {
      "cell_type": "markdown",
      "metadata": {
        "colab_type": "text",
        "id": "qdbbQF0uF6hL"
      },
      "source": [
        "#### **Randomized Search CV to enhance Decision tree**\n",
        "\n"
      ]
    },
    {
      "cell_type": "code",
      "metadata": {
        "colab_type": "code",
        "id": "7qwhycoZF6hM",
        "colab": {
          "base_uri": "https://localhost:8080/",
          "height": 1000
        },
        "outputId": "5c0f8e60-2cff-4b62-9058-b7f953bafa2a"
      },
      "source": [
        "parameter={'criterion':['gini','entropy'],\n",
        "            'max_depth':np.arange(0,100,1)\n",
        "            }\n",
        "\n",
        "random_searchdt = RandomizedSearchCV(estimator = dTreec2, param_distributions= parameter,cv = 3, verbose=2, random_state=1,return_train_score=True)\n",
        "random_searchdt.fit(train_vectors_0,Y_train)"
      ],
      "execution_count": 81,
      "outputs": [
        {
          "output_type": "stream",
          "text": [
            "Fitting 3 folds for each of 10 candidates, totalling 30 fits\n",
            "[CV] max_depth=58, criterion=gini ....................................\n"
          ],
          "name": "stdout"
        },
        {
          "output_type": "stream",
          "text": [
            "[Parallel(n_jobs=1)]: Using backend SequentialBackend with 1 concurrent workers.\n"
          ],
          "name": "stderr"
        },
        {
          "output_type": "stream",
          "text": [
            "[CV] ..................... max_depth=58, criterion=gini, total=   0.4s\n",
            "[CV] max_depth=58, criterion=gini ....................................\n"
          ],
          "name": "stdout"
        },
        {
          "output_type": "stream",
          "text": [
            "[Parallel(n_jobs=1)]: Done   1 out of   1 | elapsed:    0.4s remaining:    0.0s\n"
          ],
          "name": "stderr"
        },
        {
          "output_type": "stream",
          "text": [
            "[CV] ..................... max_depth=58, criterion=gini, total=   0.5s\n",
            "[CV] max_depth=58, criterion=gini ....................................\n",
            "[CV] ..................... max_depth=58, criterion=gini, total=   0.4s\n",
            "[CV] max_depth=40, criterion=gini ....................................\n",
            "[CV] ..................... max_depth=40, criterion=gini, total=   0.4s\n",
            "[CV] max_depth=40, criterion=gini ....................................\n",
            "[CV] ..................... max_depth=40, criterion=gini, total=   0.4s\n",
            "[CV] max_depth=40, criterion=gini ....................................\n",
            "[CV] ..................... max_depth=40, criterion=gini, total=   0.4s\n",
            "[CV] max_depth=34, criterion=gini ....................................\n",
            "[CV] ..................... max_depth=34, criterion=gini, total=   0.4s\n",
            "[CV] max_depth=34, criterion=gini ....................................\n",
            "[CV] ..................... max_depth=34, criterion=gini, total=   0.4s\n",
            "[CV] max_depth=34, criterion=gini ....................................\n",
            "[CV] ..................... max_depth=34, criterion=gini, total=   0.3s\n",
            "[CV] max_depth=2, criterion=entropy ..................................\n",
            "[CV] ................... max_depth=2, criterion=entropy, total=   0.1s\n",
            "[CV] max_depth=2, criterion=entropy ..................................\n",
            "[CV] ................... max_depth=2, criterion=entropy, total=   0.1s\n",
            "[CV] max_depth=2, criterion=entropy ..................................\n",
            "[CV] ................... max_depth=2, criterion=entropy, total=   0.1s\n",
            "[CV] max_depth=84, criterion=entropy .................................\n",
            "[CV] .................. max_depth=84, criterion=entropy, total=   0.7s\n",
            "[CV] max_depth=84, criterion=entropy .................................\n",
            "[CV] .................. max_depth=84, criterion=entropy, total=   0.7s\n",
            "[CV] max_depth=84, criterion=entropy .................................\n",
            "[CV] .................. max_depth=84, criterion=entropy, total=   0.7s\n",
            "[CV] max_depth=98, criterion=entropy .................................\n",
            "[CV] .................. max_depth=98, criterion=entropy, total=   0.7s\n",
            "[CV] max_depth=98, criterion=entropy .................................\n",
            "[CV] .................. max_depth=98, criterion=entropy, total=   0.7s\n",
            "[CV] max_depth=98, criterion=entropy .................................\n",
            "[CV] .................. max_depth=98, criterion=entropy, total=   0.7s\n",
            "[CV] max_depth=95, criterion=gini ....................................\n",
            "[CV] ..................... max_depth=95, criterion=gini, total=   0.5s\n",
            "[CV] max_depth=95, criterion=gini ....................................\n",
            "[CV] ..................... max_depth=95, criterion=gini, total=   0.6s\n",
            "[CV] max_depth=95, criterion=gini ....................................\n",
            "[CV] ..................... max_depth=95, criterion=gini, total=   0.5s\n",
            "[CV] max_depth=4, criterion=gini .....................................\n",
            "[CV] ...................... max_depth=4, criterion=gini, total=   0.1s\n",
            "[CV] max_depth=4, criterion=gini .....................................\n",
            "[CV] ...................... max_depth=4, criterion=gini, total=   0.1s\n",
            "[CV] max_depth=4, criterion=gini .....................................\n",
            "[CV] ...................... max_depth=4, criterion=gini, total=   0.1s\n",
            "[CV] max_depth=29, criterion=gini ....................................\n",
            "[CV] ..................... max_depth=29, criterion=gini, total=   0.3s\n",
            "[CV] max_depth=29, criterion=gini ....................................\n",
            "[CV] ..................... max_depth=29, criterion=gini, total=   0.3s\n",
            "[CV] max_depth=29, criterion=gini ....................................\n",
            "[CV] ..................... max_depth=29, criterion=gini, total=   0.3s\n",
            "[CV] max_depth=68, criterion=entropy .................................\n",
            "[CV] .................. max_depth=68, criterion=entropy, total=   0.7s\n",
            "[CV] max_depth=68, criterion=entropy .................................\n",
            "[CV] .................. max_depth=68, criterion=entropy, total=   0.7s\n",
            "[CV] max_depth=68, criterion=entropy .................................\n",
            "[CV] .................. max_depth=68, criterion=entropy, total=   0.7s\n"
          ],
          "name": "stdout"
        },
        {
          "output_type": "stream",
          "text": [
            "[Parallel(n_jobs=1)]: Done  30 out of  30 | elapsed:   12.9s finished\n"
          ],
          "name": "stderr"
        },
        {
          "output_type": "execute_result",
          "data": {
            "text/plain": [
              "RandomizedSearchCV(cv=3, error_score=nan,\n",
              "                   estimator=DecisionTreeClassifier(ccp_alpha=0.0,\n",
              "                                                    class_weight=None,\n",
              "                                                    criterion='gini',\n",
              "                                                    max_depth=5,\n",
              "                                                    max_features=None,\n",
              "                                                    max_leaf_nodes=None,\n",
              "                                                    min_impurity_decrease=0.0,\n",
              "                                                    min_impurity_split=None,\n",
              "                                                    min_samples_leaf=1,\n",
              "                                                    min_samples_split=2,\n",
              "                                                    min_weight_fraction_leaf=0.0,\n",
              "                                                    presort='deprecated',\n",
              "                                                    random_state=1,\n",
              "                                                    splitter='best'),\n",
              "                   iid='de...\n",
              "                                        'max_depth': array([ 0,  1,  2,  3,  4,  5,  6,  7,  8,  9, 10, 11, 12, 13, 14, 15, 16,\n",
              "       17, 18, 19, 20, 21, 22, 23, 24, 25, 26, 27, 28, 29, 30, 31, 32, 33,\n",
              "       34, 35, 36, 37, 38, 39, 40, 41, 42, 43, 44, 45, 46, 47, 48, 49, 50,\n",
              "       51, 52, 53, 54, 55, 56, 57, 58, 59, 60, 61, 62, 63, 64, 65, 66, 67,\n",
              "       68, 69, 70, 71, 72, 73, 74, 75, 76, 77, 78, 79, 80, 81, 82, 83, 84,\n",
              "       85, 86, 87, 88, 89, 90, 91, 92, 93, 94, 95, 96, 97, 98, 99])},\n",
              "                   pre_dispatch='2*n_jobs', random_state=1, refit=True,\n",
              "                   return_train_score=True, scoring=None, verbose=2)"
            ]
          },
          "metadata": {
            "tags": []
          },
          "execution_count": 81
        }
      ]
    },
    {
      "cell_type": "code",
      "metadata": {
        "colab_type": "code",
        "id": "0X61itp7F6hb",
        "colab": {
          "base_uri": "https://localhost:8080/",
          "height": 34
        },
        "outputId": "b6e20728-6789-4e9c-8a09-c8f43e94fd32"
      },
      "source": [
        "random_searchdt.best_params_\n",
        "\n"
      ],
      "execution_count": 82,
      "outputs": [
        {
          "output_type": "execute_result",
          "data": {
            "text/plain": [
              "{'criterion': 'gini', 'max_depth': 34}"
            ]
          },
          "metadata": {
            "tags": []
          },
          "execution_count": 82
        }
      ]
    },
    {
      "cell_type": "code",
      "metadata": {
        "colab_type": "code",
        "id": "SDCx4jqoF6hl",
        "colab": {
          "base_uri": "https://localhost:8080/",
          "height": 52
        },
        "outputId": "75b77acb-1e26-4f05-acee-ce3b704571a9"
      },
      "source": [
        "dTreec22 = DecisionTreeClassifier(criterion = 'gini', max_depth=40,random_state=1)\n",
        "dTreec22.fit(train_vectors_0, Y_train)\n",
        "\n",
        "\n",
        "print('Accuracy Score Test : ',dTreec22.score(test_vectors_0, Y_test)*100)\n",
        "model.append('Decision Tree Hyper Tuned ')\n",
        "accuracytest.append(dTreec22.score(test_vectors_0, Y_test)*100)\n",
        "\n",
        "\n",
        "print('Accuracy Score Train : ',dTreec22.score(train_vectors_0, Y_train)*100)\n",
        "accuracytrain.append(dTreec22.score(train_vectors_0, Y_train)*100)\n"
      ],
      "execution_count": 83,
      "outputs": [
        {
          "output_type": "stream",
          "text": [
            "Accuracy Score Test :  71.05606258148632\n",
            "Accuracy Score Train :  91.25454037440626\n"
          ],
          "name": "stdout"
        }
      ]
    },
    {
      "cell_type": "markdown",
      "metadata": {
        "colab_type": "text",
        "id": "3wl0_C5cF6hx"
      },
      "source": [
        "#### With the randomized search, it seems that we have a lower accuracy"
      ]
    },
    {
      "cell_type": "code",
      "metadata": {
        "colab_type": "code",
        "id": "MjfLDV9hF6hy",
        "colab": {
          "base_uri": "https://localhost:8080/",
          "height": 1000
        },
        "outputId": "c30a7018-a2ec-472e-fa16-78c92422bef9"
      },
      "source": [
        "parameter={'C':np.arange(0.6,3,0.1),\n",
        " 'kernel': ['linear','poly','rbf'],\n",
        " 'gamma' : ['scale','auto'],\n",
        " 'degree':np.arange(0,5,1)}\n",
        "\n",
        "random_searchSVM = RandomizedSearchCV(estimator = SVMc2, param_distributions= parameter,cv = 3, verbose=2, random_state=1,return_train_score=True)\n",
        "random_searchSVM.fit(train_vectors_0,Y_train)\n",
        "\n"
      ],
      "execution_count": 84,
      "outputs": [
        {
          "output_type": "stream",
          "text": [
            "Fitting 3 folds for each of 10 candidates, totalling 30 fits\n",
            "[CV] kernel=rbf, gamma=auto, degree=4, C=0.7 .........................\n"
          ],
          "name": "stdout"
        },
        {
          "output_type": "stream",
          "text": [
            "[Parallel(n_jobs=1)]: Using backend SequentialBackend with 1 concurrent workers.\n"
          ],
          "name": "stderr"
        },
        {
          "output_type": "stream",
          "text": [
            "[CV] .......... kernel=rbf, gamma=auto, degree=4, C=0.7, total=   1.6s\n",
            "[CV] kernel=rbf, gamma=auto, degree=4, C=0.7 .........................\n"
          ],
          "name": "stdout"
        },
        {
          "output_type": "stream",
          "text": [
            "[Parallel(n_jobs=1)]: Done   1 out of   1 | elapsed:    2.5s remaining:    0.0s\n"
          ],
          "name": "stderr"
        },
        {
          "output_type": "stream",
          "text": [
            "[CV] .......... kernel=rbf, gamma=auto, degree=4, C=0.7, total=   1.5s\n",
            "[CV] kernel=rbf, gamma=auto, degree=4, C=0.7 .........................\n",
            "[CV] .......... kernel=rbf, gamma=auto, degree=4, C=0.7, total=   1.6s\n",
            "[CV] kernel=linear, gamma=scale, degree=0, C=0.7999999999999999 ......\n",
            "[CV]  kernel=linear, gamma=scale, degree=0, C=0.7999999999999999, total=   2.8s\n",
            "[CV] kernel=linear, gamma=scale, degree=0, C=0.7999999999999999 ......\n",
            "[CV]  kernel=linear, gamma=scale, degree=0, C=0.7999999999999999, total=   2.7s\n",
            "[CV] kernel=linear, gamma=scale, degree=0, C=0.7999999999999999 ......\n",
            "[CV]  kernel=linear, gamma=scale, degree=0, C=0.7999999999999999, total=   2.6s\n",
            "[CV] kernel=poly, gamma=auto, degree=0, C=1.2999999999999998 .........\n",
            "[CV]  kernel=poly, gamma=auto, degree=0, C=1.2999999999999998, total=   1.4s\n",
            "[CV] kernel=poly, gamma=auto, degree=0, C=1.2999999999999998 .........\n",
            "[CV]  kernel=poly, gamma=auto, degree=0, C=1.2999999999999998, total=   1.3s\n",
            "[CV] kernel=poly, gamma=auto, degree=0, C=1.2999999999999998 .........\n",
            "[CV]  kernel=poly, gamma=auto, degree=0, C=1.2999999999999998, total=   1.3s\n",
            "[CV] kernel=poly, gamma=scale, degree=1, C=2.6999999999999997 ........\n",
            "[CV]  kernel=poly, gamma=scale, degree=1, C=2.6999999999999997, total=   2.8s\n",
            "[CV] kernel=poly, gamma=scale, degree=1, C=2.6999999999999997 ........\n",
            "[CV]  kernel=poly, gamma=scale, degree=1, C=2.6999999999999997, total=   2.8s\n",
            "[CV] kernel=poly, gamma=scale, degree=1, C=2.6999999999999997 ........\n",
            "[CV]  kernel=poly, gamma=scale, degree=1, C=2.6999999999999997, total=   2.8s\n",
            "[CV] kernel=rbf, gamma=scale, degree=1, C=0.6 ........................\n",
            "[CV] ......... kernel=rbf, gamma=scale, degree=1, C=0.6, total=   5.6s\n",
            "[CV] kernel=rbf, gamma=scale, degree=1, C=0.6 ........................\n",
            "[CV] ......... kernel=rbf, gamma=scale, degree=1, C=0.6, total=   5.1s\n",
            "[CV] kernel=rbf, gamma=scale, degree=1, C=0.6 ........................\n",
            "[CV] ......... kernel=rbf, gamma=scale, degree=1, C=0.6, total=   5.2s\n",
            "[CV] kernel=rbf, gamma=auto, degree=1, C=0.8999999999999999 ..........\n",
            "[CV]  kernel=rbf, gamma=auto, degree=1, C=0.8999999999999999, total=   1.7s\n",
            "[CV] kernel=rbf, gamma=auto, degree=1, C=0.8999999999999999 ..........\n",
            "[CV]  kernel=rbf, gamma=auto, degree=1, C=0.8999999999999999, total=   1.6s\n",
            "[CV] kernel=rbf, gamma=auto, degree=1, C=0.8999999999999999 ..........\n",
            "[CV]  kernel=rbf, gamma=auto, degree=1, C=0.8999999999999999, total=   1.6s\n",
            "[CV] kernel=linear, gamma=scale, degree=4, C=2.0999999999999996 ......\n",
            "[CV]  kernel=linear, gamma=scale, degree=4, C=2.0999999999999996, total=   2.8s\n",
            "[CV] kernel=linear, gamma=scale, degree=4, C=2.0999999999999996 ......\n",
            "[CV]  kernel=linear, gamma=scale, degree=4, C=2.0999999999999996, total=   2.8s\n",
            "[CV] kernel=linear, gamma=scale, degree=4, C=2.0999999999999996 ......\n",
            "[CV]  kernel=linear, gamma=scale, degree=4, C=2.0999999999999996, total=   3.3s\n",
            "[CV] kernel=rbf, gamma=auto, degree=1, C=1.0999999999999999 ..........\n",
            "[CV]  kernel=rbf, gamma=auto, degree=1, C=1.0999999999999999, total=   2.1s\n",
            "[CV] kernel=rbf, gamma=auto, degree=1, C=1.0999999999999999 ..........\n",
            "[CV]  kernel=rbf, gamma=auto, degree=1, C=1.0999999999999999, total=   1.9s\n",
            "[CV] kernel=rbf, gamma=auto, degree=1, C=1.0999999999999999 ..........\n",
            "[CV]  kernel=rbf, gamma=auto, degree=1, C=1.0999999999999999, total=   1.5s\n",
            "[CV] kernel=poly, gamma=auto, degree=2, C=1.9 ........................\n",
            "[CV] ......... kernel=poly, gamma=auto, degree=2, C=1.9, total=   1.5s\n",
            "[CV] kernel=poly, gamma=auto, degree=2, C=1.9 ........................\n",
            "[CV] ......... kernel=poly, gamma=auto, degree=2, C=1.9, total=   1.6s\n",
            "[CV] kernel=poly, gamma=auto, degree=2, C=1.9 ........................\n",
            "[CV] ......... kernel=poly, gamma=auto, degree=2, C=1.9, total=   1.4s\n",
            "[CV] kernel=rbf, gamma=auto, degree=4, C=2.1999999999999997 ..........\n",
            "[CV]  kernel=rbf, gamma=auto, degree=4, C=2.1999999999999997, total=   1.7s\n",
            "[CV] kernel=rbf, gamma=auto, degree=4, C=2.1999999999999997 ..........\n",
            "[CV]  kernel=rbf, gamma=auto, degree=4, C=2.1999999999999997, total=   1.5s\n",
            "[CV] kernel=rbf, gamma=auto, degree=4, C=2.1999999999999997 ..........\n",
            "[CV]  kernel=rbf, gamma=auto, degree=4, C=2.1999999999999997, total=   1.7s\n"
          ],
          "name": "stdout"
        },
        {
          "output_type": "stream",
          "text": [
            "[Parallel(n_jobs=1)]: Done  30 out of  30 | elapsed:  1.7min finished\n"
          ],
          "name": "stderr"
        },
        {
          "output_type": "execute_result",
          "data": {
            "text/plain": [
              "RandomizedSearchCV(cv=3, error_score=nan,\n",
              "                   estimator=SVC(C=1.0, break_ties=False, cache_size=200,\n",
              "                                 class_weight=None, coef0=0.0,\n",
              "                                 decision_function_shape='ovr', degree=3,\n",
              "                                 gamma='auto', kernel='linear', max_iter=-1,\n",
              "                                 probability=False, random_state=1,\n",
              "                                 shrinking=True, tol=0.001, verbose=False),\n",
              "                   iid='deprecated', n_iter=10, n_jobs=None,\n",
              "                   param_distributions={'C': array([0.6, 0.7, 0.8, 0.9, 1. , 1.1, 1.2, 1.3, 1.4, 1.5, 1.6, 1.7, 1.8,\n",
              "       1.9, 2. , 2.1, 2.2, 2.3, 2.4, 2.5, 2.6, 2.7, 2.8, 2.9]),\n",
              "                                        'degree': array([0, 1, 2, 3, 4]),\n",
              "                                        'gamma': ['scale', 'auto'],\n",
              "                                        'kernel': ['linear', 'poly', 'rbf']},\n",
              "                   pre_dispatch='2*n_jobs', random_state=1, refit=True,\n",
              "                   return_train_score=True, scoring=None, verbose=2)"
            ]
          },
          "metadata": {
            "tags": []
          },
          "execution_count": 84
        }
      ]
    },
    {
      "cell_type": "code",
      "metadata": {
        "colab_type": "code",
        "id": "X3xBdNPmF6h6",
        "colab": {
          "base_uri": "https://localhost:8080/",
          "height": 34
        },
        "outputId": "f7608b9d-28ef-4ab8-cc49-36701caae624"
      },
      "source": [
        "random_searchSVM.best_params_"
      ],
      "execution_count": 85,
      "outputs": [
        {
          "output_type": "execute_result",
          "data": {
            "text/plain": [
              "{'C': 2.0999999999999996, 'degree': 4, 'gamma': 'scale', 'kernel': 'linear'}"
            ]
          },
          "metadata": {
            "tags": []
          },
          "execution_count": 85
        }
      ]
    },
    {
      "cell_type": "code",
      "metadata": {
        "colab_type": "code",
        "id": "M5FNmT_nF6iA",
        "colab": {
          "base_uri": "https://localhost:8080/",
          "height": 52
        },
        "outputId": "4d520810-d7fc-4dcc-a89e-42b05da37733"
      },
      "source": [
        "SVMc22 = svm.SVC(C=2.69, kernel='poly', degree=1, gamma='scale')\n",
        "SVMc22.fit(train_vectors_0,Y_train)\n",
        "\n",
        "#Test set\n",
        "predictions_SVM = SVMc22.predict(test_vectors_0)\n",
        "# Use accuracy_score function to get the accuracy\n",
        "print(\"Accuracy Score Test: \",accuracy_score(predictions_SVM, Y_test)*100)\n",
        "\n",
        "model.append('Support Vector Machines- Hypertuned')\n",
        "accuracytest.append(accuracy_score(predictions_SVM, Y_test)*100)\n",
        "\n",
        "#Train set\n",
        "\n",
        "predictions_SVM = SVMc22.predict(train_vectors_0)\n",
        "# Use accuracy_score function to get the accuracy\n",
        "print(\"Accuracy Score Train : \",accuracy_score(predictions_SVM, Y_train)*100)\n",
        "\n",
        "accuracytrain.append(accuracy_score(predictions_SVM, Y_train)*100)\n",
        "\n"
      ],
      "execution_count": 86,
      "outputs": [
        {
          "output_type": "stream",
          "text": [
            "Accuracy Score Test:  78.03129074315514\n",
            "Accuracy Score Train :  98.46325789326627\n"
          ],
          "name": "stdout"
        }
      ]
    },
    {
      "cell_type": "markdown",
      "metadata": {
        "colab_type": "text",
        "id": "mDHQf5gPF6iI"
      },
      "source": [
        "#### **Sequential Model**"
      ]
    },
    {
      "cell_type": "code",
      "metadata": {
        "colab_type": "code",
        "id": "AlawEb10F6iK",
        "colab": {
          "base_uri": "https://localhost:8080/",
          "height": 52
        },
        "outputId": "7b91215a-f7d2-496c-ddb5-150223688736"
      },
      "source": [
        "tok = Tokenizer(num_words = max_features)\n",
        "tok.fit_on_texts(data.Description)\n",
        "X = tok.texts_to_sequences(data['Description'][data['Cluster TFIDFV']==2])\n",
        "X = pad_sequences(X, maxlen = maxlen)\n",
        "Y = np.asarray(data['Assignment group'][data['Cluster TFIDFV']==2])\n",
        "\n",
        "X_train, X_test, Y_train, Y_test = train_test_split(X, Y, test_size=0.3, random_state=1)\n",
        "print(X_train.shape,Y_train.shape)\n",
        "print(X_test.shape,Y_test.shape)"
      ],
      "execution_count": 87,
      "outputs": [
        {
          "output_type": "stream",
          "text": [
            "(3579, 350) (3579,)\n",
            "(1534, 350) (1534,)\n"
          ],
          "name": "stdout"
        }
      ]
    },
    {
      "cell_type": "code",
      "metadata": {
        "colab_type": "code",
        "id": "Zl3yox4pF6iT",
        "colab": {
          "base_uri": "https://localhost:8080/",
          "height": 347
        },
        "outputId": "aea8d429-869c-41f1-b09f-1ef23d93b025"
      },
      "source": [
        "embed_dim = 256\n",
        "lstm_out = 64\n",
        "max_features = 2000\n",
        "maxlen = 350\n",
        "embedding_size = 200\n",
        "\n",
        "modelsc2 = Sequential()\n",
        "modelsc2.add(Embedding(max_features, embed_dim,input_length = X.shape[1]))\n",
        "modelsc2.add(SpatialDropout1D(0.4))\n",
        "modelsc2.add(MaxPooling1D(pool_size=4))\n",
        "modelsc2.add(LSTM(100))\n",
        "#model.add(LSTM(lstm_out, dropout=0.2, recurrent_dropout=0.4))\n",
        "modelsc2.add(Dense(350,activation='softmax'))\n",
        "modelsc2.compile(loss = 'sparse_categorical_crossentropy', optimizer='adam',metrics = ['accuracy'])\n",
        "print(modelsc2.summary())\n",
        "\n"
      ],
      "execution_count": 88,
      "outputs": [
        {
          "output_type": "stream",
          "text": [
            "Model: \"sequential_7\"\n",
            "_________________________________________________________________\n",
            "Layer (type)                 Output Shape              Param #   \n",
            "=================================================================\n",
            "embedding_7 (Embedding)      (None, 350, 256)          512000    \n",
            "_________________________________________________________________\n",
            "spatial_dropout1d_3 (Spatial (None, 350, 256)          0         \n",
            "_________________________________________________________________\n",
            "max_pooling1d_5 (MaxPooling1 (None, 87, 256)           0         \n",
            "_________________________________________________________________\n",
            "lstm_7 (LSTM)                (None, 100)               142800    \n",
            "_________________________________________________________________\n",
            "dense_7 (Dense)              (None, 350)               35350     \n",
            "=================================================================\n",
            "Total params: 690,150\n",
            "Trainable params: 690,150\n",
            "Non-trainable params: 0\n",
            "_________________________________________________________________\n",
            "None\n"
          ],
          "name": "stdout"
        }
      ]
    },
    {
      "cell_type": "code",
      "metadata": {
        "colab_type": "code",
        "id": "qYKk_N6dF6ie",
        "colab": {
          "base_uri": "https://localhost:8080/",
          "height": 1000
        },
        "outputId": "6f25d1f4-76f7-46dd-afe1-07f765338309"
      },
      "source": [
        "histc2=modelsc2.fit(X_train,Y_train, validation_data = (X_test, Y_test), epochs=30, batch_size=32, verbose=2) \n",
        "# Final evaluation of the model\n",
        "model.append('Sequential Model')\n",
        "scores = modelsc2.evaluate(X_test, Y_test, verbose=0)\n",
        "accuracytest.append(scores[1]*100)\n",
        "scores = modelsc2.evaluate(X_train, Y_train, verbose=0)\n",
        "accuracytrain.append(scores[1]*100)"
      ],
      "execution_count": 89,
      "outputs": [
        {
          "output_type": "stream",
          "text": [
            "/usr/local/lib/python3.6/dist-packages/tensorflow/python/framework/indexed_slices.py:434: UserWarning: Converting sparse IndexedSlices to a dense Tensor of unknown shape. This may consume a large amount of memory.\n",
            "  \"Converting sparse IndexedSlices to a dense Tensor of unknown shape. \"\n"
          ],
          "name": "stderr"
        },
        {
          "output_type": "stream",
          "text": [
            "Train on 3579 samples, validate on 1534 samples\n",
            "Epoch 1/30\n",
            " - 22s - loss: 2.2521 - accuracy: 0.5943 - val_loss: 1.6289 - val_accuracy: 0.6063\n",
            "Epoch 2/30\n",
            " - 21s - loss: 1.6128 - accuracy: 0.6063 - val_loss: 1.5478 - val_accuracy: 0.6063\n",
            "Epoch 3/30\n",
            " - 22s - loss: 1.4546 - accuracy: 0.6270 - val_loss: 1.3628 - val_accuracy: 0.6428\n",
            "Epoch 4/30\n",
            " - 22s - loss: 1.2527 - accuracy: 0.6611 - val_loss: 1.2389 - val_accuracy: 0.6799\n",
            "Epoch 5/30\n",
            " - 22s - loss: 1.1018 - accuracy: 0.6985 - val_loss: 1.1994 - val_accuracy: 0.6825\n",
            "Epoch 6/30\n",
            " - 21s - loss: 1.0011 - accuracy: 0.7189 - val_loss: 1.1693 - val_accuracy: 0.6949\n",
            "Epoch 7/30\n",
            " - 21s - loss: 0.9304 - accuracy: 0.7332 - val_loss: 1.1577 - val_accuracy: 0.6956\n",
            "Epoch 8/30\n",
            " - 21s - loss: 0.8571 - accuracy: 0.7457 - val_loss: 1.1698 - val_accuracy: 0.6949\n",
            "Epoch 9/30\n",
            " - 22s - loss: 0.7899 - accuracy: 0.7642 - val_loss: 1.1809 - val_accuracy: 0.6741\n",
            "Epoch 10/30\n",
            " - 22s - loss: 0.7270 - accuracy: 0.7835 - val_loss: 1.1859 - val_accuracy: 0.6793\n",
            "Epoch 11/30\n",
            " - 21s - loss: 0.6689 - accuracy: 0.7988 - val_loss: 1.1948 - val_accuracy: 0.6969\n",
            "Epoch 12/30\n",
            " - 22s - loss: 0.6136 - accuracy: 0.8237 - val_loss: 1.2197 - val_accuracy: 0.6662\n",
            "Epoch 13/30\n",
            " - 21s - loss: 0.5717 - accuracy: 0.8335 - val_loss: 1.2259 - val_accuracy: 0.6949\n",
            "Epoch 14/30\n",
            " - 21s - loss: 0.5112 - accuracy: 0.8659 - val_loss: 1.2347 - val_accuracy: 0.6969\n",
            "Epoch 15/30\n",
            " - 21s - loss: 0.4699 - accuracy: 0.8748 - val_loss: 1.2478 - val_accuracy: 0.6838\n",
            "Epoch 16/30\n",
            " - 21s - loss: 0.4280 - accuracy: 0.8891 - val_loss: 1.2516 - val_accuracy: 0.6917\n",
            "Epoch 17/30\n",
            " - 22s - loss: 0.3847 - accuracy: 0.9011 - val_loss: 1.3040 - val_accuracy: 0.6930\n",
            "Epoch 18/30\n",
            " - 21s - loss: 0.3686 - accuracy: 0.9058 - val_loss: 1.3193 - val_accuracy: 0.6773\n",
            "Epoch 19/30\n",
            " - 21s - loss: 0.3286 - accuracy: 0.9153 - val_loss: 1.3340 - val_accuracy: 0.6799\n",
            "Epoch 20/30\n",
            " - 21s - loss: 0.3029 - accuracy: 0.9282 - val_loss: 1.3815 - val_accuracy: 0.6825\n",
            "Epoch 21/30\n",
            " - 22s - loss: 0.2999 - accuracy: 0.9232 - val_loss: 1.4036 - val_accuracy: 0.6897\n",
            "Epoch 22/30\n",
            " - 21s - loss: 0.2564 - accuracy: 0.9369 - val_loss: 1.4010 - val_accuracy: 0.6923\n",
            "Epoch 23/30\n",
            " - 21s - loss: 0.2385 - accuracy: 0.9452 - val_loss: 1.4076 - val_accuracy: 0.6819\n",
            "Epoch 24/30\n",
            " - 21s - loss: 0.2178 - accuracy: 0.9489 - val_loss: 1.4467 - val_accuracy: 0.6904\n",
            "Epoch 25/30\n",
            " - 21s - loss: 0.2044 - accuracy: 0.9491 - val_loss: 1.4329 - val_accuracy: 0.6793\n",
            "Epoch 26/30\n",
            " - 21s - loss: 0.1909 - accuracy: 0.9525 - val_loss: 1.4766 - val_accuracy: 0.6838\n",
            "Epoch 27/30\n",
            " - 27s - loss: 0.1800 - accuracy: 0.9578 - val_loss: 1.4805 - val_accuracy: 0.6904\n",
            "Epoch 28/30\n",
            " - 21s - loss: 0.1774 - accuracy: 0.9556 - val_loss: 1.5067 - val_accuracy: 0.6825\n",
            "Epoch 29/30\n",
            " - 21s - loss: 0.1698 - accuracy: 0.9564 - val_loss: 1.5245 - val_accuracy: 0.6845\n",
            "Epoch 30/30\n",
            " - 21s - loss: 0.1564 - accuracy: 0.9617 - val_loss: 1.5536 - val_accuracy: 0.6838\n"
          ],
          "name": "stdout"
        }
      ]
    },
    {
      "cell_type": "code",
      "metadata": {
        "colab_type": "code",
        "id": "lP9KBL8zF6ip",
        "colab": {
          "base_uri": "https://localhost:8080/",
          "height": 279
        },
        "outputId": "3bad9174-85df-4143-9967-d8730b36e728"
      },
      "source": [
        "plt.plot(histc2.history['val_accuracy'],color='black')\n",
        "plt.plot(histc2.history['accuracy'])\n",
        "plt.xlabel('Accuracy')\n",
        "plt.ylabel('Iterations')\n",
        "plt.show()"
      ],
      "execution_count": 90,
      "outputs": [
        {
          "output_type": "display_data",
          "data": {
            "image/png": "[encoded data removed]",
            "text/plain": [
              "<Figure size 432x288 with 1 Axes>"
            ]
          },
          "metadata": {
            "tags": [],
            "needs_background": "light"
          }
        }
      ]
    },
    {
      "cell_type": "code",
      "metadata": {
        "colab_type": "code",
        "id": "JB3KHx7ZF6ix",
        "colab": {
          "base_uri": "https://localhost:8080/",
          "height": 279
        },
        "outputId": "e4c6f139-f772-4445-c7dd-a041e1e719ed"
      },
      "source": [
        "plt.plot(histc2.history['val_loss'],color='black')\n",
        "plt.plot(histc2.history['loss'])\n",
        "plt.xlabel('Loss')\n",
        "plt.ylabel('Iterations')\n",
        "plt.show()"
      ],
      "execution_count": 91,
      "outputs": [
        {
          "output_type": "display_data",
          "data": {
            "image/png": "[encoded data removed]",
            "text/plain": [
              "<Figure size 432x288 with 1 Axes>"
            ]
          },
          "metadata": {
            "tags": [],
            "needs_background": "light"
          }
        }
      ]
    },
    {
      "cell_type": "markdown",
      "metadata": {
        "colab_type": "text",
        "id": "_Oeb3QyAF6i3"
      },
      "source": [
        "#### **Bidirectional LSTM**"
      ]
    },
    {
      "cell_type": "code",
      "metadata": {
        "colab_type": "code",
        "id": "3FvxStsEF6i3",
        "colab": {
          "base_uri": "https://localhost:8080/",
          "height": 1000
        },
        "outputId": "dff6b3af-6ec8-4cc5-9cdc-6eb034017024"
      },
      "source": [
        "\n",
        "lsmodc2 = lstmm()\n",
        "\n",
        "lshistc2 = lsmodc2.fit(X_train,Y_train,\n",
        "         epochs = 30,\n",
        "         batch_size = 128,\n",
        "         validation_data = (X_test, Y_test))"
      ],
      "execution_count": 92,
      "outputs": [
        {
          "output_type": "stream",
          "text": [
            "/usr/local/lib/python3.6/dist-packages/tensorflow/python/framework/indexed_slices.py:434: UserWarning: Converting sparse IndexedSlices to a dense Tensor of unknown shape. This may consume a large amount of memory.\n",
            "  \"Converting sparse IndexedSlices to a dense Tensor of unknown shape. \"\n"
          ],
          "name": "stderr"
        },
        {
          "output_type": "stream",
          "text": [
            "Train on 3579 samples, validate on 1534 samples\n",
            "Epoch 1/30\n",
            "3579/3579 [==============================] - 46s 13ms/step - loss: 5.0623 - acc: 0.5443 - val_loss: 3.3336 - val_acc: 0.6063\n",
            "Epoch 2/30\n",
            "3579/3579 [==============================] - 42s 12ms/step - loss: 2.2197 - acc: 0.6063 - val_loss: 1.6871 - val_acc: 0.6063\n",
            "Epoch 3/30\n",
            "3579/3579 [==============================] - 41s 12ms/step - loss: 1.6550 - acc: 0.6063 - val_loss: 1.6209 - val_acc: 0.6063\n",
            "Epoch 4/30\n",
            "3579/3579 [==============================] - 41s 11ms/step - loss: 1.6166 - acc: 0.6105 - val_loss: 1.5871 - val_acc: 0.6063\n",
            "Epoch 5/30\n",
            "3579/3579 [==============================] - 40s 11ms/step - loss: 1.5843 - acc: 0.6167 - val_loss: 1.5525 - val_acc: 0.6356\n",
            "Epoch 6/30\n",
            "3579/3579 [==============================] - 40s 11ms/step - loss: 1.5392 - acc: 0.6320 - val_loss: 1.5000 - val_acc: 0.6369\n",
            "Epoch 7/30\n",
            "3579/3579 [==============================] - 40s 11ms/step - loss: 1.4770 - acc: 0.6407 - val_loss: 1.4478 - val_acc: 0.6408\n",
            "Epoch 8/30\n",
            "3579/3579 [==============================] - 40s 11ms/step - loss: 1.4111 - acc: 0.6446 - val_loss: 1.4024 - val_acc: 0.6473\n",
            "Epoch 9/30\n",
            "3579/3579 [==============================] - 40s 11ms/step - loss: 1.3431 - acc: 0.6477 - val_loss: 1.3564 - val_acc: 0.6486\n",
            "Epoch 10/30\n",
            "3579/3579 [==============================] - 40s 11ms/step - loss: 1.2801 - acc: 0.6485 - val_loss: 1.3307 - val_acc: 0.6486\n",
            "Epoch 11/30\n",
            "3579/3579 [==============================] - 40s 11ms/step - loss: 1.2233 - acc: 0.6502 - val_loss: 1.3072 - val_acc: 0.6486\n",
            "Epoch 12/30\n",
            "3579/3579 [==============================] - 40s 11ms/step - loss: 1.1698 - acc: 0.6577 - val_loss: 1.2812 - val_acc: 0.6525\n",
            "Epoch 13/30\n",
            "3579/3579 [==============================] - 44s 12ms/step - loss: 1.1238 - acc: 0.6681 - val_loss: 1.2687 - val_acc: 0.6512\n",
            "Epoch 14/30\n",
            "3579/3579 [==============================] - 40s 11ms/step - loss: 1.0850 - acc: 0.6723 - val_loss: 1.2725 - val_acc: 0.6610\n",
            "Epoch 15/30\n",
            "3579/3579 [==============================] - 40s 11ms/step - loss: 1.0435 - acc: 0.6918 - val_loss: 1.2641 - val_acc: 0.6721\n",
            "Epoch 16/30\n",
            "3579/3579 [==============================] - 40s 11ms/step - loss: 1.0036 - acc: 0.7047 - val_loss: 1.2715 - val_acc: 0.6864\n",
            "Epoch 17/30\n",
            "3579/3579 [==============================] - 40s 11ms/step - loss: 0.9699 - acc: 0.7200 - val_loss: 1.2732 - val_acc: 0.6754\n",
            "Epoch 18/30\n",
            "3579/3579 [==============================] - 40s 11ms/step - loss: 0.9406 - acc: 0.7262 - val_loss: 1.2686 - val_acc: 0.6767\n",
            "Epoch 19/30\n",
            "3579/3579 [==============================] - 40s 11ms/step - loss: 0.9238 - acc: 0.7357 - val_loss: 1.2664 - val_acc: 0.6904\n",
            "Epoch 20/30\n",
            "3579/3579 [==============================] - 40s 11ms/step - loss: 0.8968 - acc: 0.7360 - val_loss: 1.2622 - val_acc: 0.6721\n",
            "Epoch 21/30\n",
            "3579/3579 [==============================] - 40s 11ms/step - loss: 0.8666 - acc: 0.7491 - val_loss: 1.2487 - val_acc: 0.6760\n",
            "Epoch 22/30\n",
            "3579/3579 [==============================] - 40s 11ms/step - loss: 0.8466 - acc: 0.7536 - val_loss: 1.2471 - val_acc: 0.6721\n",
            "Epoch 23/30\n",
            "3579/3579 [==============================] - 40s 11ms/step - loss: 0.8287 - acc: 0.7552 - val_loss: 1.2603 - val_acc: 0.6904\n",
            "Epoch 24/30\n",
            "3579/3579 [==============================] - 40s 11ms/step - loss: 0.7960 - acc: 0.7622 - val_loss: 1.2475 - val_acc: 0.6708\n",
            "Epoch 25/30\n",
            "3579/3579 [==============================] - 40s 11ms/step - loss: 0.7749 - acc: 0.7714 - val_loss: 1.2529 - val_acc: 0.6734\n",
            "Epoch 26/30\n",
            "3579/3579 [==============================] - 39s 11ms/step - loss: 0.7556 - acc: 0.7734 - val_loss: 1.2536 - val_acc: 0.6688\n",
            "Epoch 27/30\n",
            "3579/3579 [==============================] - 40s 11ms/step - loss: 0.7316 - acc: 0.7812 - val_loss: 1.2808 - val_acc: 0.6662\n",
            "Epoch 28/30\n",
            "3579/3579 [==============================] - 39s 11ms/step - loss: 0.7138 - acc: 0.7843 - val_loss: 1.3031 - val_acc: 0.6734\n",
            "Epoch 29/30\n",
            "3579/3579 [==============================] - 44s 12ms/step - loss: 0.6975 - acc: 0.7865 - val_loss: 1.2862 - val_acc: 0.6695\n",
            "Epoch 30/30\n",
            "3579/3579 [==============================] - 40s 11ms/step - loss: 0.6857 - acc: 0.7885 - val_loss: 1.2892 - val_acc: 0.6754\n"
          ],
          "name": "stdout"
        }
      ]
    },
    {
      "cell_type": "code",
      "metadata": {
        "colab_type": "code",
        "id": "Cfhtlal5F6jA",
        "colab": {}
      },
      "source": [
        "model.append('Bidirectional LSTM Model')\n",
        "scores = lsmodc2.evaluate(X_test, Y_test, verbose=0)\n",
        "accuracytest.append(scores[1]*100)\n",
        "scores = lsmodc2.evaluate(X_train, Y_train, verbose=0)\n",
        "accuracytrain.append(scores[1]*100)\n",
        "\n",
        "\n"
      ],
      "execution_count": 93,
      "outputs": []
    },
    {
      "cell_type": "code",
      "metadata": {
        "colab_type": "code",
        "id": "DVRVjBJuF6jG",
        "colab": {
          "base_uri": "https://localhost:8080/",
          "height": 283
        },
        "outputId": "2106fc8d-b97c-44a2-805c-b5f24cb4860b"
      },
      "source": [
        "plt.plot(lshistc2.history['val_acc'],color='black')\n",
        "plt.plot(lshistc2.history['acc'])\n",
        "plt.xlabel('Accuracy')\n",
        "plt.ylabel('Iterations')\n",
        "plt.show()"
      ],
      "execution_count": 94,
      "outputs": [
        {
          "output_type": "display_data",
          "data": {
            "image/png": "[encoded data removed]",
            "text/plain": [
              "<Figure size 432x288 with 1 Axes>"
            ]
          },
          "metadata": {
            "tags": [],
            "needs_background": "light"
          }
        }
      ]
    },
    {
      "cell_type": "code",
      "metadata": {
        "colab_type": "code",
        "id": "hycbBn7HF6jK",
        "colab": {
          "base_uri": "https://localhost:8080/",
          "height": 279
        },
        "outputId": "ca3a9070-ecfa-4530-a1ff-962df2db4837"
      },
      "source": [
        "plt.plot(lshistc2.history['val_loss'],color='black')\n",
        "plt.plot(lshistc2.history['loss'])\n",
        "plt.xlabel('Loss')\n",
        "plt.ylabel('Iterations')\n",
        "plt.show()"
      ],
      "execution_count": 95,
      "outputs": [
        {
          "output_type": "display_data",
          "data": {
            "image/png": "[encoded data removed]",
            "text/plain": [
              "<Figure size 432x288 with 1 Axes>"
            ]
          },
          "metadata": {
            "tags": [],
            "needs_background": "light"
          }
        }
      ]
    },
    {
      "cell_type": "markdown",
      "metadata": {
        "colab_type": "text",
        "id": "umB6gX7wF6jT"
      },
      "source": [
        "#### **1D Convolution**"
      ]
    },
    {
      "cell_type": "code",
      "metadata": {
        "colab_type": "code",
        "id": "0SZEa53oF6jV",
        "colab": {
          "base_uri": "https://localhost:8080/",
          "height": 1000
        },
        "outputId": "99a096ac-8cad-424d-ad2c-58888817739d"
      },
      "source": [
        "  \n",
        "convmodc2 = conv1d()\n",
        "\n",
        "\n",
        "\n",
        "convhistc2 = convmodc2.fit(X_train, Y_train,\n",
        "                      epochs = 30,\n",
        "                      batch_size = 128,\n",
        "                      validation_data = (X_test, Y_test))"
      ],
      "execution_count": 96,
      "outputs": [
        {
          "output_type": "stream",
          "text": [
            "/usr/local/lib/python3.6/dist-packages/tensorflow/python/framework/indexed_slices.py:434: UserWarning: Converting sparse IndexedSlices to a dense Tensor of unknown shape. This may consume a large amount of memory.\n",
            "  \"Converting sparse IndexedSlices to a dense Tensor of unknown shape. \"\n"
          ],
          "name": "stderr"
        },
        {
          "output_type": "stream",
          "text": [
            "Train on 3579 samples, validate on 1534 samples\n",
            "Epoch 1/30\n",
            "3579/3579 [==============================] - 17s 5ms/step - loss: 4.2138 - acc: 0.5434 - val_loss: 2.0050 - val_acc: 0.6056\n",
            "Epoch 2/30\n",
            "3579/3579 [==============================] - 17s 5ms/step - loss: 1.7014 - acc: 0.6239 - val_loss: 1.8557 - val_acc: 0.6343\n",
            "Epoch 3/30\n",
            "3579/3579 [==============================] - 17s 5ms/step - loss: 1.4785 - acc: 0.6334 - val_loss: 1.6935 - val_acc: 0.6362\n",
            "Epoch 4/30\n",
            "3579/3579 [==============================] - 17s 5ms/step - loss: 1.3726 - acc: 0.6415 - val_loss: 1.5974 - val_acc: 0.6532\n",
            "Epoch 5/30\n",
            "3579/3579 [==============================] - 17s 5ms/step - loss: 1.2678 - acc: 0.6602 - val_loss: 1.4437 - val_acc: 0.6538\n",
            "Epoch 6/30\n",
            "3579/3579 [==============================] - 17s 5ms/step - loss: 1.1711 - acc: 0.6784 - val_loss: 1.4278 - val_acc: 0.6578\n",
            "Epoch 7/30\n",
            "3579/3579 [==============================] - 17s 5ms/step - loss: 1.0876 - acc: 0.6879 - val_loss: 1.3437 - val_acc: 0.6630\n",
            "Epoch 8/30\n",
            "3579/3579 [==============================] - 17s 5ms/step - loss: 1.0027 - acc: 0.7024 - val_loss: 1.2693 - val_acc: 0.6656\n",
            "Epoch 9/30\n",
            "3579/3579 [==============================] - 17s 5ms/step - loss: 0.9209 - acc: 0.7172 - val_loss: 1.2477 - val_acc: 0.6662\n",
            "Epoch 10/30\n",
            "3579/3579 [==============================] - 17s 5ms/step - loss: 0.8507 - acc: 0.7354 - val_loss: 1.2060 - val_acc: 0.6851\n",
            "Epoch 11/30\n",
            "3579/3579 [==============================] - 17s 5ms/step - loss: 0.7748 - acc: 0.7597 - val_loss: 1.1860 - val_acc: 0.7040\n",
            "Epoch 12/30\n",
            "3579/3579 [==============================] - 17s 5ms/step - loss: 0.7041 - acc: 0.7983 - val_loss: 1.1658 - val_acc: 0.7099\n",
            "Epoch 13/30\n",
            "3579/3579 [==============================] - 17s 5ms/step - loss: 0.6640 - acc: 0.8139 - val_loss: 1.2069 - val_acc: 0.7047\n",
            "Epoch 14/30\n",
            "3579/3579 [==============================] - 17s 5ms/step - loss: 0.6027 - acc: 0.8296 - val_loss: 1.1272 - val_acc: 0.7203\n",
            "Epoch 15/30\n",
            "3579/3579 [==============================] - 17s 5ms/step - loss: 0.5492 - acc: 0.8452 - val_loss: 1.1517 - val_acc: 0.7132\n",
            "Epoch 16/30\n",
            "3579/3579 [==============================] - 17s 5ms/step - loss: 0.5073 - acc: 0.8589 - val_loss: 1.1328 - val_acc: 0.7203\n",
            "Epoch 17/30\n",
            "3579/3579 [==============================] - 17s 5ms/step - loss: 0.4735 - acc: 0.8656 - val_loss: 1.1338 - val_acc: 0.7203\n",
            "Epoch 18/30\n",
            "3579/3579 [==============================] - 17s 5ms/step - loss: 0.4209 - acc: 0.8821 - val_loss: 1.2039 - val_acc: 0.7106\n",
            "Epoch 19/30\n",
            "3579/3579 [==============================] - 17s 5ms/step - loss: 0.3900 - acc: 0.8916 - val_loss: 1.1660 - val_acc: 0.7249\n",
            "Epoch 20/30\n",
            "3579/3579 [==============================] - 17s 5ms/step - loss: 0.3622 - acc: 0.8961 - val_loss: 1.1883 - val_acc: 0.7138\n",
            "Epoch 21/30\n",
            "3579/3579 [==============================] - 17s 5ms/step - loss: 0.3304 - acc: 0.9095 - val_loss: 1.1867 - val_acc: 0.7184\n",
            "Epoch 22/30\n",
            "3579/3579 [==============================] - 17s 5ms/step - loss: 0.2980 - acc: 0.9162 - val_loss: 1.2308 - val_acc: 0.7216\n",
            "Epoch 23/30\n",
            "3579/3579 [==============================] - 17s 5ms/step - loss: 0.2790 - acc: 0.9257 - val_loss: 1.2675 - val_acc: 0.7171\n",
            "Epoch 24/30\n",
            "3579/3579 [==============================] - 17s 5ms/step - loss: 0.2615 - acc: 0.9251 - val_loss: 1.2743 - val_acc: 0.7171\n",
            "Epoch 25/30\n",
            "3579/3579 [==============================] - 17s 5ms/step - loss: 0.2361 - acc: 0.9332 - val_loss: 1.3014 - val_acc: 0.7158\n",
            "Epoch 26/30\n",
            "3579/3579 [==============================] - 17s 5ms/step - loss: 0.2146 - acc: 0.9408 - val_loss: 1.3353 - val_acc: 0.7177\n",
            "Epoch 27/30\n",
            "3579/3579 [==============================] - 17s 5ms/step - loss: 0.2053 - acc: 0.9489 - val_loss: 1.4196 - val_acc: 0.7034\n",
            "Epoch 28/30\n",
            "3579/3579 [==============================] - 17s 5ms/step - loss: 0.2004 - acc: 0.9466 - val_loss: 1.3403 - val_acc: 0.7223\n",
            "Epoch 29/30\n",
            "3579/3579 [==============================] - 17s 5ms/step - loss: 0.1748 - acc: 0.9547 - val_loss: 1.3739 - val_acc: 0.7256\n",
            "Epoch 30/30\n",
            "3579/3579 [==============================] - 17s 5ms/step - loss: 0.1738 - acc: 0.9497 - val_loss: 1.4261 - val_acc: 0.7236\n"
          ],
          "name": "stdout"
        }
      ]
    },
    {
      "cell_type": "code",
      "metadata": {
        "colab_type": "code",
        "id": "werQoCgQF6jZ",
        "colab": {}
      },
      "source": [
        "model.append('1D Convolution Model')\n",
        "scores = convmodc2.evaluate(X_test, Y_test, verbose=0)\n",
        "accuracytest.append(scores[1]*100)\n",
        "scores = convmodc2.evaluate(X_train, Y_train, verbose=0)\n",
        "accuracytrain.append(scores[1]*100)"
      ],
      "execution_count": 97,
      "outputs": []
    },
    {
      "cell_type": "code",
      "metadata": {
        "colab_type": "code",
        "id": "WXZ8FQapF6jg",
        "colab": {
          "base_uri": "https://localhost:8080/",
          "height": 279
        },
        "outputId": "34c5c6b1-456a-4b08-b019-ca48b4d66a8c"
      },
      "source": [
        "plt.plot(convhistc2.history['val_acc'],color='black')\n",
        "plt.plot(convhistc2.history['acc'])\n",
        "plt.xlabel('Accuracy')\n",
        "plt.ylabel('Iterations')\n",
        "plt.show()"
      ],
      "execution_count": 98,
      "outputs": [
        {
          "output_type": "display_data",
          "data": {
            "image/png": "[encoded data removed]",
            "text/plain": [
              "<Figure size 432x288 with 1 Axes>"
            ]
          },
          "metadata": {
            "tags": [],
            "needs_background": "light"
          }
        }
      ]
    },
    {
      "cell_type": "code",
      "metadata": {
        "colab_type": "code",
        "id": "3hI7uzHcF6jl",
        "colab": {
          "base_uri": "https://localhost:8080/",
          "height": 279
        },
        "outputId": "b4b40361-4b93-4e69-c26d-fd7ac8b606bd"
      },
      "source": [
        "plt.plot(convhistc2.history['val_loss'],color='black')\n",
        "plt.plot(convhistc2.history['loss'])\n",
        "plt.xlabel('Loss')\n",
        "plt.ylabel('Iterations')\n",
        "plt.show()"
      ],
      "execution_count": 99,
      "outputs": [
        {
          "output_type": "display_data",
          "data": {
            "image/png": "[encoded data removed]",
            "text/plain": [
              "<Figure size 432x288 with 1 Axes>"
            ]
          },
          "metadata": {
            "tags": [],
            "needs_background": "light"
          }
        }
      ]
    },
    {
      "cell_type": "markdown",
      "metadata": {
        "colab_type": "text",
        "id": "I006inmbF6jr"
      },
      "source": [
        "#### **Model Selection for Cluster 2**\n"
      ]
    },
    {
      "cell_type": "code",
      "metadata": {
        "colab_type": "code",
        "id": "mFhhRuM2F6jt",
        "colab": {
          "base_uri": "https://localhost:8080/",
          "height": 426
        },
        "outputId": "9a538360-00f3-4ec4-d29c-87e6a4be868a"
      },
      "source": [
        "cluster1_accuracies=pd.DataFrame()\n",
        "cluster1_accuracies['Model']=model\n",
        "cluster1_accuracies['Accuracy(Test)']=accuracytest\n",
        "cluster1_accuracies['Accuracy(Train)']=accuracytrain\n",
        "cluster1_accuracies"
      ],
      "execution_count": 100,
      "outputs": [
        {
          "output_type": "execute_result",
          "data": {
            "text/html": [
              "<div>\n",
              "<style scoped>\n",
              "    .dataframe tbody tr th:only-of-type {\n",
              "        vertical-align: middle;\n",
              "    }\n",
              "\n",
              "    .dataframe tbody tr th {\n",
              "        vertical-align: top;\n",
              "    }\n",
              "\n",
              "    .dataframe thead th {\n",
              "        text-align: right;\n",
              "    }\n",
              "</style>\n",
              "<table border=\"1\" class=\"dataframe\">\n",
              "  <thead>\n",
              "    <tr style=\"text-align: right;\">\n",
              "      <th></th>\n",
              "      <th>Model</th>\n",
              "      <th>Accuracy(Test)</th>\n",
              "      <th>Accuracy(Train)</th>\n",
              "    </tr>\n",
              "  </thead>\n",
              "  <tbody>\n",
              "    <tr>\n",
              "      <th>0</th>\n",
              "      <td>Logistic Regression with Chi Square</td>\n",
              "      <td>64.080834</td>\n",
              "      <td>62.922604</td>\n",
              "    </tr>\n",
              "    <tr>\n",
              "      <th>1</th>\n",
              "      <td>Multinomial Naive Bayes</td>\n",
              "      <td>70.078227</td>\n",
              "      <td>69.460743</td>\n",
              "    </tr>\n",
              "    <tr>\n",
              "      <th>2</th>\n",
              "      <td>Support Vector Machines</td>\n",
              "      <td>77.053455</td>\n",
              "      <td>89.354568</td>\n",
              "    </tr>\n",
              "    <tr>\n",
              "      <th>3</th>\n",
              "      <td>Decision Tree</td>\n",
              "      <td>67.014342</td>\n",
              "      <td>67.449008</td>\n",
              "    </tr>\n",
              "    <tr>\n",
              "      <th>4</th>\n",
              "      <td>Bagging Classifier</td>\n",
              "      <td>65.971317</td>\n",
              "      <td>64.850517</td>\n",
              "    </tr>\n",
              "    <tr>\n",
              "      <th>5</th>\n",
              "      <td>Adaboost Classifier</td>\n",
              "      <td>67.275098</td>\n",
              "      <td>66.275496</td>\n",
              "    </tr>\n",
              "    <tr>\n",
              "      <th>6</th>\n",
              "      <td>Gradient Boost Classifier</td>\n",
              "      <td>73.859192</td>\n",
              "      <td>91.366303</td>\n",
              "    </tr>\n",
              "    <tr>\n",
              "      <th>7</th>\n",
              "      <td>Decision Tree Hyper Tuned</td>\n",
              "      <td>71.056063</td>\n",
              "      <td>91.254540</td>\n",
              "    </tr>\n",
              "    <tr>\n",
              "      <th>8</th>\n",
              "      <td>Support Vector Machines- Hypertuned</td>\n",
              "      <td>78.031291</td>\n",
              "      <td>98.463258</td>\n",
              "    </tr>\n",
              "    <tr>\n",
              "      <th>9</th>\n",
              "      <td>Sequential Model</td>\n",
              "      <td>68.383312</td>\n",
              "      <td>96.814752</td>\n",
              "    </tr>\n",
              "    <tr>\n",
              "      <th>10</th>\n",
              "      <td>Bidirectional LSTM Model</td>\n",
              "      <td>67.535853</td>\n",
              "      <td>80.748814</td>\n",
              "    </tr>\n",
              "    <tr>\n",
              "      <th>11</th>\n",
              "      <td>1D Convolution Model</td>\n",
              "      <td>72.359842</td>\n",
              "      <td>98.127967</td>\n",
              "    </tr>\n",
              "  </tbody>\n",
              "</table>\n",
              "</div>"
            ],
            "text/plain": [
              "                                  Model  Accuracy(Test)  Accuracy(Train)\n",
              "0   Logistic Regression with Chi Square       64.080834        62.922604\n",
              "1               Multinomial Naive Bayes       70.078227        69.460743\n",
              "2               Support Vector Machines       77.053455        89.354568\n",
              "3                        Decision Tree        67.014342        67.449008\n",
              "4                    Bagging Classifier       65.971317        64.850517\n",
              "5                   Adaboost Classifier       67.275098        66.275496\n",
              "6             Gradient Boost Classifier       73.859192        91.366303\n",
              "7            Decision Tree Hyper Tuned        71.056063        91.254540\n",
              "8   Support Vector Machines- Hypertuned       78.031291        98.463258\n",
              "9                      Sequential Model       68.383312        96.814752\n",
              "10             Bidirectional LSTM Model       67.535853        80.748814\n",
              "11                 1D Convolution Model       72.359842        98.127967"
            ]
          },
          "metadata": {
            "tags": []
          },
          "execution_count": 100
        }
      ]
    },
    {
      "cell_type": "code",
      "metadata": {
        "colab_type": "code",
        "id": "yPjA-dvFF6jx",
        "colab": {
          "base_uri": "https://localhost:8080/",
          "height": 609
        },
        "outputId": "7359bcef-c1a9-473d-c340-9237c23b646c"
      },
      "source": [
        "x_axis=['LR','NM','SVM','DT','BC','ABC','GBC','DTH','SVMH','SM','BLSTM','1DCONV']\n",
        "plt.figure(figsize=(10,10))\n",
        "plt.bar(x_axis,cluster1_accuracies['Accuracy(Test)'])\n",
        "plt.bar(x_axis,cluster1_accuracies['Accuracy(Train)'],alpha=0.3)"
      ],
      "execution_count": 101,
      "outputs": [
        {
          "output_type": "execute_result",
          "data": {
            "text/plain": [
              "<BarContainer object of 12 artists>"
            ]
          },
          "metadata": {
            "tags": []
          },
          "execution_count": 101
        },
        {
          "output_type": "display_data",
          "data": {
            "image/png": "[encoded data removed]",
            "text/plain": [
              "<Figure size 720x720 with 1 Axes>"
            ]
          },
          "metadata": {
            "tags": [],
            "needs_background": "light"
          }
        }
      ]
    },
    {
      "cell_type": "markdown",
      "metadata": {
        "colab_type": "text",
        "id": "snUlcqyyF6j1"
      },
      "source": [
        "> LR-Logistic Regression\n",
        "\n",
        "> NM- Multinomial Naive Bayes\n",
        "\n",
        ">SVM-Support Vector Machine\n",
        "\n",
        ">DT- Decision Tree\n",
        "\n",
        ">BC-Bagging Classifier\n",
        "\n",
        ">ABC-AdaBoost Classifier\n",
        "\n",
        ">GBC-Gradient Boost Classifier\n",
        "\n",
        ">DTH- Decision Tree - Hyper Tunes\n",
        "\n",
        ">SVMH- Support Vector Machine Hyper Tuned\n",
        "\n",
        ">SM-Sequential Model\n",
        "\n",
        ">BLSTM-Bidirectional LSTM\n",
        "\n",
        ">1DCONV-1D Convolution\n",
        "\n",
        "\n",
        "#### **Model Selection**\n",
        "> The grey bar shows the accuracy on Train data and Yello shows the accuracy on Test data. \n",
        "\n",
        "> Higher the difference, the model is overfit\n",
        "\n",
        "> Out of all, Hyper tuned Support Vector Machines seems to be the best of all\n"
      ]
    },
    {
      "cell_type": "markdown",
      "metadata": {
        "id": "yqg2ROBC_JOd",
        "colab_type": "text"
      },
      "source": [
        "# **Applying models on the entire data without clustering**"
      ]
    },
    {
      "cell_type": "code",
      "metadata": {
        "id": "MuemEoDn7TGk",
        "colab_type": "code",
        "colab": {
          "base_uri": "https://localhost:8080/",
          "height": 52
        },
        "outputId": "353163d6-b38f-4620-97c3-a6c86868c556"
      },
      "source": [
        "tok = Tokenizer(num_words = max_features)\n",
        "tok.fit_on_texts(data.Description)\n",
        "X = tok.texts_to_sequences(data.Description)\n",
        "X = pad_sequences(X, maxlen = maxlen)\n",
        "Y = np.asarray(data['Assignment group'])\n",
        "\n",
        "X_train, X_test, Y_train, Y_test = train_test_split(X, Y, test_size=0.3, random_state=1)\n",
        "print(X_train.shape,Y_train.shape)\n",
        "print(X_test.shape,Y_test.shape)"
      ],
      "execution_count": 102,
      "outputs": [
        {
          "output_type": "stream",
          "text": [
            "(4843, 350) (4843,)\n",
            "(2076, 350) (2076,)\n"
          ],
          "name": "stdout"
        }
      ]
    },
    {
      "cell_type": "code",
      "metadata": {
        "colab_type": "code",
        "id": "AyQY4NBYkDDx",
        "colab": {
          "base_uri": "https://localhost:8080/",
          "height": 347
        },
        "outputId": "202569b1-1a7a-40ed-85ea-f3b3983a52a5"
      },
      "source": [
        "embed_dim = 256\n",
        "lstm_out = 64\n",
        "max_features = 2000\n",
        "maxlen = 350\n",
        "embedding_size = 200\n",
        "\n",
        "modelq = Sequential()\n",
        "modelq.add(Embedding(max_features, embed_dim,input_length = X.shape[1]))\n",
        "modelq.add(SpatialDropout1D(0.4))\n",
        "modelq.add(MaxPooling1D(pool_size=4))\n",
        "modelq.add(LSTM(100))\n",
        "#model.add(LSTM(lstm_out, dropout=0.2, recurrent_dropout=0.4))\n",
        "modelq.add(Dense(350,activation='softmax'))\n",
        "modelq.compile(loss = 'sparse_categorical_crossentropy', optimizer='adam',metrics = ['accuracy'])\n",
        "print(modelq.summary())\n",
        "\n"
      ],
      "execution_count": 103,
      "outputs": [
        {
          "output_type": "stream",
          "text": [
            "Model: \"sequential_10\"\n",
            "_________________________________________________________________\n",
            "Layer (type)                 Output Shape              Param #   \n",
            "=================================================================\n",
            "embedding_10 (Embedding)     (None, 350, 256)          512000    \n",
            "_________________________________________________________________\n",
            "spatial_dropout1d_4 (Spatial (None, 350, 256)          0         \n",
            "_________________________________________________________________\n",
            "max_pooling1d_7 (MaxPooling1 (None, 87, 256)           0         \n",
            "_________________________________________________________________\n",
            "lstm_10 (LSTM)               (None, 100)               142800    \n",
            "_________________________________________________________________\n",
            "dense_10 (Dense)             (None, 350)               35350     \n",
            "=================================================================\n",
            "Total params: 690,150\n",
            "Trainable params: 690,150\n",
            "Non-trainable params: 0\n",
            "_________________________________________________________________\n",
            "None\n"
          ],
          "name": "stdout"
        }
      ]
    },
    {
      "cell_type": "code",
      "metadata": {
        "id": "PyOd9hKo6n77",
        "colab_type": "code",
        "colab": {
          "base_uri": "https://localhost:8080/",
          "height": 434
        },
        "outputId": "c7005577-a212-4d2d-f9f5-8829c12cfd09"
      },
      "source": [
        "modelq.fit(X,Y, validation_data = (X_test, Y_test), epochs=10, batch_size=32, verbose=2) \n",
        "# Final evaluation of the model\n",
        "scores = modelq.evaluate(X_test, Y_test, verbose=0)\n",
        "print(\"Accuracy: %.2f%%\" % (scores[1]*100))"
      ],
      "execution_count": 104,
      "outputs": [
        {
          "output_type": "stream",
          "text": [
            "/usr/local/lib/python3.6/dist-packages/tensorflow/python/framework/indexed_slices.py:434: UserWarning: Converting sparse IndexedSlices to a dense Tensor of unknown shape. This may consume a large amount of memory.\n",
            "  \"Converting sparse IndexedSlices to a dense Tensor of unknown shape. \"\n"
          ],
          "name": "stderr"
        },
        {
          "output_type": "stream",
          "text": [
            "Train on 6919 samples, validate on 2076 samples\n",
            "Epoch 1/10\n",
            " - 39s - loss: 1.9301 - accuracy: 0.5816 - val_loss: 1.3980 - val_accuracy: 0.6633\n",
            "Epoch 2/10\n",
            " - 38s - loss: 1.2971 - accuracy: 0.6604 - val_loss: 1.1281 - val_accuracy: 0.6787\n",
            "Epoch 3/10\n",
            " - 38s - loss: 1.1109 - accuracy: 0.6903 - val_loss: 0.9836 - val_accuracy: 0.7148\n",
            "Epoch 4/10\n",
            " - 39s - loss: 0.9988 - accuracy: 0.7075 - val_loss: 0.8982 - val_accuracy: 0.7283\n",
            "Epoch 5/10\n",
            " - 38s - loss: 0.9246 - accuracy: 0.7212 - val_loss: 0.8291 - val_accuracy: 0.7413\n",
            "Epoch 6/10\n",
            " - 38s - loss: 0.8727 - accuracy: 0.7328 - val_loss: 0.7982 - val_accuracy: 0.7524\n",
            "Epoch 7/10\n",
            " - 38s - loss: 0.8105 - accuracy: 0.7443 - val_loss: 0.7102 - val_accuracy: 0.7611\n",
            "Epoch 8/10\n",
            " - 38s - loss: 0.7429 - accuracy: 0.7602 - val_loss: 0.6708 - val_accuracy: 0.7750\n",
            "Epoch 9/10\n",
            " - 38s - loss: 0.6757 - accuracy: 0.7807 - val_loss: 0.5935 - val_accuracy: 0.8107\n",
            "Epoch 10/10\n",
            " - 38s - loss: 0.6275 - accuracy: 0.8032 - val_loss: 0.5422 - val_accuracy: 0.8425\n",
            "Accuracy: 84.25%\n"
          ],
          "name": "stdout"
        }
      ]
    },
    {
      "cell_type": "markdown",
      "metadata": {
        "colab_type": "text",
        "id": "glfNE475Kfdr"
      },
      "source": [
        "#### **Chi Square Analysis on Logistic Regression**"
      ]
    },
    {
      "cell_type": "code",
      "metadata": {
        "colab_type": "code",
        "id": "d22NuWl7Kfd0",
        "colab": {}
      },
      "source": [
        "X = data['Description']\n",
        "Y = data['Assignment group']\n",
        "X_train, X_test, Y_train, Y_test = train_test_split(X, Y, test_size=0.3, random_state=2)"
      ],
      "execution_count": 105,
      "outputs": []
    },
    {
      "cell_type": "code",
      "metadata": {
        "colab_type": "code",
        "id": "nYrk6BVUKfeR",
        "colab": {}
      },
      "source": [
        "Cluster1df=pd.DataFrame()\n",
        "accuracytest=[]\n",
        "accuracytrain=[]\n",
        "model=[]"
      ],
      "execution_count": 106,
      "outputs": []
    },
    {
      "cell_type": "code",
      "metadata": {
        "colab_type": "code",
        "id": "1tB6VHeCKfeo",
        "colab": {
          "base_uri": "https://localhost:8080/",
          "height": 52
        },
        "outputId": "4241393e-b78e-4f9a-b713-769328931f32"
      },
      "source": [
        "features = TfidfVectorizer(max_features=10000,ngram_range=(1, 3))\n",
        "X_train_tfidf = features.fit_transform(X_train)\n",
        "X_test_tfidf = features.transform(X_test)\n",
        "chi2score = chi2(X_train_tfidf, Y_train)[1]\n",
        "ch2_result = [0]\n",
        "ch2_result1=[0]\n",
        "model.append('Logistic Regression with Chi Square')\n",
        "for n in np.arange(15000,100000,10000):\n",
        "    ch2 = SelectKBest(chi2, k=1)\n",
        "    X_train_chi2_selected = ch2.fit_transform(X_train_tfidf, Y_train)\n",
        "    X_test_chi2_selected = ch2.transform(X_test_tfidf)\n",
        "    clf = LogisticRegression()\n",
        "    clf.fit(X_train_chi2_selected, Y_train)\n",
        "    score = clf.score(X_test_chi2_selected, Y_test)\n",
        "    score1=clf.score(X_train_chi2_selected, Y_train)\n",
        "\n",
        "    if int(score*100)>np.array(ch2_result).max()*100:\n",
        "      print('Accuracy Score Test: '+str(score*100))\n",
        "      max=score\n",
        "    else:\n",
        "      pass\n",
        "    ch2_result.append(score)\n",
        "\n",
        "    if int(score1*100)>np.array(ch2_result1).max()*100:\n",
        "      print('Accuracy Score Train: '+str(score1*100))\n",
        "      max1=score1\n",
        "    else:\n",
        "      pass\n",
        "    ch2_result.append(score)\n",
        "    ch2_result1.append(score1)\n",
        "accuracytest.append(max*100)\n",
        "accuracytrain.append(max1*100)"
      ],
      "execution_count": 107,
      "outputs": [
        {
          "output_type": "stream",
          "text": [
            "Accuracy Score Test: 59.15221579961464\n",
            "Accuracy Score Train: 58.37290935370638\n"
          ],
          "name": "stdout"
        }
      ]
    },
    {
      "cell_type": "markdown",
      "metadata": {
        "colab_type": "text",
        "id": "WqitixtjKfe2"
      },
      "source": [
        "#### **Creating the TFIDF Vectors for further processing**"
      ]
    },
    {
      "cell_type": "code",
      "metadata": {
        "colab_type": "code",
        "id": "AvdR_HWaKfe7",
        "colab": {}
      },
      "source": [
        "vectorizer = TfidfVectorizer()\n",
        "train_vectors_0 = vectorizer.fit_transform(X_train)\n",
        "test_vectors_0 = vectorizer.transform(X_test)"
      ],
      "execution_count": 108,
      "outputs": []
    },
    {
      "cell_type": "markdown",
      "metadata": {
        "colab_type": "text",
        "id": "cXrUHuuhKffK"
      },
      "source": [
        "#### **Multinomial Naive Bayes**\n"
      ]
    },
    {
      "cell_type": "code",
      "metadata": {
        "colab_type": "code",
        "id": "Ac4x7yD2KffN",
        "colab": {
          "base_uri": "https://localhost:8080/",
          "height": 975
        },
        "outputId": "af37a97f-69ce-4044-844a-67dea99687a9"
      },
      "source": [
        "nbq = Pipeline([('count', CountVectorizer()),\n",
        "               ('tfidf', TfidfTransformer()),\n",
        "               ('clf', MultinomialNB()),\n",
        "              ])\n",
        "nbq.fit(X,Y)\n",
        "\n",
        "#Test Set\n",
        "Y_pred = nbq.predict(X_test)\n",
        "\n",
        "print('Accuracy Score Test :'+str(float(accuracy_score(Y_pred, Y_test)*100)))\n",
        "model.append('Multinomial Naive Bayes')\n",
        "accuracytest.append(accuracy_score(Y_pred, Y_test)*100)\n",
        "print('\\n')\n",
        "print(classification_report(Y_test, Y_pred))\n",
        "\n",
        "# Train set\n",
        "\n",
        "Y_pred = nbq.predict(X_train)\n",
        "\n",
        "print('\\n\\nAccuracy Score Train :'+str(float(accuracy_score(Y_pred, Y_train)*100)))\n",
        "accuracytrain.append(accuracy_score(Y_pred, Y_train)*100)\n",
        "print('\\n')\n",
        "print(classification_report(Y_train, Y_pred))"
      ],
      "execution_count": 109,
      "outputs": [
        {
          "output_type": "stream",
          "text": [
            "Accuracy Score Test :70.56840077071291\n",
            "\n",
            "\n",
            "              precision    recall  f1-score   support\n",
            "\n",
            "           0       0.72      1.00      0.84      1206\n",
            "           1       0.00      0.00      0.00        39\n",
            "           2       0.94      0.22      0.36        68\n",
            "           3       0.00      0.00      0.00        38\n",
            "           4       0.00      0.00      0.00        38\n",
            "           5       0.00      0.00      0.00        69\n",
            "           6       0.75      0.09      0.16        69\n",
            "           7       0.98      0.61      0.75        90\n",
            "           8       0.00      0.00      0.00        42\n",
            "           9       0.00      0.00      0.00        55\n",
            "          10       0.00      0.00      0.00        33\n",
            "          11       0.00      0.00      0.00        59\n",
            "          12       0.57      0.92      0.71       198\n",
            "          13       0.00      0.00      0.00        72\n",
            "\n",
            "    accuracy                           0.71      2076\n",
            "   macro avg       0.28      0.20      0.20      2076\n",
            "weighted avg       0.57      0.71      0.60      2076\n",
            "\n",
            "\n",
            "\n",
            "Accuracy Score Train :69.77080322114392\n",
            "\n",
            "\n",
            "              precision    recall  f1-score   support\n",
            "\n",
            "           0       0.72      1.00      0.84      2766\n",
            "           1       0.00      0.00      0.00       101\n",
            "           2       0.92      0.19      0.31       189\n",
            "           3       0.00      0.00      0.00       107\n",
            "           4       0.00      0.00      0.00        80\n",
            "           5       0.00      0.00      0.00       146\n",
            "           6       0.93      0.08      0.14       172\n",
            "           7       1.00      0.66      0.79       199\n",
            "           8       0.00      0.00      0.00        74\n",
            "           9       0.00      0.00      0.00       145\n",
            "          10       0.00      0.00      0.00        96\n",
            "          11       0.00      0.00      0.00       125\n",
            "          12       0.54      0.94      0.68       463\n",
            "          13       1.00      0.01      0.01       180\n",
            "\n",
            "    accuracy                           0.70      4843\n",
            "   macro avg       0.36      0.20      0.20      4843\n",
            "weighted avg       0.61      0.70      0.59      4843\n",
            "\n"
          ],
          "name": "stdout"
        },
        {
          "output_type": "stream",
          "text": [
            "/usr/local/lib/python3.6/dist-packages/sklearn/metrics/_classification.py:1272: UndefinedMetricWarning: Precision and F-score are ill-defined and being set to 0.0 in labels with no predicted samples. Use `zero_division` parameter to control this behavior.\n",
            "  _warn_prf(average, modifier, msg_start, len(result))\n",
            "/usr/local/lib/python3.6/dist-packages/sklearn/metrics/_classification.py:1272: UndefinedMetricWarning: Precision and F-score are ill-defined and being set to 0.0 in labels with no predicted samples. Use `zero_division` parameter to control this behavior.\n",
            "  _warn_prf(average, modifier, msg_start, len(result))\n"
          ],
          "name": "stderr"
        }
      ]
    },
    {
      "cell_type": "markdown",
      "metadata": {
        "colab_type": "text",
        "id": "0YQFHn6cKffd"
      },
      "source": [
        "#### **Support vector Machines**\n",
        "\n",
        "\n"
      ]
    },
    {
      "cell_type": "code",
      "metadata": {
        "colab_type": "code",
        "id": "14R3xWQqKfff",
        "colab": {
          "base_uri": "https://localhost:8080/",
          "height": 52
        },
        "outputId": "683e3932-31cc-48be-d343-252339fe7d1a"
      },
      "source": [
        "SVMq = svm.SVC(C=1.0, kernel='linear', degree=3, gamma='auto',random_state=1)\n",
        "SVMq.fit(train_vectors_0,Y_train)\n",
        "\n",
        "#Test set\n",
        "predictions_SVM = SVMq.predict(test_vectors_0)\n",
        "# Use accuracy_score function to get the accuracy\n",
        "print(\"Accuracy Score Test: \",accuracy_score(predictions_SVM, Y_test)*100)\n",
        "\n",
        "model.append('Support Vector Machines')\n",
        "accuracytest.append(accuracy_score(predictions_SVM, Y_test)*100)\n",
        "\n",
        "#Train set\n",
        "\n",
        "predictions_SVM = SVMq.predict(train_vectors_0)\n",
        "# Use accuracy_score function to get the accuracy\n",
        "print(\"Accuracy Score Train : \",accuracy_score(predictions_SVM, Y_train)*100)\n",
        "\n",
        "accuracytrain.append(accuracy_score(predictions_SVM, Y_train)*100)\n",
        "\n",
        "\n"
      ],
      "execution_count": 110,
      "outputs": [
        {
          "output_type": "stream",
          "text": [
            "Accuracy Score Test:  78.51637764932563\n",
            "Accuracy Score Train :  88.82923807557299\n"
          ],
          "name": "stdout"
        }
      ]
    },
    {
      "cell_type": "markdown",
      "metadata": {
        "colab_type": "text",
        "id": "9poOGuQlKffq"
      },
      "source": [
        "#### **Decision tree**\n"
      ]
    },
    {
      "cell_type": "code",
      "metadata": {
        "colab_type": "code",
        "id": "XMEp45vNKffr",
        "colab": {
          "base_uri": "https://localhost:8080/",
          "height": 52
        },
        "outputId": "379af77c-f928-4860-b918-667f103e06c2"
      },
      "source": [
        "dTreeq = DecisionTreeClassifier(criterion = 'gini', max_depth=5, random_state=1)\n",
        "dTreeq.fit(train_vectors_0, Y_train)\n",
        "\n",
        "\n",
        "print('Accuracy Score Test : ',dTreeq.score(test_vectors_0, Y_test)*100)\n",
        "model.append('Decision Tree ')\n",
        "accuracytest.append(dTreeq.score(test_vectors_0, Y_test)*100)\n",
        "\n",
        "\n",
        "print('Accuracy Score Train : ',dTreeq.score(train_vectors_0, Y_train)*100)\n",
        "accuracytrain.append(dTreeq.score(train_vectors_0, Y_train)*100)"
      ],
      "execution_count": 111,
      "outputs": [
        {
          "output_type": "stream",
          "text": [
            "Accuracy Score Test :  67.67822736030828\n",
            "Accuracy Score Train :  68.1808796200702\n"
          ],
          "name": "stdout"
        }
      ]
    },
    {
      "cell_type": "markdown",
      "metadata": {
        "colab_type": "text",
        "id": "sdZKa0HxKff5"
      },
      "source": [
        "#### **Bagging Classifier**"
      ]
    },
    {
      "cell_type": "code",
      "metadata": {
        "colab_type": "code",
        "id": "gYbd8ZCfKff7",
        "colab": {
          "base_uri": "https://localhost:8080/",
          "height": 52
        },
        "outputId": "75d1f79b-a591-4c27-9471-912834336bee"
      },
      "source": [
        "bgclq = BaggingClassifier(base_estimator=dTree, n_estimators=50,random_state=1)\n",
        "bgclq = bgclq.fit(train_vectors_0, Y_train)\n",
        "\n",
        "y_predict = bgclq.predict(test_vectors_0)\n",
        "\n",
        "print('Accuracy Score Test : ',bgclq.score(test_vectors_0, Y_test)*100)\n",
        "model.append('Bagging Classifier')\n",
        "accuracytest.append(bgclq.score(test_vectors_0, Y_test)*100)\n",
        "\n",
        "print('Accuracy Score Train : ',bgclq.score(train_vectors_0, Y_train)*100)\n",
        "accuracytrain.append(bgclq.score(train_vectors_0, Y_train)*100)\n"
      ],
      "execution_count": 112,
      "outputs": [
        {
          "output_type": "stream",
          "text": [
            "Accuracy Score Test :  66.28131021194605\n",
            "Accuracy Score Train :  65.45529630394384\n"
          ],
          "name": "stdout"
        }
      ]
    },
    {
      "cell_type": "markdown",
      "metadata": {
        "colab_type": "text",
        "id": "7q3kuWK1KfgE"
      },
      "source": [
        "#### **Adaboost Classifier**"
      ]
    },
    {
      "cell_type": "code",
      "metadata": {
        "colab_type": "code",
        "id": "HRnguOAkKfgG",
        "colab": {
          "base_uri": "https://localhost:8080/",
          "height": 52
        },
        "outputId": "748d693a-8204-4daf-d137-7434dda6da7f"
      },
      "source": [
        "abclq = AdaBoostClassifier(n_estimators=10, random_state=1)\n",
        "abclq = abclq.fit(train_vectors_0, Y_train)\n",
        "\n",
        "y_predict = abclq.predict(test_vectors_0)\n",
        "print('Accuracy Score Test : ' ,abclq.score(test_vectors_0, Y_test)*100)\n",
        "model.append('Adaboost Classifier')\n",
        "accuracytest.append(abclq.score(test_vectors_0, Y_test)*100)\n",
        "\n",
        "\n",
        "y_predict = abclq.predict(train_vectors_0)\n",
        "print('Accuracy Score Train : ' ,abclq.score(train_vectors_0, Y_train)*100)\n",
        "accuracytrain.append(abclq.score(train_vectors_0, Y_train)*100)"
      ],
      "execution_count": 113,
      "outputs": [
        {
          "output_type": "stream",
          "text": [
            "Accuracy Score Test :  64.98073217726397\n",
            "Accuracy Score Train :  63.968614495147634\n"
          ],
          "name": "stdout"
        }
      ]
    },
    {
      "cell_type": "markdown",
      "metadata": {
        "colab_type": "text",
        "id": "1wmBWabGKfgQ"
      },
      "source": [
        "#### **Gradient Boost Classifier**\n",
        "\n"
      ]
    },
    {
      "cell_type": "code",
      "metadata": {
        "colab_type": "code",
        "id": "a_4Dagk7KfgT",
        "colab": {
          "base_uri": "https://localhost:8080/",
          "height": 52
        },
        "outputId": "faa9167c-a876-4d12-f7a2-6be874431068"
      },
      "source": [
        "gbclq = GradientBoostingClassifier(n_estimators = 50,random_state=1)\n",
        "gbclq = gbcl.fit(train_vectors_0, Y_train)\n",
        "\n",
        "y_predict = gbclq.predict(test_vectors_0)\n",
        "\n",
        "print('Accuracy Score Test : ' ,gbclq.score(test_vectors_0, Y_test)*100)\n",
        "model.append('Gradient Boost Classifier')\n",
        "accuracytest.append(gbclq.score(test_vectors_0, Y_test)*100)\n",
        "\n",
        "\n",
        "print('Accuracy Score Train : ' ,gbclq.score(train_vectors_0, Y_train)*100)\n",
        "accuracytrain.append(gbclq.score(train_vectors_0, Y_train)*100)"
      ],
      "execution_count": 114,
      "outputs": [
        {
          "output_type": "stream",
          "text": [
            "Accuracy Score Test :  75.43352601156069\n",
            "Accuracy Score Train :  92.02973363617592\n"
          ],
          "name": "stdout"
        }
      ]
    },
    {
      "cell_type": "markdown",
      "metadata": {
        "colab_type": "text",
        "id": "3HhbERLeKfge"
      },
      "source": [
        "#### **Randomized Search CV to enhance Decision tree**\n",
        "\n"
      ]
    },
    {
      "cell_type": "code",
      "metadata": {
        "colab_type": "code",
        "id": "FHZs3gptKfgh",
        "colab": {
          "base_uri": "https://localhost:8080/",
          "height": 1000
        },
        "outputId": "2e3a5331-3d01-40b6-ea9a-f67ad7e17de3"
      },
      "source": [
        "parameter={'criterion':['gini','entropy'],\n",
        "            'max_depth':np.arange(0,100,1)\n",
        "            }\n",
        "\n",
        "random_searchdt = RandomizedSearchCV(estimator = dTreeq, param_distributions= parameter,cv = 3, verbose=2, random_state=1,return_train_score=True)\n",
        "random_searchdt.fit(train_vectors_0,Y_train)"
      ],
      "execution_count": 115,
      "outputs": [
        {
          "output_type": "stream",
          "text": [
            "Fitting 3 folds for each of 10 candidates, totalling 30 fits\n",
            "[CV] max_depth=58, criterion=gini ....................................\n"
          ],
          "name": "stdout"
        },
        {
          "output_type": "stream",
          "text": [
            "[Parallel(n_jobs=1)]: Using backend SequentialBackend with 1 concurrent workers.\n"
          ],
          "name": "stderr"
        },
        {
          "output_type": "stream",
          "text": [
            "[CV] ..................... max_depth=58, criterion=gini, total=   0.5s\n",
            "[CV] max_depth=58, criterion=gini ....................................\n"
          ],
          "name": "stdout"
        },
        {
          "output_type": "stream",
          "text": [
            "[Parallel(n_jobs=1)]: Done   1 out of   1 | elapsed:    0.5s remaining:    0.0s\n"
          ],
          "name": "stderr"
        },
        {
          "output_type": "stream",
          "text": [
            "[CV] ..................... max_depth=58, criterion=gini, total=   0.5s\n",
            "[CV] max_depth=58, criterion=gini ....................................\n",
            "[CV] ..................... max_depth=58, criterion=gini, total=   0.5s\n",
            "[CV] max_depth=40, criterion=gini ....................................\n",
            "[CV] ..................... max_depth=40, criterion=gini, total=   0.4s\n",
            "[CV] max_depth=40, criterion=gini ....................................\n",
            "[CV] ..................... max_depth=40, criterion=gini, total=   0.4s\n",
            "[CV] max_depth=40, criterion=gini ....................................\n",
            "[CV] ..................... max_depth=40, criterion=gini, total=   0.5s\n",
            "[CV] max_depth=34, criterion=gini ....................................\n",
            "[CV] ..................... max_depth=34, criterion=gini, total=   0.4s\n",
            "[CV] max_depth=34, criterion=gini ....................................\n",
            "[CV] ..................... max_depth=34, criterion=gini, total=   0.4s\n",
            "[CV] max_depth=34, criterion=gini ....................................\n",
            "[CV] ..................... max_depth=34, criterion=gini, total=   0.4s\n",
            "[CV] max_depth=2, criterion=entropy ..................................\n",
            "[CV] ................... max_depth=2, criterion=entropy, total=   0.1s\n",
            "[CV] max_depth=2, criterion=entropy ..................................\n",
            "[CV] ................... max_depth=2, criterion=entropy, total=   0.1s\n",
            "[CV] max_depth=2, criterion=entropy ..................................\n",
            "[CV] ................... max_depth=2, criterion=entropy, total=   0.1s\n",
            "[CV] max_depth=84, criterion=entropy .................................\n",
            "[CV] .................. max_depth=84, criterion=entropy, total=   0.8s\n",
            "[CV] max_depth=84, criterion=entropy .................................\n",
            "[CV] .................. max_depth=84, criterion=entropy, total=   0.8s\n",
            "[CV] max_depth=84, criterion=entropy .................................\n",
            "[CV] .................. max_depth=84, criterion=entropy, total=   0.9s\n",
            "[CV] max_depth=98, criterion=entropy .................................\n",
            "[CV] .................. max_depth=98, criterion=entropy, total=   0.8s\n",
            "[CV] max_depth=98, criterion=entropy .................................\n",
            "[CV] .................. max_depth=98, criterion=entropy, total=   0.8s\n",
            "[CV] max_depth=98, criterion=entropy .................................\n",
            "[CV] .................. max_depth=98, criterion=entropy, total=   0.9s\n",
            "[CV] max_depth=95, criterion=gini ....................................\n",
            "[CV] ..................... max_depth=95, criterion=gini, total=   0.6s\n",
            "[CV] max_depth=95, criterion=gini ....................................\n",
            "[CV] ..................... max_depth=95, criterion=gini, total=   0.5s\n",
            "[CV] max_depth=95, criterion=gini ....................................\n",
            "[CV] ..................... max_depth=95, criterion=gini, total=   0.6s\n",
            "[CV] max_depth=4, criterion=gini .....................................\n",
            "[CV] ...................... max_depth=4, criterion=gini, total=   0.1s\n",
            "[CV] max_depth=4, criterion=gini .....................................\n",
            "[CV] ...................... max_depth=4, criterion=gini, total=   0.1s\n",
            "[CV] max_depth=4, criterion=gini .....................................\n",
            "[CV] ...................... max_depth=4, criterion=gini, total=   0.1s\n",
            "[CV] max_depth=29, criterion=gini ....................................\n",
            "[CV] ..................... max_depth=29, criterion=gini, total=   0.4s\n",
            "[CV] max_depth=29, criterion=gini ....................................\n",
            "[CV] ..................... max_depth=29, criterion=gini, total=   0.4s\n",
            "[CV] max_depth=29, criterion=gini ....................................\n",
            "[CV] ..................... max_depth=29, criterion=gini, total=   0.4s\n",
            "[CV] max_depth=68, criterion=entropy .................................\n",
            "[CV] .................. max_depth=68, criterion=entropy, total=   0.8s\n",
            "[CV] max_depth=68, criterion=entropy .................................\n",
            "[CV] .................. max_depth=68, criterion=entropy, total=   0.8s\n",
            "[CV] max_depth=68, criterion=entropy .................................\n",
            "[CV] .................. max_depth=68, criterion=entropy, total=   0.9s\n"
          ],
          "name": "stdout"
        },
        {
          "output_type": "stream",
          "text": [
            "[Parallel(n_jobs=1)]: Done  30 out of  30 | elapsed:   14.7s finished\n"
          ],
          "name": "stderr"
        },
        {
          "output_type": "execute_result",
          "data": {
            "text/plain": [
              "RandomizedSearchCV(cv=3, error_score=nan,\n",
              "                   estimator=DecisionTreeClassifier(ccp_alpha=0.0,\n",
              "                                                    class_weight=None,\n",
              "                                                    criterion='gini',\n",
              "                                                    max_depth=5,\n",
              "                                                    max_features=None,\n",
              "                                                    max_leaf_nodes=None,\n",
              "                                                    min_impurity_decrease=0.0,\n",
              "                                                    min_impurity_split=None,\n",
              "                                                    min_samples_leaf=1,\n",
              "                                                    min_samples_split=2,\n",
              "                                                    min_weight_fraction_leaf=0.0,\n",
              "                                                    presort='deprecated',\n",
              "                                                    random_state=1,\n",
              "                                                    splitter='best'),\n",
              "                   iid='de...\n",
              "                                        'max_depth': array([ 0,  1,  2,  3,  4,  5,  6,  7,  8,  9, 10, 11, 12, 13, 14, 15, 16,\n",
              "       17, 18, 19, 20, 21, 22, 23, 24, 25, 26, 27, 28, 29, 30, 31, 32, 33,\n",
              "       34, 35, 36, 37, 38, 39, 40, 41, 42, 43, 44, 45, 46, 47, 48, 49, 50,\n",
              "       51, 52, 53, 54, 55, 56, 57, 58, 59, 60, 61, 62, 63, 64, 65, 66, 67,\n",
              "       68, 69, 70, 71, 72, 73, 74, 75, 76, 77, 78, 79, 80, 81, 82, 83, 84,\n",
              "       85, 86, 87, 88, 89, 90, 91, 92, 93, 94, 95, 96, 97, 98, 99])},\n",
              "                   pre_dispatch='2*n_jobs', random_state=1, refit=True,\n",
              "                   return_train_score=True, scoring=None, verbose=2)"
            ]
          },
          "metadata": {
            "tags": []
          },
          "execution_count": 115
        }
      ]
    },
    {
      "cell_type": "code",
      "metadata": {
        "colab_type": "code",
        "id": "AQE4N47rKfgz",
        "colab": {
          "base_uri": "https://localhost:8080/",
          "height": 34
        },
        "outputId": "ee7846ab-3d83-4938-f167-27f7ae785efb"
      },
      "source": [
        "random_searchdt.best_params_\n",
        "\n"
      ],
      "execution_count": 116,
      "outputs": [
        {
          "output_type": "execute_result",
          "data": {
            "text/plain": [
              "{'criterion': 'gini', 'max_depth': 29}"
            ]
          },
          "metadata": {
            "tags": []
          },
          "execution_count": 116
        }
      ]
    },
    {
      "cell_type": "code",
      "metadata": {
        "colab_type": "code",
        "id": "84SsLcEYKfhA",
        "colab": {
          "base_uri": "https://localhost:8080/",
          "height": 52
        },
        "outputId": "d880c51a-ec4e-449d-ef5e-b388ebc42fb6"
      },
      "source": [
        "dTreeqq = DecisionTreeClassifier(criterion = 'gini', max_depth=29,random_state=1)\n",
        "dTreeqq.fit(train_vectors_0, Y_train)\n",
        "\n",
        "\n",
        "print('Accuracy Score Test : ',dTreeqq.score(test_vectors_0, Y_test)*100)\n",
        "model.append('Decision Tree Hyper Tuned ')\n",
        "accuracytest.append(dTreeqq.score(test_vectors_0, Y_test)*100)\n",
        "\n",
        "\n",
        "print('Accuracy Score Train : ',dTreeqq.score(train_vectors_0, Y_train)*100)\n",
        "accuracytrain.append(dTreeqq.score(train_vectors_0, Y_train)*100)\n"
      ],
      "execution_count": 117,
      "outputs": [
        {
          "output_type": "stream",
          "text": [
            "Accuracy Score Test :  70.76107899807322\n",
            "Accuracy Score Train :  90.64629361965724\n"
          ],
          "name": "stdout"
        }
      ]
    },
    {
      "cell_type": "code",
      "metadata": {
        "colab_type": "code",
        "id": "XFK1-AZeKfhO",
        "colab": {
          "base_uri": "https://localhost:8080/",
          "height": 1000
        },
        "outputId": "c491f347-caa1-4271-8712-3e45eee01dc5"
      },
      "source": [
        "parameter={'C':np.arange(0.6,3,0.1),\n",
        " 'kernel': ['linear','poly','rbf'],\n",
        " 'gamma' : ['scale','auto'],\n",
        " 'degree':np.arange(0,5,1)}\n",
        "\n",
        "random_searchSVM = RandomizedSearchCV(estimator = SVMq, param_distributions= parameter,cv = 3, verbose=2, random_state=1,return_train_score=True)\n",
        "random_searchSVM.fit(train_vectors_0,Y_train)\n",
        "\n"
      ],
      "execution_count": 118,
      "outputs": [
        {
          "output_type": "stream",
          "text": [
            "Fitting 3 folds for each of 10 candidates, totalling 30 fits\n",
            "[CV] kernel=rbf, gamma=auto, degree=4, C=0.7 .........................\n"
          ],
          "name": "stdout"
        },
        {
          "output_type": "stream",
          "text": [
            "[Parallel(n_jobs=1)]: Using backend SequentialBackend with 1 concurrent workers.\n"
          ],
          "name": "stderr"
        },
        {
          "output_type": "stream",
          "text": [
            "[CV] .......... kernel=rbf, gamma=auto, degree=4, C=0.7, total=   2.4s\n",
            "[CV] kernel=rbf, gamma=auto, degree=4, C=0.7 .........................\n"
          ],
          "name": "stdout"
        },
        {
          "output_type": "stream",
          "text": [
            "[Parallel(n_jobs=1)]: Done   1 out of   1 | elapsed:    3.8s remaining:    0.0s\n"
          ],
          "name": "stderr"
        },
        {
          "output_type": "stream",
          "text": [
            "[CV] .......... kernel=rbf, gamma=auto, degree=4, C=0.7, total=   2.4s\n",
            "[CV] kernel=rbf, gamma=auto, degree=4, C=0.7 .........................\n",
            "[CV] .......... kernel=rbf, gamma=auto, degree=4, C=0.7, total=   2.5s\n",
            "[CV] kernel=linear, gamma=scale, degree=0, C=0.7999999999999999 ......\n",
            "[CV]  kernel=linear, gamma=scale, degree=0, C=0.7999999999999999, total=   3.4s\n",
            "[CV] kernel=linear, gamma=scale, degree=0, C=0.7999999999999999 ......\n",
            "[CV]  kernel=linear, gamma=scale, degree=0, C=0.7999999999999999, total=   3.4s\n",
            "[CV] kernel=linear, gamma=scale, degree=0, C=0.7999999999999999 ......\n",
            "[CV]  kernel=linear, gamma=scale, degree=0, C=0.7999999999999999, total=   3.5s\n",
            "[CV] kernel=poly, gamma=auto, degree=0, C=1.2999999999999998 .........\n",
            "[CV]  kernel=poly, gamma=auto, degree=0, C=1.2999999999999998, total=   2.0s\n",
            "[CV] kernel=poly, gamma=auto, degree=0, C=1.2999999999999998 .........\n",
            "[CV]  kernel=poly, gamma=auto, degree=0, C=1.2999999999999998, total=   1.9s\n",
            "[CV] kernel=poly, gamma=auto, degree=0, C=1.2999999999999998 .........\n",
            "[CV]  kernel=poly, gamma=auto, degree=0, C=1.2999999999999998, total=   2.0s\n",
            "[CV] kernel=poly, gamma=scale, degree=1, C=2.6999999999999997 ........\n",
            "[CV]  kernel=poly, gamma=scale, degree=1, C=2.6999999999999997, total=   3.5s\n",
            "[CV] kernel=poly, gamma=scale, degree=1, C=2.6999999999999997 ........\n",
            "[CV]  kernel=poly, gamma=scale, degree=1, C=2.6999999999999997, total=   3.5s\n",
            "[CV] kernel=poly, gamma=scale, degree=1, C=2.6999999999999997 ........\n",
            "[CV]  kernel=poly, gamma=scale, degree=1, C=2.6999999999999997, total=   3.7s\n",
            "[CV] kernel=rbf, gamma=scale, degree=1, C=0.6 ........................\n",
            "[CV] ......... kernel=rbf, gamma=scale, degree=1, C=0.6, total=   5.9s\n",
            "[CV] kernel=rbf, gamma=scale, degree=1, C=0.6 ........................\n",
            "[CV] ......... kernel=rbf, gamma=scale, degree=1, C=0.6, total=   5.9s\n",
            "[CV] kernel=rbf, gamma=scale, degree=1, C=0.6 ........................\n",
            "[CV] ......... kernel=rbf, gamma=scale, degree=1, C=0.6, total=   6.0s\n",
            "[CV] kernel=rbf, gamma=auto, degree=1, C=0.8999999999999999 ..........\n",
            "[CV]  kernel=rbf, gamma=auto, degree=1, C=0.8999999999999999, total=   2.4s\n",
            "[CV] kernel=rbf, gamma=auto, degree=1, C=0.8999999999999999 ..........\n",
            "[CV]  kernel=rbf, gamma=auto, degree=1, C=0.8999999999999999, total=   2.4s\n",
            "[CV] kernel=rbf, gamma=auto, degree=1, C=0.8999999999999999 ..........\n",
            "[CV]  kernel=rbf, gamma=auto, degree=1, C=0.8999999999999999, total=   2.4s\n",
            "[CV] kernel=linear, gamma=scale, degree=4, C=2.0999999999999996 ......\n",
            "[CV]  kernel=linear, gamma=scale, degree=4, C=2.0999999999999996, total=   3.5s\n",
            "[CV] kernel=linear, gamma=scale, degree=4, C=2.0999999999999996 ......\n",
            "[CV]  kernel=linear, gamma=scale, degree=4, C=2.0999999999999996, total=   3.5s\n",
            "[CV] kernel=linear, gamma=scale, degree=4, C=2.0999999999999996 ......\n",
            "[CV]  kernel=linear, gamma=scale, degree=4, C=2.0999999999999996, total=   3.6s\n",
            "[CV] kernel=rbf, gamma=auto, degree=1, C=1.0999999999999999 ..........\n",
            "[CV]  kernel=rbf, gamma=auto, degree=1, C=1.0999999999999999, total=   2.4s\n",
            "[CV] kernel=rbf, gamma=auto, degree=1, C=1.0999999999999999 ..........\n",
            "[CV]  kernel=rbf, gamma=auto, degree=1, C=1.0999999999999999, total=   2.4s\n",
            "[CV] kernel=rbf, gamma=auto, degree=1, C=1.0999999999999999 ..........\n",
            "[CV]  kernel=rbf, gamma=auto, degree=1, C=1.0999999999999999, total=   2.5s\n",
            "[CV] kernel=poly, gamma=auto, degree=2, C=1.9 ........................\n",
            "[CV] ......... kernel=poly, gamma=auto, degree=2, C=1.9, total=   2.2s\n",
            "[CV] kernel=poly, gamma=auto, degree=2, C=1.9 ........................\n",
            "[CV] ......... kernel=poly, gamma=auto, degree=2, C=1.9, total=   2.2s\n",
            "[CV] kernel=poly, gamma=auto, degree=2, C=1.9 ........................\n",
            "[CV] ......... kernel=poly, gamma=auto, degree=2, C=1.9, total=   2.2s\n",
            "[CV] kernel=rbf, gamma=auto, degree=4, C=2.1999999999999997 ..........\n",
            "[CV]  kernel=rbf, gamma=auto, degree=4, C=2.1999999999999997, total=   2.4s\n",
            "[CV] kernel=rbf, gamma=auto, degree=4, C=2.1999999999999997 ..........\n",
            "[CV]  kernel=rbf, gamma=auto, degree=4, C=2.1999999999999997, total=   2.4s\n",
            "[CV] kernel=rbf, gamma=auto, degree=4, C=2.1999999999999997 ..........\n",
            "[CV]  kernel=rbf, gamma=auto, degree=4, C=2.1999999999999997, total=   2.4s\n"
          ],
          "name": "stdout"
        },
        {
          "output_type": "stream",
          "text": [
            "[Parallel(n_jobs=1)]: Done  30 out of  30 | elapsed:  2.3min finished\n"
          ],
          "name": "stderr"
        },
        {
          "output_type": "execute_result",
          "data": {
            "text/plain": [
              "RandomizedSearchCV(cv=3, error_score=nan,\n",
              "                   estimator=SVC(C=1.0, break_ties=False, cache_size=200,\n",
              "                                 class_weight=None, coef0=0.0,\n",
              "                                 decision_function_shape='ovr', degree=3,\n",
              "                                 gamma='auto', kernel='linear', max_iter=-1,\n",
              "                                 probability=False, random_state=1,\n",
              "                                 shrinking=True, tol=0.001, verbose=False),\n",
              "                   iid='deprecated', n_iter=10, n_jobs=None,\n",
              "                   param_distributions={'C': array([0.6, 0.7, 0.8, 0.9, 1. , 1.1, 1.2, 1.3, 1.4, 1.5, 1.6, 1.7, 1.8,\n",
              "       1.9, 2. , 2.1, 2.2, 2.3, 2.4, 2.5, 2.6, 2.7, 2.8, 2.9]),\n",
              "                                        'degree': array([0, 1, 2, 3, 4]),\n",
              "                                        'gamma': ['scale', 'auto'],\n",
              "                                        'kernel': ['linear', 'poly', 'rbf']},\n",
              "                   pre_dispatch='2*n_jobs', random_state=1, refit=True,\n",
              "                   return_train_score=True, scoring=None, verbose=2)"
            ]
          },
          "metadata": {
            "tags": []
          },
          "execution_count": 118
        }
      ]
    },
    {
      "cell_type": "code",
      "metadata": {
        "colab_type": "code",
        "id": "VSIA63d3Kfha",
        "colab": {
          "base_uri": "https://localhost:8080/",
          "height": 34
        },
        "outputId": "751891b6-9a05-4176-dd26-0da7fbccce56"
      },
      "source": [
        "random_searchSVM.best_params_"
      ],
      "execution_count": 119,
      "outputs": [
        {
          "output_type": "execute_result",
          "data": {
            "text/plain": [
              "{'C': 2.6999999999999997, 'degree': 1, 'gamma': 'scale', 'kernel': 'poly'}"
            ]
          },
          "metadata": {
            "tags": []
          },
          "execution_count": 119
        }
      ]
    },
    {
      "cell_type": "code",
      "metadata": {
        "colab_type": "code",
        "id": "VrNS-x-kKfhh",
        "colab": {
          "base_uri": "https://localhost:8080/",
          "height": 52
        },
        "outputId": "efaacf3f-c749-4f60-a5a7-86abd5942f3c"
      },
      "source": [
        "SVMqq = svm.SVC(C=2.69, kernel='poly', degree=1, gamma='scale')\n",
        "SVMqq.fit(train_vectors_0,Y_train)\n",
        "\n",
        "#Test set\n",
        "predictions_SVM = SVMqq.predict(test_vectors_0)\n",
        "# Use accuracy_score function to get the accuracy\n",
        "print(\"Accuracy Score Test: \",accuracy_score(predictions_SVM, Y_test)*100)\n",
        "\n",
        "model.append('Support Vector Machines- Hypertuned')\n",
        "accuracytest.append(accuracy_score(predictions_SVM, Y_test)*100)\n",
        "\n",
        "#Train set\n",
        "\n",
        "predictions_SVM = SVMqq.predict(train_vectors_0)\n",
        "# Use accuracy_score function to get the accuracy\n",
        "print(\"Accuracy Score Train : \",accuracy_score(predictions_SVM, Y_train)*100)\n",
        "\n",
        "accuracytrain.append(accuracy_score(predictions_SVM, Y_train)*100)\n",
        "\n"
      ],
      "execution_count": 120,
      "outputs": [
        {
          "output_type": "stream",
          "text": [
            "Accuracy Score Test:  80.49132947976878\n",
            "Accuracy Score Train :  97.64608713607268\n"
          ],
          "name": "stdout"
        }
      ]
    },
    {
      "cell_type": "markdown",
      "metadata": {
        "colab_type": "text",
        "id": "5hxrX6hnKfhn"
      },
      "source": [
        "#### **Sequential Model**"
      ]
    },
    {
      "cell_type": "code",
      "metadata": {
        "colab_type": "code",
        "id": "SzEGWJpWKfho",
        "colab": {
          "base_uri": "https://localhost:8080/",
          "height": 52
        },
        "outputId": "3908051c-600a-42e7-bfad-1c54f291e733"
      },
      "source": [
        "tok = Tokenizer(num_words = max_features)\n",
        "tok.fit_on_texts(data.Description)\n",
        "X = tok.texts_to_sequences(data['Description'])\n",
        "X = pad_sequences(X, maxlen = maxlen)\n",
        "Y = np.asarray(data['Assignment group'])\n",
        "\n",
        "X_train, X_test, Y_train, Y_test = train_test_split(X, Y, test_size=0.3, random_state=1)\n",
        "print(X_train.shape,Y_train.shape)\n",
        "print(X_test.shape,Y_test.shape)"
      ],
      "execution_count": 121,
      "outputs": [
        {
          "output_type": "stream",
          "text": [
            "(4843, 350) (4843,)\n",
            "(2076, 350) (2076,)\n"
          ],
          "name": "stdout"
        }
      ]
    },
    {
      "cell_type": "code",
      "metadata": {
        "colab_type": "code",
        "id": "od1roRSVKfhy",
        "colab": {
          "base_uri": "https://localhost:8080/",
          "height": 347
        },
        "outputId": "c6091b03-ef2b-46b2-f7a7-49357c746909"
      },
      "source": [
        "embed_dim = 256\n",
        "lstm_out = 64\n",
        "max_features = 2000\n",
        "maxlen = 350\n",
        "embedding_size = 200\n",
        "\n",
        "modelsq = Sequential()\n",
        "modelsq.add(Embedding(max_features, embed_dim,input_length = X.shape[1]))\n",
        "modelsq.add(SpatialDropout1D(0.4))\n",
        "modelsq.add(MaxPooling1D(pool_size=4))\n",
        "modelsq.add(LSTM(100))\n",
        "#model.add(LSTM(lstm_out, dropout=0.2, recurrent_dropout=0.4))\n",
        "modelsq.add(Dense(350,activation='softmax'))\n",
        "modelsq.compile(loss = 'sparse_categorical_crossentropy', optimizer='adam',metrics = ['accuracy'])\n",
        "print(modelsq.summary())\n",
        "\n"
      ],
      "execution_count": 122,
      "outputs": [
        {
          "output_type": "stream",
          "text": [
            "Model: \"sequential_11\"\n",
            "_________________________________________________________________\n",
            "Layer (type)                 Output Shape              Param #   \n",
            "=================================================================\n",
            "embedding_11 (Embedding)     (None, 350, 256)          512000    \n",
            "_________________________________________________________________\n",
            "spatial_dropout1d_5 (Spatial (None, 350, 256)          0         \n",
            "_________________________________________________________________\n",
            "max_pooling1d_8 (MaxPooling1 (None, 87, 256)           0         \n",
            "_________________________________________________________________\n",
            "lstm_11 (LSTM)               (None, 100)               142800    \n",
            "_________________________________________________________________\n",
            "dense_11 (Dense)             (None, 350)               35350     \n",
            "=================================================================\n",
            "Total params: 690,150\n",
            "Trainable params: 690,150\n",
            "Non-trainable params: 0\n",
            "_________________________________________________________________\n",
            "None\n"
          ],
          "name": "stdout"
        }
      ]
    },
    {
      "cell_type": "code",
      "metadata": {
        "colab_type": "code",
        "id": "Ii6N6lA8Kfh4",
        "colab": {
          "base_uri": "https://localhost:8080/",
          "height": 1000
        },
        "outputId": "859e7d1a-f1ac-4ec7-d27d-3ebd605f4390"
      },
      "source": [
        "histq=modelsq.fit(X_train,Y_train, validation_data = (X_test, Y_test), epochs=30, batch_size=32, verbose=2) \n",
        "# Final evaluation of the model\n",
        "model.append('Sequential Model')\n",
        "scores = modelsq.evaluate(X_test, Y_test, verbose=0)\n",
        "accuracytest.append(scores[1]*100)\n",
        "scores = modelsq.evaluate(X_train, Y_train, verbose=0)\n",
        "accuracytrain.append(scores[1]*100)"
      ],
      "execution_count": 123,
      "outputs": [
        {
          "output_type": "stream",
          "text": [
            "/usr/local/lib/python3.6/dist-packages/tensorflow/python/framework/indexed_slices.py:434: UserWarning: Converting sparse IndexedSlices to a dense Tensor of unknown shape. This may consume a large amount of memory.\n",
            "  \"Converting sparse IndexedSlices to a dense Tensor of unknown shape. \"\n"
          ],
          "name": "stderr"
        },
        {
          "output_type": "stream",
          "text": [
            "Train on 4843 samples, validate on 2076 samples\n",
            "Epoch 1/30\n",
            " - 28s - loss: 2.1619 - accuracy: 0.5587 - val_loss: 1.5815 - val_accuracy: 0.5930\n",
            "Epoch 2/30\n",
            " - 27s - loss: 1.4061 - accuracy: 0.6438 - val_loss: 1.2274 - val_accuracy: 0.6715\n",
            "Epoch 3/30\n",
            " - 27s - loss: 1.1709 - accuracy: 0.6733 - val_loss: 1.1122 - val_accuracy: 0.6932\n",
            "Epoch 4/30\n",
            " - 27s - loss: 1.0364 - accuracy: 0.6987 - val_loss: 1.0512 - val_accuracy: 0.7042\n",
            "Epoch 5/30\n",
            " - 27s - loss: 0.9482 - accuracy: 0.7161 - val_loss: 1.0386 - val_accuracy: 0.7095\n",
            "Epoch 6/30\n",
            " - 28s - loss: 0.8701 - accuracy: 0.7246 - val_loss: 1.0076 - val_accuracy: 0.7139\n",
            "Epoch 7/30\n",
            " - 28s - loss: 0.7972 - accuracy: 0.7462 - val_loss: 0.9893 - val_accuracy: 0.7076\n",
            "Epoch 8/30\n",
            " - 27s - loss: 0.7420 - accuracy: 0.7607 - val_loss: 0.9863 - val_accuracy: 0.7071\n",
            "Epoch 9/30\n",
            " - 27s - loss: 0.6727 - accuracy: 0.7799 - val_loss: 0.9943 - val_accuracy: 0.7283\n",
            "Epoch 10/30\n",
            " - 28s - loss: 0.6159 - accuracy: 0.8026 - val_loss: 0.9911 - val_accuracy: 0.7274\n",
            "Epoch 11/30\n",
            " - 27s - loss: 0.5583 - accuracy: 0.8204 - val_loss: 0.9992 - val_accuracy: 0.7235\n",
            "Epoch 12/30\n",
            " - 27s - loss: 0.5139 - accuracy: 0.8330 - val_loss: 0.9969 - val_accuracy: 0.7351\n",
            "Epoch 13/30\n",
            " - 27s - loss: 0.4705 - accuracy: 0.8501 - val_loss: 1.0198 - val_accuracy: 0.7346\n",
            "Epoch 14/30\n",
            " - 28s - loss: 0.4375 - accuracy: 0.8716 - val_loss: 1.0063 - val_accuracy: 0.7254\n",
            "Epoch 15/30\n",
            " - 28s - loss: 0.3952 - accuracy: 0.8788 - val_loss: 1.0157 - val_accuracy: 0.7317\n",
            "Epoch 16/30\n",
            " - 28s - loss: 0.3819 - accuracy: 0.8854 - val_loss: 1.0484 - val_accuracy: 0.7384\n",
            "Epoch 17/30\n",
            " - 27s - loss: 0.3495 - accuracy: 0.8959 - val_loss: 1.0493 - val_accuracy: 0.7442\n",
            "Epoch 18/30\n",
            " - 28s - loss: 0.3265 - accuracy: 0.9025 - val_loss: 1.0545 - val_accuracy: 0.7336\n",
            "Epoch 19/30\n",
            " - 27s - loss: 0.3024 - accuracy: 0.9174 - val_loss: 1.1020 - val_accuracy: 0.7447\n",
            "Epoch 20/30\n",
            " - 28s - loss: 0.2764 - accuracy: 0.9248 - val_loss: 1.0929 - val_accuracy: 0.7336\n",
            "Epoch 21/30\n",
            " - 27s - loss: 0.2621 - accuracy: 0.9238 - val_loss: 1.1128 - val_accuracy: 0.7360\n",
            "Epoch 22/30\n",
            " - 29s - loss: 0.2385 - accuracy: 0.9317 - val_loss: 1.1581 - val_accuracy: 0.7413\n",
            "Epoch 23/30\n",
            " - 31s - loss: 0.2259 - accuracy: 0.9374 - val_loss: 1.1503 - val_accuracy: 0.7404\n",
            "Epoch 24/30\n",
            " - 28s - loss: 0.2069 - accuracy: 0.9407 - val_loss: 1.1949 - val_accuracy: 0.7500\n",
            "Epoch 25/30\n",
            " - 28s - loss: 0.1989 - accuracy: 0.9453 - val_loss: 1.1874 - val_accuracy: 0.7418\n",
            "Epoch 26/30\n",
            " - 28s - loss: 0.1917 - accuracy: 0.9478 - val_loss: 1.1581 - val_accuracy: 0.7404\n",
            "Epoch 27/30\n",
            " - 28s - loss: 0.1905 - accuracy: 0.9440 - val_loss: 1.2181 - val_accuracy: 0.7539\n",
            "Epoch 28/30\n",
            " - 28s - loss: 0.1815 - accuracy: 0.9478 - val_loss: 1.2457 - val_accuracy: 0.7543\n",
            "Epoch 29/30\n",
            " - 28s - loss: 0.1690 - accuracy: 0.9502 - val_loss: 1.2427 - val_accuracy: 0.7505\n",
            "Epoch 30/30\n",
            " - 28s - loss: 0.1605 - accuracy: 0.9531 - val_loss: 1.2202 - val_accuracy: 0.7433\n"
          ],
          "name": "stdout"
        }
      ]
    },
    {
      "cell_type": "code",
      "metadata": {
        "colab_type": "code",
        "id": "fRC01WXWKfiE",
        "colab": {
          "base_uri": "https://localhost:8080/",
          "height": 279
        },
        "outputId": "839c2b85-5913-4264-8e3f-28a307293109"
      },
      "source": [
        "plt.plot(histq.history['val_accuracy'],color='black')\n",
        "plt.plot(histq.history['accuracy'])\n",
        "plt.xlabel('Accuracy')\n",
        "plt.ylabel('Iterations')\n",
        "plt.show()"
      ],
      "execution_count": 124,
      "outputs": [
        {
          "output_type": "display_data",
          "data": {
            "image/png": "[encoded data removed]",
            "text/plain": [
              "<Figure size 432x288 with 1 Axes>"
            ]
          },
          "metadata": {
            "tags": [],
            "needs_background": "light"
          }
        }
      ]
    },
    {
      "cell_type": "code",
      "metadata": {
        "colab_type": "code",
        "id": "smfkqKrJKfiN",
        "colab": {
          "base_uri": "https://localhost:8080/",
          "height": 282
        },
        "outputId": "4b9dd093-6b16-46a3-e3af-fe8fea929d57"
      },
      "source": [
        "plt.plot(histq.history['val_loss'],color='black')\n",
        "plt.plot(histq.history['loss'])\n",
        "plt.xlabel('Loss')\n",
        "plt.ylabel('Iterations')\n",
        "plt.show()"
      ],
      "execution_count": 125,
      "outputs": [
        {
          "output_type": "display_data",
          "data": {
            "image/png": "[encoded data removed]",
            "text/plain": [
              "<Figure size 432x288 with 1 Axes>"
            ]
          },
          "metadata": {
            "tags": [],
            "needs_background": "light"
          }
        }
      ]
    },
    {
      "cell_type": "markdown",
      "metadata": {
        "colab_type": "text",
        "id": "mpOWzYpMKfiV"
      },
      "source": [
        "#### **Bidirectional LSTM**"
      ]
    },
    {
      "cell_type": "code",
      "metadata": {
        "colab_type": "code",
        "id": "mjPw2hkGKfiX",
        "colab": {
          "base_uri": "https://localhost:8080/",
          "height": 1000
        },
        "outputId": "00876b09-1821-41df-cf66-2ee9f02d7857"
      },
      "source": [
        "\n",
        "lsmodq = lstmm()\n",
        "\n",
        "lshistq = lsmodq.fit(X_train,Y_train,\n",
        "         epochs = 30,\n",
        "         batch_size = 128,\n",
        "         validation_data = (X_test, Y_test))"
      ],
      "execution_count": 126,
      "outputs": [
        {
          "output_type": "stream",
          "text": [
            "/usr/local/lib/python3.6/dist-packages/tensorflow/python/framework/indexed_slices.py:434: UserWarning: Converting sparse IndexedSlices to a dense Tensor of unknown shape. This may consume a large amount of memory.\n",
            "  \"Converting sparse IndexedSlices to a dense Tensor of unknown shape. \"\n"
          ],
          "name": "stderr"
        },
        {
          "output_type": "stream",
          "text": [
            "Train on 4843 samples, validate on 2076 samples\n",
            "Epoch 1/30\n",
            "4843/4843 [==============================] - 57s 12ms/step - loss: 4.5335 - acc: 0.5077 - val_loss: 2.2979 - val_acc: 0.5930\n",
            "Epoch 2/30\n",
            "4843/4843 [==============================] - 54s 11ms/step - loss: 1.9099 - acc: 0.5660 - val_loss: 1.6905 - val_acc: 0.5930\n",
            "Epoch 3/30\n",
            "4843/4843 [==============================] - 54s 11ms/step - loss: 1.7172 - acc: 0.5695 - val_loss: 1.5987 - val_acc: 0.5930\n",
            "Epoch 4/30\n",
            "4843/4843 [==============================] - 54s 11ms/step - loss: 1.5822 - acc: 0.6190 - val_loss: 1.4626 - val_acc: 0.6710\n",
            "Epoch 5/30\n",
            "4843/4843 [==============================] - 55s 11ms/step - loss: 1.4400 - acc: 0.6599 - val_loss: 1.3486 - val_acc: 0.6705\n",
            "Epoch 6/30\n",
            "4843/4843 [==============================] - 54s 11ms/step - loss: 1.3316 - acc: 0.6618 - val_loss: 1.2812 - val_acc: 0.6710\n",
            "Epoch 7/30\n",
            "4843/4843 [==============================] - 59s 12ms/step - loss: 1.2430 - acc: 0.6612 - val_loss: 1.2312 - val_acc: 0.6700\n",
            "Epoch 8/30\n",
            "4843/4843 [==============================] - 54s 11ms/step - loss: 1.1732 - acc: 0.6616 - val_loss: 1.1903 - val_acc: 0.6705\n",
            "Epoch 9/30\n",
            "4843/4843 [==============================] - 54s 11ms/step - loss: 1.1195 - acc: 0.6705 - val_loss: 1.1675 - val_acc: 0.6903\n",
            "Epoch 10/30\n",
            "4843/4843 [==============================] - 54s 11ms/step - loss: 1.0721 - acc: 0.6938 - val_loss: 1.1519 - val_acc: 0.6956\n",
            "Epoch 11/30\n",
            "4843/4843 [==============================] - 54s 11ms/step - loss: 1.0278 - acc: 0.7018 - val_loss: 1.1313 - val_acc: 0.6946\n",
            "Epoch 12/30\n",
            "4843/4843 [==============================] - 54s 11ms/step - loss: 0.9938 - acc: 0.7105 - val_loss: 1.1152 - val_acc: 0.6994\n",
            "Epoch 13/30\n",
            "4843/4843 [==============================] - 54s 11ms/step - loss: 0.9502 - acc: 0.7142 - val_loss: 1.1155 - val_acc: 0.6936\n",
            "Epoch 14/30\n",
            "4843/4843 [==============================] - 54s 11ms/step - loss: 0.9075 - acc: 0.7248 - val_loss: 1.1181 - val_acc: 0.6961\n",
            "Epoch 15/30\n",
            "4843/4843 [==============================] - 54s 11ms/step - loss: 0.8848 - acc: 0.7312 - val_loss: 1.0964 - val_acc: 0.6908\n",
            "Epoch 16/30\n",
            "4843/4843 [==============================] - 54s 11ms/step - loss: 0.8563 - acc: 0.7363 - val_loss: 1.1135 - val_acc: 0.7018\n",
            "Epoch 17/30\n",
            "4843/4843 [==============================] - 54s 11ms/step - loss: 0.8236 - acc: 0.7464 - val_loss: 1.1061 - val_acc: 0.7018\n",
            "Epoch 18/30\n",
            "4843/4843 [==============================] - 55s 11ms/step - loss: 0.8083 - acc: 0.7499 - val_loss: 1.1236 - val_acc: 0.7091\n",
            "Epoch 19/30\n",
            "4843/4843 [==============================] - 57s 12ms/step - loss: 0.7828 - acc: 0.7582 - val_loss: 1.1233 - val_acc: 0.6985\n",
            "Epoch 20/30\n",
            "4843/4843 [==============================] - 54s 11ms/step - loss: 0.7555 - acc: 0.7665 - val_loss: 1.1489 - val_acc: 0.7028\n",
            "Epoch 21/30\n",
            "4843/4843 [==============================] - 54s 11ms/step - loss: 0.7418 - acc: 0.7636 - val_loss: 1.1509 - val_acc: 0.6975\n",
            "Epoch 22/30\n",
            "4843/4843 [==============================] - 54s 11ms/step - loss: 0.7273 - acc: 0.7720 - val_loss: 1.1658 - val_acc: 0.6970\n",
            "Epoch 23/30\n",
            "4843/4843 [==============================] - 54s 11ms/step - loss: 0.7091 - acc: 0.7768 - val_loss: 1.1769 - val_acc: 0.7115\n",
            "Epoch 24/30\n",
            "4843/4843 [==============================] - 54s 11ms/step - loss: 0.6850 - acc: 0.7778 - val_loss: 1.1679 - val_acc: 0.6970\n",
            "Epoch 25/30\n",
            "4843/4843 [==============================] - 54s 11ms/step - loss: 0.6632 - acc: 0.7840 - val_loss: 1.1673 - val_acc: 0.7071\n",
            "Epoch 26/30\n",
            "4843/4843 [==============================] - 54s 11ms/step - loss: 0.6538 - acc: 0.7908 - val_loss: 1.1792 - val_acc: 0.7033\n",
            "Epoch 27/30\n",
            "4843/4843 [==============================] - 54s 11ms/step - loss: 0.6439 - acc: 0.7904 - val_loss: 1.1856 - val_acc: 0.7110\n",
            "Epoch 28/30\n",
            "4843/4843 [==============================] - 54s 11ms/step - loss: 0.6233 - acc: 0.7989 - val_loss: 1.1934 - val_acc: 0.7013\n",
            "Epoch 29/30\n",
            "4843/4843 [==============================] - 54s 11ms/step - loss: 0.6116 - acc: 0.7985 - val_loss: 1.1968 - val_acc: 0.6936\n",
            "Epoch 30/30\n",
            "4843/4843 [==============================] - 58s 12ms/step - loss: 0.5949 - acc: 0.8051 - val_loss: 1.2113 - val_acc: 0.6946\n"
          ],
          "name": "stdout"
        }
      ]
    },
    {
      "cell_type": "code",
      "metadata": {
        "colab_type": "code",
        "id": "-Vxkj_DHKfii",
        "colab": {}
      },
      "source": [
        "model.append('Bidirectional LSTM Model')\n",
        "scores = lsmodq.evaluate(X_test, Y_test, verbose=0)\n",
        "accuracytest.append(scores[1]*100)\n",
        "scores = lsmodq.evaluate(X_train, Y_train, verbose=0)\n",
        "accuracytrain.append(scores[1]*100)\n",
        "\n",
        "\n"
      ],
      "execution_count": 127,
      "outputs": []
    },
    {
      "cell_type": "code",
      "metadata": {
        "colab_type": "code",
        "id": "i2MbCUBtKfiq",
        "colab": {
          "base_uri": "https://localhost:8080/",
          "height": 279
        },
        "outputId": "243f876a-87a5-4a33-cb58-6d0e0277a496"
      },
      "source": [
        "plt.plot(lshistq.history['val_acc'],color='black')\n",
        "plt.plot(lshistq.history['acc'])\n",
        "plt.xlabel('Accuracy')\n",
        "plt.ylabel('Iterations')\n",
        "plt.show()"
      ],
      "execution_count": 128,
      "outputs": [
        {
          "output_type": "display_data",
          "data": {
            "image/png": "[encoded data removed]",
            "text/plain": [
              "<Figure size 432x288 with 1 Axes>"
            ]
          },
          "metadata": {
            "tags": [],
            "needs_background": "light"
          }
        }
      ]
    },
    {
      "cell_type": "code",
      "metadata": {
        "colab_type": "code",
        "id": "S_sKsVjVKfi2",
        "colab": {
          "base_uri": "https://localhost:8080/",
          "height": 279
        },
        "outputId": "f1d948c3-c649-4ca3-9a3b-ae3dd0e92ac0"
      },
      "source": [
        "plt.plot(lshistq.history['val_loss'],color='black')\n",
        "plt.plot(lshistq.history['loss'])\n",
        "plt.xlabel('Loss')\n",
        "plt.ylabel('Iterations')\n",
        "plt.show()"
      ],
      "execution_count": 129,
      "outputs": [
        {
          "output_type": "display_data",
          "data": {
            "image/png": "[encoded data removed]",
            "text/plain": [
              "<Figure size 432x288 with 1 Axes>"
            ]
          },
          "metadata": {
            "tags": [],
            "needs_background": "light"
          }
        }
      ]
    },
    {
      "cell_type": "markdown",
      "metadata": {
        "colab_type": "text",
        "id": "PG8rlvYzKfi_"
      },
      "source": [
        "#### **1D Convolution**"
      ]
    },
    {
      "cell_type": "code",
      "metadata": {
        "colab_type": "code",
        "id": "xqK1XhA5KfjB",
        "colab": {
          "base_uri": "https://localhost:8080/",
          "height": 1000
        },
        "outputId": "bc0ea976-75b5-47a7-9c71-cba177a1c890"
      },
      "source": [
        "  \n",
        "convmodq = conv1d()\n",
        "\n",
        "\n",
        "\n",
        "convhistq = convmodq.fit(X_train, Y_train,\n",
        "                      epochs = 30,\n",
        "                      batch_size = 128,\n",
        "                      validation_data = (X_test, Y_test))"
      ],
      "execution_count": 130,
      "outputs": [
        {
          "output_type": "stream",
          "text": [
            "/usr/local/lib/python3.6/dist-packages/tensorflow/python/framework/indexed_slices.py:434: UserWarning: Converting sparse IndexedSlices to a dense Tensor of unknown shape. This may consume a large amount of memory.\n",
            "  \"Converting sparse IndexedSlices to a dense Tensor of unknown shape. \"\n"
          ],
          "name": "stderr"
        },
        {
          "output_type": "stream",
          "text": [
            "Train on 4843 samples, validate on 2076 samples\n",
            "Epoch 1/30\n",
            "4843/4843 [==============================] - 24s 5ms/step - loss: 4.1676 - acc: 0.4543 - val_loss: 2.1182 - val_acc: 0.6238\n",
            "Epoch 2/30\n",
            "4843/4843 [==============================] - 23s 5ms/step - loss: 1.6208 - acc: 0.6180 - val_loss: 1.7413 - val_acc: 0.6604\n",
            "Epoch 3/30\n",
            "4843/4843 [==============================] - 23s 5ms/step - loss: 1.3821 - acc: 0.6469 - val_loss: 1.5309 - val_acc: 0.6686\n",
            "Epoch 4/30\n",
            "4843/4843 [==============================] - 23s 5ms/step - loss: 1.2715 - acc: 0.6529 - val_loss: 1.4781 - val_acc: 0.6777\n",
            "Epoch 5/30\n",
            "4843/4843 [==============================] - 23s 5ms/step - loss: 1.1658 - acc: 0.6653 - val_loss: 1.3296 - val_acc: 0.6922\n",
            "Epoch 6/30\n",
            "4843/4843 [==============================] - 23s 5ms/step - loss: 1.0741 - acc: 0.6824 - val_loss: 1.2872 - val_acc: 0.6821\n",
            "Epoch 7/30\n",
            "4843/4843 [==============================] - 24s 5ms/step - loss: 0.9779 - acc: 0.7066 - val_loss: 1.1535 - val_acc: 0.6946\n",
            "Epoch 8/30\n",
            "4843/4843 [==============================] - 24s 5ms/step - loss: 0.9127 - acc: 0.7210 - val_loss: 1.1045 - val_acc: 0.7163\n",
            "Epoch 9/30\n",
            "4843/4843 [==============================] - 24s 5ms/step - loss: 0.8405 - acc: 0.7386 - val_loss: 1.0334 - val_acc: 0.7216\n",
            "Epoch 10/30\n",
            "4843/4843 [==============================] - 24s 5ms/step - loss: 0.7795 - acc: 0.7570 - val_loss: 1.0073 - val_acc: 0.7360\n",
            "Epoch 11/30\n",
            "4843/4843 [==============================] - 24s 5ms/step - loss: 0.7351 - acc: 0.7652 - val_loss: 0.9951 - val_acc: 0.7331\n",
            "Epoch 12/30\n",
            "4843/4843 [==============================] - 24s 5ms/step - loss: 0.6682 - acc: 0.7894 - val_loss: 0.9949 - val_acc: 0.7404\n",
            "Epoch 13/30\n",
            "4843/4843 [==============================] - 24s 5ms/step - loss: 0.6359 - acc: 0.7962 - val_loss: 0.9847 - val_acc: 0.7307\n",
            "Epoch 14/30\n",
            "4843/4843 [==============================] - 23s 5ms/step - loss: 0.5969 - acc: 0.8067 - val_loss: 0.9719 - val_acc: 0.7341\n",
            "Epoch 15/30\n",
            "4843/4843 [==============================] - 23s 5ms/step - loss: 0.5456 - acc: 0.8309 - val_loss: 0.9895 - val_acc: 0.7360\n",
            "Epoch 16/30\n",
            "4843/4843 [==============================] - 23s 5ms/step - loss: 0.5178 - acc: 0.8313 - val_loss: 0.9728 - val_acc: 0.7389\n",
            "Epoch 17/30\n",
            "4843/4843 [==============================] - 23s 5ms/step - loss: 0.4790 - acc: 0.8453 - val_loss: 1.0069 - val_acc: 0.7370\n",
            "Epoch 18/30\n",
            "4843/4843 [==============================] - 23s 5ms/step - loss: 0.4441 - acc: 0.8627 - val_loss: 1.0233 - val_acc: 0.7317\n",
            "Epoch 19/30\n",
            "4843/4843 [==============================] - 23s 5ms/step - loss: 0.4212 - acc: 0.8670 - val_loss: 1.0275 - val_acc: 0.7461\n",
            "Epoch 20/30\n",
            "4843/4843 [==============================] - 24s 5ms/step - loss: 0.3799 - acc: 0.8819 - val_loss: 1.0496 - val_acc: 0.7336\n",
            "Epoch 21/30\n",
            "4843/4843 [==============================] - 24s 5ms/step - loss: 0.3573 - acc: 0.8856 - val_loss: 1.0671 - val_acc: 0.7389\n",
            "Epoch 22/30\n",
            "4843/4843 [==============================] - 23s 5ms/step - loss: 0.3424 - acc: 0.8939 - val_loss: 1.0582 - val_acc: 0.7408\n",
            "Epoch 23/30\n",
            "4843/4843 [==============================] - 23s 5ms/step - loss: 0.3340 - acc: 0.8984 - val_loss: 1.0540 - val_acc: 0.7490\n",
            "Epoch 24/30\n",
            "4843/4843 [==============================] - 23s 5ms/step - loss: 0.3050 - acc: 0.9096 - val_loss: 1.1005 - val_acc: 0.7486\n",
            "Epoch 25/30\n",
            "4843/4843 [==============================] - 23s 5ms/step - loss: 0.2765 - acc: 0.9139 - val_loss: 1.1029 - val_acc: 0.7510\n",
            "Epoch 26/30\n",
            "4843/4843 [==============================] - 23s 5ms/step - loss: 0.2700 - acc: 0.9215 - val_loss: 1.1283 - val_acc: 0.7481\n",
            "Epoch 27/30\n",
            "4843/4843 [==============================] - 23s 5ms/step - loss: 0.2455 - acc: 0.9271 - val_loss: 1.1101 - val_acc: 0.7495\n",
            "Epoch 28/30\n",
            "4843/4843 [==============================] - 23s 5ms/step - loss: 0.2275 - acc: 0.9319 - val_loss: 1.1216 - val_acc: 0.7476\n",
            "Epoch 29/30\n",
            "4843/4843 [==============================] - 24s 5ms/step - loss: 0.2208 - acc: 0.9325 - val_loss: 1.1881 - val_acc: 0.7461\n",
            "Epoch 30/30\n",
            "4843/4843 [==============================] - 23s 5ms/step - loss: 0.2065 - acc: 0.9414 - val_loss: 1.1670 - val_acc: 0.7514\n"
          ],
          "name": "stdout"
        }
      ]
    },
    {
      "cell_type": "code",
      "metadata": {
        "colab_type": "code",
        "id": "tYKDUMtPKfjF",
        "colab": {}
      },
      "source": [
        "model.append('1D Convolution Model')\n",
        "scores = convmodq.evaluate(X_test, Y_test, verbose=0)\n",
        "accuracytest.append(scores[1]*100)\n",
        "scores = convmodq.evaluate(X_train, Y_train, verbose=0)\n",
        "accuracytrain.append(scores[1]*100)"
      ],
      "execution_count": 131,
      "outputs": []
    },
    {
      "cell_type": "code",
      "metadata": {
        "colab_type": "code",
        "id": "ZC_CPAs5KfjL",
        "colab": {
          "base_uri": "https://localhost:8080/",
          "height": 279
        },
        "outputId": "abd3891e-4503-46fc-b615-158818deeadd"
      },
      "source": [
        "plt.plot(convhistq.history['val_acc'],color='black')\n",
        "plt.plot(convhistq.history['acc'])\n",
        "plt.xlabel('Accuracy')\n",
        "plt.ylabel('Iterations')\n",
        "plt.show()"
      ],
      "execution_count": 132,
      "outputs": [
        {
          "output_type": "display_data",
          "data": {
            "image/png": "[encoded data removed]",
            "text/plain": [
              "<Figure size 432x288 with 1 Axes>"
            ]
          },
          "metadata": {
            "tags": [],
            "needs_background": "light"
          }
        }
      ]
    },
    {
      "cell_type": "code",
      "metadata": {
        "colab_type": "code",
        "id": "ED1me4NaKfjS",
        "colab": {
          "base_uri": "https://localhost:8080/",
          "height": 279
        },
        "outputId": "647cf6ed-3cf2-4a68-8500-af33614266af"
      },
      "source": [
        "plt.plot(convhistq.history['val_loss'],color='black')\n",
        "plt.plot(convhistq.history['loss'])\n",
        "plt.xlabel('Loss')\n",
        "plt.ylabel('Iterations')\n",
        "plt.show()"
      ],
      "execution_count": 133,
      "outputs": [
        {
          "output_type": "display_data",
          "data": {
            "image/png": "[encoded data removed]",
            "text/plain": [
              "<Figure size 432x288 with 1 Axes>"
            ]
          },
          "metadata": {
            "tags": [],
            "needs_background": "light"
          }
        }
      ]
    },
    {
      "cell_type": "markdown",
      "metadata": {
        "colab_type": "text",
        "id": "yb9H-tsfKfjY"
      },
      "source": [
        "#### **Model Selection for Cluster 2**\n"
      ]
    },
    {
      "cell_type": "code",
      "metadata": {
        "colab_type": "code",
        "id": "NOPKHcYQKfjY",
        "colab": {
          "base_uri": "https://localhost:8080/",
          "height": 426
        },
        "outputId": "a93d59e6-9601-4541-cd99-1f47d94b43f0"
      },
      "source": [
        "cluster1_accuracies=pd.DataFrame()\n",
        "cluster1_accuracies['Model']=model\n",
        "cluster1_accuracies['Accuracy(Test)']=accuracytest\n",
        "cluster1_accuracies['Accuracy(Train)']=accuracytrain\n",
        "cluster1_accuracies"
      ],
      "execution_count": 134,
      "outputs": [
        {
          "output_type": "execute_result",
          "data": {
            "text/html": [
              "<div>\n",
              "<style scoped>\n",
              "    .dataframe tbody tr th:only-of-type {\n",
              "        vertical-align: middle;\n",
              "    }\n",
              "\n",
              "    .dataframe tbody tr th {\n",
              "        vertical-align: top;\n",
              "    }\n",
              "\n",
              "    .dataframe thead th {\n",
              "        text-align: right;\n",
              "    }\n",
              "</style>\n",
              "<table border=\"1\" class=\"dataframe\">\n",
              "  <thead>\n",
              "    <tr style=\"text-align: right;\">\n",
              "      <th></th>\n",
              "      <th>Model</th>\n",
              "      <th>Accuracy(Test)</th>\n",
              "      <th>Accuracy(Train)</th>\n",
              "    </tr>\n",
              "  </thead>\n",
              "  <tbody>\n",
              "    <tr>\n",
              "      <th>0</th>\n",
              "      <td>Logistic Regression with Chi Square</td>\n",
              "      <td>59.152216</td>\n",
              "      <td>58.372909</td>\n",
              "    </tr>\n",
              "    <tr>\n",
              "      <th>1</th>\n",
              "      <td>Multinomial Naive Bayes</td>\n",
              "      <td>70.568401</td>\n",
              "      <td>69.770803</td>\n",
              "    </tr>\n",
              "    <tr>\n",
              "      <th>2</th>\n",
              "      <td>Support Vector Machines</td>\n",
              "      <td>78.516378</td>\n",
              "      <td>88.829238</td>\n",
              "    </tr>\n",
              "    <tr>\n",
              "      <th>3</th>\n",
              "      <td>Decision Tree</td>\n",
              "      <td>67.678227</td>\n",
              "      <td>68.180880</td>\n",
              "    </tr>\n",
              "    <tr>\n",
              "      <th>4</th>\n",
              "      <td>Bagging Classifier</td>\n",
              "      <td>66.281310</td>\n",
              "      <td>65.455296</td>\n",
              "    </tr>\n",
              "    <tr>\n",
              "      <th>5</th>\n",
              "      <td>Adaboost Classifier</td>\n",
              "      <td>64.980732</td>\n",
              "      <td>63.968614</td>\n",
              "    </tr>\n",
              "    <tr>\n",
              "      <th>6</th>\n",
              "      <td>Gradient Boost Classifier</td>\n",
              "      <td>75.433526</td>\n",
              "      <td>92.029734</td>\n",
              "    </tr>\n",
              "    <tr>\n",
              "      <th>7</th>\n",
              "      <td>Decision Tree Hyper Tuned</td>\n",
              "      <td>70.761079</td>\n",
              "      <td>90.646294</td>\n",
              "    </tr>\n",
              "    <tr>\n",
              "      <th>8</th>\n",
              "      <td>Support Vector Machines- Hypertuned</td>\n",
              "      <td>80.491329</td>\n",
              "      <td>97.646087</td>\n",
              "    </tr>\n",
              "    <tr>\n",
              "      <th>9</th>\n",
              "      <td>Sequential Model</td>\n",
              "      <td>74.325627</td>\n",
              "      <td>96.448481</td>\n",
              "    </tr>\n",
              "    <tr>\n",
              "      <th>10</th>\n",
              "      <td>Bidirectional LSTM Model</td>\n",
              "      <td>69.460499</td>\n",
              "      <td>82.655376</td>\n",
              "    </tr>\n",
              "    <tr>\n",
              "      <th>11</th>\n",
              "      <td>1D Convolution Model</td>\n",
              "      <td>75.144511</td>\n",
              "      <td>97.357011</td>\n",
              "    </tr>\n",
              "  </tbody>\n",
              "</table>\n",
              "</div>"
            ],
            "text/plain": [
              "                                  Model  Accuracy(Test)  Accuracy(Train)\n",
              "0   Logistic Regression with Chi Square       59.152216        58.372909\n",
              "1               Multinomial Naive Bayes       70.568401        69.770803\n",
              "2               Support Vector Machines       78.516378        88.829238\n",
              "3                        Decision Tree        67.678227        68.180880\n",
              "4                    Bagging Classifier       66.281310        65.455296\n",
              "5                   Adaboost Classifier       64.980732        63.968614\n",
              "6             Gradient Boost Classifier       75.433526        92.029734\n",
              "7            Decision Tree Hyper Tuned        70.761079        90.646294\n",
              "8   Support Vector Machines- Hypertuned       80.491329        97.646087\n",
              "9                      Sequential Model       74.325627        96.448481\n",
              "10             Bidirectional LSTM Model       69.460499        82.655376\n",
              "11                 1D Convolution Model       75.144511        97.357011"
            ]
          },
          "metadata": {
            "tags": []
          },
          "execution_count": 134
        }
      ]
    },
    {
      "cell_type": "code",
      "metadata": {
        "colab_type": "code",
        "id": "ozo3JhjhKfjc",
        "colab": {
          "base_uri": "https://localhost:8080/",
          "height": 609
        },
        "outputId": "14256886-a70a-4ad6-db75-8d0e8b69518e"
      },
      "source": [
        "x_axis=['LR','NM','SVM','DT','BC','ABC','GBC','DTH','SVMH','SM','BLSTM','1DCONV']\n",
        "plt.figure(figsize=(10,10))\n",
        "plt.bar(x_axis,cluster1_accuracies['Accuracy(Test)'])\n",
        "plt.bar(x_axis,cluster1_accuracies['Accuracy(Train)'],alpha=0.3)"
      ],
      "execution_count": 135,
      "outputs": [
        {
          "output_type": "execute_result",
          "data": {
            "text/plain": [
              "<BarContainer object of 12 artists>"
            ]
          },
          "metadata": {
            "tags": []
          },
          "execution_count": 135
        },
        {
          "output_type": "display_data",
          "data": {
            "image/png": "[encoded data removed]",
            "text/plain": [
              "<Figure size 720x720 with 1 Axes>"
            ]
          },
          "metadata": {
            "tags": [],
            "needs_background": "light"
          }
        }
      ]
    },
    {
      "cell_type": "markdown",
      "metadata": {
        "colab_type": "text",
        "id": "-h3Ab6r6Kfjh"
      },
      "source": [
        "> LR-Logistic Regression\n",
        "\n",
        "> NM- Multinomial Naive Bayes\n",
        "\n",
        ">SVM-Support Vector Machine\n",
        "\n",
        ">DT- Decision Tree\n",
        "\n",
        ">BC-Bagging Classifier\n",
        "\n",
        ">ABC-AdaBoost Classifier\n",
        "\n",
        ">GBC-Gradient Boost Classifier\n",
        "\n",
        ">DTH- Decision Tree - Hyper Tunes\n",
        "\n",
        ">SVMH- Support Vector Machine Hyper Tuned\n",
        "\n",
        ">SM-Sequential Model\n",
        "\n",
        ">BLSTM-Bidirectional LSTM\n",
        "\n",
        ">1DCONV-1D Convolution\n",
        "\n",
        "\n",
        "#### **Model Selection**\n",
        "> The grey bar shows the accuracy on Train data and Yello shows the accuracy on Test data. \n",
        "\n",
        "> Higher the difference, the model is overfit\n",
        "\n",
        "> Out of all, Hyper tuned Support Vector Machines seems to be the best of all\n"
      ]
    },
    {
      "cell_type": "code",
      "metadata": {
        "id": "b5VpIfW3SuRI",
        "colab_type": "code",
        "colab": {}
      },
      "source": [
        ""
      ],
      "execution_count": 135,
      "outputs": []
    }
  ]
}